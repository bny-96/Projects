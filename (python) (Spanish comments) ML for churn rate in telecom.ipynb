{
 "cells": [
  {
   "cell_type": "markdown",
   "metadata": {},
   "source": [
    "# Calcular el churn de clientes en empresa de telecomunicaciones\n",
    "## Autor: Pablo Benayas\n",
    "1. Objetivo: La empresa quiere predecir qué clientes no continuarán con la empresa el próximo mes. Para ello, varios datasets de Diciembre y Enero han sido entregados. \n",
    "2. Hoja de ruta:\n",
    "    1. Fusionar los datasets por mes, definir la variables objetivo y pre-procesar los datos.\n",
    "    2. Correr un modelo inicial y evaluar sus resultados\n",
    "    3. Mejorar el modelo:\n",
    "        1. Transformar las variables para mejorar su correlación con la objetivo.\n",
    "        2. Añadir variables que puedan haber sido quitadas en el pre-proceso.\n",
    "        3. Seleccionar las variables mas significativas.\n",
    "    4. Correr modelos y evaluar resultados \n",
    "3. ¡Empecemos!"
   ]
  },
  {
   "cell_type": "code",
   "execution_count": null,
   "metadata": {},
   "outputs": [],
   "source": []
  },
  {
   "cell_type": "markdown",
   "metadata": {},
   "source": [
    "### Cargo las librerías que voy a usar"
   ]
  },
  {
   "cell_type": "code",
   "execution_count": 1,
   "metadata": {},
   "outputs": [
    {
     "name": "stderr",
     "output_type": "stream",
     "text": [
      "C:\\Users\\pablo\\Anaconda3\\lib\\site-packages\\sklearn\\utils\\deprecation.py:144: FutureWarning: The sklearn.linear_model.logistic module is  deprecated in version 0.22 and will be removed in version 0.24. The corresponding classes / functions should instead be imported from sklearn.linear_model. Anything that cannot be imported from sklearn.linear_model is now part of the private API.\n",
      "  warnings.warn(message, FutureWarning)\n"
     ]
    }
   ],
   "source": [
    "import pandas as pd\n",
    "import numpy as np\n",
    "from sklearn.preprocessing import LabelEncoder, OneHotEncoder\n",
    "import seaborn as sns\n",
    "import matplotlib.pyplot  as plt\n",
    "from scipy import stats\n",
    "from sklearn.model_selection import train_test_split\n",
    "from xgboost import XGBClassifier\n",
    "from sklearn.preprocessing import MinMaxScaler\n",
    "\n",
    "from sklearn.datasets import make_classification\n",
    "from sklearn.model_selection import train_test_split\n",
    "from sklearn.linear_model.logistic import LogisticRegression\n",
    "from sklearn.tree import DecisionTreeClassifier\n",
    "from sklearn.ensemble import RandomForestClassifier\n",
    "from sklearn.svm import SVC\n",
    "from sklearn import naive_bayes\n",
    "from datetime import datetime\n",
    "\n",
    "\n",
    "from sklearn.metrics import accuracy_score, auc, confusion_matrix, f1_score, precision_score, recall_score, roc_curve\n",
    "import matplotlib.pyplot  as plt"
   ]
  },
  {
   "cell_type": "code",
   "execution_count": null,
   "metadata": {},
   "outputs": [],
   "source": []
  },
  {
   "cell_type": "markdown",
   "metadata": {},
   "source": [
    "## Cargo todos los datasets, especificando si son de Enero o Diciembre"
   ]
  },
  {
   "cell_type": "code",
   "execution_count": 2,
   "metadata": {},
   "outputs": [],
   "source": [
    "clientes_diciembre=pd.read_csv('clientes_diciembre.csv', sep='|')\n",
    "consumos_diciembre=pd.read_csv('consumos_diciembre.csv', sep='|')\n",
    "financiacion_diciembre=pd.read_csv('financiacion_diciembre.csv', sep='|')\n",
    "productos_diciembre=pd.read_csv('productos_diciembre.csv', sep='|') \n",
    "\n",
    "df=clientes_diciembre.merge(consumos_diciembre,on='id', how='left')\n",
    "df=df.merge(financiacion_diciembre,on='id', how='left')\n",
    "data_diciembre=df.merge(productos_diciembre,on='id', how='left') \n",
    "\n",
    "\n",
    "clientes_enero=pd.read_csv('clientes_enero.csv', sep='|')\n",
    "consumos_enero=pd.read_csv('consumos_enero.csv', sep='|')\n",
    "financiacion_enero=pd.read_csv('financiacion_enero.csv', sep='|')\n",
    "productos_enero=pd.read_csv('productos_enero.csv', sep='|')\n",
    "\n",
    "df=clientes_enero.merge(consumos_enero,on='id', how='left')\n",
    "df=df.merge(financiacion_enero,on='id', how='left')\n",
    "data_enero=df.merge(productos_enero,on='id', how='left') "
   ]
  },
  {
   "cell_type": "code",
   "execution_count": null,
   "metadata": {},
   "outputs": [],
   "source": []
  },
  {
   "cell_type": "markdown",
   "metadata": {},
   "source": [
    "## Para evitar duplicar el proceso de limpieza. Voy a unir el dataset de Diciembre y Enero con el nuevo dataset 'data'.\n",
    "#### Como medida preventiva, crearé una variable adicional 'Mes del dataset' que tendrá dos posible valores: Diciembre y Enero"
   ]
  },
  {
   "cell_type": "code",
   "execution_count": 3,
   "metadata": {},
   "outputs": [
    {
     "data": {
      "text/html": [
       "<div>\n",
       "<style scoped>\n",
       "    .dataframe tbody tr th:only-of-type {\n",
       "        vertical-align: middle;\n",
       "    }\n",
       "\n",
       "    .dataframe tbody tr th {\n",
       "        vertical-align: top;\n",
       "    }\n",
       "\n",
       "    .dataframe thead th {\n",
       "        text-align: right;\n",
       "    }\n",
       "</style>\n",
       "<table border=\"1\" class=\"dataframe\">\n",
       "  <thead>\n",
       "    <tr style=\"text-align: right;\">\n",
       "      <th></th>\n",
       "      <th>id</th>\n",
       "      <th>edad</th>\n",
       "      <th>facturacion</th>\n",
       "      <th>antiguedad</th>\n",
       "      <th>provincia</th>\n",
       "      <th>num_lineas</th>\n",
       "      <th>num_dt</th>\n",
       "      <th>incidencia</th>\n",
       "      <th>num_llamad_ent</th>\n",
       "      <th>num_llamad_sal</th>\n",
       "      <th>mb_datos</th>\n",
       "      <th>seg_llamad_ent</th>\n",
       "      <th>seg_llamad_sal</th>\n",
       "      <th>financiacion</th>\n",
       "      <th>imp_financ</th>\n",
       "      <th>descuentos</th>\n",
       "      <th>conexion</th>\n",
       "      <th>vel_conexion</th>\n",
       "      <th>TV</th>\n",
       "      <th>Mes del dataset</th>\n",
       "    </tr>\n",
       "  </thead>\n",
       "  <tbody>\n",
       "    <tr>\n",
       "      <th>0</th>\n",
       "      <td>1</td>\n",
       "      <td>63</td>\n",
       "      <td>216.028109</td>\n",
       "      <td>11/23/2018 08:48 AM</td>\n",
       "      <td>La Rioja</td>\n",
       "      <td>5</td>\n",
       "      <td>NaN</td>\n",
       "      <td>NaN</td>\n",
       "      <td>110</td>\n",
       "      <td>79</td>\n",
       "      <td>10897</td>\n",
       "      <td>12806</td>\n",
       "      <td>13751</td>\n",
       "      <td>NaN</td>\n",
       "      <td>NaN</td>\n",
       "      <td>NaN</td>\n",
       "      <td>FIBRA</td>\n",
       "      <td>50MB</td>\n",
       "      <td>tv-futbol</td>\n",
       "      <td>Diciembre</td>\n",
       "    </tr>\n",
       "    <tr>\n",
       "      <th>1</th>\n",
       "      <td>2</td>\n",
       "      <td>84</td>\n",
       "      <td>255.830842</td>\n",
       "      <td>08/22/2017 03:19 AM</td>\n",
       "      <td>Vizcaya</td>\n",
       "      <td>3</td>\n",
       "      <td>NaN</td>\n",
       "      <td>NaN</td>\n",
       "      <td>189</td>\n",
       "      <td>89</td>\n",
       "      <td>18657</td>\n",
       "      <td>6499</td>\n",
       "      <td>10862</td>\n",
       "      <td>NaN</td>\n",
       "      <td>NaN</td>\n",
       "      <td>SI</td>\n",
       "      <td>FIBRA</td>\n",
       "      <td>600MB</td>\n",
       "      <td>tv-futbol</td>\n",
       "      <td>Diciembre</td>\n",
       "    </tr>\n",
       "    <tr>\n",
       "      <th>2</th>\n",
       "      <td>3</td>\n",
       "      <td>66</td>\n",
       "      <td>135.768153</td>\n",
       "      <td>12/27/2001 01:50 PM</td>\n",
       "      <td>Albacete</td>\n",
       "      <td>4</td>\n",
       "      <td>NaN</td>\n",
       "      <td>NaN</td>\n",
       "      <td>129</td>\n",
       "      <td>30</td>\n",
       "      <td>15511</td>\n",
       "      <td>17013</td>\n",
       "      <td>16743</td>\n",
       "      <td>NaN</td>\n",
       "      <td>NaN</td>\n",
       "      <td>SI</td>\n",
       "      <td>ADSL</td>\n",
       "      <td>35MB</td>\n",
       "      <td>tv-futbol</td>\n",
       "      <td>Diciembre</td>\n",
       "    </tr>\n",
       "    <tr>\n",
       "      <th>3</th>\n",
       "      <td>4</td>\n",
       "      <td>69</td>\n",
       "      <td>255.658527</td>\n",
       "      <td>08/08/2015 10:53 AM</td>\n",
       "      <td>Lugo</td>\n",
       "      <td>4</td>\n",
       "      <td>NaN</td>\n",
       "      <td>NaN</td>\n",
       "      <td>51</td>\n",
       "      <td>52</td>\n",
       "      <td>12670</td>\n",
       "      <td>3393</td>\n",
       "      <td>6771</td>\n",
       "      <td>NaN</td>\n",
       "      <td>NaN</td>\n",
       "      <td>NaN</td>\n",
       "      <td>FIBRA</td>\n",
       "      <td>200MB</td>\n",
       "      <td>tv-familiar</td>\n",
       "      <td>Diciembre</td>\n",
       "    </tr>\n",
       "    <tr>\n",
       "      <th>4</th>\n",
       "      <td>5</td>\n",
       "      <td>25</td>\n",
       "      <td>22.302845</td>\n",
       "      <td>08/29/1997 02:19 AM</td>\n",
       "      <td>Tarragona</td>\n",
       "      <td>2</td>\n",
       "      <td>2.0</td>\n",
       "      <td>NaN</td>\n",
       "      <td>183</td>\n",
       "      <td>3</td>\n",
       "      <td>23756</td>\n",
       "      <td>18436</td>\n",
       "      <td>4485</td>\n",
       "      <td>NaN</td>\n",
       "      <td>NaN</td>\n",
       "      <td>NaN</td>\n",
       "      <td>ADSL</td>\n",
       "      <td>10MB</td>\n",
       "      <td>tv-futbol</td>\n",
       "      <td>Diciembre</td>\n",
       "    </tr>\n",
       "    <tr>\n",
       "      <th>...</th>\n",
       "      <td>...</td>\n",
       "      <td>...</td>\n",
       "      <td>...</td>\n",
       "      <td>...</td>\n",
       "      <td>...</td>\n",
       "      <td>...</td>\n",
       "      <td>...</td>\n",
       "      <td>...</td>\n",
       "      <td>...</td>\n",
       "      <td>...</td>\n",
       "      <td>...</td>\n",
       "      <td>...</td>\n",
       "      <td>...</td>\n",
       "      <td>...</td>\n",
       "      <td>...</td>\n",
       "      <td>...</td>\n",
       "      <td>...</td>\n",
       "      <td>...</td>\n",
       "      <td>...</td>\n",
       "      <td>...</td>\n",
       "    </tr>\n",
       "    <tr>\n",
       "      <th>92706</th>\n",
       "      <td>99996</td>\n",
       "      <td>36</td>\n",
       "      <td>215.890326</td>\n",
       "      <td>04/09/2013 01:33 PM</td>\n",
       "      <td>Guadalajara</td>\n",
       "      <td>3</td>\n",
       "      <td>NaN</td>\n",
       "      <td>NaN</td>\n",
       "      <td>217</td>\n",
       "      <td>96</td>\n",
       "      <td>9059</td>\n",
       "      <td>7735</td>\n",
       "      <td>8823</td>\n",
       "      <td>NaN</td>\n",
       "      <td>NaN</td>\n",
       "      <td>NaN</td>\n",
       "      <td>ADSL</td>\n",
       "      <td>30MB</td>\n",
       "      <td>tv-futbol</td>\n",
       "      <td>Enero</td>\n",
       "    </tr>\n",
       "    <tr>\n",
       "      <th>92707</th>\n",
       "      <td>99997</td>\n",
       "      <td>68</td>\n",
       "      <td>285.890750</td>\n",
       "      <td>08/08/2003 11:57 PM</td>\n",
       "      <td>Asturias</td>\n",
       "      <td>5</td>\n",
       "      <td>NaN</td>\n",
       "      <td>NaN</td>\n",
       "      <td>168</td>\n",
       "      <td>99</td>\n",
       "      <td>9303</td>\n",
       "      <td>4798</td>\n",
       "      <td>3996</td>\n",
       "      <td>SI</td>\n",
       "      <td>14.616422</td>\n",
       "      <td>NaN</td>\n",
       "      <td>FIBRA</td>\n",
       "      <td>200MB</td>\n",
       "      <td>tv-futbol</td>\n",
       "      <td>Enero</td>\n",
       "    </tr>\n",
       "    <tr>\n",
       "      <th>92708</th>\n",
       "      <td>99998</td>\n",
       "      <td>20</td>\n",
       "      <td>383.167610</td>\n",
       "      <td>03/27/2013 08:07 PM</td>\n",
       "      <td>Álava</td>\n",
       "      <td>4</td>\n",
       "      <td>NaN</td>\n",
       "      <td>NaN</td>\n",
       "      <td>188</td>\n",
       "      <td>71</td>\n",
       "      <td>19018</td>\n",
       "      <td>1237</td>\n",
       "      <td>16720</td>\n",
       "      <td>NaN</td>\n",
       "      <td>NaN</td>\n",
       "      <td>NaN</td>\n",
       "      <td>ADSL</td>\n",
       "      <td>20MB</td>\n",
       "      <td>tv-futbol</td>\n",
       "      <td>Enero</td>\n",
       "    </tr>\n",
       "    <tr>\n",
       "      <th>92709</th>\n",
       "      <td>99999</td>\n",
       "      <td>53</td>\n",
       "      <td>53.301395</td>\n",
       "      <td>01/18/2020 02:30 AM</td>\n",
       "      <td>Sevilla</td>\n",
       "      <td>2</td>\n",
       "      <td>NaN</td>\n",
       "      <td>NaN</td>\n",
       "      <td>138</td>\n",
       "      <td>40</td>\n",
       "      <td>20264</td>\n",
       "      <td>10552</td>\n",
       "      <td>17637</td>\n",
       "      <td>NaN</td>\n",
       "      <td>NaN</td>\n",
       "      <td>NaN</td>\n",
       "      <td>FIBRA</td>\n",
       "      <td>50MB</td>\n",
       "      <td>tv-futbol</td>\n",
       "      <td>Enero</td>\n",
       "    </tr>\n",
       "    <tr>\n",
       "      <th>92710</th>\n",
       "      <td>100000</td>\n",
       "      <td>18</td>\n",
       "      <td>57.158927</td>\n",
       "      <td>10/22/2009 07:17 PM</td>\n",
       "      <td>Las Palmas</td>\n",
       "      <td>4</td>\n",
       "      <td>NaN</td>\n",
       "      <td>NaN</td>\n",
       "      <td>217</td>\n",
       "      <td>65</td>\n",
       "      <td>21772</td>\n",
       "      <td>14141</td>\n",
       "      <td>927</td>\n",
       "      <td>NaN</td>\n",
       "      <td>NaN</td>\n",
       "      <td>SI</td>\n",
       "      <td>ADSL</td>\n",
       "      <td>25MB</td>\n",
       "      <td>tv-familiar</td>\n",
       "      <td>Enero</td>\n",
       "    </tr>\n",
       "  </tbody>\n",
       "</table>\n",
       "<p>188178 rows × 20 columns</p>\n",
       "</div>"
      ],
      "text/plain": [
       "           id  edad  facturacion           antiguedad    provincia  \\\n",
       "0           1    63   216.028109  11/23/2018 08:48 AM     La Rioja   \n",
       "1           2    84   255.830842  08/22/2017 03:19 AM      Vizcaya   \n",
       "2           3    66   135.768153  12/27/2001 01:50 PM     Albacete   \n",
       "3           4    69   255.658527  08/08/2015 10:53 AM         Lugo   \n",
       "4           5    25    22.302845  08/29/1997 02:19 AM    Tarragona   \n",
       "...       ...   ...          ...                  ...          ...   \n",
       "92706   99996    36   215.890326  04/09/2013 01:33 PM  Guadalajara   \n",
       "92707   99997    68   285.890750  08/08/2003 11:57 PM     Asturias   \n",
       "92708   99998    20   383.167610  03/27/2013 08:07 PM        Álava   \n",
       "92709   99999    53    53.301395  01/18/2020 02:30 AM      Sevilla   \n",
       "92710  100000    18    57.158927  10/22/2009 07:17 PM   Las Palmas   \n",
       "\n",
       "       num_lineas  num_dt incidencia  num_llamad_ent  num_llamad_sal  \\\n",
       "0               5     NaN        NaN             110              79   \n",
       "1               3     NaN        NaN             189              89   \n",
       "2               4     NaN        NaN             129              30   \n",
       "3               4     NaN        NaN              51              52   \n",
       "4               2     2.0        NaN             183               3   \n",
       "...           ...     ...        ...             ...             ...   \n",
       "92706           3     NaN        NaN             217              96   \n",
       "92707           5     NaN        NaN             168              99   \n",
       "92708           4     NaN        NaN             188              71   \n",
       "92709           2     NaN        NaN             138              40   \n",
       "92710           4     NaN        NaN             217              65   \n",
       "\n",
       "       mb_datos  seg_llamad_ent  seg_llamad_sal financiacion  imp_financ  \\\n",
       "0         10897           12806           13751          NaN         NaN   \n",
       "1         18657            6499           10862          NaN         NaN   \n",
       "2         15511           17013           16743          NaN         NaN   \n",
       "3         12670            3393            6771          NaN         NaN   \n",
       "4         23756           18436            4485          NaN         NaN   \n",
       "...         ...             ...             ...          ...         ...   \n",
       "92706      9059            7735            8823          NaN         NaN   \n",
       "92707      9303            4798            3996           SI   14.616422   \n",
       "92708     19018            1237           16720          NaN         NaN   \n",
       "92709     20264           10552           17637          NaN         NaN   \n",
       "92710     21772           14141             927          NaN         NaN   \n",
       "\n",
       "      descuentos conexion vel_conexion           TV Mes del dataset  \n",
       "0            NaN    FIBRA         50MB    tv-futbol       Diciembre  \n",
       "1             SI    FIBRA        600MB    tv-futbol       Diciembre  \n",
       "2             SI     ADSL         35MB    tv-futbol       Diciembre  \n",
       "3            NaN    FIBRA        200MB  tv-familiar       Diciembre  \n",
       "4            NaN     ADSL         10MB    tv-futbol       Diciembre  \n",
       "...          ...      ...          ...          ...             ...  \n",
       "92706        NaN     ADSL         30MB    tv-futbol           Enero  \n",
       "92707        NaN    FIBRA        200MB    tv-futbol           Enero  \n",
       "92708        NaN     ADSL         20MB    tv-futbol           Enero  \n",
       "92709        NaN    FIBRA         50MB    tv-futbol           Enero  \n",
       "92710         SI     ADSL         25MB  tv-familiar           Enero  \n",
       "\n",
       "[188178 rows x 20 columns]"
      ]
     },
     "execution_count": 3,
     "metadata": {},
     "output_type": "execute_result"
    }
   ],
   "source": [
    "data_diciembre['Mes del dataset']='Diciembre'\n",
    "data_enero['Mes del dataset']='Enero'\n",
    "data=pd.concat([data_diciembre, data_enero], axis=0)\n",
    "data"
   ]
  },
  {
   "cell_type": "code",
   "execution_count": null,
   "metadata": {},
   "outputs": [],
   "source": []
  },
  {
   "cell_type": "markdown",
   "metadata": {},
   "source": [
    "# Defino la variable objetivo:\n",
    "### Quiero definir una variable que me especifique si un cliente continúa usando el servicio en Enero o no. \n",
    "### Para saber si el cliente continúa en Enero, simplemente hay que evaluar si el Id del cliente del dataset de Diciembre continúa apareciendo en el de Enero. En caso afirmativo, la persona continúa con la empresa y, en caso contrario, se ha dado de baja.\n",
    "### La variable objetivo la voy a llamar '¿Abandona?' y tiene valor 1 cuando la persona deja de ser cliente y 0 cuando continúa.\n",
    "##### Para el mes de Enero esta variable tendrá valor NA porque no podemos comprobar si el cliente abandonó en Febrero, ya que no se dispone del dataset"
   ]
  },
  {
   "cell_type": "code",
   "execution_count": 4,
   "metadata": {
    "scrolled": true
   },
   "outputs": [
    {
     "data": {
      "text/plain": [
       "id                      0\n",
       "edad                    0\n",
       "facturacion             0\n",
       "antiguedad              0\n",
       "provincia               0\n",
       "num_lineas              0\n",
       "num_dt             179047\n",
       "incidencia         180955\n",
       "num_llamad_ent          0\n",
       "num_llamad_sal          0\n",
       "mb_datos                0\n",
       "seg_llamad_ent          0\n",
       "seg_llamad_sal          0\n",
       "financiacion       175140\n",
       "imp_financ         175140\n",
       "descuentos         148986\n",
       "conexion                0\n",
       "vel_conexion            0\n",
       "TV                      0\n",
       "Mes del dataset         0\n",
       "¿Abandona?          92711\n",
       "dtype: int64"
      ]
     },
     "execution_count": 4,
     "metadata": {},
     "output_type": "execute_result"
    }
   ],
   "source": [
    "data['¿Abandona?']=data_diciembre.id.isin(data_enero.id).apply(lambda x: 0 if x else 1) \n",
    "data.loc[data['Mes del dataset']=='Enero','¿Abandona?']=np.nan\n",
    "data.isnull().sum() "
   ]
  },
  {
   "cell_type": "markdown",
   "metadata": {},
   "source": [
    "###### Más adelante voy a eliminar variables en el preprocesado. Por tanto, hago una copia de seguridad con todas las variables"
   ]
  },
  {
   "cell_type": "code",
   "execution_count": 5,
   "metadata": {},
   "outputs": [],
   "source": [
    "data.to_csv('full.csv') "
   ]
  },
  {
   "cell_type": "code",
   "execution_count": null,
   "metadata": {},
   "outputs": [],
   "source": []
  },
  {
   "cell_type": "markdown",
   "metadata": {},
   "source": [
    "# Preprocesado"
   ]
  },
  {
   "cell_type": "markdown",
   "metadata": {},
   "source": [
    "### Las variables que tienen muchos NAs van a ser eliminadas. \n",
    "### En su lugar, voy a crear una nueva variable 'number of NAs' que va a contar el número de NAs por fila.\n",
    "\n",
    "###### Dado que los valores de Enero tienen un NA mas por defecto ('¿Abandona?'=NA), voy a restarle 1 a la vairable 'number of NAs'"
   ]
  },
  {
   "cell_type": "code",
   "execution_count": 6,
   "metadata": {},
   "outputs": [],
   "source": [
    "data['number of NAs']=data.apply(lambda x: x.isnull().sum(), axis=1) \n",
    "data.loc[data['Mes del dataset']=='Enero','number of NAs']=data.loc[data['Mes del dataset']=='Enero','number of NAs'].apply(lambda x: x-1)                        "
   ]
  },
  {
   "cell_type": "code",
   "execution_count": null,
   "metadata": {},
   "outputs": [],
   "source": []
  },
  {
   "cell_type": "markdown",
   "metadata": {},
   "source": [
    "#### Elimino las varaibles con muchos NAs"
   ]
  },
  {
   "cell_type": "code",
   "execution_count": 7,
   "metadata": {},
   "outputs": [
    {
     "data": {
      "text/plain": [
       "edad                   0\n",
       "facturacion            0\n",
       "antiguedad             0\n",
       "provincia              0\n",
       "num_lineas             0\n",
       "num_llamad_ent         0\n",
       "num_llamad_sal         0\n",
       "mb_datos               0\n",
       "seg_llamad_ent         0\n",
       "seg_llamad_sal         0\n",
       "conexion               0\n",
       "vel_conexion           0\n",
       "TV                     0\n",
       "Mes del dataset        0\n",
       "¿Abandona?         92711\n",
       "number of NAs          0\n",
       "dtype: int64"
      ]
     },
     "execution_count": 7,
     "metadata": {},
     "output_type": "execute_result"
    }
   ],
   "source": [
    "data.drop(['num_dt','incidencia','financiacion','imp_financ',\n",
    "                     'descuentos','id'], axis=1, inplace=True)\n",
    "data.isnull().sum() "
   ]
  },
  {
   "cell_type": "code",
   "execution_count": 8,
   "metadata": {},
   "outputs": [
    {
     "data": {
      "text/plain": [
       "edad                 int64\n",
       "facturacion        float64\n",
       "antiguedad          object\n",
       "provincia           object\n",
       "num_lineas           int64\n",
       "num_llamad_ent       int64\n",
       "num_llamad_sal       int64\n",
       "mb_datos             int64\n",
       "seg_llamad_ent       int64\n",
       "seg_llamad_sal       int64\n",
       "conexion            object\n",
       "vel_conexion        object\n",
       "TV                  object\n",
       "Mes del dataset     object\n",
       "¿Abandona?         float64\n",
       "number of NAs        int64\n",
       "dtype: object"
      ]
     },
     "execution_count": 8,
     "metadata": {},
     "output_type": "execute_result"
    }
   ],
   "source": [
    "data.dtypes"
   ]
  },
  {
   "cell_type": "code",
   "execution_count": null,
   "metadata": {},
   "outputs": [],
   "source": []
  },
  {
   "cell_type": "markdown",
   "metadata": {},
   "source": [
    "### Tenemos una variable con las fechas de alta de los clientes.\n",
    "### Esta variable es leída como cadena de caracteres. Sin embargo, el objetivo es pasarla a numérica. Para ello, tenemos que hacer un paso intermedio convirtiéndola a formato fecha previamente.\n",
    "### La transformación a formato fecha la hacemos con la función datetime.strptime(). Es importante recalcar que, para que la función haga la conversión, hay que correctamente especificar el formato de fecha que se está usando. En este caso:  '%m/%d/%Y %I:%M %p'.\n",
    "### Una vez en formato fecha, le paso la función 'datetime.timestamp()' para realizar la conversión a numérico."
   ]
  },
  {
   "cell_type": "code",
   "execution_count": 9,
   "metadata": {},
   "outputs": [],
   "source": [
    "data['antiguedad'] = data.antiguedad.apply(lambda x: datetime.timestamp(datetime.strptime(x, '%m/%d/%Y %I:%M %p'))) "
   ]
  },
  {
   "cell_type": "code",
   "execution_count": null,
   "metadata": {},
   "outputs": [],
   "source": []
  },
  {
   "cell_type": "markdown",
   "metadata": {},
   "source": [
    "### Número de valores únicos que tiene cada variable"
   ]
  },
  {
   "cell_type": "code",
   "execution_count": 10,
   "metadata": {},
   "outputs": [
    {
     "data": {
      "text/plain": [
       "edad                   68\n",
       "facturacion        100522\n",
       "antiguedad          99284\n",
       "provincia              50\n",
       "num_lineas              5\n",
       "num_llamad_ent        251\n",
       "num_llamad_sal        101\n",
       "mb_datos            24985\n",
       "seg_llamad_ent      19998\n",
       "seg_llamad_sal      20001\n",
       "conexion                2\n",
       "vel_conexion           11\n",
       "TV                      3\n",
       "Mes del dataset         2\n",
       "¿Abandona?              3\n",
       "number of NAs           6\n",
       "dtype: int64"
      ]
     },
     "execution_count": 10,
     "metadata": {},
     "output_type": "execute_result"
    }
   ],
   "source": [
    "pd.DataFrame(data.columns, index=data.columns).apply(lambda x: len(data[x[0]].unique()), axis=1)"
   ]
  },
  {
   "cell_type": "markdown",
   "metadata": {},
   "source": [
    "Las variables con pocos valores únicos serán muy posiblemente tratadas como categóricas"
   ]
  },
  {
   "cell_type": "markdown",
   "metadata": {},
   "source": [
    "### Las variables de tipo objeto son aquellas leídas como cadena de caracteres."
   ]
  },
  {
   "cell_type": "code",
   "execution_count": 11,
   "metadata": {},
   "outputs": [
    {
     "data": {
      "text/plain": [
       "edad                 int64\n",
       "facturacion        float64\n",
       "antiguedad         float64\n",
       "provincia           object\n",
       "num_lineas           int64\n",
       "num_llamad_ent       int64\n",
       "num_llamad_sal       int64\n",
       "mb_datos             int64\n",
       "seg_llamad_ent       int64\n",
       "seg_llamad_sal       int64\n",
       "conexion            object\n",
       "vel_conexion        object\n",
       "TV                  object\n",
       "Mes del dataset     object\n",
       "¿Abandona?         float64\n",
       "number of NAs        int64\n",
       "dtype: object"
      ]
     },
     "execution_count": 11,
     "metadata": {},
     "output_type": "execute_result"
    }
   ],
   "source": [
    "data.dtypes"
   ]
  },
  {
   "cell_type": "code",
   "execution_count": null,
   "metadata": {},
   "outputs": [],
   "source": []
  },
  {
   "cell_type": "markdown",
   "metadata": {},
   "source": [
    "#### Más adelante, cuando tenga que hacer feature engineering, me vendrá bien saber la categoría que la función LabelEncoder ha asignado a cada uno de sus valores numéricos generados.\n",
    "Pero primero, demuestro que LabelEncoder ordena los valores únicos alfabéticamente"
   ]
  },
  {
   "cell_type": "code",
   "execution_count": 12,
   "metadata": {},
   "outputs": [
    {
     "name": "stdout",
     "output_type": "stream",
     "text": [
      "Como se puede observar el orden alfabético es respetado. \n",
      " \"cat\" recibe el valor más bajo (cero), y así sucesivamente.\n"
     ]
    },
    {
     "data": {
      "text/html": [
       "<div>\n",
       "<style scoped>\n",
       "    .dataframe tbody tr th:only-of-type {\n",
       "        vertical-align: middle;\n",
       "    }\n",
       "\n",
       "    .dataframe tbody tr th {\n",
       "        vertical-align: top;\n",
       "    }\n",
       "\n",
       "    .dataframe thead th {\n",
       "        text-align: right;\n",
       "    }\n",
       "</style>\n",
       "<table border=\"1\" class=\"dataframe\">\n",
       "  <thead>\n",
       "    <tr style=\"text-align: right;\">\n",
       "      <th></th>\n",
       "      <th>col1</th>\n",
       "      <th>col2</th>\n",
       "    </tr>\n",
       "  </thead>\n",
       "  <tbody>\n",
       "    <tr>\n",
       "      <th>0</th>\n",
       "      <td>dog</td>\n",
       "      <td>1</td>\n",
       "    </tr>\n",
       "    <tr>\n",
       "      <th>1</th>\n",
       "      <td>cat</td>\n",
       "      <td>0</td>\n",
       "    </tr>\n",
       "    <tr>\n",
       "      <th>2</th>\n",
       "      <td>dog</td>\n",
       "      <td>1</td>\n",
       "    </tr>\n",
       "    <tr>\n",
       "      <th>3</th>\n",
       "      <td>monkey</td>\n",
       "      <td>3</td>\n",
       "    </tr>\n",
       "    <tr>\n",
       "      <th>4</th>\n",
       "      <td>iguana</td>\n",
       "      <td>2</td>\n",
       "    </tr>\n",
       "    <tr>\n",
       "      <th>5</th>\n",
       "      <td>cat</td>\n",
       "      <td>0</td>\n",
       "    </tr>\n",
       "  </tbody>\n",
       "</table>\n",
       "</div>"
      ],
      "text/plain": [
       "     col1  col2\n",
       "0     dog     1\n",
       "1     cat     0\n",
       "2     dog     1\n",
       "3  monkey     3\n",
       "4  iguana     2\n",
       "5     cat     0"
      ]
     },
     "execution_count": 12,
     "metadata": {},
     "output_type": "execute_result"
    }
   ],
   "source": [
    "ejemplo=pd.DataFrame({'col1':['dog','cat','dog','monkey','iguana','cat']})\n",
    "transform1 = LabelEncoder() \n",
    "transform1.fit_transform(list(ejemplo['col1'].unique())) \n",
    "ejemplo['col2']=transform1.transform(ejemplo['col1'])\n",
    "print('Como se puede observar el orden alfabético es respetado. \\n \"cat\" recibe el valor más bajo (cero), y así sucesivamente.')\n",
    "ejemplo"
   ]
  },
  {
   "cell_type": "markdown",
   "metadata": {},
   "source": [
    "##### Dado que LabelEncoder ordena los valores únicos alfabéticamente y los pasa a númerico, voy a crear una leyenda que relaciona el número de LabelEncoder con su categoría de origen"
   ]
  },
  {
   "cell_type": "code",
   "execution_count": 13,
   "metadata": {},
   "outputs": [],
   "source": [
    "def leyenda_valores_LabelEncoder(lista_de_variables):\n",
    "    dicc={}\n",
    "    for col in lista_de_variables:\n",
    "        values=list(data[str(col)].unique())  \n",
    "        values.sort()\n",
    "        dicc['values_'+str(col)]=pd.DataFrame({'values':values, \n",
    "                                 'LabelEncoder equivalent':[i for i in range(len(values))]})\n",
    "    return dicc"
   ]
  },
  {
   "cell_type": "markdown",
   "metadata": {},
   "source": [
    "###### Confirmo que la función no da error y guardo los valores originales de las variables categóricas en el diccionario que la función 'leyenda_valores_LabelEncoder()' crea"
   ]
  },
  {
   "cell_type": "code",
   "execution_count": 14,
   "metadata": {},
   "outputs": [],
   "source": [
    "categVars=list(data.columns[list(data.apply(lambda x: len(x.unique())<13))]) \n",
    "leyenda_LabelEncoder=leyenda_valores_LabelEncoder(categVars) "
   ]
  },
  {
   "cell_type": "code",
   "execution_count": 15,
   "metadata": {},
   "outputs": [
    {
     "data": {
      "text/html": [
       "<div>\n",
       "<style scoped>\n",
       "    .dataframe tbody tr th:only-of-type {\n",
       "        vertical-align: middle;\n",
       "    }\n",
       "\n",
       "    .dataframe tbody tr th {\n",
       "        vertical-align: top;\n",
       "    }\n",
       "\n",
       "    .dataframe thead th {\n",
       "        text-align: right;\n",
       "    }\n",
       "</style>\n",
       "<table border=\"1\" class=\"dataframe\">\n",
       "  <thead>\n",
       "    <tr style=\"text-align: right;\">\n",
       "      <th></th>\n",
       "      <th>values</th>\n",
       "      <th>LabelEncoder equivalent</th>\n",
       "    </tr>\n",
       "  </thead>\n",
       "  <tbody>\n",
       "    <tr>\n",
       "      <th>0</th>\n",
       "      <td>tv-familiar</td>\n",
       "      <td>0</td>\n",
       "    </tr>\n",
       "    <tr>\n",
       "      <th>1</th>\n",
       "      <td>tv-futbol</td>\n",
       "      <td>1</td>\n",
       "    </tr>\n",
       "    <tr>\n",
       "      <th>2</th>\n",
       "      <td>tv-total</td>\n",
       "      <td>2</td>\n",
       "    </tr>\n",
       "  </tbody>\n",
       "</table>\n",
       "</div>"
      ],
      "text/plain": [
       "        values  LabelEncoder equivalent\n",
       "0  tv-familiar                        0\n",
       "1    tv-futbol                        1\n",
       "2     tv-total                        2"
      ]
     },
     "execution_count": 15,
     "metadata": {},
     "output_type": "execute_result"
    }
   ],
   "source": [
    "leyenda_LabelEncoder['values_TV']"
   ]
  },
  {
   "cell_type": "code",
   "execution_count": null,
   "metadata": {},
   "outputs": [],
   "source": []
  },
  {
   "cell_type": "code",
   "execution_count": null,
   "metadata": {},
   "outputs": [],
   "source": []
  },
  {
   "cell_type": "code",
   "execution_count": null,
   "metadata": {},
   "outputs": [],
   "source": []
  },
  {
   "cell_type": "markdown",
   "metadata": {},
   "source": [
    "###  Convierto las variables categóricas en numericas con LabelEncoder()\n",
    "###### Importante: no creo dummies porque más adelante, al hacer feature engineering, me producirá problemas de multicolinearidad. (Por este motivo, dejo las líneas de código de la creación de dummies como comentario)"
   ]
  },
  {
   "cell_type": "code",
   "execution_count": 16,
   "metadata": {},
   "outputs": [],
   "source": [
    "# LabelEncoder() & dummies\n",
    "dictLabelEncoder={}\n",
    "dummies={}\n",
    "categVars=data.loc[:,['num_lineas','TV']]\n",
    "\n",
    "transform1 = LabelEncoder()\n",
    "for col in categVars:\n",
    "    #labelEncoder\n",
    "    transform1.fit_transform(list(data[col].unique())) \n",
    "        \n",
    "    dictLabelEncoder[col]=transform1.transform(data[col])\n",
    "    \n",
    "#     #dummies\n",
    "#     value_names_for_dummies=list(categVars[str(col)].unique())\n",
    "#     for i in  range(len(value_names_for_dummies)):\n",
    "#         dummies[str(col)+'_'+str(value_names_for_dummies[i])]=pd.get_dummies(categVars[str(col)]).iloc[:,i]         \n",
    "\n",
    "data.loc[:,['num_lineas','TV']]=pd.DataFrame(dictLabelEncoder)\n",
    "# dummies=pd.DataFrame(dummies)\n",
    "\n",
    "# data=pd.concat([data, dummies.reindex(data.index)], axis=1) "
   ]
  },
  {
   "cell_type": "markdown",
   "metadata": {},
   "source": [
    "### Utilizo label encoder para las siguientes variables categóricas también."
   ]
  },
  {
   "cell_type": "code",
   "execution_count": 17,
   "metadata": {},
   "outputs": [],
   "source": [
    "transform1.fit_transform(list(data['provincia'].unique()))\n",
    "data['provincia']=transform1.transform(data['provincia']) "
   ]
  },
  {
   "cell_type": "code",
   "execution_count": 18,
   "metadata": {},
   "outputs": [],
   "source": [
    "transform1.fit_transform(list(data['conexion'].unique()))\n",
    "data['conexion']=transform1.transform(data['conexion']) "
   ]
  },
  {
   "cell_type": "code",
   "execution_count": null,
   "metadata": {},
   "outputs": [],
   "source": []
  },
  {
   "cell_type": "code",
   "execution_count": null,
   "metadata": {},
   "outputs": [],
   "source": []
  },
  {
   "cell_type": "markdown",
   "metadata": {},
   "source": [
    "### La variable 'vel_conexion' es de tipo objeto porque sus valores contienen los caracteres 'MB' al final.\n",
    "### Sin embargo, esta variable debería ser tratada como numérica. Eliminando los dos últimos elementos de sus valores, estos pueden ser convertidos a formato numérico."
   ]
  },
  {
   "cell_type": "code",
   "execution_count": 19,
   "metadata": {},
   "outputs": [],
   "source": [
    "data['vel_conexion']=data.vel_conexion.apply(lambda x: float(x[:-2])) "
   ]
  },
  {
   "cell_type": "code",
   "execution_count": null,
   "metadata": {},
   "outputs": [],
   "source": []
  },
  {
   "cell_type": "markdown",
   "metadata": {},
   "source": [
    "# Revisión final: \n",
    "    1) Ver que no hay variables de tipo objeto\n",
    "    2) Ver que no hay NAs\n",
    "    3) Pasar la función 'describe()' para confirmar que no hay valores atípicos"
   ]
  },
  {
   "cell_type": "code",
   "execution_count": 20,
   "metadata": {},
   "outputs": [
    {
     "data": {
      "text/plain": [
       "edad                 int64\n",
       "facturacion        float64\n",
       "antiguedad         float64\n",
       "provincia            int32\n",
       "num_lineas           int64\n",
       "num_llamad_ent       int64\n",
       "num_llamad_sal       int64\n",
       "mb_datos             int64\n",
       "seg_llamad_ent       int64\n",
       "seg_llamad_sal       int64\n",
       "conexion             int32\n",
       "vel_conexion       float64\n",
       "TV                   int32\n",
       "Mes del dataset     object\n",
       "¿Abandona?         float64\n",
       "number of NAs        int64\n",
       "dtype: object"
      ]
     },
     "execution_count": 20,
     "metadata": {},
     "output_type": "execute_result"
    }
   ],
   "source": [
    "data.dtypes"
   ]
  },
  {
   "cell_type": "code",
   "execution_count": 21,
   "metadata": {},
   "outputs": [
    {
     "data": {
      "text/plain": [
       "edad                   0\n",
       "facturacion            0\n",
       "antiguedad             0\n",
       "provincia              0\n",
       "num_lineas             0\n",
       "num_llamad_ent         0\n",
       "num_llamad_sal         0\n",
       "mb_datos               0\n",
       "seg_llamad_ent         0\n",
       "seg_llamad_sal         0\n",
       "conexion               0\n",
       "vel_conexion           0\n",
       "TV                     0\n",
       "Mes del dataset        0\n",
       "¿Abandona?         92711\n",
       "number of NAs          0\n",
       "dtype: int64"
      ]
     },
     "execution_count": 21,
     "metadata": {},
     "output_type": "execute_result"
    }
   ],
   "source": [
    "data.isnull().sum() "
   ]
  },
  {
   "cell_type": "code",
   "execution_count": 22,
   "metadata": {
    "scrolled": true
   },
   "outputs": [
    {
     "data": {
      "text/html": [
       "<div>\n",
       "<style scoped>\n",
       "    .dataframe tbody tr th:only-of-type {\n",
       "        vertical-align: middle;\n",
       "    }\n",
       "\n",
       "    .dataframe tbody tr th {\n",
       "        vertical-align: top;\n",
       "    }\n",
       "\n",
       "    .dataframe thead th {\n",
       "        text-align: right;\n",
       "    }\n",
       "</style>\n",
       "<table border=\"1\" class=\"dataframe\">\n",
       "  <thead>\n",
       "    <tr style=\"text-align: right;\">\n",
       "      <th></th>\n",
       "      <th>edad</th>\n",
       "      <th>facturacion</th>\n",
       "      <th>antiguedad</th>\n",
       "      <th>provincia</th>\n",
       "      <th>num_lineas</th>\n",
       "      <th>num_llamad_ent</th>\n",
       "      <th>num_llamad_sal</th>\n",
       "      <th>mb_datos</th>\n",
       "      <th>seg_llamad_ent</th>\n",
       "      <th>seg_llamad_sal</th>\n",
       "      <th>conexion</th>\n",
       "      <th>vel_conexion</th>\n",
       "      <th>TV</th>\n",
       "      <th>¿Abandona?</th>\n",
       "      <th>number of NAs</th>\n",
       "    </tr>\n",
       "  </thead>\n",
       "  <tbody>\n",
       "    <tr>\n",
       "      <th>count</th>\n",
       "      <td>188178.000000</td>\n",
       "      <td>188178.000000</td>\n",
       "      <td>1.881780e+05</td>\n",
       "      <td>188178.000000</td>\n",
       "      <td>188178.000000</td>\n",
       "      <td>188178.000000</td>\n",
       "      <td>188178.000000</td>\n",
       "      <td>188178.000000</td>\n",
       "      <td>188178.000000</td>\n",
       "      <td>188178.000000</td>\n",
       "      <td>188178.000000</td>\n",
       "      <td>188178.000000</td>\n",
       "      <td>188178.000000</td>\n",
       "      <td>95467.000000</td>\n",
       "      <td>188178.000000</td>\n",
       "    </tr>\n",
       "    <tr>\n",
       "      <th>mean</th>\n",
       "      <td>51.445902</td>\n",
       "      <td>207.440105</td>\n",
       "      <td>1.191667e+09</td>\n",
       "      <td>24.512780</td>\n",
       "      <td>2.558344</td>\n",
       "      <td>124.960580</td>\n",
       "      <td>49.942060</td>\n",
       "      <td>12499.843850</td>\n",
       "      <td>9984.887548</td>\n",
       "      <td>10030.097652</td>\n",
       "      <td>0.497864</td>\n",
       "      <td>136.363868</td>\n",
       "      <td>0.794514</td>\n",
       "      <td>0.074214</td>\n",
       "      <td>4.566251</td>\n",
       "    </tr>\n",
       "    <tr>\n",
       "      <th>std</th>\n",
       "      <td>19.588371</td>\n",
       "      <td>111.291972</td>\n",
       "      <td>2.322174e+08</td>\n",
       "      <td>14.451853</td>\n",
       "      <td>1.086158</td>\n",
       "      <td>72.457194</td>\n",
       "      <td>29.163648</td>\n",
       "      <td>7228.701809</td>\n",
       "      <td>5768.944531</td>\n",
       "      <td>5774.962597</td>\n",
       "      <td>0.499997</td>\n",
       "      <td>179.157967</td>\n",
       "      <td>0.678040</td>\n",
       "      <td>0.262120</td>\n",
       "      <td>0.727050</td>\n",
       "    </tr>\n",
       "    <tr>\n",
       "      <th>min</th>\n",
       "      <td>18.000000</td>\n",
       "      <td>15.000439</td>\n",
       "      <td>7.889702e+08</td>\n",
       "      <td>0.000000</td>\n",
       "      <td>0.000000</td>\n",
       "      <td>0.000000</td>\n",
       "      <td>0.000000</td>\n",
       "      <td>0.000000</td>\n",
       "      <td>0.000000</td>\n",
       "      <td>0.000000</td>\n",
       "      <td>0.000000</td>\n",
       "      <td>10.000000</td>\n",
       "      <td>0.000000</td>\n",
       "      <td>0.000000</td>\n",
       "      <td>0.000000</td>\n",
       "    </tr>\n",
       "    <tr>\n",
       "      <th>25%</th>\n",
       "      <td>35.000000</td>\n",
       "      <td>111.370882</td>\n",
       "      <td>9.909848e+08</td>\n",
       "      <td>12.000000</td>\n",
       "      <td>2.000000</td>\n",
       "      <td>62.000000</td>\n",
       "      <td>25.000000</td>\n",
       "      <td>6205.000000</td>\n",
       "      <td>4983.000000</td>\n",
       "      <td>5032.000000</td>\n",
       "      <td>0.000000</td>\n",
       "      <td>20.000000</td>\n",
       "      <td>0.000000</td>\n",
       "      <td>0.000000</td>\n",
       "      <td>4.000000</td>\n",
       "    </tr>\n",
       "    <tr>\n",
       "      <th>50%</th>\n",
       "      <td>51.000000</td>\n",
       "      <td>206.927616</td>\n",
       "      <td>1.191034e+09</td>\n",
       "      <td>25.000000</td>\n",
       "      <td>3.000000</td>\n",
       "      <td>125.000000</td>\n",
       "      <td>50.000000</td>\n",
       "      <td>12496.000000</td>\n",
       "      <td>9981.000000</td>\n",
       "      <td>10029.000000</td>\n",
       "      <td>0.000000</td>\n",
       "      <td>35.000000</td>\n",
       "      <td>1.000000</td>\n",
       "      <td>0.000000</td>\n",
       "      <td>5.000000</td>\n",
       "    </tr>\n",
       "    <tr>\n",
       "      <th>75%</th>\n",
       "      <td>68.000000</td>\n",
       "      <td>304.388724</td>\n",
       "      <td>1.392490e+09</td>\n",
       "      <td>37.000000</td>\n",
       "      <td>3.000000</td>\n",
       "      <td>188.000000</td>\n",
       "      <td>75.000000</td>\n",
       "      <td>18764.000000</td>\n",
       "      <td>14974.000000</td>\n",
       "      <td>15020.000000</td>\n",
       "      <td>1.000000</td>\n",
       "      <td>200.000000</td>\n",
       "      <td>1.000000</td>\n",
       "      <td>0.000000</td>\n",
       "      <td>5.000000</td>\n",
       "    </tr>\n",
       "    <tr>\n",
       "      <th>max</th>\n",
       "      <td>85.000000</td>\n",
       "      <td>399.998433</td>\n",
       "      <td>1.580442e+09</td>\n",
       "      <td>49.000000</td>\n",
       "      <td>4.000000</td>\n",
       "      <td>250.000000</td>\n",
       "      <td>100.000000</td>\n",
       "      <td>25000.000000</td>\n",
       "      <td>20000.000000</td>\n",
       "      <td>20000.000000</td>\n",
       "      <td>1.000000</td>\n",
       "      <td>600.000000</td>\n",
       "      <td>2.000000</td>\n",
       "      <td>1.000000</td>\n",
       "      <td>5.000000</td>\n",
       "    </tr>\n",
       "  </tbody>\n",
       "</table>\n",
       "</div>"
      ],
      "text/plain": [
       "                edad    facturacion    antiguedad      provincia  \\\n",
       "count  188178.000000  188178.000000  1.881780e+05  188178.000000   \n",
       "mean       51.445902     207.440105  1.191667e+09      24.512780   \n",
       "std        19.588371     111.291972  2.322174e+08      14.451853   \n",
       "min        18.000000      15.000439  7.889702e+08       0.000000   \n",
       "25%        35.000000     111.370882  9.909848e+08      12.000000   \n",
       "50%        51.000000     206.927616  1.191034e+09      25.000000   \n",
       "75%        68.000000     304.388724  1.392490e+09      37.000000   \n",
       "max        85.000000     399.998433  1.580442e+09      49.000000   \n",
       "\n",
       "          num_lineas  num_llamad_ent  num_llamad_sal       mb_datos  \\\n",
       "count  188178.000000   188178.000000   188178.000000  188178.000000   \n",
       "mean        2.558344      124.960580       49.942060   12499.843850   \n",
       "std         1.086158       72.457194       29.163648    7228.701809   \n",
       "min         0.000000        0.000000        0.000000       0.000000   \n",
       "25%         2.000000       62.000000       25.000000    6205.000000   \n",
       "50%         3.000000      125.000000       50.000000   12496.000000   \n",
       "75%         3.000000      188.000000       75.000000   18764.000000   \n",
       "max         4.000000      250.000000      100.000000   25000.000000   \n",
       "\n",
       "       seg_llamad_ent  seg_llamad_sal       conexion   vel_conexion  \\\n",
       "count   188178.000000   188178.000000  188178.000000  188178.000000   \n",
       "mean      9984.887548    10030.097652       0.497864     136.363868   \n",
       "std       5768.944531     5774.962597       0.499997     179.157967   \n",
       "min          0.000000        0.000000       0.000000      10.000000   \n",
       "25%       4983.000000     5032.000000       0.000000      20.000000   \n",
       "50%       9981.000000    10029.000000       0.000000      35.000000   \n",
       "75%      14974.000000    15020.000000       1.000000     200.000000   \n",
       "max      20000.000000    20000.000000       1.000000     600.000000   \n",
       "\n",
       "                  TV    ¿Abandona?  number of NAs  \n",
       "count  188178.000000  95467.000000  188178.000000  \n",
       "mean        0.794514      0.074214       4.566251  \n",
       "std         0.678040      0.262120       0.727050  \n",
       "min         0.000000      0.000000       0.000000  \n",
       "25%         0.000000      0.000000       4.000000  \n",
       "50%         1.000000      0.000000       5.000000  \n",
       "75%         1.000000      0.000000       5.000000  \n",
       "max         2.000000      1.000000       5.000000  "
      ]
     },
     "execution_count": 22,
     "metadata": {},
     "output_type": "execute_result"
    }
   ],
   "source": [
    "data.describe()"
   ]
  },
  {
   "cell_type": "code",
   "execution_count": null,
   "metadata": {},
   "outputs": [],
   "source": []
  },
  {
   "cell_type": "code",
   "execution_count": null,
   "metadata": {},
   "outputs": [],
   "source": []
  },
  {
   "cell_type": "markdown",
   "metadata": {},
   "source": [
    "### Tras haber hecho una limpieza rápida de los datos, voy a tirar el primer modelo. \n",
    "### (Solo con Diciembre)"
   ]
  },
  {
   "cell_type": "code",
   "execution_count": 23,
   "metadata": {},
   "outputs": [],
   "source": [
    "data_diciembre=data.loc[data['Mes del dataset']=='Diciembre',list(pd.DataFrame(data.columns).apply(lambda x: x[0] not in ['Mes del dataset'], axis=1))] \n",
    "restOfVars=data_diciembre.loc[:, list(pd.DataFrame(data_diciembre.columns).apply(lambda x: x[0] not in ['¿Abandona?'], axis=1))]  \n",
    "target=data_diciembre['¿Abandona?']\n",
    "data_diciembre=pd.concat([restOfVars, target.reindex(target.index)], axis=1) \n",
    "X, y = data_diciembre.iloc[:,:-1], data_diciembre.iloc[:,-1] \n",
    "\n",
    "scaler = MinMaxScaler()    \n",
    "X=scaler.fit_transform(X)\n",
    "\n",
    "X_train, X_test, y_train, y_test = train_test_split(X, y, random_state=0, stratify=y) \n",
    "classifier = LogisticRegression().fit(X_train, y_train)\n",
    "y_pred     = classifier.predict(X_test) "
   ]
  },
  {
   "cell_type": "code",
   "execution_count": null,
   "metadata": {},
   "outputs": [],
   "source": []
  },
  {
   "cell_type": "code",
   "execution_count": 24,
   "metadata": {},
   "outputs": [],
   "source": [
    "## métricas\n",
    "\n",
    "def saca_metricas(y1, y2): #y_real (y_test) and y_pred\n",
    "    print('matriz de confusión')\n",
    "    print(confusion_matrix(y1, y2))\n",
    "    print('accuracy')\n",
    "    print(accuracy_score(y1, y2))\n",
    "    print('precision')\n",
    "    print(precision_score(y1, y2))\n",
    "    print('recall')\n",
    "    print(recall_score(y1, y2))\n",
    "    print('f1')\n",
    "    print(f1_score(y1, y2))\n",
    "    false_positive_rate, recall, thresholds = roc_curve(y1, y2)\n",
    "    roc_auc = auc(false_positive_rate, recall)\n",
    "    print('AUC')\n",
    "    print(roc_auc)\n",
    "    plt.plot(false_positive_rate, recall, 'b')\n",
    "    plt.plot([0, 1], [0, 1], 'r--')\n",
    "    plt.title('AUC = %0.2f' % roc_auc)\n",
    "    "
   ]
  },
  {
   "cell_type": "code",
   "execution_count": 25,
   "metadata": {},
   "outputs": [
    {
     "name": "stdout",
     "output_type": "stream",
     "text": [
      "matriz de confusión\n",
      "[[22056    40]\n",
      " [ 1771     0]]\n",
      "accuracy\n",
      "0.9241211714920182\n",
      "precision\n",
      "0.0\n",
      "recall\n",
      "0.0\n",
      "f1\n",
      "0.0\n",
      "AUC\n",
      "0.4990948587979725\n"
     ]
    },
    {
     "data": {
      "image/png": "[encoded data removed]",
      "text/plain": [
       "<Figure size 432x288 with 1 Axes>"
      ]
     },
     "metadata": {
      "needs_background": "light"
     },
     "output_type": "display_data"
    }
   ],
   "source": [
    "saca_metricas(y_test, y_pred)  "
   ]
  },
  {
   "cell_type": "code",
   "execution_count": null,
   "metadata": {},
   "outputs": [],
   "source": []
  },
  {
   "cell_type": "markdown",
   "metadata": {},
   "source": [
    "### Come se puede observar, el modelo tiene 92% de accuracy, a pesar de tener una precision y recall de 0%. Este fenómeno se debe a que en nuestra target '¿Abandona?', la inmensa mayoría de los clientes (más del 90%) continúan con la empresa y muy pocos se marchan.\n",
    "\n",
    "### Por lo tanto, el modelo no es buen predictor. \n",
    "\n",
    "### ¿Que voy a hacer para mejorar el modelo?:\n",
    "    1. 'Feature engineering' a las variables usadas. \n",
    "    2. Añadir las variables que quité al principio.\n",
    "    3. Hacer selección de variables"
   ]
  },
  {
   "cell_type": "code",
   "execution_count": null,
   "metadata": {},
   "outputs": [],
   "source": []
  },
  {
   "cell_type": "markdown",
   "metadata": {},
   "source": [
    "### Observamos la correlación que tienen las actuales variables con la target.\n",
    "### A excepción de la variable 'number of NAs', el resto de variables tienen una correlación extremadamente baja.\n",
    "##### 'Mes del dataset' no esta incluida en la matriz correlaciones dado que sus valores son cadenas de caracteres"
   ]
  },
  {
   "cell_type": "code",
   "execution_count": 26,
   "metadata": {},
   "outputs": [
    {
     "data": {
      "text/html": [
       "<style  type=\"text/css\" >\n",
       "    #T_bd3ee1de_7338_11ea_bf71_ccb0dab6b4d6row0_col0 {\n",
       "            background-color:  #023858;\n",
       "            color:  #f1f1f1;\n",
       "        }    #T_bd3ee1de_7338_11ea_bf71_ccb0dab6b4d6row1_col0 {\n",
       "            background-color:  #d6d6e9;\n",
       "            color:  #000000;\n",
       "        }    #T_bd3ee1de_7338_11ea_bf71_ccb0dab6b4d6row2_col0 {\n",
       "            background-color:  #fef6fb;\n",
       "            color:  #000000;\n",
       "        }    #T_bd3ee1de_7338_11ea_bf71_ccb0dab6b4d6row3_col0 {\n",
       "            background-color:  #fef6fb;\n",
       "            color:  #000000;\n",
       "        }    #T_bd3ee1de_7338_11ea_bf71_ccb0dab6b4d6row4_col0 {\n",
       "            background-color:  #fff7fb;\n",
       "            color:  #000000;\n",
       "        }    #T_bd3ee1de_7338_11ea_bf71_ccb0dab6b4d6row5_col0 {\n",
       "            background-color:  #fff7fb;\n",
       "            color:  #000000;\n",
       "        }    #T_bd3ee1de_7338_11ea_bf71_ccb0dab6b4d6row6_col0 {\n",
       "            background-color:  #fff7fb;\n",
       "            color:  #000000;\n",
       "        }    #T_bd3ee1de_7338_11ea_bf71_ccb0dab6b4d6row7_col0 {\n",
       "            background-color:  #fff7fb;\n",
       "            color:  #000000;\n",
       "        }    #T_bd3ee1de_7338_11ea_bf71_ccb0dab6b4d6row8_col0 {\n",
       "            background-color:  #fff7fb;\n",
       "            color:  #000000;\n",
       "        }    #T_bd3ee1de_7338_11ea_bf71_ccb0dab6b4d6row9_col0 {\n",
       "            background-color:  #fff7fb;\n",
       "            color:  #000000;\n",
       "        }    #T_bd3ee1de_7338_11ea_bf71_ccb0dab6b4d6row10_col0 {\n",
       "            background-color:  #fff7fb;\n",
       "            color:  #000000;\n",
       "        }    #T_bd3ee1de_7338_11ea_bf71_ccb0dab6b4d6row11_col0 {\n",
       "            background-color:  #fff7fb;\n",
       "            color:  #000000;\n",
       "        }    #T_bd3ee1de_7338_11ea_bf71_ccb0dab6b4d6row12_col0 {\n",
       "            background-color:  #fff7fb;\n",
       "            color:  #000000;\n",
       "        }    #T_bd3ee1de_7338_11ea_bf71_ccb0dab6b4d6row13_col0 {\n",
       "            background-color:  #fff7fb;\n",
       "            color:  #000000;\n",
       "        }    #T_bd3ee1de_7338_11ea_bf71_ccb0dab6b4d6row14_col0 {\n",
       "            background-color:  #fff7fb;\n",
       "            color:  #000000;\n",
       "        }</style><table id=\"T_bd3ee1de_7338_11ea_bf71_ccb0dab6b4d6\" ><thead>    <tr>        <th class=\"blank level0\" ></th>        <th class=\"col_heading level0 col0\" >¿Abandona?</th>    </tr></thead><tbody>\n",
       "                <tr>\n",
       "                        <th id=\"T_bd3ee1de_7338_11ea_bf71_ccb0dab6b4d6level0_row0\" class=\"row_heading level0 row0\" >¿Abandona?</th>\n",
       "                        <td id=\"T_bd3ee1de_7338_11ea_bf71_ccb0dab6b4d6row0_col0\" class=\"data row0 col0\" >1</td>\n",
       "            </tr>\n",
       "            <tr>\n",
       "                        <th id=\"T_bd3ee1de_7338_11ea_bf71_ccb0dab6b4d6level0_row1\" class=\"row_heading level0 row1\" >number of NAs</th>\n",
       "                        <td id=\"T_bd3ee1de_7338_11ea_bf71_ccb0dab6b4d6row1_col0\" class=\"data row1 col0\" >0.223008</td>\n",
       "            </tr>\n",
       "            <tr>\n",
       "                        <th id=\"T_bd3ee1de_7338_11ea_bf71_ccb0dab6b4d6level0_row2\" class=\"row_heading level0 row2\" >provincia</th>\n",
       "                        <td id=\"T_bd3ee1de_7338_11ea_bf71_ccb0dab6b4d6row2_col0\" class=\"data row2 col0\" >0.00630453</td>\n",
       "            </tr>\n",
       "            <tr>\n",
       "                        <th id=\"T_bd3ee1de_7338_11ea_bf71_ccb0dab6b4d6level0_row3\" class=\"row_heading level0 row3\" >num_llamad_ent</th>\n",
       "                        <td id=\"T_bd3ee1de_7338_11ea_bf71_ccb0dab6b4d6row3_col0\" class=\"data row3 col0\" >0.00612962</td>\n",
       "            </tr>\n",
       "            <tr>\n",
       "                        <th id=\"T_bd3ee1de_7338_11ea_bf71_ccb0dab6b4d6level0_row4\" class=\"row_heading level0 row4\" >antiguedad</th>\n",
       "                        <td id=\"T_bd3ee1de_7338_11ea_bf71_ccb0dab6b4d6row4_col0\" class=\"data row4 col0\" >0.00314576</td>\n",
       "            </tr>\n",
       "            <tr>\n",
       "                        <th id=\"T_bd3ee1de_7338_11ea_bf71_ccb0dab6b4d6level0_row5\" class=\"row_heading level0 row5\" >num_llamad_sal</th>\n",
       "                        <td id=\"T_bd3ee1de_7338_11ea_bf71_ccb0dab6b4d6row5_col0\" class=\"data row5 col0\" >0.00314091</td>\n",
       "            </tr>\n",
       "            <tr>\n",
       "                        <th id=\"T_bd3ee1de_7338_11ea_bf71_ccb0dab6b4d6level0_row6\" class=\"row_heading level0 row6\" >edad</th>\n",
       "                        <td id=\"T_bd3ee1de_7338_11ea_bf71_ccb0dab6b4d6row6_col0\" class=\"data row6 col0\" >0.00286418</td>\n",
       "            </tr>\n",
       "            <tr>\n",
       "                        <th id=\"T_bd3ee1de_7338_11ea_bf71_ccb0dab6b4d6level0_row7\" class=\"row_heading level0 row7\" >facturacion</th>\n",
       "                        <td id=\"T_bd3ee1de_7338_11ea_bf71_ccb0dab6b4d6row7_col0\" class=\"data row7 col0\" >0.00284625</td>\n",
       "            </tr>\n",
       "            <tr>\n",
       "                        <th id=\"T_bd3ee1de_7338_11ea_bf71_ccb0dab6b4d6level0_row8\" class=\"row_heading level0 row8\" >TV</th>\n",
       "                        <td id=\"T_bd3ee1de_7338_11ea_bf71_ccb0dab6b4d6row8_col0\" class=\"data row8 col0\" >0.00264543</td>\n",
       "            </tr>\n",
       "            <tr>\n",
       "                        <th id=\"T_bd3ee1de_7338_11ea_bf71_ccb0dab6b4d6level0_row9\" class=\"row_heading level0 row9\" >conexion</th>\n",
       "                        <td id=\"T_bd3ee1de_7338_11ea_bf71_ccb0dab6b4d6row9_col0\" class=\"data row9 col0\" >0.00254613</td>\n",
       "            </tr>\n",
       "            <tr>\n",
       "                        <th id=\"T_bd3ee1de_7338_11ea_bf71_ccb0dab6b4d6level0_row10\" class=\"row_heading level0 row10\" >vel_conexion</th>\n",
       "                        <td id=\"T_bd3ee1de_7338_11ea_bf71_ccb0dab6b4d6row10_col0\" class=\"data row10 col0\" >0.00243859</td>\n",
       "            </tr>\n",
       "            <tr>\n",
       "                        <th id=\"T_bd3ee1de_7338_11ea_bf71_ccb0dab6b4d6level0_row11\" class=\"row_heading level0 row11\" >num_lineas</th>\n",
       "                        <td id=\"T_bd3ee1de_7338_11ea_bf71_ccb0dab6b4d6row11_col0\" class=\"data row11 col0\" >0.00173292</td>\n",
       "            </tr>\n",
       "            <tr>\n",
       "                        <th id=\"T_bd3ee1de_7338_11ea_bf71_ccb0dab6b4d6level0_row12\" class=\"row_heading level0 row12\" >mb_datos</th>\n",
       "                        <td id=\"T_bd3ee1de_7338_11ea_bf71_ccb0dab6b4d6row12_col0\" class=\"data row12 col0\" >0.00120115</td>\n",
       "            </tr>\n",
       "            <tr>\n",
       "                        <th id=\"T_bd3ee1de_7338_11ea_bf71_ccb0dab6b4d6level0_row13\" class=\"row_heading level0 row13\" >seg_llamad_ent</th>\n",
       "                        <td id=\"T_bd3ee1de_7338_11ea_bf71_ccb0dab6b4d6row13_col0\" class=\"data row13 col0\" >0.000525948</td>\n",
       "            </tr>\n",
       "            <tr>\n",
       "                        <th id=\"T_bd3ee1de_7338_11ea_bf71_ccb0dab6b4d6level0_row14\" class=\"row_heading level0 row14\" >seg_llamad_sal</th>\n",
       "                        <td id=\"T_bd3ee1de_7338_11ea_bf71_ccb0dab6b4d6row14_col0\" class=\"data row14 col0\" >8.94505e-05</td>\n",
       "            </tr>\n",
       "    </tbody></table>"
      ],
      "text/plain": [
       "<pandas.io.formats.style.Styler at 0x22396fe4ec8>"
      ]
     },
     "execution_count": 26,
     "metadata": {},
     "output_type": "execute_result"
    }
   ],
   "source": [
    "corr = abs(data.corr())\n",
    "corr[['¿Abandona?']].sort_values(by = '¿Abandona?',ascending = False).style.background_gradient() "
   ]
  },
  {
   "cell_type": "code",
   "execution_count": null,
   "metadata": {},
   "outputs": [],
   "source": []
  },
  {
   "cell_type": "markdown",
   "metadata": {},
   "source": [
    "### Voy a usar la función 'proporciones_final()' para identificar patrones que los valores de las variables tienen con respecto a la objetivo"
   ]
  },
  {
   "cell_type": "code",
   "execution_count": 27,
   "metadata": {},
   "outputs": [],
   "source": [
    "def proporciones_final(var,target,df):\n",
    "\n",
    "    proporcion = pd.DataFrame()\n",
    "\n",
    "    proporcion['%depositos'] = df[target].groupby(df[var]).mean()*100 \n",
    "    proporcion['Conteo'] = df[target].groupby(df[var]).count() \n",
    "    proporcion= proporcion.round(3)   \n",
    "    proporcion_filtered = proporcion[(proporcion['%depositos']>0) & (proporcion['Conteo']>10)]\n",
    "        \n",
    "    if len(proporcion_filtered)<100 and len(proporcion_filtered)>1:\n",
    "        fig = plt.figure()\n",
    "        ax = proporcion_filtered['Conteo'].plot(kind='bar',grid=True)\n",
    "                \n",
    "        ax2 = ax.twinx()\n",
    "        ax2.plot(proporcion_filtered['%depositos'].values, linestyle='-', linewidth=2.0,color='r')\n",
    "        plt.tight_layout()        \n",
    "    \n",
    "    else:        \n",
    "        proporcion_filtered.reset_index(inplace=True)\n",
    "        sns.lmplot(x = var,y ='%depositos',data=proporcion_filtered, fit_reg=True,ci=None) "
   ]
  },
  {
   "cell_type": "markdown",
   "metadata": {},
   "source": [
    "### Le paso a la función las variables que tiene menos de 12 valores únicos.\n",
    "### Más adelante, usaré la función con variables con más categorías."
   ]
  },
  {
   "cell_type": "code",
   "execution_count": 28,
   "metadata": {},
   "outputs": [
    {
     "data": {
      "image/png": "[encoded data removed]",
      "text/plain": [
       "<Figure size 432x288 with 2 Axes>"
      ]
     },
     "metadata": {
      "needs_background": "light"
     },
     "output_type": "display_data"
    },
    {
     "data": {
      "image/png": "[encoded data removed]",
      "text/plain": [
       "<Figure size 432x288 with 2 Axes>"
      ]
     },
     "metadata": {
      "needs_background": "light"
     },
     "output_type": "display_data"
    },
    {
     "data": {
      "image/png": "[encoded data removed]",
      "text/plain": [
       "<Figure size 432x288 with 2 Axes>"
      ]
     },
     "metadata": {
      "needs_background": "light"
     },
     "output_type": "display_data"
    },
    {
     "data": {
      "image/png": "[encoded data removed]",
      "text/plain": [
       "<Figure size 432x288 with 2 Axes>"
      ]
     },
     "metadata": {
      "needs_background": "light"
     },
     "output_type": "display_data"
    }
   ],
   "source": [
    "varsToPlot=data.loc[:,pd.DataFrame(data.columns, index=data.columns).apply(lambda x: len(data[x[0]].unique())<12 and len(data[x[0]].unique())>2, axis=1)]   \n",
    "varsToPlot=varsToPlot.loc[:,list(pd.DataFrame(varsToPlot.columns).apply(lambda x: x[0] not in '¿Abandona?', axis=1))] \n",
    "\n",
    "for i in varsToPlot.columns:\n",
    "    proporciones_final (i, '¿Abandona?', data) "
   ]
  },
  {
   "cell_type": "code",
   "execution_count": 29,
   "metadata": {},
   "outputs": [
    {
     "name": "stdout",
     "output_type": "stream",
     "text": [
      "   values  LabelEncoder equivalent\n",
      "0       1                        0\n",
      "1       2                        1\n",
      "2       3                        2\n",
      "3       4                        3\n",
      "4       5                        4\n",
      "   values  LabelEncoder equivalent\n",
      "0   100MB                        0\n",
      "1    10MB                        1\n",
      "2    15MB                        2\n",
      "3   200MB                        3\n",
      "4    20MB                        4\n",
      "5    25MB                        5\n",
      "6   300MB                        6\n",
      "7    30MB                        7\n",
      "8    35MB                        8\n",
      "9    50MB                        9\n",
      "10  600MB                       10\n",
      "        values  LabelEncoder equivalent\n",
      "0  tv-familiar                        0\n",
      "1    tv-futbol                        1\n",
      "2     tv-total                        2\n",
      "   values  LabelEncoder equivalent\n",
      "0       0                        0\n",
      "1       1                        1\n",
      "2       2                        2\n",
      "3       3                        3\n",
      "4       4                        4\n",
      "5       5                        5\n"
     ]
    }
   ],
   "source": [
    "print(leyenda_LabelEncoder['values_num_lineas'])\n",
    "print(leyenda_LabelEncoder['values_vel_conexion'])\n",
    "print(leyenda_LabelEncoder['values_TV'])\n",
    "print(leyenda_LabelEncoder['values_number of NAs']) "
   ]
  },
  {
   "cell_type": "markdown",
   "metadata": {},
   "source": [
    "1. Observaciones:\n",
    "    1. num_lineas: se ve claramente que cuando un cliente tiene cero líneas móviles contratadas, la probabilidad de dejar la empresa se dispara. Por tanto, creo una nueva variable llamada 'tiene_linea(s)_contratadas' que tiene valor 0 si el número de líneas contratadas son ceros y 1 para el resto.\n",
    "    2. vel_conexion: sigue un comportamiento aleatorio. No creo nueva variable.\n",
    "    3. TV: Si el paquete contratado es tipo '2', las probabilidades de abandonar se disparan. Creo una variable dummy ('con_paquete_TV_total') con valor 1 si es tipo '2' y 0 para el resto.\n",
    "    4. number of NAs: También se observa que cuando el número de NAs en una fila es 4, dicho cliente tiene más probabilidades de abandonar. Por tanto, creo una nueva variable dummy ('con_4_NAs_en_fila') con valor 1 si el número de NAs es 4 y 0 para el resto\n"
   ]
  },
  {
   "cell_type": "code",
   "execution_count": 30,
   "metadata": {},
   "outputs": [],
   "source": [
    "data['tiene_linea(s)_contratadas']=data.num_lineas.apply(lambda x: 0 if x==0 else 1) \n",
    "data['con_paquete_TV_total']=data.TV.apply(lambda x: 1 if x==2 else 0)\n",
    "data['con_4_NAs_en_fila']=data['number of NAs'].apply(lambda x: 1 if x==4 else 0) "
   ]
  },
  {
   "cell_type": "code",
   "execution_count": null,
   "metadata": {},
   "outputs": [],
   "source": []
  },
  {
   "cell_type": "code",
   "execution_count": null,
   "metadata": {},
   "outputs": [],
   "source": []
  },
  {
   "cell_type": "markdown",
   "metadata": {},
   "source": [
    "### También se va a transformar las variables continuas:\n",
    "#### Desventaja de discretizar variables continuas: pérdida de información\n",
    "#### Posible ventaja: mejora la interpretabilidad\n",
    " El principal objetivo es encontrar patrones con respecto a la variable objetivo. \n",
    " \n",
    " Selecciono un número relativamente grande de 'bins' con 'pandas.qcut()' (he selecciondad 20).  \n",
    " \n",
    " Por ejemplo, supongamos que los 10 primeros grupos (bins) de la variable x, tienen un ratio de gente que abandona muy inferior a los 10 grupos restantes. En tal caso, sería buena idea crear una variable binaria que explique este suceso.\n",
    " \n",
    " En el mismo ejemplo si en vez de q=20 hubiéramos elegido q=3 (es decir, se crean 3 bins), tendríamos la segunda  bin con valores de dos grupos muy diferentes: los que que tienen un ratio de gente que abandona muy bajo y los que, por el contrario, tienen un ratio mucho más alto. \n",
    " \n",
    "Esto supondría un problema porque al haber creado pocas bins, hemos perdido la capacidad de encontrar patrones (se vería un comportamiento progresivo ascendente con respecto a la variable objetivo, en lugar de una marcada diferencia). \n",
    " \n",
    " Por este motivo, he usado 20 bins como medida de prevención."
   ]
  },
  {
   "cell_type": "markdown",
   "metadata": {},
   "source": [
    "###### IMPORTANTE DETALLE: la variable objetivo '¿Abandona?' tiene valores NAs para las observaciones de Enero. Precisamente por eso, el gráfico solo pinta la línea roja (de la variable objetivo) en función de los datos de Diciembre"
   ]
  },
  {
   "cell_type": "code",
   "execution_count": 31,
   "metadata": {},
   "outputs": [],
   "source": [
    "def visualizar_variables_numericas_binarizadas(dataset, q, target='¿Abandona?'):\n",
    "    sin_la_target=dataset.loc[:, dataset.columns != target]\n",
    "    new_vars={}\n",
    "    values=[i for i in range(q)]\n",
    "    for i in range(len(sin_la_target.columns)):\n",
    "        new_vars[str(sin_la_target.columns[i])]=pd.qcut(dataset[str(sin_la_target.columns[i])], \n",
    "                                                         q=q, labels=values)\n",
    "    vars_to_plot=pd.DataFrame(new_vars).fillna(0) \n",
    "    target=pd.DataFrame(dataset[target])\n",
    "    new_continuous_vars=pd.concat([target, vars_to_plot.reindex(target.index)], axis=1)  \n",
    "    for i in vars_to_plot.columns:\n",
    "        proporciones_final(i, '¿Abandona?', new_continuous_vars) \n",
    "        # Si en vez de \"'¿Abandona?'\" pongo \"target\" me da error"
   ]
  },
  {
   "cell_type": "code",
   "execution_count": 32,
   "metadata": {},
   "outputs": [
    {
     "data": {
      "image/png": "[encoded data removed]",
      "text/plain": [
       "<Figure size 432x288 with 2 Axes>"
      ]
     },
     "metadata": {
      "needs_background": "light"
     },
     "output_type": "display_data"
    },
    {
     "data": {
      "image/png": "[encoded data removed]",
      "text/plain": [
       "<Figure size 432x288 with 2 Axes>"
      ]
     },
     "metadata": {
      "needs_background": "light"
     },
     "output_type": "display_data"
    },
    {
     "data": {
      "image/png": "[encoded data removed]",
      "text/plain": [
       "<Figure size 432x288 with 2 Axes>"
      ]
     },
     "metadata": {
      "needs_background": "light"
     },
     "output_type": "display_data"
    },
    {
     "data": {
      "image/png": "[encoded data removed]",
      "text/plain": [
       "<Figure size 432x288 with 2 Axes>"
      ]
     },
     "metadata": {
      "needs_background": "light"
     },
     "output_type": "display_data"
    }
   ],
   "source": [
    "continuous_vars=data.loc[:,['antiguedad', 'facturacion', 'mb_datos', 'edad','¿Abandona?']] \n",
    "visualizar_variables_numericas_binarizadas(dataset=continuous_vars, q=20) "
   ]
  },
  {
   "cell_type": "code",
   "execution_count": null,
   "metadata": {},
   "outputs": [],
   "source": []
  },
  {
   "cell_type": "markdown",
   "metadata": {},
   "source": [
    "Observaciones: Veo un comportamiento bastante aleatorio en las variables numéricas.\n",
    "Solo voy a hacer una transformación con la variable 'edad' porque puede ayudar a ganar interpretabilidad.\n",
    "\n",
    "Divido las edades por 'joven' (0-35), 'adulto' (35-60) y 'jubilado' (60-100)\n",
    "\n",
    "Para evitar multicolineardiad, únicamente selecciono 'adulto' y 'jubilado'"
   ]
  },
  {
   "cell_type": "code",
   "execution_count": 33,
   "metadata": {},
   "outputs": [],
   "source": [
    "edad_por_rangos=pd.cut(data.edad, bins=[0,35,60,100], labels=['joven','adulto',\n",
    "                                                              'jubilado']) \n",
    "dummies_edad=pd.DataFrame(pd.get_dummies(edad_por_rangos).astype('int32'))\n",
    "dummies_edad=dummies_edad.loc[:,['adulto','jubilado']]\n",
    "data=pd.concat([data, dummies_edad.reindex(data.index)], axis=1)"
   ]
  },
  {
   "cell_type": "code",
   "execution_count": null,
   "metadata": {},
   "outputs": [],
   "source": []
  },
  {
   "cell_type": "markdown",
   "metadata": {},
   "source": [
    "# Evalúo la correlación de todas las variables y veo si las nuevas variables creadas están más correlacionadas que las antiguas"
   ]
  },
  {
   "cell_type": "code",
   "execution_count": 34,
   "metadata": {},
   "outputs": [
    {
     "data": {
      "text/html": [
       "<style  type=\"text/css\" >\n",
       "    #T_c21aeeec_7338_11ea_b79d_ccb0dab6b4d6row0_col0 {\n",
       "            background-color:  #023858;\n",
       "            color:  #f1f1f1;\n",
       "        }    #T_c21aeeec_7338_11ea_b79d_ccb0dab6b4d6row1_col0 {\n",
       "            background-color:  #81aed2;\n",
       "            color:  #000000;\n",
       "        }    #T_c21aeeec_7338_11ea_b79d_ccb0dab6b4d6row2_col0 {\n",
       "            background-color:  #d6d6e9;\n",
       "            color:  #000000;\n",
       "        }    #T_c21aeeec_7338_11ea_b79d_ccb0dab6b4d6row3_col0 {\n",
       "            background-color:  #fef6fb;\n",
       "            color:  #000000;\n",
       "        }    #T_c21aeeec_7338_11ea_b79d_ccb0dab6b4d6row4_col0 {\n",
       "            background-color:  #fef6fb;\n",
       "            color:  #000000;\n",
       "        }    #T_c21aeeec_7338_11ea_b79d_ccb0dab6b4d6row5_col0 {\n",
       "            background-color:  #fef6fb;\n",
       "            color:  #000000;\n",
       "        }    #T_c21aeeec_7338_11ea_b79d_ccb0dab6b4d6row6_col0 {\n",
       "            background-color:  #fff7fb;\n",
       "            color:  #000000;\n",
       "        }    #T_c21aeeec_7338_11ea_b79d_ccb0dab6b4d6row7_col0 {\n",
       "            background-color:  #fff7fb;\n",
       "            color:  #000000;\n",
       "        }    #T_c21aeeec_7338_11ea_b79d_ccb0dab6b4d6row8_col0 {\n",
       "            background-color:  #fff7fb;\n",
       "            color:  #000000;\n",
       "        }    #T_c21aeeec_7338_11ea_b79d_ccb0dab6b4d6row9_col0 {\n",
       "            background-color:  #fff7fb;\n",
       "            color:  #000000;\n",
       "        }    #T_c21aeeec_7338_11ea_b79d_ccb0dab6b4d6row10_col0 {\n",
       "            background-color:  #fff7fb;\n",
       "            color:  #000000;\n",
       "        }    #T_c21aeeec_7338_11ea_b79d_ccb0dab6b4d6row11_col0 {\n",
       "            background-color:  #fff7fb;\n",
       "            color:  #000000;\n",
       "        }    #T_c21aeeec_7338_11ea_b79d_ccb0dab6b4d6row12_col0 {\n",
       "            background-color:  #fff7fb;\n",
       "            color:  #000000;\n",
       "        }    #T_c21aeeec_7338_11ea_b79d_ccb0dab6b4d6row13_col0 {\n",
       "            background-color:  #fff7fb;\n",
       "            color:  #000000;\n",
       "        }    #T_c21aeeec_7338_11ea_b79d_ccb0dab6b4d6row14_col0 {\n",
       "            background-color:  #fff7fb;\n",
       "            color:  #000000;\n",
       "        }    #T_c21aeeec_7338_11ea_b79d_ccb0dab6b4d6row15_col0 {\n",
       "            background-color:  #fff7fb;\n",
       "            color:  #000000;\n",
       "        }    #T_c21aeeec_7338_11ea_b79d_ccb0dab6b4d6row16_col0 {\n",
       "            background-color:  #fff7fb;\n",
       "            color:  #000000;\n",
       "        }    #T_c21aeeec_7338_11ea_b79d_ccb0dab6b4d6row17_col0 {\n",
       "            background-color:  #fff7fb;\n",
       "            color:  #000000;\n",
       "        }    #T_c21aeeec_7338_11ea_b79d_ccb0dab6b4d6row18_col0 {\n",
       "            background-color:  #fff7fb;\n",
       "            color:  #000000;\n",
       "        }    #T_c21aeeec_7338_11ea_b79d_ccb0dab6b4d6row19_col0 {\n",
       "            background-color:  #fff7fb;\n",
       "            color:  #000000;\n",
       "        }</style><table id=\"T_c21aeeec_7338_11ea_b79d_ccb0dab6b4d6\" ><thead>    <tr>        <th class=\"blank level0\" ></th>        <th class=\"col_heading level0 col0\" >¿Abandona?</th>    </tr></thead><tbody>\n",
       "                <tr>\n",
       "                        <th id=\"T_c21aeeec_7338_11ea_b79d_ccb0dab6b4d6level0_row0\" class=\"row_heading level0 row0\" >¿Abandona?</th>\n",
       "                        <td id=\"T_c21aeeec_7338_11ea_b79d_ccb0dab6b4d6row0_col0\" class=\"data row0 col0\" >1</td>\n",
       "            </tr>\n",
       "            <tr>\n",
       "                        <th id=\"T_c21aeeec_7338_11ea_b79d_ccb0dab6b4d6level0_row1\" class=\"row_heading level0 row1\" >con_4_NAs_en_fila</th>\n",
       "                        <td id=\"T_c21aeeec_7338_11ea_b79d_ccb0dab6b4d6row1_col0\" class=\"data row1 col0\" >0.465407</td>\n",
       "            </tr>\n",
       "            <tr>\n",
       "                        <th id=\"T_c21aeeec_7338_11ea_b79d_ccb0dab6b4d6level0_row2\" class=\"row_heading level0 row2\" >number of NAs</th>\n",
       "                        <td id=\"T_c21aeeec_7338_11ea_b79d_ccb0dab6b4d6row2_col0\" class=\"data row2 col0\" >0.223008</td>\n",
       "            </tr>\n",
       "            <tr>\n",
       "                        <th id=\"T_c21aeeec_7338_11ea_b79d_ccb0dab6b4d6level0_row3\" class=\"row_heading level0 row3\" >provincia</th>\n",
       "                        <td id=\"T_c21aeeec_7338_11ea_b79d_ccb0dab6b4d6row3_col0\" class=\"data row3 col0\" >0.00630453</td>\n",
       "            </tr>\n",
       "            <tr>\n",
       "                        <th id=\"T_c21aeeec_7338_11ea_b79d_ccb0dab6b4d6level0_row4\" class=\"row_heading level0 row4\" >num_llamad_ent</th>\n",
       "                        <td id=\"T_c21aeeec_7338_11ea_b79d_ccb0dab6b4d6row4_col0\" class=\"data row4 col0\" >0.00612962</td>\n",
       "            </tr>\n",
       "            <tr>\n",
       "                        <th id=\"T_c21aeeec_7338_11ea_b79d_ccb0dab6b4d6level0_row5\" class=\"row_heading level0 row5\" >con_paquete_TV_total</th>\n",
       "                        <td id=\"T_c21aeeec_7338_11ea_b79d_ccb0dab6b4d6row5_col0\" class=\"data row5 col0\" >0.00459036</td>\n",
       "            </tr>\n",
       "            <tr>\n",
       "                        <th id=\"T_c21aeeec_7338_11ea_b79d_ccb0dab6b4d6level0_row6\" class=\"row_heading level0 row6\" >antiguedad</th>\n",
       "                        <td id=\"T_c21aeeec_7338_11ea_b79d_ccb0dab6b4d6row6_col0\" class=\"data row6 col0\" >0.00314576</td>\n",
       "            </tr>\n",
       "            <tr>\n",
       "                        <th id=\"T_c21aeeec_7338_11ea_b79d_ccb0dab6b4d6level0_row7\" class=\"row_heading level0 row7\" >num_llamad_sal</th>\n",
       "                        <td id=\"T_c21aeeec_7338_11ea_b79d_ccb0dab6b4d6row7_col0\" class=\"data row7 col0\" >0.00314091</td>\n",
       "            </tr>\n",
       "            <tr>\n",
       "                        <th id=\"T_c21aeeec_7338_11ea_b79d_ccb0dab6b4d6level0_row8\" class=\"row_heading level0 row8\" >edad</th>\n",
       "                        <td id=\"T_c21aeeec_7338_11ea_b79d_ccb0dab6b4d6row8_col0\" class=\"data row8 col0\" >0.00286418</td>\n",
       "            </tr>\n",
       "            <tr>\n",
       "                        <th id=\"T_c21aeeec_7338_11ea_b79d_ccb0dab6b4d6level0_row9\" class=\"row_heading level0 row9\" >facturacion</th>\n",
       "                        <td id=\"T_c21aeeec_7338_11ea_b79d_ccb0dab6b4d6row9_col0\" class=\"data row9 col0\" >0.00284625</td>\n",
       "            </tr>\n",
       "            <tr>\n",
       "                        <th id=\"T_c21aeeec_7338_11ea_b79d_ccb0dab6b4d6level0_row10\" class=\"row_heading level0 row10\" >tiene_linea(s)_contratadas</th>\n",
       "                        <td id=\"T_c21aeeec_7338_11ea_b79d_ccb0dab6b4d6row10_col0\" class=\"data row10 col0\" >0.00266225</td>\n",
       "            </tr>\n",
       "            <tr>\n",
       "                        <th id=\"T_c21aeeec_7338_11ea_b79d_ccb0dab6b4d6level0_row11\" class=\"row_heading level0 row11\" >TV</th>\n",
       "                        <td id=\"T_c21aeeec_7338_11ea_b79d_ccb0dab6b4d6row11_col0\" class=\"data row11 col0\" >0.00264543</td>\n",
       "            </tr>\n",
       "            <tr>\n",
       "                        <th id=\"T_c21aeeec_7338_11ea_b79d_ccb0dab6b4d6level0_row12\" class=\"row_heading level0 row12\" >adulto</th>\n",
       "                        <td id=\"T_c21aeeec_7338_11ea_b79d_ccb0dab6b4d6row12_col0\" class=\"data row12 col0\" >0.00264436</td>\n",
       "            </tr>\n",
       "            <tr>\n",
       "                        <th id=\"T_c21aeeec_7338_11ea_b79d_ccb0dab6b4d6level0_row13\" class=\"row_heading level0 row13\" >conexion</th>\n",
       "                        <td id=\"T_c21aeeec_7338_11ea_b79d_ccb0dab6b4d6row13_col0\" class=\"data row13 col0\" >0.00254613</td>\n",
       "            </tr>\n",
       "            <tr>\n",
       "                        <th id=\"T_c21aeeec_7338_11ea_b79d_ccb0dab6b4d6level0_row14\" class=\"row_heading level0 row14\" >vel_conexion</th>\n",
       "                        <td id=\"T_c21aeeec_7338_11ea_b79d_ccb0dab6b4d6row14_col0\" class=\"data row14 col0\" >0.00243859</td>\n",
       "            </tr>\n",
       "            <tr>\n",
       "                        <th id=\"T_c21aeeec_7338_11ea_b79d_ccb0dab6b4d6level0_row15\" class=\"row_heading level0 row15\" >num_lineas</th>\n",
       "                        <td id=\"T_c21aeeec_7338_11ea_b79d_ccb0dab6b4d6row15_col0\" class=\"data row15 col0\" >0.00173292</td>\n",
       "            </tr>\n",
       "            <tr>\n",
       "                        <th id=\"T_c21aeeec_7338_11ea_b79d_ccb0dab6b4d6level0_row16\" class=\"row_heading level0 row16\" >mb_datos</th>\n",
       "                        <td id=\"T_c21aeeec_7338_11ea_b79d_ccb0dab6b4d6row16_col0\" class=\"data row16 col0\" >0.00120115</td>\n",
       "            </tr>\n",
       "            <tr>\n",
       "                        <th id=\"T_c21aeeec_7338_11ea_b79d_ccb0dab6b4d6level0_row17\" class=\"row_heading level0 row17\" >jubilado</th>\n",
       "                        <td id=\"T_c21aeeec_7338_11ea_b79d_ccb0dab6b4d6row17_col0\" class=\"data row17 col0\" >0.000733294</td>\n",
       "            </tr>\n",
       "            <tr>\n",
       "                        <th id=\"T_c21aeeec_7338_11ea_b79d_ccb0dab6b4d6level0_row18\" class=\"row_heading level0 row18\" >seg_llamad_ent</th>\n",
       "                        <td id=\"T_c21aeeec_7338_11ea_b79d_ccb0dab6b4d6row18_col0\" class=\"data row18 col0\" >0.000525948</td>\n",
       "            </tr>\n",
       "            <tr>\n",
       "                        <th id=\"T_c21aeeec_7338_11ea_b79d_ccb0dab6b4d6level0_row19\" class=\"row_heading level0 row19\" >seg_llamad_sal</th>\n",
       "                        <td id=\"T_c21aeeec_7338_11ea_b79d_ccb0dab6b4d6row19_col0\" class=\"data row19 col0\" >8.94505e-05</td>\n",
       "            </tr>\n",
       "    </tbody></table>"
      ],
      "text/plain": [
       "<pandas.io.formats.style.Styler at 0x22396423b08>"
      ]
     },
     "execution_count": 34,
     "metadata": {},
     "output_type": "execute_result"
    }
   ],
   "source": [
    "corr = abs(data.corr()) #since we have included a new var\n",
    "corr[['¿Abandona?']].sort_values(by = '¿Abandona?',ascending = False).style.background_gradient() "
   ]
  },
  {
   "cell_type": "markdown",
   "metadata": {},
   "source": [
    "### En general, la transformación de variables mejora considerablemente la correlación con la objetivo, aunque los valores siguen siendo muy bajos.\n",
    "### La variable más significativa es 'con_4_NAs_en_fila', la cual ha conseguido duplicar la correlación de su variable original 'number of NAs'."
   ]
  },
  {
   "cell_type": "code",
   "execution_count": null,
   "metadata": {},
   "outputs": [],
   "source": []
  },
  {
   "cell_type": "markdown",
   "metadata": {},
   "source": [
    "# Añadimos las variables que fueron eliminadas al principio del pre-procesado por tener muchos NAs. \n",
    "\n",
    "\n",
    "\\\n",
    "### Pero antes, evaluo si el dataset tiene algún NA."
   ]
  },
  {
   "cell_type": "code",
   "execution_count": 35,
   "metadata": {},
   "outputs": [
    {
     "data": {
      "text/plain": [
       "edad                              0\n",
       "facturacion                       0\n",
       "antiguedad                        0\n",
       "provincia                         0\n",
       "num_lineas                        0\n",
       "num_llamad_ent                    0\n",
       "num_llamad_sal                    0\n",
       "mb_datos                          0\n",
       "seg_llamad_ent                    0\n",
       "seg_llamad_sal                    0\n",
       "conexion                          0\n",
       "vel_conexion                      0\n",
       "TV                                0\n",
       "Mes del dataset                   0\n",
       "¿Abandona?                    92711\n",
       "number of NAs                     0\n",
       "tiene_linea(s)_contratadas        0\n",
       "con_paquete_TV_total              0\n",
       "con_4_NAs_en_fila                 0\n",
       "adulto                            0\n",
       "jubilado                          0\n",
       "dtype: int64"
      ]
     },
     "execution_count": 35,
     "metadata": {},
     "output_type": "execute_result"
    }
   ],
   "source": [
    "data.isnull().sum() "
   ]
  },
  {
   "cell_type": "code",
   "execution_count": null,
   "metadata": {},
   "outputs": [],
   "source": []
  },
  {
   "cell_type": "markdown",
   "metadata": {},
   "source": [
    "### Voy a añadir las variables que quité al principio. \n",
    "### La razón por las que las eliminé fue debido a su gran número de NAs. Voy a convertir los NAs a cero con '.fillna(0)'. \n",
    "### Tomo esta decisión porque en varias variables como 'incidencia', 'financiacion' o 'descuentos' solo existe un único valor ('SI'). Por tanto, asumo que 'NA' se refiere a 'NO'."
   ]
  },
  {
   "cell_type": "code",
   "execution_count": 36,
   "metadata": {
    "scrolled": true
   },
   "outputs": [
    {
     "name": "stdout",
     "output_type": "stream",
     "text": [
      "column: num_dt\n",
      "[nan  2.  1.  4.  3.]\n",
      "\n",
      "column: incidencia\n",
      "[nan 'SI']\n",
      "\n",
      "column: financiacion\n",
      "[nan 'SI']\n",
      "\n",
      "column: imp_financ\n",
      "[        nan 31.55326856 28.51874706 ... 16.08319289 23.15835832\n",
      " 21.29579583]\n",
      "\n",
      "column: descuentos\n",
      "[nan 'SI']\n",
      "\n"
     ]
    }
   ],
   "source": [
    "full=pd.read_csv('full.csv')\n",
    "others=full.loc[:,['num_dt','incidencia','financiacion','imp_financ','descuentos']]\n",
    "\n",
    "for col in others.columns:\n",
    "    print('column: {}'.format(str(col)))\n",
    "    print(others[str(col)].unique()) \n",
    "    print() "
   ]
  },
  {
   "cell_type": "markdown",
   "metadata": {},
   "source": [
    "###### 'full' tiene las variables del dataset sin procesar. Por tanto, convierto la variable 'antiguedad' a formato fecha y creo nuevas variables, descomponiendo 'antiguedad' en 'dia', 'mes' y 'año'."
   ]
  },
  {
   "cell_type": "code",
   "execution_count": 37,
   "metadata": {},
   "outputs": [
    {
     "data": {
      "text/html": [
       "<style  type=\"text/css\" >\n",
       "    #T_c6a91848_7338_11ea_81ba_ccb0dab6b4d6row0_col0 {\n",
       "            background-color:  #023858;\n",
       "            color:  #f1f1f1;\n",
       "        }    #T_c6a91848_7338_11ea_81ba_ccb0dab6b4d6row1_col0 {\n",
       "            background-color:  #adc1dd;\n",
       "            color:  #000000;\n",
       "        }    #T_c6a91848_7338_11ea_81ba_ccb0dab6b4d6row2_col0 {\n",
       "            background-color:  #adc1dd;\n",
       "            color:  #000000;\n",
       "        }    #T_c6a91848_7338_11ea_81ba_ccb0dab6b4d6row3_col0 {\n",
       "            background-color:  #afc1dd;\n",
       "            color:  #000000;\n",
       "        }    #T_c6a91848_7338_11ea_81ba_ccb0dab6b4d6row4_col0 {\n",
       "            background-color:  #e4e1ef;\n",
       "            color:  #000000;\n",
       "        }    #T_c6a91848_7338_11ea_81ba_ccb0dab6b4d6row5_col0 {\n",
       "            background-color:  #f0eaf4;\n",
       "            color:  #000000;\n",
       "        }    #T_c6a91848_7338_11ea_81ba_ccb0dab6b4d6row6_col0 {\n",
       "            background-color:  #f7f0f7;\n",
       "            color:  #000000;\n",
       "        }    #T_c6a91848_7338_11ea_81ba_ccb0dab6b4d6row7_col0 {\n",
       "            background-color:  #f8f1f8;\n",
       "            color:  #000000;\n",
       "        }    #T_c6a91848_7338_11ea_81ba_ccb0dab6b4d6row8_col0 {\n",
       "            background-color:  #fef6fb;\n",
       "            color:  #000000;\n",
       "        }    #T_c6a91848_7338_11ea_81ba_ccb0dab6b4d6row9_col0 {\n",
       "            background-color:  #fef6fb;\n",
       "            color:  #000000;\n",
       "        }    #T_c6a91848_7338_11ea_81ba_ccb0dab6b4d6row10_col0 {\n",
       "            background-color:  #fff7fb;\n",
       "            color:  #000000;\n",
       "        }    #T_c6a91848_7338_11ea_81ba_ccb0dab6b4d6row11_col0 {\n",
       "            background-color:  #fff7fb;\n",
       "            color:  #000000;\n",
       "        }    #T_c6a91848_7338_11ea_81ba_ccb0dab6b4d6row12_col0 {\n",
       "            background-color:  #fff7fb;\n",
       "            color:  #000000;\n",
       "        }    #T_c6a91848_7338_11ea_81ba_ccb0dab6b4d6row13_col0 {\n",
       "            background-color:  #fff7fb;\n",
       "            color:  #000000;\n",
       "        }    #T_c6a91848_7338_11ea_81ba_ccb0dab6b4d6row14_col0 {\n",
       "            background-color:  #fff7fb;\n",
       "            color:  #000000;\n",
       "        }    #T_c6a91848_7338_11ea_81ba_ccb0dab6b4d6row15_col0 {\n",
       "            background-color:  #fff7fb;\n",
       "            color:  #000000;\n",
       "        }    #T_c6a91848_7338_11ea_81ba_ccb0dab6b4d6row16_col0 {\n",
       "            background-color:  #fff7fb;\n",
       "            color:  #000000;\n",
       "        }    #T_c6a91848_7338_11ea_81ba_ccb0dab6b4d6row17_col0 {\n",
       "            background-color:  #fff7fb;\n",
       "            color:  #000000;\n",
       "        }    #T_c6a91848_7338_11ea_81ba_ccb0dab6b4d6row18_col0 {\n",
       "            background-color:  #fff7fb;\n",
       "            color:  #000000;\n",
       "        }    #T_c6a91848_7338_11ea_81ba_ccb0dab6b4d6row19_col0 {\n",
       "            background-color:  #fff7fb;\n",
       "            color:  #000000;\n",
       "        }    #T_c6a91848_7338_11ea_81ba_ccb0dab6b4d6row20_col0 {\n",
       "            background-color:  #fff7fb;\n",
       "            color:  #000000;\n",
       "        }    #T_c6a91848_7338_11ea_81ba_ccb0dab6b4d6row21_col0 {\n",
       "            background-color:  #fff7fb;\n",
       "            color:  #000000;\n",
       "        }    #T_c6a91848_7338_11ea_81ba_ccb0dab6b4d6row22_col0 {\n",
       "            background-color:  #fff7fb;\n",
       "            color:  #000000;\n",
       "        }    #T_c6a91848_7338_11ea_81ba_ccb0dab6b4d6row23_col0 {\n",
       "            background-color:  #fff7fb;\n",
       "            color:  #000000;\n",
       "        }    #T_c6a91848_7338_11ea_81ba_ccb0dab6b4d6row24_col0 {\n",
       "            background-color:  #fff7fb;\n",
       "            color:  #000000;\n",
       "        }    #T_c6a91848_7338_11ea_81ba_ccb0dab6b4d6row25_col0 {\n",
       "            background-color:  #fff7fb;\n",
       "            color:  #000000;\n",
       "        }    #T_c6a91848_7338_11ea_81ba_ccb0dab6b4d6row26_col0 {\n",
       "            background-color:  #fff7fb;\n",
       "            color:  #000000;\n",
       "        }    #T_c6a91848_7338_11ea_81ba_ccb0dab6b4d6row27_col0 {\n",
       "            background-color:  #fff7fb;\n",
       "            color:  #000000;\n",
       "        }</style><table id=\"T_c6a91848_7338_11ea_81ba_ccb0dab6b4d6\" ><thead>    <tr>        <th class=\"blank level0\" ></th>        <th class=\"col_heading level0 col0\" >¿Abandona?</th>    </tr></thead><tbody>\n",
       "                <tr>\n",
       "                        <th id=\"T_c6a91848_7338_11ea_81ba_ccb0dab6b4d6level0_row0\" class=\"row_heading level0 row0\" >¿Abandona?</th>\n",
       "                        <td id=\"T_c6a91848_7338_11ea_81ba_ccb0dab6b4d6row0_col0\" class=\"data row0 col0\" >1</td>\n",
       "            </tr>\n",
       "            <tr>\n",
       "                        <th id=\"T_c6a91848_7338_11ea_81ba_ccb0dab6b4d6level0_row1\" class=\"row_heading level0 row1\" >num_dt</th>\n",
       "                        <td id=\"T_c6a91848_7338_11ea_81ba_ccb0dab6b4d6row1_col0\" class=\"data row1 col0\" >0.352727</td>\n",
       "            </tr>\n",
       "            <tr>\n",
       "                        <th id=\"T_c6a91848_7338_11ea_81ba_ccb0dab6b4d6level0_row2\" class=\"row_heading level0 row2\" >con_4_NAs_en_fila</th>\n",
       "                        <td id=\"T_c6a91848_7338_11ea_81ba_ccb0dab6b4d6row2_col0\" class=\"data row2 col0\" >0.352215</td>\n",
       "            </tr>\n",
       "            <tr>\n",
       "                        <th id=\"T_c6a91848_7338_11ea_81ba_ccb0dab6b4d6level0_row3\" class=\"row_heading level0 row3\" >incidencia</th>\n",
       "                        <td id=\"T_c6a91848_7338_11ea_81ba_ccb0dab6b4d6row3_col0\" class=\"data row3 col0\" >0.350084</td>\n",
       "            </tr>\n",
       "            <tr>\n",
       "                        <th id=\"T_c6a91848_7338_11ea_81ba_ccb0dab6b4d6level0_row4\" class=\"row_heading level0 row4\" >number of NAs</th>\n",
       "                        <td id=\"T_c6a91848_7338_11ea_81ba_ccb0dab6b4d6row4_col0\" class=\"data row4 col0\" >0.161539</td>\n",
       "            </tr>\n",
       "            <tr>\n",
       "                        <th id=\"T_c6a91848_7338_11ea_81ba_ccb0dab6b4d6level0_row5\" class=\"row_heading level0 row5\" >descuentos</th>\n",
       "                        <td id=\"T_c6a91848_7338_11ea_81ba_ccb0dab6b4d6row5_col0\" class=\"data row5 col0\" >0.0987662</td>\n",
       "            </tr>\n",
       "            <tr>\n",
       "                        <th id=\"T_c6a91848_7338_11ea_81ba_ccb0dab6b4d6level0_row6\" class=\"row_heading level0 row6\" >financiacion</th>\n",
       "                        <td id=\"T_c6a91848_7338_11ea_81ba_ccb0dab6b4d6row6_col0\" class=\"data row6 col0\" >0.0521549</td>\n",
       "            </tr>\n",
       "            <tr>\n",
       "                        <th id=\"T_c6a91848_7338_11ea_81ba_ccb0dab6b4d6level0_row7\" class=\"row_heading level0 row7\" >imp_financ</th>\n",
       "                        <td id=\"T_c6a91848_7338_11ea_81ba_ccb0dab6b4d6row7_col0\" class=\"data row7 col0\" >0.0472917</td>\n",
       "            </tr>\n",
       "            <tr>\n",
       "                        <th id=\"T_c6a91848_7338_11ea_81ba_ccb0dab6b4d6level0_row8\" class=\"row_heading level0 row8\" >antiguedad</th>\n",
       "                        <td id=\"T_c6a91848_7338_11ea_81ba_ccb0dab6b4d6row8_col0\" class=\"data row8 col0\" >0.00553786</td>\n",
       "            </tr>\n",
       "            <tr>\n",
       "                        <th id=\"T_c6a91848_7338_11ea_81ba_ccb0dab6b4d6level0_row9\" class=\"row_heading level0 row9\" >provincia</th>\n",
       "                        <td id=\"T_c6a91848_7338_11ea_81ba_ccb0dab6b4d6row9_col0\" class=\"data row9 col0\" >0.00456276</td>\n",
       "            </tr>\n",
       "            <tr>\n",
       "                        <th id=\"T_c6a91848_7338_11ea_81ba_ccb0dab6b4d6level0_row10\" class=\"row_heading level0 row10\" >num_llamad_ent</th>\n",
       "                        <td id=\"T_c6a91848_7338_11ea_81ba_ccb0dab6b4d6row10_col0\" class=\"data row10 col0\" >0.00388856</td>\n",
       "            </tr>\n",
       "            <tr>\n",
       "                        <th id=\"T_c6a91848_7338_11ea_81ba_ccb0dab6b4d6level0_row11\" class=\"row_heading level0 row11\" >con_paquete_TV_total</th>\n",
       "                        <td id=\"T_c6a91848_7338_11ea_81ba_ccb0dab6b4d6row11_col0\" class=\"data row11 col0\" >0.00327929</td>\n",
       "            </tr>\n",
       "            <tr>\n",
       "                        <th id=\"T_c6a91848_7338_11ea_81ba_ccb0dab6b4d6level0_row12\" class=\"row_heading level0 row12\" >mes_antiguedad</th>\n",
       "                        <td id=\"T_c6a91848_7338_11ea_81ba_ccb0dab6b4d6row12_col0\" class=\"data row12 col0\" >0.00280278</td>\n",
       "            </tr>\n",
       "            <tr>\n",
       "                        <th id=\"T_c6a91848_7338_11ea_81ba_ccb0dab6b4d6level0_row13\" class=\"row_heading level0 row13\" >num_llamad_sal</th>\n",
       "                        <td id=\"T_c6a91848_7338_11ea_81ba_ccb0dab6b4d6row13_col0\" class=\"data row13 col0\" >0.0027383</td>\n",
       "            </tr>\n",
       "            <tr>\n",
       "                        <th id=\"T_c6a91848_7338_11ea_81ba_ccb0dab6b4d6level0_row14\" class=\"row_heading level0 row14\" >año_antiguedad</th>\n",
       "                        <td id=\"T_c6a91848_7338_11ea_81ba_ccb0dab6b4d6row14_col0\" class=\"data row14 col0\" >0.00231123</td>\n",
       "            </tr>\n",
       "            <tr>\n",
       "                        <th id=\"T_c6a91848_7338_11ea_81ba_ccb0dab6b4d6level0_row15\" class=\"row_heading level0 row15\" >edad</th>\n",
       "                        <td id=\"T_c6a91848_7338_11ea_81ba_ccb0dab6b4d6row15_col0\" class=\"data row15 col0\" >0.0021646</td>\n",
       "            </tr>\n",
       "            <tr>\n",
       "                        <th id=\"T_c6a91848_7338_11ea_81ba_ccb0dab6b4d6level0_row16\" class=\"row_heading level0 row16\" >facturacion</th>\n",
       "                        <td id=\"T_c6a91848_7338_11ea_81ba_ccb0dab6b4d6row16_col0\" class=\"data row16 col0\" >0.00207319</td>\n",
       "            </tr>\n",
       "            <tr>\n",
       "                        <th id=\"T_c6a91848_7338_11ea_81ba_ccb0dab6b4d6level0_row17\" class=\"row_heading level0 row17\" >conexion</th>\n",
       "                        <td id=\"T_c6a91848_7338_11ea_81ba_ccb0dab6b4d6row17_col0\" class=\"data row17 col0\" >0.0019339</td>\n",
       "            </tr>\n",
       "            <tr>\n",
       "                        <th id=\"T_c6a91848_7338_11ea_81ba_ccb0dab6b4d6level0_row18\" class=\"row_heading level0 row18\" >TV</th>\n",
       "                        <td id=\"T_c6a91848_7338_11ea_81ba_ccb0dab6b4d6row18_col0\" class=\"data row18 col0\" >0.00188868</td>\n",
       "            </tr>\n",
       "            <tr>\n",
       "                        <th id=\"T_c6a91848_7338_11ea_81ba_ccb0dab6b4d6level0_row19\" class=\"row_heading level0 row19\" >vel_conexion</th>\n",
       "                        <td id=\"T_c6a91848_7338_11ea_81ba_ccb0dab6b4d6row19_col0\" class=\"data row19 col0\" >0.00187414</td>\n",
       "            </tr>\n",
       "            <tr>\n",
       "                        <th id=\"T_c6a91848_7338_11ea_81ba_ccb0dab6b4d6level0_row20\" class=\"row_heading level0 row20\" >adulto</th>\n",
       "                        <td id=\"T_c6a91848_7338_11ea_81ba_ccb0dab6b4d6row20_col0\" class=\"data row20 col0\" >0.00185134</td>\n",
       "            </tr>\n",
       "            <tr>\n",
       "                        <th id=\"T_c6a91848_7338_11ea_81ba_ccb0dab6b4d6level0_row21\" class=\"row_heading level0 row21\" >tiene_linea(s)_contratadas</th>\n",
       "                        <td id=\"T_c6a91848_7338_11ea_81ba_ccb0dab6b4d6row21_col0\" class=\"data row21 col0\" >0.00184508</td>\n",
       "            </tr>\n",
       "            <tr>\n",
       "                        <th id=\"T_c6a91848_7338_11ea_81ba_ccb0dab6b4d6level0_row22\" class=\"row_heading level0 row22\" >num_lineas</th>\n",
       "                        <td id=\"T_c6a91848_7338_11ea_81ba_ccb0dab6b4d6row22_col0\" class=\"data row22 col0\" >0.00117888</td>\n",
       "            </tr>\n",
       "            <tr>\n",
       "                        <th id=\"T_c6a91848_7338_11ea_81ba_ccb0dab6b4d6level0_row23\" class=\"row_heading level0 row23\" >jubilado</th>\n",
       "                        <td id=\"T_c6a91848_7338_11ea_81ba_ccb0dab6b4d6row23_col0\" class=\"data row23 col0\" >0.000615159</td>\n",
       "            </tr>\n",
       "            <tr>\n",
       "                        <th id=\"T_c6a91848_7338_11ea_81ba_ccb0dab6b4d6level0_row24\" class=\"row_heading level0 row24\" >mb_datos</th>\n",
       "                        <td id=\"T_c6a91848_7338_11ea_81ba_ccb0dab6b4d6row24_col0\" class=\"data row24 col0\" >0.000565428</td>\n",
       "            </tr>\n",
       "            <tr>\n",
       "                        <th id=\"T_c6a91848_7338_11ea_81ba_ccb0dab6b4d6level0_row25\" class=\"row_heading level0 row25\" >seg_llamad_ent</th>\n",
       "                        <td id=\"T_c6a91848_7338_11ea_81ba_ccb0dab6b4d6row25_col0\" class=\"data row25 col0\" >0.000383551</td>\n",
       "            </tr>\n",
       "            <tr>\n",
       "                        <th id=\"T_c6a91848_7338_11ea_81ba_ccb0dab6b4d6level0_row26\" class=\"row_heading level0 row26\" >dia_antiguedad</th>\n",
       "                        <td id=\"T_c6a91848_7338_11ea_81ba_ccb0dab6b4d6row26_col0\" class=\"data row26 col0\" >8.71347e-05</td>\n",
       "            </tr>\n",
       "            <tr>\n",
       "                        <th id=\"T_c6a91848_7338_11ea_81ba_ccb0dab6b4d6level0_row27\" class=\"row_heading level0 row27\" >seg_llamad_sal</th>\n",
       "                        <td id=\"T_c6a91848_7338_11ea_81ba_ccb0dab6b4d6row27_col0\" class=\"data row27 col0\" >5.08475e-05</td>\n",
       "            </tr>\n",
       "    </tbody></table>"
      ],
      "text/plain": [
       "<pandas.io.formats.style.Styler at 0x2239f10d448>"
      ]
     },
     "execution_count": 37,
     "metadata": {},
     "output_type": "execute_result"
    }
   ],
   "source": [
    "date_format=full.antiguedad.apply(lambda x: datetime.strptime(x, '%m/%d/%Y %I:%M %p'))\n",
    "others['año_antiguedad']=pd.DatetimeIndex(date_format).year\n",
    "others['mes_antiguedad']=pd.DatetimeIndex(date_format).month\n",
    "others['dia_antiguedad']=pd.DatetimeIndex(date_format).day\n",
    "\n",
    "\n",
    "for col in ['incidencia','financiacion','descuentos']:\n",
    "    others[str(col)]=others[str(col)].map({'SI':1}) \n",
    " \n",
    "data=data.fillna(0) # for the last 5 NA values\n",
    "fill_others=others.fillna(0) \n",
    "data=pd.concat([data, fill_others.reindex(data.index)], axis=1)\n",
    "\n",
    "corr = abs(data.corr()) #since we have included a new var\n",
    "corr[['¿Abandona?']].sort_values(by = '¿Abandona?',ascending = False).style.background_gradient() "
   ]
  },
  {
   "cell_type": "markdown",
   "metadata": {},
   "source": [
    "### Las variables añadidas son significativas.\n",
    "### Visualizo el número de valores únicos de las nuevas variables. Si tiene un valor mayor que 2 utilizo la variable proporciones_final() para buscar transformaciones."
   ]
  },
  {
   "cell_type": "code",
   "execution_count": 38,
   "metadata": {},
   "outputs": [
    {
     "data": {
      "text/plain": [
       "num_dt               5\n",
       "incidencia           2\n",
       "financiacion         2\n",
       "imp_financ        6737\n",
       "descuentos           2\n",
       "año_antiguedad      26\n",
       "mes_antiguedad      12\n",
       "dia_antiguedad      31\n",
       "dtype: int64"
      ]
     },
     "execution_count": 38,
     "metadata": {},
     "output_type": "execute_result"
    }
   ],
   "source": [
    "fill_others=fill_others.loc[:,fill_others.columns!='antiguedad']\n",
    "fill_others.apply(lambda x: len(x.unique())) "
   ]
  },
  {
   "cell_type": "code",
   "execution_count": 39,
   "metadata": {},
   "outputs": [
    {
     "data": {
      "text/plain": [
       "num_dt            0\n",
       "incidencia        0\n",
       "financiacion      0\n",
       "imp_financ        0\n",
       "descuentos        0\n",
       "año_antiguedad    0\n",
       "mes_antiguedad    0\n",
       "dia_antiguedad    0\n",
       "dtype: int64"
      ]
     },
     "execution_count": 39,
     "metadata": {},
     "output_type": "execute_result"
    }
   ],
   "source": [
    "fill_others.isnull().sum() "
   ]
  },
  {
   "cell_type": "code",
   "execution_count": null,
   "metadata": {},
   "outputs": [],
   "source": []
  },
  {
   "cell_type": "markdown",
   "metadata": {},
   "source": [
    "### Visualizo 'num_dt', 'imp_financ', 'año_antiguedad', 'mes_antiguedad' y 'dia_antiguedad'"
   ]
  },
  {
   "cell_type": "code",
   "execution_count": null,
   "metadata": {},
   "outputs": [],
   "source": []
  },
  {
   "cell_type": "markdown",
   "metadata": {},
   "source": [
    "## proporciones_final() para 'num_dt'\n",
    "### Creo la variable binaria 'tiene linea(s) en impago': si categoría es mayor que cero le asigno valor '1'"
   ]
  },
  {
   "cell_type": "code",
   "execution_count": 40,
   "metadata": {},
   "outputs": [
    {
     "data": {
      "image/png": "[encoded data removed]",
      "text/plain": [
       "<Figure size 432x288 with 2 Axes>"
      ]
     },
     "metadata": {
      "needs_background": "light"
     },
     "output_type": "display_data"
    }
   ],
   "source": [
    "proporciones_final('num_dt', '¿Abandona?', data)"
   ]
  },
  {
   "cell_type": "code",
   "execution_count": 41,
   "metadata": {},
   "outputs": [],
   "source": [
    "data['tiene linea(s) en impago']=data['num_dt'].apply(lambda x: 1 if x>0 else 0) "
   ]
  },
  {
   "cell_type": "code",
   "execution_count": 42,
   "metadata": {},
   "outputs": [
    {
     "data": {
      "text/plain": [
       "0    175319\n",
       "1     12859\n",
       "Name: tiene linea(s) en impago, dtype: int64"
      ]
     },
     "execution_count": 42,
     "metadata": {},
     "output_type": "execute_result"
    }
   ],
   "source": [
    "data['tiene linea(s) en impago'].value_counts() "
   ]
  },
  {
   "cell_type": "code",
   "execution_count": null,
   "metadata": {},
   "outputs": [],
   "source": []
  },
  {
   "cell_type": "markdown",
   "metadata": {},
   "source": [
    "## Estudio la variable 'imp_financ'"
   ]
  },
  {
   "cell_type": "code",
   "execution_count": 43,
   "metadata": {},
   "outputs": [
    {
     "name": "stdout",
     "output_type": "stream",
     "text": [
      "count    188178.000000\n",
      "mean          1.543039\n",
      "std           6.256868\n",
      "min           0.000000\n",
      "25%           0.000000\n",
      "50%           0.000000\n",
      "75%           0.000000\n",
      "max          39.991954\n",
      "Name: imp_financ, dtype: float64\n"
     ]
    },
    {
     "data": {
      "text/plain": [
       "0.000000     175140\n",
       "5.828388          2\n",
       "27.645342         2\n",
       "30.768017         2\n",
       "38.707231         2\n",
       "              ...  \n",
       "35.376380         1\n",
       "20.289651         1\n",
       "38.413568         1\n",
       "29.944703         1\n",
       "37.559554         1\n",
       "Name: imp_financ, Length: 6737, dtype: int64"
      ]
     },
     "execution_count": 43,
     "metadata": {},
     "output_type": "execute_result"
    }
   ],
   "source": [
    "print(fill_others.imp_financ.describe())\n",
    "fill_others.imp_financ.value_counts() "
   ]
  },
  {
   "cell_type": "markdown",
   "metadata": {},
   "source": [
    "###### convierto la variable 'imp_financ' directamente a binaria porque la inmensa mayoría de sus valores son cero"
   ]
  },
  {
   "cell_type": "code",
   "execution_count": 44,
   "metadata": {},
   "outputs": [
    {
     "data": {
      "text/plain": [
       "0    175600\n",
       "1     12578\n",
       "Name: paga importe por los terminales financiados, dtype: int64"
      ]
     },
     "execution_count": 44,
     "metadata": {},
     "output_type": "execute_result"
    }
   ],
   "source": [
    "data['paga importe por los terminales financiados']=data['imp_financ'].apply(lambda x: 0 if x==0 else 1) \n",
    "data['paga importe por los terminales financiados'].value_counts() "
   ]
  },
  {
   "cell_type": "markdown",
   "metadata": {},
   "source": [
    "###### Visualizo las variables de año, mes y dia creando 11 'bins'.\n",
    "\n",
    "Se puede inferir que la relación de las bins con la variable objetivo es bastante aleatoria.\n",
    "\n",
    "Por tanto, no creo nuevas variables."
   ]
  },
  {
   "cell_type": "code",
   "execution_count": 45,
   "metadata": {},
   "outputs": [
    {
     "data": {
      "image/png": "[encoded data removed]",
      "text/plain": [
       "<Figure size 432x288 with 2 Axes>"
      ]
     },
     "metadata": {
      "needs_background": "light"
     },
     "output_type": "display_data"
    },
    {
     "data": {
      "image/png": "[encoded data removed]",
      "text/plain": [
       "<Figure size 432x288 with 2 Axes>"
      ]
     },
     "metadata": {
      "needs_background": "light"
     },
     "output_type": "display_data"
    },
    {
     "data": {
      "image/png": "[encoded data removed]",
      "text/plain": [
       "<Figure size 432x288 with 2 Axes>"
      ]
     },
     "metadata": {
      "needs_background": "light"
     },
     "output_type": "display_data"
    }
   ],
   "source": [
    "to_plot=fill_others.loc[:,['año_antiguedad', 'mes_antiguedad', 'dia_antiguedad']] \n",
    "target=data['¿Abandona?']\n",
    "to_plot=pd.concat([target, to_plot.reindex(target.index)], axis=1)\n",
    "to_plot\n",
    "visualizar_variables_numericas_binarizadas(to_plot, 11)"
   ]
  },
  {
   "cell_type": "code",
   "execution_count": 46,
   "metadata": {},
   "outputs": [
    {
     "data": {
      "text/html": [
       "<style  type=\"text/css\" >\n",
       "    #T_ce1a5b76_7338_11ea_ab7a_ccb0dab6b4d6row0_col0 {\n",
       "            background-color:  #023858;\n",
       "            color:  #f1f1f1;\n",
       "        }    #T_ce1a5b76_7338_11ea_ab7a_ccb0dab6b4d6row1_col0 {\n",
       "            background-color:  #9fbad9;\n",
       "            color:  #000000;\n",
       "        }    #T_ce1a5b76_7338_11ea_ab7a_ccb0dab6b4d6row2_col0 {\n",
       "            background-color:  #adc1dd;\n",
       "            color:  #000000;\n",
       "        }    #T_ce1a5b76_7338_11ea_ab7a_ccb0dab6b4d6row3_col0 {\n",
       "            background-color:  #adc1dd;\n",
       "            color:  #000000;\n",
       "        }    #T_ce1a5b76_7338_11ea_ab7a_ccb0dab6b4d6row4_col0 {\n",
       "            background-color:  #afc1dd;\n",
       "            color:  #000000;\n",
       "        }    #T_ce1a5b76_7338_11ea_ab7a_ccb0dab6b4d6row5_col0 {\n",
       "            background-color:  #e4e1ef;\n",
       "            color:  #000000;\n",
       "        }    #T_ce1a5b76_7338_11ea_ab7a_ccb0dab6b4d6row6_col0 {\n",
       "            background-color:  #f0eaf4;\n",
       "            color:  #000000;\n",
       "        }    #T_ce1a5b76_7338_11ea_ab7a_ccb0dab6b4d6row7_col0 {\n",
       "            background-color:  #f7f0f7;\n",
       "            color:  #000000;\n",
       "        }    #T_ce1a5b76_7338_11ea_ab7a_ccb0dab6b4d6row8_col0 {\n",
       "            background-color:  #f7f0f7;\n",
       "            color:  #000000;\n",
       "        }    #T_ce1a5b76_7338_11ea_ab7a_ccb0dab6b4d6row9_col0 {\n",
       "            background-color:  #f8f1f8;\n",
       "            color:  #000000;\n",
       "        }    #T_ce1a5b76_7338_11ea_ab7a_ccb0dab6b4d6row10_col0 {\n",
       "            background-color:  #fef6fb;\n",
       "            color:  #000000;\n",
       "        }    #T_ce1a5b76_7338_11ea_ab7a_ccb0dab6b4d6row11_col0 {\n",
       "            background-color:  #fef6fb;\n",
       "            color:  #000000;\n",
       "        }    #T_ce1a5b76_7338_11ea_ab7a_ccb0dab6b4d6row12_col0 {\n",
       "            background-color:  #fff7fb;\n",
       "            color:  #000000;\n",
       "        }    #T_ce1a5b76_7338_11ea_ab7a_ccb0dab6b4d6row13_col0 {\n",
       "            background-color:  #fff7fb;\n",
       "            color:  #000000;\n",
       "        }    #T_ce1a5b76_7338_11ea_ab7a_ccb0dab6b4d6row14_col0 {\n",
       "            background-color:  #fff7fb;\n",
       "            color:  #000000;\n",
       "        }    #T_ce1a5b76_7338_11ea_ab7a_ccb0dab6b4d6row15_col0 {\n",
       "            background-color:  #fff7fb;\n",
       "            color:  #000000;\n",
       "        }    #T_ce1a5b76_7338_11ea_ab7a_ccb0dab6b4d6row16_col0 {\n",
       "            background-color:  #fff7fb;\n",
       "            color:  #000000;\n",
       "        }    #T_ce1a5b76_7338_11ea_ab7a_ccb0dab6b4d6row17_col0 {\n",
       "            background-color:  #fff7fb;\n",
       "            color:  #000000;\n",
       "        }    #T_ce1a5b76_7338_11ea_ab7a_ccb0dab6b4d6row18_col0 {\n",
       "            background-color:  #fff7fb;\n",
       "            color:  #000000;\n",
       "        }    #T_ce1a5b76_7338_11ea_ab7a_ccb0dab6b4d6row19_col0 {\n",
       "            background-color:  #fff7fb;\n",
       "            color:  #000000;\n",
       "        }    #T_ce1a5b76_7338_11ea_ab7a_ccb0dab6b4d6row20_col0 {\n",
       "            background-color:  #fff7fb;\n",
       "            color:  #000000;\n",
       "        }    #T_ce1a5b76_7338_11ea_ab7a_ccb0dab6b4d6row21_col0 {\n",
       "            background-color:  #fff7fb;\n",
       "            color:  #000000;\n",
       "        }    #T_ce1a5b76_7338_11ea_ab7a_ccb0dab6b4d6row22_col0 {\n",
       "            background-color:  #fff7fb;\n",
       "            color:  #000000;\n",
       "        }    #T_ce1a5b76_7338_11ea_ab7a_ccb0dab6b4d6row23_col0 {\n",
       "            background-color:  #fff7fb;\n",
       "            color:  #000000;\n",
       "        }    #T_ce1a5b76_7338_11ea_ab7a_ccb0dab6b4d6row24_col0 {\n",
       "            background-color:  #fff7fb;\n",
       "            color:  #000000;\n",
       "        }    #T_ce1a5b76_7338_11ea_ab7a_ccb0dab6b4d6row25_col0 {\n",
       "            background-color:  #fff7fb;\n",
       "            color:  #000000;\n",
       "        }    #T_ce1a5b76_7338_11ea_ab7a_ccb0dab6b4d6row26_col0 {\n",
       "            background-color:  #fff7fb;\n",
       "            color:  #000000;\n",
       "        }    #T_ce1a5b76_7338_11ea_ab7a_ccb0dab6b4d6row27_col0 {\n",
       "            background-color:  #fff7fb;\n",
       "            color:  #000000;\n",
       "        }    #T_ce1a5b76_7338_11ea_ab7a_ccb0dab6b4d6row28_col0 {\n",
       "            background-color:  #fff7fb;\n",
       "            color:  #000000;\n",
       "        }    #T_ce1a5b76_7338_11ea_ab7a_ccb0dab6b4d6row29_col0 {\n",
       "            background-color:  #fff7fb;\n",
       "            color:  #000000;\n",
       "        }</style><table id=\"T_ce1a5b76_7338_11ea_ab7a_ccb0dab6b4d6\" ><thead>    <tr>        <th class=\"blank level0\" ></th>        <th class=\"col_heading level0 col0\" >¿Abandona?</th>    </tr></thead><tbody>\n",
       "                <tr>\n",
       "                        <th id=\"T_ce1a5b76_7338_11ea_ab7a_ccb0dab6b4d6level0_row0\" class=\"row_heading level0 row0\" >¿Abandona?</th>\n",
       "                        <td id=\"T_ce1a5b76_7338_11ea_ab7a_ccb0dab6b4d6row0_col0\" class=\"data row0 col0\" >1</td>\n",
       "            </tr>\n",
       "            <tr>\n",
       "                        <th id=\"T_ce1a5b76_7338_11ea_ab7a_ccb0dab6b4d6level0_row1\" class=\"row_heading level0 row1\" >tiene linea(s) en impago</th>\n",
       "                        <td id=\"T_ce1a5b76_7338_11ea_ab7a_ccb0dab6b4d6row1_col0\" class=\"data row1 col0\" >0.391333</td>\n",
       "            </tr>\n",
       "            <tr>\n",
       "                        <th id=\"T_ce1a5b76_7338_11ea_ab7a_ccb0dab6b4d6level0_row2\" class=\"row_heading level0 row2\" >num_dt</th>\n",
       "                        <td id=\"T_ce1a5b76_7338_11ea_ab7a_ccb0dab6b4d6row2_col0\" class=\"data row2 col0\" >0.352727</td>\n",
       "            </tr>\n",
       "            <tr>\n",
       "                        <th id=\"T_ce1a5b76_7338_11ea_ab7a_ccb0dab6b4d6level0_row3\" class=\"row_heading level0 row3\" >con_4_NAs_en_fila</th>\n",
       "                        <td id=\"T_ce1a5b76_7338_11ea_ab7a_ccb0dab6b4d6row3_col0\" class=\"data row3 col0\" >0.352215</td>\n",
       "            </tr>\n",
       "            <tr>\n",
       "                        <th id=\"T_ce1a5b76_7338_11ea_ab7a_ccb0dab6b4d6level0_row4\" class=\"row_heading level0 row4\" >incidencia</th>\n",
       "                        <td id=\"T_ce1a5b76_7338_11ea_ab7a_ccb0dab6b4d6row4_col0\" class=\"data row4 col0\" >0.350084</td>\n",
       "            </tr>\n",
       "            <tr>\n",
       "                        <th id=\"T_ce1a5b76_7338_11ea_ab7a_ccb0dab6b4d6level0_row5\" class=\"row_heading level0 row5\" >number of NAs</th>\n",
       "                        <td id=\"T_ce1a5b76_7338_11ea_ab7a_ccb0dab6b4d6row5_col0\" class=\"data row5 col0\" >0.161539</td>\n",
       "            </tr>\n",
       "            <tr>\n",
       "                        <th id=\"T_ce1a5b76_7338_11ea_ab7a_ccb0dab6b4d6level0_row6\" class=\"row_heading level0 row6\" >descuentos</th>\n",
       "                        <td id=\"T_ce1a5b76_7338_11ea_ab7a_ccb0dab6b4d6row6_col0\" class=\"data row6 col0\" >0.0987662</td>\n",
       "            </tr>\n",
       "            <tr>\n",
       "                        <th id=\"T_ce1a5b76_7338_11ea_ab7a_ccb0dab6b4d6level0_row7\" class=\"row_heading level0 row7\" >paga importe por los terminales financiados</th>\n",
       "                        <td id=\"T_ce1a5b76_7338_11ea_ab7a_ccb0dab6b4d6row7_col0\" class=\"data row7 col0\" >0.0521549</td>\n",
       "            </tr>\n",
       "            <tr>\n",
       "                        <th id=\"T_ce1a5b76_7338_11ea_ab7a_ccb0dab6b4d6level0_row8\" class=\"row_heading level0 row8\" >financiacion</th>\n",
       "                        <td id=\"T_ce1a5b76_7338_11ea_ab7a_ccb0dab6b4d6row8_col0\" class=\"data row8 col0\" >0.0521549</td>\n",
       "            </tr>\n",
       "            <tr>\n",
       "                        <th id=\"T_ce1a5b76_7338_11ea_ab7a_ccb0dab6b4d6level0_row9\" class=\"row_heading level0 row9\" >imp_financ</th>\n",
       "                        <td id=\"T_ce1a5b76_7338_11ea_ab7a_ccb0dab6b4d6row9_col0\" class=\"data row9 col0\" >0.0472917</td>\n",
       "            </tr>\n",
       "            <tr>\n",
       "                        <th id=\"T_ce1a5b76_7338_11ea_ab7a_ccb0dab6b4d6level0_row10\" class=\"row_heading level0 row10\" >antiguedad</th>\n",
       "                        <td id=\"T_ce1a5b76_7338_11ea_ab7a_ccb0dab6b4d6row10_col0\" class=\"data row10 col0\" >0.00553786</td>\n",
       "            </tr>\n",
       "            <tr>\n",
       "                        <th id=\"T_ce1a5b76_7338_11ea_ab7a_ccb0dab6b4d6level0_row11\" class=\"row_heading level0 row11\" >provincia</th>\n",
       "                        <td id=\"T_ce1a5b76_7338_11ea_ab7a_ccb0dab6b4d6row11_col0\" class=\"data row11 col0\" >0.00456276</td>\n",
       "            </tr>\n",
       "            <tr>\n",
       "                        <th id=\"T_ce1a5b76_7338_11ea_ab7a_ccb0dab6b4d6level0_row12\" class=\"row_heading level0 row12\" >num_llamad_ent</th>\n",
       "                        <td id=\"T_ce1a5b76_7338_11ea_ab7a_ccb0dab6b4d6row12_col0\" class=\"data row12 col0\" >0.00388856</td>\n",
       "            </tr>\n",
       "            <tr>\n",
       "                        <th id=\"T_ce1a5b76_7338_11ea_ab7a_ccb0dab6b4d6level0_row13\" class=\"row_heading level0 row13\" >con_paquete_TV_total</th>\n",
       "                        <td id=\"T_ce1a5b76_7338_11ea_ab7a_ccb0dab6b4d6row13_col0\" class=\"data row13 col0\" >0.00327929</td>\n",
       "            </tr>\n",
       "            <tr>\n",
       "                        <th id=\"T_ce1a5b76_7338_11ea_ab7a_ccb0dab6b4d6level0_row14\" class=\"row_heading level0 row14\" >mes_antiguedad</th>\n",
       "                        <td id=\"T_ce1a5b76_7338_11ea_ab7a_ccb0dab6b4d6row14_col0\" class=\"data row14 col0\" >0.00280278</td>\n",
       "            </tr>\n",
       "            <tr>\n",
       "                        <th id=\"T_ce1a5b76_7338_11ea_ab7a_ccb0dab6b4d6level0_row15\" class=\"row_heading level0 row15\" >num_llamad_sal</th>\n",
       "                        <td id=\"T_ce1a5b76_7338_11ea_ab7a_ccb0dab6b4d6row15_col0\" class=\"data row15 col0\" >0.0027383</td>\n",
       "            </tr>\n",
       "            <tr>\n",
       "                        <th id=\"T_ce1a5b76_7338_11ea_ab7a_ccb0dab6b4d6level0_row16\" class=\"row_heading level0 row16\" >año_antiguedad</th>\n",
       "                        <td id=\"T_ce1a5b76_7338_11ea_ab7a_ccb0dab6b4d6row16_col0\" class=\"data row16 col0\" >0.00231123</td>\n",
       "            </tr>\n",
       "            <tr>\n",
       "                        <th id=\"T_ce1a5b76_7338_11ea_ab7a_ccb0dab6b4d6level0_row17\" class=\"row_heading level0 row17\" >edad</th>\n",
       "                        <td id=\"T_ce1a5b76_7338_11ea_ab7a_ccb0dab6b4d6row17_col0\" class=\"data row17 col0\" >0.0021646</td>\n",
       "            </tr>\n",
       "            <tr>\n",
       "                        <th id=\"T_ce1a5b76_7338_11ea_ab7a_ccb0dab6b4d6level0_row18\" class=\"row_heading level0 row18\" >facturacion</th>\n",
       "                        <td id=\"T_ce1a5b76_7338_11ea_ab7a_ccb0dab6b4d6row18_col0\" class=\"data row18 col0\" >0.00207319</td>\n",
       "            </tr>\n",
       "            <tr>\n",
       "                        <th id=\"T_ce1a5b76_7338_11ea_ab7a_ccb0dab6b4d6level0_row19\" class=\"row_heading level0 row19\" >conexion</th>\n",
       "                        <td id=\"T_ce1a5b76_7338_11ea_ab7a_ccb0dab6b4d6row19_col0\" class=\"data row19 col0\" >0.0019339</td>\n",
       "            </tr>\n",
       "            <tr>\n",
       "                        <th id=\"T_ce1a5b76_7338_11ea_ab7a_ccb0dab6b4d6level0_row20\" class=\"row_heading level0 row20\" >TV</th>\n",
       "                        <td id=\"T_ce1a5b76_7338_11ea_ab7a_ccb0dab6b4d6row20_col0\" class=\"data row20 col0\" >0.00188868</td>\n",
       "            </tr>\n",
       "            <tr>\n",
       "                        <th id=\"T_ce1a5b76_7338_11ea_ab7a_ccb0dab6b4d6level0_row21\" class=\"row_heading level0 row21\" >vel_conexion</th>\n",
       "                        <td id=\"T_ce1a5b76_7338_11ea_ab7a_ccb0dab6b4d6row21_col0\" class=\"data row21 col0\" >0.00187414</td>\n",
       "            </tr>\n",
       "            <tr>\n",
       "                        <th id=\"T_ce1a5b76_7338_11ea_ab7a_ccb0dab6b4d6level0_row22\" class=\"row_heading level0 row22\" >adulto</th>\n",
       "                        <td id=\"T_ce1a5b76_7338_11ea_ab7a_ccb0dab6b4d6row22_col0\" class=\"data row22 col0\" >0.00185134</td>\n",
       "            </tr>\n",
       "            <tr>\n",
       "                        <th id=\"T_ce1a5b76_7338_11ea_ab7a_ccb0dab6b4d6level0_row23\" class=\"row_heading level0 row23\" >tiene_linea(s)_contratadas</th>\n",
       "                        <td id=\"T_ce1a5b76_7338_11ea_ab7a_ccb0dab6b4d6row23_col0\" class=\"data row23 col0\" >0.00184508</td>\n",
       "            </tr>\n",
       "            <tr>\n",
       "                        <th id=\"T_ce1a5b76_7338_11ea_ab7a_ccb0dab6b4d6level0_row24\" class=\"row_heading level0 row24\" >num_lineas</th>\n",
       "                        <td id=\"T_ce1a5b76_7338_11ea_ab7a_ccb0dab6b4d6row24_col0\" class=\"data row24 col0\" >0.00117888</td>\n",
       "            </tr>\n",
       "            <tr>\n",
       "                        <th id=\"T_ce1a5b76_7338_11ea_ab7a_ccb0dab6b4d6level0_row25\" class=\"row_heading level0 row25\" >jubilado</th>\n",
       "                        <td id=\"T_ce1a5b76_7338_11ea_ab7a_ccb0dab6b4d6row25_col0\" class=\"data row25 col0\" >0.000615159</td>\n",
       "            </tr>\n",
       "            <tr>\n",
       "                        <th id=\"T_ce1a5b76_7338_11ea_ab7a_ccb0dab6b4d6level0_row26\" class=\"row_heading level0 row26\" >mb_datos</th>\n",
       "                        <td id=\"T_ce1a5b76_7338_11ea_ab7a_ccb0dab6b4d6row26_col0\" class=\"data row26 col0\" >0.000565428</td>\n",
       "            </tr>\n",
       "            <tr>\n",
       "                        <th id=\"T_ce1a5b76_7338_11ea_ab7a_ccb0dab6b4d6level0_row27\" class=\"row_heading level0 row27\" >seg_llamad_ent</th>\n",
       "                        <td id=\"T_ce1a5b76_7338_11ea_ab7a_ccb0dab6b4d6row27_col0\" class=\"data row27 col0\" >0.000383551</td>\n",
       "            </tr>\n",
       "            <tr>\n",
       "                        <th id=\"T_ce1a5b76_7338_11ea_ab7a_ccb0dab6b4d6level0_row28\" class=\"row_heading level0 row28\" >dia_antiguedad</th>\n",
       "                        <td id=\"T_ce1a5b76_7338_11ea_ab7a_ccb0dab6b4d6row28_col0\" class=\"data row28 col0\" >8.71347e-05</td>\n",
       "            </tr>\n",
       "            <tr>\n",
       "                        <th id=\"T_ce1a5b76_7338_11ea_ab7a_ccb0dab6b4d6level0_row29\" class=\"row_heading level0 row29\" >seg_llamad_sal</th>\n",
       "                        <td id=\"T_ce1a5b76_7338_11ea_ab7a_ccb0dab6b4d6row29_col0\" class=\"data row29 col0\" >5.08475e-05</td>\n",
       "            </tr>\n",
       "    </tbody></table>"
      ],
      "text/plain": [
       "<pandas.io.formats.style.Styler at 0x2239facc5c8>"
      ]
     },
     "execution_count": 46,
     "metadata": {},
     "output_type": "execute_result"
    }
   ],
   "source": [
    "corr = abs(data.corr()) \n",
    "corr[['¿Abandona?']].sort_values(by = '¿Abandona?',ascending = False).style.background_gradient() "
   ]
  },
  {
   "cell_type": "code",
   "execution_count": null,
   "metadata": {},
   "outputs": [],
   "source": []
  },
  {
   "cell_type": "markdown",
   "metadata": {},
   "source": [
    "#### La parte de feature engineering queda acabada.\n",
    "#### Ahora comienzo la selección de variables.\n",
    "Pero antes, reviso que no hay valores NAs"
   ]
  },
  {
   "cell_type": "code",
   "execution_count": 47,
   "metadata": {},
   "outputs": [
    {
     "data": {
      "text/plain": [
       "edad                                           0\n",
       "facturacion                                    0\n",
       "antiguedad                                     0\n",
       "provincia                                      0\n",
       "num_lineas                                     0\n",
       "num_llamad_ent                                 0\n",
       "num_llamad_sal                                 0\n",
       "mb_datos                                       0\n",
       "seg_llamad_ent                                 0\n",
       "seg_llamad_sal                                 0\n",
       "conexion                                       0\n",
       "vel_conexion                                   0\n",
       "TV                                             0\n",
       "Mes del dataset                                0\n",
       "¿Abandona?                                     0\n",
       "number of NAs                                  0\n",
       "tiene_linea(s)_contratadas                     0\n",
       "con_paquete_TV_total                           0\n",
       "con_4_NAs_en_fila                              0\n",
       "adulto                                         0\n",
       "jubilado                                       0\n",
       "num_dt                                         0\n",
       "incidencia                                     0\n",
       "financiacion                                   0\n",
       "imp_financ                                     0\n",
       "descuentos                                     0\n",
       "año_antiguedad                                 0\n",
       "mes_antiguedad                                 0\n",
       "dia_antiguedad                                 0\n",
       "tiene linea(s) en impago                       0\n",
       "paga importe por los terminales financiados    0\n",
       "dtype: int64"
      ]
     },
     "execution_count": 47,
     "metadata": {},
     "output_type": "execute_result"
    }
   ],
   "source": [
    "data.isnull().sum() "
   ]
  },
  {
   "cell_type": "code",
   "execution_count": null,
   "metadata": {},
   "outputs": [],
   "source": []
  },
  {
   "cell_type": "markdown",
   "metadata": {},
   "source": [
    "# Uso el método VIF para detectar multicolinearidad"
   ]
  },
  {
   "cell_type": "code",
   "execution_count": 49,
   "metadata": {},
   "outputs": [
    {
     "name": "stderr",
     "output_type": "stream",
     "text": [
      "C:\\Users\\pablo\\Anaconda3\\lib\\site-packages\\ipykernel_launcher.py:22: RuntimeWarning: divide by zero encountered in double_scalars\n",
      "C:\\Users\\pablo\\Anaconda3\\lib\\site-packages\\ipykernel_launcher.py:22: RuntimeWarning: divide by zero encountered in double_scalars\n",
      "C:\\Users\\pablo\\Anaconda3\\lib\\site-packages\\ipykernel_launcher.py:32: FutureWarning: Method .as_matrix will be removed in a future version. Use .values instead.\n",
      "C:\\Users\\pablo\\Anaconda3\\lib\\site-packages\\ipykernel_launcher.py:33: FutureWarning: Method .as_matrix will be removed in a future version. Use .values instead.\n",
      "C:\\Users\\pablo\\Anaconda3\\lib\\site-packages\\ipykernel_launcher.py:32: FutureWarning: Method .as_matrix will be removed in a future version. Use .values instead.\n",
      "C:\\Users\\pablo\\Anaconda3\\lib\\site-packages\\ipykernel_launcher.py:33: FutureWarning: Method .as_matrix will be removed in a future version. Use .values instead.\n",
      "C:\\Users\\pablo\\Anaconda3\\lib\\site-packages\\ipykernel_launcher.py:32: FutureWarning: Method .as_matrix will be removed in a future version. Use .values instead.\n",
      "C:\\Users\\pablo\\Anaconda3\\lib\\site-packages\\ipykernel_launcher.py:33: FutureWarning: Method .as_matrix will be removed in a future version. Use .values instead.\n",
      "C:\\Users\\pablo\\Anaconda3\\lib\\site-packages\\ipykernel_launcher.py:32: FutureWarning: Method .as_matrix will be removed in a future version. Use .values instead.\n",
      "C:\\Users\\pablo\\Anaconda3\\lib\\site-packages\\ipykernel_launcher.py:33: FutureWarning: Method .as_matrix will be removed in a future version. Use .values instead.\n",
      "C:\\Users\\pablo\\Anaconda3\\lib\\site-packages\\ipykernel_launcher.py:32: FutureWarning: Method .as_matrix will be removed in a future version. Use .values instead.\n"
     ]
    }
   ],
   "source": [
    "from sklearn.linear_model import LinearRegression\n",
    "\n",
    "def calculateVIF(data):\n",
    "    features = list(data.columns)\n",
    "    num_features = len(features)\n",
    "    \n",
    "    model = LinearRegression()\n",
    "    \n",
    "    result = pd.DataFrame(index = ['VIF'], columns = features)\n",
    "    result = result.fillna(0)\n",
    "    \n",
    "    for ite in range(num_features):\n",
    "        x_features = features[:]\n",
    "        y_featue = features[ite]\n",
    "        x_features.remove(y_featue)\n",
    "        \n",
    "        x = data[x_features]\n",
    "        y = data[y_featue]\n",
    "        \n",
    "        model.fit(data[x_features], data[y_featue])\n",
    "        \n",
    "        result[y_featue] = 1/(1 - model.score(data[x_features], data[y_featue]))\n",
    "    \n",
    "    return result\n",
    "\n",
    "\n",
    "def selectDataUsingVIF(data, max_VIF = 5):\n",
    "    result = data.copy(deep = True)\n",
    "    \n",
    "    VIF = calculateVIF(result)\n",
    "    \n",
    "    while VIF.as_matrix().max() > max_VIF:\n",
    "        col_max = np.where(VIF == VIF.as_matrix().max())[1][0]\n",
    "        features = list(result.columns)\n",
    "        features.remove(features[col_max])\n",
    "        result = result[features]\n",
    "        \n",
    "        VIF = calculateVIF(result)\n",
    "        \n",
    "    return result\n",
    "\n",
    "\n",
    "\n",
    "colli=list(selectDataUsingVIF(data.loc[:,list(pd.DataFrame(data.columns).apply(lambda x: x[0] not in ['¿Abandona?','Mes del dataset'], axis=1))]).columns) \n",
    "colli.extend(['Mes del dataset','¿Abandona?'])"
   ]
  },
  {
   "cell_type": "markdown",
   "metadata": {},
   "source": [
    "#### Examino que variables fueron eliminadas por VIF"
   ]
  },
  {
   "cell_type": "code",
   "execution_count": 50,
   "metadata": {},
   "outputs": [
    {
     "data": {
      "text/plain": [
       "['jubilado',\n",
       " 'financiacion',\n",
       " 'tiene linea(s) en impago',\n",
       " 'paga importe por los terminales financiados']"
      ]
     },
     "execution_count": 50,
     "metadata": {},
     "output_type": "execute_result"
    }
   ],
   "source": [
    "columns=pd.DataFrame({'col1':data.columns}) \n",
    "mask=list(data.columns[columns.isin(colli).col1]) \n",
    "\n",
    "vars_removed_by_VIF=list(data.columns[columns.apply(lambda x: x[0] not in mask, axis=1)]) \n",
    "vars_removed_by_VIF"
   ]
  },
  {
   "cell_type": "code",
   "execution_count": 51,
   "metadata": {},
   "outputs": [
    {
     "data": {
      "text/html": [
       "<div>\n",
       "<style scoped>\n",
       "    .dataframe tbody tr th:only-of-type {\n",
       "        vertical-align: middle;\n",
       "    }\n",
       "\n",
       "    .dataframe tbody tr th {\n",
       "        vertical-align: top;\n",
       "    }\n",
       "\n",
       "    .dataframe thead th {\n",
       "        text-align: right;\n",
       "    }\n",
       "</style>\n",
       "<table border=\"1\" class=\"dataframe\">\n",
       "  <thead>\n",
       "    <tr style=\"text-align: right;\">\n",
       "      <th></th>\n",
       "      <th>jubilado</th>\n",
       "      <th>financiacion</th>\n",
       "      <th>tiene linea(s) en impago</th>\n",
       "      <th>paga importe por los terminales financiados</th>\n",
       "    </tr>\n",
       "  </thead>\n",
       "  <tbody>\n",
       "    <tr>\n",
       "      <th>edad</th>\n",
       "      <td>0.834356</td>\n",
       "      <td>NaN</td>\n",
       "      <td>NaN</td>\n",
       "      <td>NaN</td>\n",
       "    </tr>\n",
       "    <tr>\n",
       "      <th>facturacion</th>\n",
       "      <td>NaN</td>\n",
       "      <td>NaN</td>\n",
       "      <td>NaN</td>\n",
       "      <td>NaN</td>\n",
       "    </tr>\n",
       "    <tr>\n",
       "      <th>antiguedad</th>\n",
       "      <td>NaN</td>\n",
       "      <td>NaN</td>\n",
       "      <td>NaN</td>\n",
       "      <td>NaN</td>\n",
       "    </tr>\n",
       "    <tr>\n",
       "      <th>provincia</th>\n",
       "      <td>NaN</td>\n",
       "      <td>NaN</td>\n",
       "      <td>NaN</td>\n",
       "      <td>NaN</td>\n",
       "    </tr>\n",
       "    <tr>\n",
       "      <th>num_lineas</th>\n",
       "      <td>NaN</td>\n",
       "      <td>NaN</td>\n",
       "      <td>NaN</td>\n",
       "      <td>NaN</td>\n",
       "    </tr>\n",
       "    <tr>\n",
       "      <th>num_llamad_ent</th>\n",
       "      <td>NaN</td>\n",
       "      <td>NaN</td>\n",
       "      <td>NaN</td>\n",
       "      <td>NaN</td>\n",
       "    </tr>\n",
       "    <tr>\n",
       "      <th>num_llamad_sal</th>\n",
       "      <td>NaN</td>\n",
       "      <td>NaN</td>\n",
       "      <td>NaN</td>\n",
       "      <td>NaN</td>\n",
       "    </tr>\n",
       "    <tr>\n",
       "      <th>mb_datos</th>\n",
       "      <td>NaN</td>\n",
       "      <td>NaN</td>\n",
       "      <td>NaN</td>\n",
       "      <td>NaN</td>\n",
       "    </tr>\n",
       "    <tr>\n",
       "      <th>seg_llamad_ent</th>\n",
       "      <td>NaN</td>\n",
       "      <td>NaN</td>\n",
       "      <td>NaN</td>\n",
       "      <td>NaN</td>\n",
       "    </tr>\n",
       "    <tr>\n",
       "      <th>seg_llamad_sal</th>\n",
       "      <td>NaN</td>\n",
       "      <td>NaN</td>\n",
       "      <td>NaN</td>\n",
       "      <td>NaN</td>\n",
       "    </tr>\n",
       "    <tr>\n",
       "      <th>conexion</th>\n",
       "      <td>NaN</td>\n",
       "      <td>NaN</td>\n",
       "      <td>NaN</td>\n",
       "      <td>NaN</td>\n",
       "    </tr>\n",
       "    <tr>\n",
       "      <th>vel_conexion</th>\n",
       "      <td>NaN</td>\n",
       "      <td>NaN</td>\n",
       "      <td>NaN</td>\n",
       "      <td>NaN</td>\n",
       "    </tr>\n",
       "    <tr>\n",
       "      <th>TV</th>\n",
       "      <td>NaN</td>\n",
       "      <td>NaN</td>\n",
       "      <td>NaN</td>\n",
       "      <td>NaN</td>\n",
       "    </tr>\n",
       "    <tr>\n",
       "      <th>¿Abandona?</th>\n",
       "      <td>NaN</td>\n",
       "      <td>NaN</td>\n",
       "      <td>NaN</td>\n",
       "      <td>NaN</td>\n",
       "    </tr>\n",
       "    <tr>\n",
       "      <th>number of NAs</th>\n",
       "      <td>NaN</td>\n",
       "      <td>NaN</td>\n",
       "      <td>NaN</td>\n",
       "      <td>NaN</td>\n",
       "    </tr>\n",
       "    <tr>\n",
       "      <th>tiene_linea(s)_contratadas</th>\n",
       "      <td>NaN</td>\n",
       "      <td>NaN</td>\n",
       "      <td>NaN</td>\n",
       "      <td>NaN</td>\n",
       "    </tr>\n",
       "    <tr>\n",
       "      <th>con_paquete_TV_total</th>\n",
       "      <td>NaN</td>\n",
       "      <td>NaN</td>\n",
       "      <td>NaN</td>\n",
       "      <td>NaN</td>\n",
       "    </tr>\n",
       "    <tr>\n",
       "      <th>con_4_NAs_en_fila</th>\n",
       "      <td>NaN</td>\n",
       "      <td>NaN</td>\n",
       "      <td>NaN</td>\n",
       "      <td>NaN</td>\n",
       "    </tr>\n",
       "    <tr>\n",
       "      <th>adulto</th>\n",
       "      <td>NaN</td>\n",
       "      <td>NaN</td>\n",
       "      <td>NaN</td>\n",
       "      <td>NaN</td>\n",
       "    </tr>\n",
       "    <tr>\n",
       "      <th>jubilado</th>\n",
       "      <td>1.000000</td>\n",
       "      <td>NaN</td>\n",
       "      <td>NaN</td>\n",
       "      <td>NaN</td>\n",
       "    </tr>\n",
       "    <tr>\n",
       "      <th>num_dt</th>\n",
       "      <td>NaN</td>\n",
       "      <td>NaN</td>\n",
       "      <td>0.906651</td>\n",
       "      <td>NaN</td>\n",
       "    </tr>\n",
       "    <tr>\n",
       "      <th>incidencia</th>\n",
       "      <td>NaN</td>\n",
       "      <td>NaN</td>\n",
       "      <td>NaN</td>\n",
       "      <td>NaN</td>\n",
       "    </tr>\n",
       "    <tr>\n",
       "      <th>financiacion</th>\n",
       "      <td>NaN</td>\n",
       "      <td>1.000000</td>\n",
       "      <td>NaN</td>\n",
       "      <td>1.000000</td>\n",
       "    </tr>\n",
       "    <tr>\n",
       "      <th>imp_financ</th>\n",
       "      <td>NaN</td>\n",
       "      <td>0.904154</td>\n",
       "      <td>NaN</td>\n",
       "      <td>0.904154</td>\n",
       "    </tr>\n",
       "    <tr>\n",
       "      <th>descuentos</th>\n",
       "      <td>NaN</td>\n",
       "      <td>NaN</td>\n",
       "      <td>NaN</td>\n",
       "      <td>NaN</td>\n",
       "    </tr>\n",
       "    <tr>\n",
       "      <th>año_antiguedad</th>\n",
       "      <td>NaN</td>\n",
       "      <td>NaN</td>\n",
       "      <td>NaN</td>\n",
       "      <td>NaN</td>\n",
       "    </tr>\n",
       "    <tr>\n",
       "      <th>mes_antiguedad</th>\n",
       "      <td>NaN</td>\n",
       "      <td>NaN</td>\n",
       "      <td>NaN</td>\n",
       "      <td>NaN</td>\n",
       "    </tr>\n",
       "    <tr>\n",
       "      <th>dia_antiguedad</th>\n",
       "      <td>NaN</td>\n",
       "      <td>NaN</td>\n",
       "      <td>NaN</td>\n",
       "      <td>NaN</td>\n",
       "    </tr>\n",
       "    <tr>\n",
       "      <th>tiene linea(s) en impago</th>\n",
       "      <td>NaN</td>\n",
       "      <td>NaN</td>\n",
       "      <td>1.000000</td>\n",
       "      <td>NaN</td>\n",
       "    </tr>\n",
       "    <tr>\n",
       "      <th>paga importe por los terminales financiados</th>\n",
       "      <td>NaN</td>\n",
       "      <td>1.000000</td>\n",
       "      <td>NaN</td>\n",
       "      <td>1.000000</td>\n",
       "    </tr>\n",
       "  </tbody>\n",
       "</table>\n",
       "</div>"
      ],
      "text/plain": [
       "                                             jubilado  financiacion  \\\n",
       "edad                                         0.834356           NaN   \n",
       "facturacion                                       NaN           NaN   \n",
       "antiguedad                                        NaN           NaN   \n",
       "provincia                                         NaN           NaN   \n",
       "num_lineas                                        NaN           NaN   \n",
       "num_llamad_ent                                    NaN           NaN   \n",
       "num_llamad_sal                                    NaN           NaN   \n",
       "mb_datos                                          NaN           NaN   \n",
       "seg_llamad_ent                                    NaN           NaN   \n",
       "seg_llamad_sal                                    NaN           NaN   \n",
       "conexion                                          NaN           NaN   \n",
       "vel_conexion                                      NaN           NaN   \n",
       "TV                                                NaN           NaN   \n",
       "¿Abandona?                                        NaN           NaN   \n",
       "number of NAs                                     NaN           NaN   \n",
       "tiene_linea(s)_contratadas                        NaN           NaN   \n",
       "con_paquete_TV_total                              NaN           NaN   \n",
       "con_4_NAs_en_fila                                 NaN           NaN   \n",
       "adulto                                            NaN           NaN   \n",
       "jubilado                                     1.000000           NaN   \n",
       "num_dt                                            NaN           NaN   \n",
       "incidencia                                        NaN           NaN   \n",
       "financiacion                                      NaN      1.000000   \n",
       "imp_financ                                        NaN      0.904154   \n",
       "descuentos                                        NaN           NaN   \n",
       "año_antiguedad                                    NaN           NaN   \n",
       "mes_antiguedad                                    NaN           NaN   \n",
       "dia_antiguedad                                    NaN           NaN   \n",
       "tiene linea(s) en impago                          NaN           NaN   \n",
       "paga importe por los terminales financiados       NaN      1.000000   \n",
       "\n",
       "                                             tiene linea(s) en impago  \\\n",
       "edad                                                              NaN   \n",
       "facturacion                                                       NaN   \n",
       "antiguedad                                                        NaN   \n",
       "provincia                                                         NaN   \n",
       "num_lineas                                                        NaN   \n",
       "num_llamad_ent                                                    NaN   \n",
       "num_llamad_sal                                                    NaN   \n",
       "mb_datos                                                          NaN   \n",
       "seg_llamad_ent                                                    NaN   \n",
       "seg_llamad_sal                                                    NaN   \n",
       "conexion                                                          NaN   \n",
       "vel_conexion                                                      NaN   \n",
       "TV                                                                NaN   \n",
       "¿Abandona?                                                        NaN   \n",
       "number of NAs                                                     NaN   \n",
       "tiene_linea(s)_contratadas                                        NaN   \n",
       "con_paquete_TV_total                                              NaN   \n",
       "con_4_NAs_en_fila                                                 NaN   \n",
       "adulto                                                            NaN   \n",
       "jubilado                                                          NaN   \n",
       "num_dt                                                       0.906651   \n",
       "incidencia                                                        NaN   \n",
       "financiacion                                                      NaN   \n",
       "imp_financ                                                        NaN   \n",
       "descuentos                                                        NaN   \n",
       "año_antiguedad                                                    NaN   \n",
       "mes_antiguedad                                                    NaN   \n",
       "dia_antiguedad                                                    NaN   \n",
       "tiene linea(s) en impago                                     1.000000   \n",
       "paga importe por los terminales financiados                       NaN   \n",
       "\n",
       "                                             paga importe por los terminales financiados  \n",
       "edad                                                                                 NaN  \n",
       "facturacion                                                                          NaN  \n",
       "antiguedad                                                                           NaN  \n",
       "provincia                                                                            NaN  \n",
       "num_lineas                                                                           NaN  \n",
       "num_llamad_ent                                                                       NaN  \n",
       "num_llamad_sal                                                                       NaN  \n",
       "mb_datos                                                                             NaN  \n",
       "seg_llamad_ent                                                                       NaN  \n",
       "seg_llamad_sal                                                                       NaN  \n",
       "conexion                                                                             NaN  \n",
       "vel_conexion                                                                         NaN  \n",
       "TV                                                                                   NaN  \n",
       "¿Abandona?                                                                           NaN  \n",
       "number of NAs                                                                        NaN  \n",
       "tiene_linea(s)_contratadas                                                           NaN  \n",
       "con_paquete_TV_total                                                                 NaN  \n",
       "con_4_NAs_en_fila                                                                    NaN  \n",
       "adulto                                                                               NaN  \n",
       "jubilado                                                                             NaN  \n",
       "num_dt                                                                               NaN  \n",
       "incidencia                                                                           NaN  \n",
       "financiacion                                                                    1.000000  \n",
       "imp_financ                                                                      0.904154  \n",
       "descuentos                                                                           NaN  \n",
       "año_antiguedad                                                                       NaN  \n",
       "mes_antiguedad                                                                       NaN  \n",
       "dia_antiguedad                                                                       NaN  \n",
       "tiene linea(s) en impago                                                             NaN  \n",
       "paga importe por los terminales financiados                                     1.000000  "
      ]
     },
     "execution_count": 51,
     "metadata": {},
     "output_type": "execute_result"
    }
   ],
   "source": [
    "corr = abs(data.corr()) \n",
    "corr.loc[:,vars_removed_by_VIF][data.corr()>0.7]"
   ]
  },
  {
   "cell_type": "markdown",
   "metadata": {},
   "source": [
    "###### Como se puede observar, las siguientes variables están altamente correlacionadas entre ellas:\n",
    "    1. jubilado <-> edad\n",
    "    2. financiacion <-> imp_financ, paga importe por los terminales financiados\n",
    "    3. tiene linea(s) en impago <-> num_dt\n",
    "    4. paga importe por los terminales financiados <-> financiacion, imp_financ"
   ]
  },
  {
   "cell_type": "markdown",
   "metadata": {},
   "source": [
    "## Me quedo con las que están más correlacionadas con la variable objetivo"
   ]
  },
  {
   "cell_type": "code",
   "execution_count": 52,
   "metadata": {},
   "outputs": [
    {
     "data": {
      "text/html": [
       "<style  type=\"text/css\" >\n",
       "    #T_fd8d1adc_7338_11ea_9a71_ccb0dab6b4d6row0_col0 {\n",
       "            background-color:  #023858;\n",
       "            color:  #f1f1f1;\n",
       "        }    #T_fd8d1adc_7338_11ea_9a71_ccb0dab6b4d6row1_col0 {\n",
       "            background-color:  #9fbad9;\n",
       "            color:  #000000;\n",
       "        }    #T_fd8d1adc_7338_11ea_9a71_ccb0dab6b4d6row2_col0 {\n",
       "            background-color:  #adc1dd;\n",
       "            color:  #000000;\n",
       "        }    #T_fd8d1adc_7338_11ea_9a71_ccb0dab6b4d6row3_col0 {\n",
       "            background-color:  #adc1dd;\n",
       "            color:  #000000;\n",
       "        }    #T_fd8d1adc_7338_11ea_9a71_ccb0dab6b4d6row4_col0 {\n",
       "            background-color:  #afc1dd;\n",
       "            color:  #000000;\n",
       "        }    #T_fd8d1adc_7338_11ea_9a71_ccb0dab6b4d6row5_col0 {\n",
       "            background-color:  #e4e1ef;\n",
       "            color:  #000000;\n",
       "        }    #T_fd8d1adc_7338_11ea_9a71_ccb0dab6b4d6row6_col0 {\n",
       "            background-color:  #f0eaf4;\n",
       "            color:  #000000;\n",
       "        }    #T_fd8d1adc_7338_11ea_9a71_ccb0dab6b4d6row7_col0 {\n",
       "            background-color:  #f7f0f7;\n",
       "            color:  #000000;\n",
       "        }    #T_fd8d1adc_7338_11ea_9a71_ccb0dab6b4d6row8_col0 {\n",
       "            background-color:  #f7f0f7;\n",
       "            color:  #000000;\n",
       "        }    #T_fd8d1adc_7338_11ea_9a71_ccb0dab6b4d6row9_col0 {\n",
       "            background-color:  #f8f1f8;\n",
       "            color:  #000000;\n",
       "        }    #T_fd8d1adc_7338_11ea_9a71_ccb0dab6b4d6row10_col0 {\n",
       "            background-color:  #fef6fb;\n",
       "            color:  #000000;\n",
       "        }    #T_fd8d1adc_7338_11ea_9a71_ccb0dab6b4d6row11_col0 {\n",
       "            background-color:  #fef6fb;\n",
       "            color:  #000000;\n",
       "        }    #T_fd8d1adc_7338_11ea_9a71_ccb0dab6b4d6row12_col0 {\n",
       "            background-color:  #fff7fb;\n",
       "            color:  #000000;\n",
       "        }    #T_fd8d1adc_7338_11ea_9a71_ccb0dab6b4d6row13_col0 {\n",
       "            background-color:  #fff7fb;\n",
       "            color:  #000000;\n",
       "        }    #T_fd8d1adc_7338_11ea_9a71_ccb0dab6b4d6row14_col0 {\n",
       "            background-color:  #fff7fb;\n",
       "            color:  #000000;\n",
       "        }    #T_fd8d1adc_7338_11ea_9a71_ccb0dab6b4d6row15_col0 {\n",
       "            background-color:  #fff7fb;\n",
       "            color:  #000000;\n",
       "        }    #T_fd8d1adc_7338_11ea_9a71_ccb0dab6b4d6row16_col0 {\n",
       "            background-color:  #fff7fb;\n",
       "            color:  #000000;\n",
       "        }    #T_fd8d1adc_7338_11ea_9a71_ccb0dab6b4d6row17_col0 {\n",
       "            background-color:  #fff7fb;\n",
       "            color:  #000000;\n",
       "        }    #T_fd8d1adc_7338_11ea_9a71_ccb0dab6b4d6row18_col0 {\n",
       "            background-color:  #fff7fb;\n",
       "            color:  #000000;\n",
       "        }    #T_fd8d1adc_7338_11ea_9a71_ccb0dab6b4d6row19_col0 {\n",
       "            background-color:  #fff7fb;\n",
       "            color:  #000000;\n",
       "        }    #T_fd8d1adc_7338_11ea_9a71_ccb0dab6b4d6row20_col0 {\n",
       "            background-color:  #fff7fb;\n",
       "            color:  #000000;\n",
       "        }    #T_fd8d1adc_7338_11ea_9a71_ccb0dab6b4d6row21_col0 {\n",
       "            background-color:  #fff7fb;\n",
       "            color:  #000000;\n",
       "        }    #T_fd8d1adc_7338_11ea_9a71_ccb0dab6b4d6row22_col0 {\n",
       "            background-color:  #fff7fb;\n",
       "            color:  #000000;\n",
       "        }    #T_fd8d1adc_7338_11ea_9a71_ccb0dab6b4d6row23_col0 {\n",
       "            background-color:  #fff7fb;\n",
       "            color:  #000000;\n",
       "        }    #T_fd8d1adc_7338_11ea_9a71_ccb0dab6b4d6row24_col0 {\n",
       "            background-color:  #fff7fb;\n",
       "            color:  #000000;\n",
       "        }    #T_fd8d1adc_7338_11ea_9a71_ccb0dab6b4d6row25_col0 {\n",
       "            background-color:  #fff7fb;\n",
       "            color:  #000000;\n",
       "        }    #T_fd8d1adc_7338_11ea_9a71_ccb0dab6b4d6row26_col0 {\n",
       "            background-color:  #fff7fb;\n",
       "            color:  #000000;\n",
       "        }    #T_fd8d1adc_7338_11ea_9a71_ccb0dab6b4d6row27_col0 {\n",
       "            background-color:  #fff7fb;\n",
       "            color:  #000000;\n",
       "        }    #T_fd8d1adc_7338_11ea_9a71_ccb0dab6b4d6row28_col0 {\n",
       "            background-color:  #fff7fb;\n",
       "            color:  #000000;\n",
       "        }    #T_fd8d1adc_7338_11ea_9a71_ccb0dab6b4d6row29_col0 {\n",
       "            background-color:  #fff7fb;\n",
       "            color:  #000000;\n",
       "        }</style><table id=\"T_fd8d1adc_7338_11ea_9a71_ccb0dab6b4d6\" ><thead>    <tr>        <th class=\"blank level0\" ></th>        <th class=\"col_heading level0 col0\" >¿Abandona?</th>    </tr></thead><tbody>\n",
       "                <tr>\n",
       "                        <th id=\"T_fd8d1adc_7338_11ea_9a71_ccb0dab6b4d6level0_row0\" class=\"row_heading level0 row0\" >¿Abandona?</th>\n",
       "                        <td id=\"T_fd8d1adc_7338_11ea_9a71_ccb0dab6b4d6row0_col0\" class=\"data row0 col0\" >1</td>\n",
       "            </tr>\n",
       "            <tr>\n",
       "                        <th id=\"T_fd8d1adc_7338_11ea_9a71_ccb0dab6b4d6level0_row1\" class=\"row_heading level0 row1\" >tiene linea(s) en impago</th>\n",
       "                        <td id=\"T_fd8d1adc_7338_11ea_9a71_ccb0dab6b4d6row1_col0\" class=\"data row1 col0\" >0.391333</td>\n",
       "            </tr>\n",
       "            <tr>\n",
       "                        <th id=\"T_fd8d1adc_7338_11ea_9a71_ccb0dab6b4d6level0_row2\" class=\"row_heading level0 row2\" >num_dt</th>\n",
       "                        <td id=\"T_fd8d1adc_7338_11ea_9a71_ccb0dab6b4d6row2_col0\" class=\"data row2 col0\" >0.352727</td>\n",
       "            </tr>\n",
       "            <tr>\n",
       "                        <th id=\"T_fd8d1adc_7338_11ea_9a71_ccb0dab6b4d6level0_row3\" class=\"row_heading level0 row3\" >con_4_NAs_en_fila</th>\n",
       "                        <td id=\"T_fd8d1adc_7338_11ea_9a71_ccb0dab6b4d6row3_col0\" class=\"data row3 col0\" >0.352215</td>\n",
       "            </tr>\n",
       "            <tr>\n",
       "                        <th id=\"T_fd8d1adc_7338_11ea_9a71_ccb0dab6b4d6level0_row4\" class=\"row_heading level0 row4\" >incidencia</th>\n",
       "                        <td id=\"T_fd8d1adc_7338_11ea_9a71_ccb0dab6b4d6row4_col0\" class=\"data row4 col0\" >0.350084</td>\n",
       "            </tr>\n",
       "            <tr>\n",
       "                        <th id=\"T_fd8d1adc_7338_11ea_9a71_ccb0dab6b4d6level0_row5\" class=\"row_heading level0 row5\" >number of NAs</th>\n",
       "                        <td id=\"T_fd8d1adc_7338_11ea_9a71_ccb0dab6b4d6row5_col0\" class=\"data row5 col0\" >0.161539</td>\n",
       "            </tr>\n",
       "            <tr>\n",
       "                        <th id=\"T_fd8d1adc_7338_11ea_9a71_ccb0dab6b4d6level0_row6\" class=\"row_heading level0 row6\" >descuentos</th>\n",
       "                        <td id=\"T_fd8d1adc_7338_11ea_9a71_ccb0dab6b4d6row6_col0\" class=\"data row6 col0\" >0.0987662</td>\n",
       "            </tr>\n",
       "            <tr>\n",
       "                        <th id=\"T_fd8d1adc_7338_11ea_9a71_ccb0dab6b4d6level0_row7\" class=\"row_heading level0 row7\" >paga importe por los terminales financiados</th>\n",
       "                        <td id=\"T_fd8d1adc_7338_11ea_9a71_ccb0dab6b4d6row7_col0\" class=\"data row7 col0\" >0.0521549</td>\n",
       "            </tr>\n",
       "            <tr>\n",
       "                        <th id=\"T_fd8d1adc_7338_11ea_9a71_ccb0dab6b4d6level0_row8\" class=\"row_heading level0 row8\" >financiacion</th>\n",
       "                        <td id=\"T_fd8d1adc_7338_11ea_9a71_ccb0dab6b4d6row8_col0\" class=\"data row8 col0\" >0.0521549</td>\n",
       "            </tr>\n",
       "            <tr>\n",
       "                        <th id=\"T_fd8d1adc_7338_11ea_9a71_ccb0dab6b4d6level0_row9\" class=\"row_heading level0 row9\" >imp_financ</th>\n",
       "                        <td id=\"T_fd8d1adc_7338_11ea_9a71_ccb0dab6b4d6row9_col0\" class=\"data row9 col0\" >0.0472917</td>\n",
       "            </tr>\n",
       "            <tr>\n",
       "                        <th id=\"T_fd8d1adc_7338_11ea_9a71_ccb0dab6b4d6level0_row10\" class=\"row_heading level0 row10\" >antiguedad</th>\n",
       "                        <td id=\"T_fd8d1adc_7338_11ea_9a71_ccb0dab6b4d6row10_col0\" class=\"data row10 col0\" >0.00553786</td>\n",
       "            </tr>\n",
       "            <tr>\n",
       "                        <th id=\"T_fd8d1adc_7338_11ea_9a71_ccb0dab6b4d6level0_row11\" class=\"row_heading level0 row11\" >provincia</th>\n",
       "                        <td id=\"T_fd8d1adc_7338_11ea_9a71_ccb0dab6b4d6row11_col0\" class=\"data row11 col0\" >0.00456276</td>\n",
       "            </tr>\n",
       "            <tr>\n",
       "                        <th id=\"T_fd8d1adc_7338_11ea_9a71_ccb0dab6b4d6level0_row12\" class=\"row_heading level0 row12\" >num_llamad_ent</th>\n",
       "                        <td id=\"T_fd8d1adc_7338_11ea_9a71_ccb0dab6b4d6row12_col0\" class=\"data row12 col0\" >0.00388856</td>\n",
       "            </tr>\n",
       "            <tr>\n",
       "                        <th id=\"T_fd8d1adc_7338_11ea_9a71_ccb0dab6b4d6level0_row13\" class=\"row_heading level0 row13\" >con_paquete_TV_total</th>\n",
       "                        <td id=\"T_fd8d1adc_7338_11ea_9a71_ccb0dab6b4d6row13_col0\" class=\"data row13 col0\" >0.00327929</td>\n",
       "            </tr>\n",
       "            <tr>\n",
       "                        <th id=\"T_fd8d1adc_7338_11ea_9a71_ccb0dab6b4d6level0_row14\" class=\"row_heading level0 row14\" >mes_antiguedad</th>\n",
       "                        <td id=\"T_fd8d1adc_7338_11ea_9a71_ccb0dab6b4d6row14_col0\" class=\"data row14 col0\" >0.00280278</td>\n",
       "            </tr>\n",
       "            <tr>\n",
       "                        <th id=\"T_fd8d1adc_7338_11ea_9a71_ccb0dab6b4d6level0_row15\" class=\"row_heading level0 row15\" >num_llamad_sal</th>\n",
       "                        <td id=\"T_fd8d1adc_7338_11ea_9a71_ccb0dab6b4d6row15_col0\" class=\"data row15 col0\" >0.0027383</td>\n",
       "            </tr>\n",
       "            <tr>\n",
       "                        <th id=\"T_fd8d1adc_7338_11ea_9a71_ccb0dab6b4d6level0_row16\" class=\"row_heading level0 row16\" >año_antiguedad</th>\n",
       "                        <td id=\"T_fd8d1adc_7338_11ea_9a71_ccb0dab6b4d6row16_col0\" class=\"data row16 col0\" >0.00231123</td>\n",
       "            </tr>\n",
       "            <tr>\n",
       "                        <th id=\"T_fd8d1adc_7338_11ea_9a71_ccb0dab6b4d6level0_row17\" class=\"row_heading level0 row17\" >edad</th>\n",
       "                        <td id=\"T_fd8d1adc_7338_11ea_9a71_ccb0dab6b4d6row17_col0\" class=\"data row17 col0\" >0.0021646</td>\n",
       "            </tr>\n",
       "            <tr>\n",
       "                        <th id=\"T_fd8d1adc_7338_11ea_9a71_ccb0dab6b4d6level0_row18\" class=\"row_heading level0 row18\" >facturacion</th>\n",
       "                        <td id=\"T_fd8d1adc_7338_11ea_9a71_ccb0dab6b4d6row18_col0\" class=\"data row18 col0\" >0.00207319</td>\n",
       "            </tr>\n",
       "            <tr>\n",
       "                        <th id=\"T_fd8d1adc_7338_11ea_9a71_ccb0dab6b4d6level0_row19\" class=\"row_heading level0 row19\" >conexion</th>\n",
       "                        <td id=\"T_fd8d1adc_7338_11ea_9a71_ccb0dab6b4d6row19_col0\" class=\"data row19 col0\" >0.0019339</td>\n",
       "            </tr>\n",
       "            <tr>\n",
       "                        <th id=\"T_fd8d1adc_7338_11ea_9a71_ccb0dab6b4d6level0_row20\" class=\"row_heading level0 row20\" >TV</th>\n",
       "                        <td id=\"T_fd8d1adc_7338_11ea_9a71_ccb0dab6b4d6row20_col0\" class=\"data row20 col0\" >0.00188868</td>\n",
       "            </tr>\n",
       "            <tr>\n",
       "                        <th id=\"T_fd8d1adc_7338_11ea_9a71_ccb0dab6b4d6level0_row21\" class=\"row_heading level0 row21\" >vel_conexion</th>\n",
       "                        <td id=\"T_fd8d1adc_7338_11ea_9a71_ccb0dab6b4d6row21_col0\" class=\"data row21 col0\" >0.00187414</td>\n",
       "            </tr>\n",
       "            <tr>\n",
       "                        <th id=\"T_fd8d1adc_7338_11ea_9a71_ccb0dab6b4d6level0_row22\" class=\"row_heading level0 row22\" >adulto</th>\n",
       "                        <td id=\"T_fd8d1adc_7338_11ea_9a71_ccb0dab6b4d6row22_col0\" class=\"data row22 col0\" >0.00185134</td>\n",
       "            </tr>\n",
       "            <tr>\n",
       "                        <th id=\"T_fd8d1adc_7338_11ea_9a71_ccb0dab6b4d6level0_row23\" class=\"row_heading level0 row23\" >tiene_linea(s)_contratadas</th>\n",
       "                        <td id=\"T_fd8d1adc_7338_11ea_9a71_ccb0dab6b4d6row23_col0\" class=\"data row23 col0\" >0.00184508</td>\n",
       "            </tr>\n",
       "            <tr>\n",
       "                        <th id=\"T_fd8d1adc_7338_11ea_9a71_ccb0dab6b4d6level0_row24\" class=\"row_heading level0 row24\" >num_lineas</th>\n",
       "                        <td id=\"T_fd8d1adc_7338_11ea_9a71_ccb0dab6b4d6row24_col0\" class=\"data row24 col0\" >0.00117888</td>\n",
       "            </tr>\n",
       "            <tr>\n",
       "                        <th id=\"T_fd8d1adc_7338_11ea_9a71_ccb0dab6b4d6level0_row25\" class=\"row_heading level0 row25\" >jubilado</th>\n",
       "                        <td id=\"T_fd8d1adc_7338_11ea_9a71_ccb0dab6b4d6row25_col0\" class=\"data row25 col0\" >0.000615159</td>\n",
       "            </tr>\n",
       "            <tr>\n",
       "                        <th id=\"T_fd8d1adc_7338_11ea_9a71_ccb0dab6b4d6level0_row26\" class=\"row_heading level0 row26\" >mb_datos</th>\n",
       "                        <td id=\"T_fd8d1adc_7338_11ea_9a71_ccb0dab6b4d6row26_col0\" class=\"data row26 col0\" >0.000565428</td>\n",
       "            </tr>\n",
       "            <tr>\n",
       "                        <th id=\"T_fd8d1adc_7338_11ea_9a71_ccb0dab6b4d6level0_row27\" class=\"row_heading level0 row27\" >seg_llamad_ent</th>\n",
       "                        <td id=\"T_fd8d1adc_7338_11ea_9a71_ccb0dab6b4d6row27_col0\" class=\"data row27 col0\" >0.000383551</td>\n",
       "            </tr>\n",
       "            <tr>\n",
       "                        <th id=\"T_fd8d1adc_7338_11ea_9a71_ccb0dab6b4d6level0_row28\" class=\"row_heading level0 row28\" >dia_antiguedad</th>\n",
       "                        <td id=\"T_fd8d1adc_7338_11ea_9a71_ccb0dab6b4d6row28_col0\" class=\"data row28 col0\" >8.71347e-05</td>\n",
       "            </tr>\n",
       "            <tr>\n",
       "                        <th id=\"T_fd8d1adc_7338_11ea_9a71_ccb0dab6b4d6level0_row29\" class=\"row_heading level0 row29\" >seg_llamad_sal</th>\n",
       "                        <td id=\"T_fd8d1adc_7338_11ea_9a71_ccb0dab6b4d6row29_col0\" class=\"data row29 col0\" >5.08475e-05</td>\n",
       "            </tr>\n",
       "    </tbody></table>"
      ],
      "text/plain": [
       "<pandas.io.formats.style.Styler at 0x2239fae44c8>"
      ]
     },
     "execution_count": 52,
     "metadata": {},
     "output_type": "execute_result"
    }
   ],
   "source": [
    "corr = abs(data.corr()) \n",
    "corr[['¿Abandona?']].sort_values(by = '¿Abandona?',ascending = False).style.background_gradient() "
   ]
  },
  {
   "cell_type": "markdown",
   "metadata": {},
   "source": [
    "### Selecciono ('edad', 'tiene linea(s) en impago', 'paga importe por los terminales financiados') y elimino ('jubilado', 'financiacion', 'imp_financ', 'num_dt') "
   ]
  },
  {
   "cell_type": "code",
   "execution_count": 53,
   "metadata": {},
   "outputs": [],
   "source": [
    "data=data.loc[:,\n",
    "             list(pd.DataFrame(data.columns).apply(lambda x: x[0] not in ['jubilado',\n",
    "                                                                          'financiacion',\n",
    "                                                                          'imp_financ',\n",
    "                                                                          'num_dt'], \n",
    "                                                   axis=1))]\n"
   ]
  },
  {
   "cell_type": "markdown",
   "metadata": {},
   "source": [
    "#### Compruebo que no hay mas problemas de colinearidad\n",
    "Como se puede comprobar, len(colli)==len(data.columns). Por tanto, ninguna variable ha sido eliminada"
   ]
  },
  {
   "cell_type": "code",
   "execution_count": 54,
   "metadata": {},
   "outputs": [
    {
     "name": "stderr",
     "output_type": "stream",
     "text": [
      "C:\\Users\\pablo\\Anaconda3\\lib\\site-packages\\ipykernel_launcher.py:32: FutureWarning: Method .as_matrix will be removed in a future version. Use .values instead.\n"
     ]
    },
    {
     "data": {
      "text/plain": [
       "True"
      ]
     },
     "execution_count": 54,
     "metadata": {},
     "output_type": "execute_result"
    }
   ],
   "source": [
    "colli=list(selectDataUsingVIF(data.loc[:,list(pd.DataFrame(data.columns).apply(lambda x: x[0] not in ['¿Abandona?','Mes del dataset'], axis=1))]).columns) \n",
    "colli.extend(['Mes del dataset','¿Abandona?']) \n",
    "len(colli)==len(data.columns)"
   ]
  },
  {
   "cell_type": "code",
   "execution_count": null,
   "metadata": {},
   "outputs": [],
   "source": []
  },
  {
   "cell_type": "markdown",
   "metadata": {},
   "source": [
    "#### Selección de variables.\n",
    "###### Uso los siguientes métodos:\n",
    "    1. VarianceThreshold(threshold = 0.60)\n",
    "    2. SelectKBest(chi2, k=20)\n",
    "    3. SelectFromModel(estimator=LinearSVC(C=0.01, penalty=\"l1\", dual=False))\n",
    "    4. SelectFromModel(estimator=ExtraTreesClassifier(n_estimators=50))"
   ]
  },
  {
   "cell_type": "code",
   "execution_count": 55,
   "metadata": {},
   "outputs": [
    {
     "name": "stderr",
     "output_type": "stream",
     "text": [
      "C:\\Users\\pablo\\Anaconda3\\lib\\site-packages\\sklearn\\svm\\_base.py:947: ConvergenceWarning: Liblinear failed to converge, increase the number of iterations.\n",
      "  \"the number of iterations.\", ConvergenceWarning)\n"
     ]
    },
    {
     "data": {
      "text/html": [
       "<div>\n",
       "<style scoped>\n",
       "    .dataframe tbody tr th:only-of-type {\n",
       "        vertical-align: middle;\n",
       "    }\n",
       "\n",
       "    .dataframe tbody tr th {\n",
       "        vertical-align: top;\n",
       "    }\n",
       "\n",
       "    .dataframe thead th {\n",
       "        text-align: right;\n",
       "    }\n",
       "</style>\n",
       "<table border=\"1\" class=\"dataframe\">\n",
       "  <thead>\n",
       "    <tr style=\"text-align: right;\">\n",
       "      <th></th>\n",
       "      <th>variance_selection</th>\n",
       "      <th>chi2_selection</th>\n",
       "      <th>lsvc_selection</th>\n",
       "      <th>tree_selection</th>\n",
       "      <th>corr_with_target</th>\n",
       "    </tr>\n",
       "  </thead>\n",
       "  <tbody>\n",
       "    <tr>\n",
       "      <th>0</th>\n",
       "      <td>edad</td>\n",
       "      <td>edad</td>\n",
       "      <td>edad</td>\n",
       "      <td>number of NAs</td>\n",
       "      <td>tiene_linea(s)_en_impago</td>\n",
       "    </tr>\n",
       "    <tr>\n",
       "      <th>1</th>\n",
       "      <td>facturacion</td>\n",
       "      <td>facturacion</td>\n",
       "      <td>facturacion</td>\n",
       "      <td>con_4_NAs_en_fila</td>\n",
       "      <td>con_4_NAs_en_fila</td>\n",
       "    </tr>\n",
       "    <tr>\n",
       "      <th>2</th>\n",
       "      <td>antiguedad</td>\n",
       "      <td>antiguedad</td>\n",
       "      <td>provincia</td>\n",
       "      <td>incidencia</td>\n",
       "      <td>incidencia</td>\n",
       "    </tr>\n",
       "    <tr>\n",
       "      <th>3</th>\n",
       "      <td>provincia</td>\n",
       "      <td>provincia</td>\n",
       "      <td>num_lineas</td>\n",
       "      <td>descuentos</td>\n",
       "      <td>number of NAs</td>\n",
       "    </tr>\n",
       "    <tr>\n",
       "      <th>4</th>\n",
       "      <td>num_lineas</td>\n",
       "      <td>num_llamad_ent</td>\n",
       "      <td>num_llamad_sal</td>\n",
       "      <td>tiene_linea(s)_en_impago</td>\n",
       "      <td>descuentos</td>\n",
       "    </tr>\n",
       "    <tr>\n",
       "      <th>5</th>\n",
       "      <td>num_llamad_ent</td>\n",
       "      <td>num_llamad_sal</td>\n",
       "      <td>number of NAs</td>\n",
       "      <td>NaN</td>\n",
       "      <td>paga_importe_por_los_terminales_financiados</td>\n",
       "    </tr>\n",
       "    <tr>\n",
       "      <th>6</th>\n",
       "      <td>num_llamad_sal</td>\n",
       "      <td>mb_datos</td>\n",
       "      <td>con_4_NAs_en_fila</td>\n",
       "      <td>NaN</td>\n",
       "      <td>antiguedad</td>\n",
       "    </tr>\n",
       "    <tr>\n",
       "      <th>7</th>\n",
       "      <td>mb_datos</td>\n",
       "      <td>seg_llamad_ent</td>\n",
       "      <td>incidencia</td>\n",
       "      <td>NaN</td>\n",
       "      <td>provincia</td>\n",
       "    </tr>\n",
       "    <tr>\n",
       "      <th>8</th>\n",
       "      <td>seg_llamad_ent</td>\n",
       "      <td>seg_llamad_sal</td>\n",
       "      <td>descuentos</td>\n",
       "      <td>NaN</td>\n",
       "      <td>num_llamad_ent</td>\n",
       "    </tr>\n",
       "    <tr>\n",
       "      <th>9</th>\n",
       "      <td>seg_llamad_sal</td>\n",
       "      <td>vel_conexion</td>\n",
       "      <td>año_antiguedad</td>\n",
       "      <td>NaN</td>\n",
       "      <td>con_paquete_TV_total</td>\n",
       "    </tr>\n",
       "    <tr>\n",
       "      <th>10</th>\n",
       "      <td>vel_conexion</td>\n",
       "      <td>TV</td>\n",
       "      <td>mes_antiguedad</td>\n",
       "      <td>NaN</td>\n",
       "      <td>mes_antiguedad</td>\n",
       "    </tr>\n",
       "    <tr>\n",
       "      <th>11</th>\n",
       "      <td>año_antiguedad</td>\n",
       "      <td>number of NAs</td>\n",
       "      <td>dia_antiguedad</td>\n",
       "      <td>NaN</td>\n",
       "      <td>num_llamad_sal</td>\n",
       "    </tr>\n",
       "    <tr>\n",
       "      <th>12</th>\n",
       "      <td>mes_antiguedad</td>\n",
       "      <td>con_paquete_TV_total</td>\n",
       "      <td>tiene_linea(s)_en_impago</td>\n",
       "      <td>NaN</td>\n",
       "      <td>año_antiguedad</td>\n",
       "    </tr>\n",
       "    <tr>\n",
       "      <th>13</th>\n",
       "      <td>dia_antiguedad</td>\n",
       "      <td>con_4_NAs_en_fila</td>\n",
       "      <td>paga_importe_por_los_terminales_financiados</td>\n",
       "      <td>NaN</td>\n",
       "      <td>edad</td>\n",
       "    </tr>\n",
       "    <tr>\n",
       "      <th>14</th>\n",
       "      <td>NaN</td>\n",
       "      <td>adulto</td>\n",
       "      <td>NaN</td>\n",
       "      <td>NaN</td>\n",
       "      <td>facturacion</td>\n",
       "    </tr>\n",
       "    <tr>\n",
       "      <th>15</th>\n",
       "      <td>NaN</td>\n",
       "      <td>incidencia</td>\n",
       "      <td>NaN</td>\n",
       "      <td>NaN</td>\n",
       "      <td>conexion</td>\n",
       "    </tr>\n",
       "    <tr>\n",
       "      <th>16</th>\n",
       "      <td>NaN</td>\n",
       "      <td>descuentos</td>\n",
       "      <td>NaN</td>\n",
       "      <td>NaN</td>\n",
       "      <td>TV</td>\n",
       "    </tr>\n",
       "    <tr>\n",
       "      <th>17</th>\n",
       "      <td>NaN</td>\n",
       "      <td>mes_antiguedad</td>\n",
       "      <td>NaN</td>\n",
       "      <td>NaN</td>\n",
       "      <td>vel_conexion</td>\n",
       "    </tr>\n",
       "    <tr>\n",
       "      <th>18</th>\n",
       "      <td>NaN</td>\n",
       "      <td>tiene_linea(s)_en_impago</td>\n",
       "      <td>NaN</td>\n",
       "      <td>NaN</td>\n",
       "      <td>adulto</td>\n",
       "    </tr>\n",
       "    <tr>\n",
       "      <th>19</th>\n",
       "      <td>NaN</td>\n",
       "      <td>paga_importe_por_los_terminales_financiados</td>\n",
       "      <td>NaN</td>\n",
       "      <td>NaN</td>\n",
       "      <td>tiene_linea(s)_contratadas</td>\n",
       "    </tr>\n",
       "    <tr>\n",
       "      <th>20</th>\n",
       "      <td>NaN</td>\n",
       "      <td>NaN</td>\n",
       "      <td>NaN</td>\n",
       "      <td>NaN</td>\n",
       "      <td>num_lineas</td>\n",
       "    </tr>\n",
       "    <tr>\n",
       "      <th>21</th>\n",
       "      <td>NaN</td>\n",
       "      <td>NaN</td>\n",
       "      <td>NaN</td>\n",
       "      <td>NaN</td>\n",
       "      <td>mb_datos</td>\n",
       "    </tr>\n",
       "    <tr>\n",
       "      <th>22</th>\n",
       "      <td>NaN</td>\n",
       "      <td>NaN</td>\n",
       "      <td>NaN</td>\n",
       "      <td>NaN</td>\n",
       "      <td>seg_llamad_ent</td>\n",
       "    </tr>\n",
       "    <tr>\n",
       "      <th>23</th>\n",
       "      <td>NaN</td>\n",
       "      <td>NaN</td>\n",
       "      <td>NaN</td>\n",
       "      <td>NaN</td>\n",
       "      <td>dia_antiguedad</td>\n",
       "    </tr>\n",
       "    <tr>\n",
       "      <th>24</th>\n",
       "      <td>NaN</td>\n",
       "      <td>NaN</td>\n",
       "      <td>NaN</td>\n",
       "      <td>NaN</td>\n",
       "      <td>seg_llamad_sal</td>\n",
       "    </tr>\n",
       "  </tbody>\n",
       "</table>\n",
       "</div>"
      ],
      "text/plain": [
       "   variance_selection                               chi2_selection  \\\n",
       "0                edad                                         edad   \n",
       "1         facturacion                                  facturacion   \n",
       "2          antiguedad                                   antiguedad   \n",
       "3           provincia                                    provincia   \n",
       "4          num_lineas                               num_llamad_ent   \n",
       "5      num_llamad_ent                               num_llamad_sal   \n",
       "6      num_llamad_sal                                     mb_datos   \n",
       "7            mb_datos                               seg_llamad_ent   \n",
       "8      seg_llamad_ent                               seg_llamad_sal   \n",
       "9      seg_llamad_sal                                 vel_conexion   \n",
       "10       vel_conexion                                           TV   \n",
       "11     año_antiguedad                                number of NAs   \n",
       "12     mes_antiguedad                         con_paquete_TV_total   \n",
       "13     dia_antiguedad                            con_4_NAs_en_fila   \n",
       "14                NaN                                       adulto   \n",
       "15                NaN                                   incidencia   \n",
       "16                NaN                                   descuentos   \n",
       "17                NaN                               mes_antiguedad   \n",
       "18                NaN                     tiene_linea(s)_en_impago   \n",
       "19                NaN  paga_importe_por_los_terminales_financiados   \n",
       "20                NaN                                          NaN   \n",
       "21                NaN                                          NaN   \n",
       "22                NaN                                          NaN   \n",
       "23                NaN                                          NaN   \n",
       "24                NaN                                          NaN   \n",
       "\n",
       "                                 lsvc_selection            tree_selection  \\\n",
       "0                                          edad             number of NAs   \n",
       "1                                   facturacion         con_4_NAs_en_fila   \n",
       "2                                     provincia                incidencia   \n",
       "3                                    num_lineas                descuentos   \n",
       "4                                num_llamad_sal  tiene_linea(s)_en_impago   \n",
       "5                                 number of NAs                       NaN   \n",
       "6                             con_4_NAs_en_fila                       NaN   \n",
       "7                                    incidencia                       NaN   \n",
       "8                                    descuentos                       NaN   \n",
       "9                                año_antiguedad                       NaN   \n",
       "10                               mes_antiguedad                       NaN   \n",
       "11                               dia_antiguedad                       NaN   \n",
       "12                     tiene_linea(s)_en_impago                       NaN   \n",
       "13  paga_importe_por_los_terminales_financiados                       NaN   \n",
       "14                                          NaN                       NaN   \n",
       "15                                          NaN                       NaN   \n",
       "16                                          NaN                       NaN   \n",
       "17                                          NaN                       NaN   \n",
       "18                                          NaN                       NaN   \n",
       "19                                          NaN                       NaN   \n",
       "20                                          NaN                       NaN   \n",
       "21                                          NaN                       NaN   \n",
       "22                                          NaN                       NaN   \n",
       "23                                          NaN                       NaN   \n",
       "24                                          NaN                       NaN   \n",
       "\n",
       "                               corr_with_target  \n",
       "0                      tiene_linea(s)_en_impago  \n",
       "1                             con_4_NAs_en_fila  \n",
       "2                                    incidencia  \n",
       "3                                 number of NAs  \n",
       "4                                    descuentos  \n",
       "5   paga_importe_por_los_terminales_financiados  \n",
       "6                                    antiguedad  \n",
       "7                                     provincia  \n",
       "8                                num_llamad_ent  \n",
       "9                          con_paquete_TV_total  \n",
       "10                               mes_antiguedad  \n",
       "11                               num_llamad_sal  \n",
       "12                               año_antiguedad  \n",
       "13                                         edad  \n",
       "14                                  facturacion  \n",
       "15                                     conexion  \n",
       "16                                           TV  \n",
       "17                                 vel_conexion  \n",
       "18                                       adulto  \n",
       "19                   tiene_linea(s)_contratadas  \n",
       "20                                   num_lineas  \n",
       "21                                     mb_datos  \n",
       "22                               seg_llamad_ent  \n",
       "23                               dia_antiguedad  \n",
       "24                               seg_llamad_sal  "
      ]
     },
     "execution_count": 55,
     "metadata": {},
     "output_type": "execute_result"
    }
   ],
   "source": [
    "from sklearn.feature_selection import VarianceThreshold\n",
    "from sklearn.feature_selection import SelectKBest, chi2\n",
    "from sklearn.svm import LinearSVC\n",
    "from sklearn.linear_model.logistic import LogisticRegression\n",
    "from sklearn.feature_selection import SelectFromModel\n",
    "from sklearn.ensemble import ExtraTreesClassifier\n",
    "\n",
    "data=data.rename(columns={'Mes del dataset':'Mes_del_dataset', \n",
    "              'tiene linea(s) en impago':'tiene_linea(s)_en_impago', \n",
    "              'paga importe por los terminales financiados':'paga_importe_por_los_terminales_financiados'})\n",
    "\n",
    "\n",
    "\n",
    "y=data.loc[data['Mes_del_dataset']=='Diciembre', '¿Abandona?']\n",
    "\n",
    "X=data.loc[data['Mes_del_dataset']=='Diciembre',\n",
    "            list(pd.DataFrame(data.columns).apply(lambda x: x[0] not in ['¿Abandona?',\n",
    "                                                                           'Unnamed: 0',\n",
    "                                                                           'Mes_del_dataset'], \n",
    "                                                   axis=1))] \n",
    "\n",
    "var_th = VarianceThreshold(threshold = 0.60)\n",
    "x_var = var_th.fit_transform(X) \n",
    "variance_selection=pd.DataFrame({'variance_selection':np.asarray(list(X))[var_th.get_support()]})\n",
    "\n",
    "var_th = SelectKBest(chi2, k=20)\n",
    "x_var  = var_th.fit_transform(X, y) # it is a model\n",
    "chi2_selection=pd.DataFrame({'chi2_selection':np.asarray(list(X))[var_th.get_support()]})\n",
    "\n",
    "selector=SelectFromModel(estimator=LinearSVC(C=0.01, penalty=\"l1\", dual=False)).fit(X, y) \n",
    "lsvc_selection=pd.DataFrame({'lsvc_selection':X.columns[selector.get_support()]}) \n",
    "\n",
    "selector=SelectFromModel(estimator=ExtraTreesClassifier(n_estimators=50)).fit(X, y) \n",
    "tree_selection=pd.DataFrame({'tree_selection':X.columns[selector.get_support()]}) \n",
    "\n",
    "  \n",
    "corr_with_target=pd.DataFrame({'corr_with_target':abs(data.corr()).loc[:,'¿Abandona?']}).sort_values(by='corr_with_target',ascending=False) \n",
    "corr_with_target=pd.DataFrame({'corr_with_target':list(corr_with_target.index[1:])})\n",
    "\n",
    "table=pd.concat([variance_selection, chi2_selection, lsvc_selection, tree_selection, \n",
    "           corr_with_target], axis=1, sort=False) \n",
    "table"
   ]
  },
  {
   "cell_type": "markdown",
   "metadata": {},
   "source": [
    "#### Como se puede observar hay disparidad en las variables seleccionadas por los distintos métodos:\n",
    "    1. Mientras 'VarianceThreshold', 'chi2' y 'LinearSupportVectorClassifier' proponen variables parecidas, 'ExtraTreesClassifier' propone variables completamente diferentes.\n",
    "    2. Es interesante recalcar que las variables de 'ExtraTreesClassifier' son mucho más afines al nivel de correlación que tienen estas variables con la target.\n",
    "    3. Sin embargo, en los otros métodos (edad, facturacion, provincia) son variables consideradas muy importantes, a pesar de tener una correlación de (0.0021, 0.0020, 0.0045), respectivamente. Por tanto, esto no es buen síntoma."
   ]
  },
  {
   "cell_type": "markdown",
   "metadata": {},
   "source": [
    "### Estrategia que voy a seguir:\n",
    "Voy a crear 4 dataset incluyendo las variables en 'variance_selection', 'chi2_selection', 'lsvc_selection' y 'tree_selection'; respectivamente.\n",
    "\n",
    "Voy a tirar regresión logística y random forest a cada uno de estos modelos.\n",
    "\n",
    "Si los resultados son bastantes parecidos, elijo entonces 'tree_selection' porque es la que menos variables tiene."
   ]
  },
  {
   "cell_type": "code",
   "execution_count": 56,
   "metadata": {},
   "outputs": [],
   "source": [
    "chi2=list(table.chi2_selection[:20]) \n",
    "chi2.extend(['Mes_del_dataset','¿Abandona?']) \n",
    "\n",
    "variance=list(table.variance_selection[:14])\n",
    "variance.extend(['Mes_del_dataset','¿Abandona?'])\n",
    "\n",
    "lsvc=list(table.lsvc_selection[:13])\n",
    "lsvc.extend(['Mes_del_dataset','¿Abandona?'])\n",
    "\n",
    "trees=list(table.tree_selection[:5])\n",
    "trees.extend(['Mes_del_dataset','¿Abandona?'])\n",
    "\n",
    "variance=data.loc[:,variance] \n",
    "chi2=data.loc[:,chi2] \n",
    "lsvc=data.loc[:,lsvc]\n",
    "trees=data.loc[:,trees]"
   ]
  },
  {
   "cell_type": "code",
   "execution_count": 57,
   "metadata": {},
   "outputs": [],
   "source": [
    "def check_vars_selected(dataset, classifier='logistic_regression'):\n",
    "    \n",
    "    dataset=dataset\n",
    "    data_diciembre=dataset.loc[dataset['Mes_del_dataset']=='Diciembre',list(pd.DataFrame(dataset.columns).apply(lambda x: x[0] not in ['Mes_del_dataset'], axis=1))] \n",
    "    restOfVars=data_diciembre.loc[:, list(pd.DataFrame(data_diciembre.columns).apply(lambda x: x[0] not in ['TV_tv-total', 'num_lineas_5','¿Abandona?'], axis=1))]  \n",
    "    target=data_diciembre['¿Abandona?']\n",
    "    data_diciembre=pd.concat([restOfVars, target.reindex(target.index)], axis=1) \n",
    "\n",
    "    X, y = data_diciembre.iloc[:,:-1], data_diciembre.iloc[:,-1] \n",
    "    scaler = MinMaxScaler()    \n",
    "    X=scaler.fit_transform(X) \n",
    "\n",
    "    X_train, X_test, y_train, y_test = train_test_split(X, y, random_state=0, stratify=y)\n",
    "    if classifier != 'logistic_regression':\n",
    "        classifier = RandomForestClassifier(n_estimators=100, random_state=0).fit(X_train, y_train)\n",
    "    else:\n",
    "        classifier = LogisticRegression().fit(X_train, y_train)\n",
    "    y_pred     = classifier.predict(X_test) \n",
    "\n",
    "    print(saca_metricas(y_test, y_pred))  \n",
    "    print('\\nAhora con el dataset de Enero')\n",
    "    data_enero=dataset.loc[dataset['Mes_del_dataset']=='Enero',list(pd.DataFrame(dataset.columns).apply(lambda x: x[0] not in ['Mes_del_dataset'], axis=1))] \n",
    "    X_test_enero=data_enero.loc[:,list(pd.DataFrame(data_enero.columns).apply(lambda x: x[0] not in ['¿Abandona?'], axis=1))]\n",
    "    scaler = MinMaxScaler()    \n",
    "    X_test_enero=scaler.fit_transform(X_test_enero) \n",
    "    \n",
    "    y_pred_Enero=classifier.predict(X_test_enero)\n",
    "\n",
    "    print('number of ones: {}'.format(len(y_pred_Enero[y_pred_Enero==1]))) \n",
    "    print('number of zeros: {}'.format(len(y_pred_Enero[y_pred_Enero==0]))) \n",
    "    print('ratio of ones: {}%'.format(round((len(y_pred_Enero[y_pred_Enero==1])/len(y_pred_Enero))*100,3)))    \n",
    "    print()\n",
    "\n",
    "    y_pred_proba_Enero=classifier.predict_proba(X_test_enero)\n",
    "\n",
    "    probs=pd.DataFrame(y_pred_proba_Enero, index=data_enero.index) \n",
    "    probs.columns=['prob de NO abandonar (\"¿Abandona?\"=0)', 'prob de abandonar (\"¿Abandona?\"=1)'] "
   ]
  },
  {
   "cell_type": "code",
   "execution_count": 58,
   "metadata": {
    "scrolled": false
   },
   "outputs": [
    {
     "name": "stdout",
     "output_type": "stream",
     "text": [
      "\n",
      " REGRESION LOGISTICA\n",
      "\n",
      "\n",
      " METHOD: variance\n",
      "matriz de confusión\n",
      "[[22096     0]\n",
      " [ 1771     0]]\n",
      "accuracy\n",
      "0.9257971257384673\n",
      "precision\n",
      "0.0\n",
      "recall\n",
      "0.0\n",
      "f1\n",
      "0.0\n",
      "AUC\n",
      "0.5\n",
      "None\n",
      "\n",
      "Ahora con el dataset de Enero\n",
      "number of ones: 0"
     ]
    },
    {
     "name": "stderr",
     "output_type": "stream",
     "text": [
      "C:\\Users\\pablo\\Anaconda3\\lib\\site-packages\\sklearn\\metrics\\_classification.py:1268: UndefinedMetricWarning: Precision is ill-defined and being set to 0.0 due to no predicted samples. Use `zero_division` parameter to control this behavior.\n",
      "  _warn_prf(average, modifier, msg_start, len(result))\n"
     ]
    },
    {
     "name": "stdout",
     "output_type": "stream",
     "text": [
      "\n",
      "number of zeros: 92711\n",
      "ratio of ones: 0.0%\n",
      "\n",
      "None\n",
      "\n",
      "\n",
      "\n",
      "\n",
      "\n",
      "\n",
      "\n",
      " METHOD: chi2\n",
      "matriz de confusión\n",
      "[[21680   416]\n",
      " [   12  1759]]\n",
      "accuracy\n",
      "0.9820672895629949\n",
      "precision\n",
      "0.8087356321839081\n",
      "recall\n",
      "0.9932241671372106\n",
      "f1\n",
      "0.8915357323872276\n",
      "AUC\n",
      "0.9871986150675192\n",
      "None\n",
      "\n",
      "Ahora con el dataset de Enero\n",
      "number of ones: 1878\n",
      "number of zeros: 90833\n",
      "ratio of ones: 2.026%\n",
      "\n",
      "None\n",
      "\n",
      "\n",
      "\n",
      "\n",
      "\n",
      "\n",
      "\n",
      " METHOD: lsvc\n",
      "matriz de confusión\n",
      "[[21677   419]\n",
      " [   12  1759]]\n",
      "accuracy\n",
      "0.9819415929945112\n",
      "precision\n",
      "0.8076216712580349\n",
      "recall\n",
      "0.9932241671372106\n",
      "f1\n",
      "0.8908584451759939\n",
      "AUC\n",
      "0.987130729477367\n",
      "None\n",
      "\n",
      "Ahora con el dataset de Enero\n",
      "number of ones: 1977\n",
      "number of zeros: 90734\n",
      "ratio of ones: 2.132%\n",
      "\n",
      "None\n",
      "\n",
      "\n",
      "\n",
      "\n",
      "\n",
      "\n",
      "\n",
      " METHOD: trees\n",
      "matriz de confusión\n",
      "[[21677   419]\n",
      " [   12  1759]]\n",
      "accuracy\n",
      "0.9819415929945112\n",
      "precision\n",
      "0.8076216712580349\n",
      "recall\n",
      "0.9932241671372106\n",
      "f1\n",
      "0.8908584451759939\n",
      "AUC\n",
      "0.987130729477367\n",
      "None\n",
      "\n",
      "Ahora con el dataset de Enero\n",
      "number of ones: 1977\n",
      "number of zeros: 90734\n",
      "ratio of ones: 2.132%\n",
      "\n",
      "None\n",
      "\n",
      "\n",
      "\n",
      "\n",
      "\n"
     ]
    },
    {
     "data": {
      "image/png": "[encoded data removed]",
      "text/plain": [
       "<Figure size 432x288 with 1 Axes>"
      ]
     },
     "metadata": {
      "needs_background": "light"
     },
     "output_type": "display_data"
    }
   ],
   "source": [
    "dict_methods={}\n",
    "dict_methods['variance']=variance\n",
    "dict_methods['chi2']=chi2\n",
    "dict_methods['lsvc']=lsvc\n",
    "dict_methods['trees']=trees\n",
    "\n",
    "print('\\n REGRESION LOGISTICA')\n",
    "for method in dict_methods:\n",
    "    print('\\n\\n METHOD: {}'.format(method)) \n",
    "    print(check_vars_selected(dict_methods[method])) \n",
    "    print('\\n\\n\\n\\n')"
   ]
  },
  {
   "cell_type": "code",
   "execution_count": 59,
   "metadata": {
    "scrolled": false
   },
   "outputs": [
    {
     "name": "stdout",
     "output_type": "stream",
     "text": [
      "\n",
      " RANDOM FOREST\n",
      "\n",
      "\n",
      " METHOD: variance\n",
      "matriz de confusión\n",
      "[[22096     0]\n",
      " [ 1771     0]]\n",
      "accuracy\n",
      "0.9257971257384673\n",
      "precision\n",
      "0.0\n",
      "recall\n",
      "0.0\n",
      "f1\n",
      "0.0\n",
      "AUC\n",
      "0.5\n",
      "None\n",
      "\n",
      "Ahora con el dataset de Enero\n"
     ]
    },
    {
     "name": "stderr",
     "output_type": "stream",
     "text": [
      "C:\\Users\\pablo\\Anaconda3\\lib\\site-packages\\sklearn\\metrics\\_classification.py:1268: UndefinedMetricWarning: Precision is ill-defined and being set to 0.0 due to no predicted samples. Use `zero_division` parameter to control this behavior.\n",
      "  _warn_prf(average, modifier, msg_start, len(result))\n"
     ]
    },
    {
     "name": "stdout",
     "output_type": "stream",
     "text": [
      "number of ones: 0\n",
      "number of zeros: 92711\n",
      "ratio of ones: 0.0%\n",
      "\n",
      "None\n",
      "\n",
      "\n",
      "\n",
      "\n",
      "\n",
      "\n",
      "\n",
      " METHOD: chi2\n",
      "matriz de confusión\n",
      "[[21680   416]\n",
      " [   13  1758]]\n",
      "accuracy\n",
      "0.9820253907068337\n",
      "precision\n",
      "0.8086476540938362\n",
      "recall\n",
      "0.9926595143986449\n",
      "f1\n",
      "0.8912547528517111\n",
      "AUC\n",
      "0.9869162886982362\n",
      "None\n",
      "\n",
      "Ahora con el dataset de Enero\n",
      "number of ones: 2024\n",
      "number of zeros: 90687\n",
      "ratio of ones: 2.183%\n",
      "\n",
      "None\n",
      "\n",
      "\n",
      "\n",
      "\n",
      "\n",
      "\n",
      "\n",
      " METHOD: lsvc\n",
      "matriz de confusión\n",
      "[[21680   416]\n",
      " [   15  1756]]\n",
      "accuracy\n",
      "0.9819415929945112\n",
      "precision\n",
      "0.8084714548802947\n",
      "recall\n",
      "0.9915302089215132\n",
      "f1\n",
      "0.8906923662186153\n",
      "AUC\n",
      "0.9863516359596705\n",
      "None\n",
      "\n",
      "Ahora con el dataset de Enero\n",
      "number of ones: 2024\n",
      "number of zeros: 90687\n",
      "ratio of ones: 2.183%\n",
      "\n",
      "None\n",
      "\n",
      "\n",
      "\n",
      "\n",
      "\n",
      "\n",
      "\n",
      " METHOD: trees\n",
      "matriz de confusión\n",
      "[[21680   416]\n",
      " [   12  1759]]\n",
      "accuracy\n",
      "0.9820672895629949\n",
      "precision\n",
      "0.8087356321839081\n",
      "recall\n",
      "0.9932241671372106\n",
      "f1\n",
      "0.8915357323872276\n",
      "AUC\n",
      "0.9871986150675192\n",
      "None\n",
      "\n",
      "Ahora con el dataset de Enero\n",
      "number of ones: 1972\n",
      "number of zeros: 90739\n",
      "ratio of ones: 2.127%\n",
      "\n",
      "None\n",
      "\n",
      "\n",
      "\n",
      "\n",
      "\n"
     ]
    },
    {
     "data": {
      "image/png": "[encoded data removed]",
      "text/plain": [
       "<Figure size 432x288 with 1 Axes>"
      ]
     },
     "metadata": {
      "needs_background": "light"
     },
     "output_type": "display_data"
    }
   ],
   "source": [
    "print('\\n RANDOM FOREST')\n",
    "for method in dict_methods:\n",
    "    print('\\n\\n METHOD: {}'.format(method)) \n",
    "    print(check_vars_selected(dict_methods[method], classifier='randomForest')) \n",
    "    print('\\n\\n\\n\\n') "
   ]
  },
  {
   "cell_type": "code",
   "execution_count": null,
   "metadata": {},
   "outputs": [],
   "source": []
  },
  {
   "cell_type": "markdown",
   "metadata": {},
   "source": [
    "###### Observaciones:\n",
    "    1. En regresión logística, si se observa la matriz confusión, empatan 'chi2' y 'lsvc' con 12 falsos negativos y 416 falsos positivos. Mientras que 'trees' queda con 12 falsos negativos y 419 falsos positivos.\n",
    "    2. En Random Forest, hay un claro vencedor 'trees' con 12 FN y 416 FP. Aunque le siguen muy de cerca 'chi2' y 'lsvc' con mismo FPs y 13, 15 FNs, respectivamente."
   ]
  },
  {
   "cell_type": "markdown",
   "metadata": {},
   "source": [
    "### Cualquiera de los 3 modelos es bueno.\n",
    "Sin embargo, dado que es una prioridad usar el menor de número de variables para ganar interpretabilidad, elijo las variables propuesta por 'trees'"
   ]
  },
  {
   "cell_type": "code",
   "execution_count": null,
   "metadata": {},
   "outputs": [],
   "source": []
  },
  {
   "cell_type": "code",
   "execution_count": 60,
   "metadata": {},
   "outputs": [
    {
     "data": {
      "text/html": [
       "<div>\n",
       "<style scoped>\n",
       "    .dataframe tbody tr th:only-of-type {\n",
       "        vertical-align: middle;\n",
       "    }\n",
       "\n",
       "    .dataframe tbody tr th {\n",
       "        vertical-align: top;\n",
       "    }\n",
       "\n",
       "    .dataframe thead th {\n",
       "        text-align: right;\n",
       "    }\n",
       "</style>\n",
       "<table border=\"1\" class=\"dataframe\">\n",
       "  <thead>\n",
       "    <tr style=\"text-align: right;\">\n",
       "      <th></th>\n",
       "      <th>number of NAs</th>\n",
       "      <th>con_4_NAs_en_fila</th>\n",
       "      <th>incidencia</th>\n",
       "      <th>descuentos</th>\n",
       "      <th>tiene_linea(s)_en_impago</th>\n",
       "      <th>Mes_del_dataset</th>\n",
       "      <th>¿Abandona?</th>\n",
       "    </tr>\n",
       "  </thead>\n",
       "  <tbody>\n",
       "    <tr>\n",
       "      <th>0</th>\n",
       "      <td>5</td>\n",
       "      <td>0</td>\n",
       "      <td>0.0</td>\n",
       "      <td>0.0</td>\n",
       "      <td>0</td>\n",
       "      <td>Diciembre</td>\n",
       "      <td>0.0</td>\n",
       "    </tr>\n",
       "    <tr>\n",
       "      <th>1</th>\n",
       "      <td>4</td>\n",
       "      <td>1</td>\n",
       "      <td>0.0</td>\n",
       "      <td>1.0</td>\n",
       "      <td>0</td>\n",
       "      <td>Diciembre</td>\n",
       "      <td>0.0</td>\n",
       "    </tr>\n",
       "  </tbody>\n",
       "</table>\n",
       "</div>"
      ],
      "text/plain": [
       "   number of NAs  con_4_NAs_en_fila  incidencia  descuentos  \\\n",
       "0              5                  0         0.0         0.0   \n",
       "1              4                  1         0.0         1.0   \n",
       "\n",
       "   tiene_linea(s)_en_impago Mes_del_dataset  ¿Abandona?  \n",
       "0                         0       Diciembre         0.0  \n",
       "1                         0       Diciembre         0.0  "
      ]
     },
     "execution_count": 60,
     "metadata": {},
     "output_type": "execute_result"
    }
   ],
   "source": [
    "data_trees=trees\n",
    "data_trees.head(2) "
   ]
  },
  {
   "cell_type": "code",
   "execution_count": null,
   "metadata": {},
   "outputs": [],
   "source": []
  },
  {
   "cell_type": "code",
   "execution_count": null,
   "metadata": {},
   "outputs": [],
   "source": []
  },
  {
   "cell_type": "markdown",
   "metadata": {},
   "source": [
    "# Interpretación de las variables:\n",
    "###### Obtener y explicar las claves (a través de las variables…) de la marcha de los clientes en la compañía:"
   ]
  },
  {
   "cell_type": "code",
   "execution_count": 61,
   "metadata": {
    "scrolled": false
   },
   "outputs": [
    {
     "data": {
      "image/png": "[encoded data removed]",
      "text/plain": [
       "<Figure size 432x288 with 2 Axes>"
      ]
     },
     "metadata": {
      "needs_background": "light"
     },
     "output_type": "display_data"
    },
    {
     "data": {
      "image/png": "[encoded data removed]",
      "text/plain": [
       "<Figure size 432x288 with 2 Axes>"
      ]
     },
     "metadata": {
      "needs_background": "light"
     },
     "output_type": "display_data"
    },
    {
     "data": {
      "image/png": "[encoded data removed]",
      "text/plain": [
       "<Figure size 432x288 with 2 Axes>"
      ]
     },
     "metadata": {
      "needs_background": "light"
     },
     "output_type": "display_data"
    },
    {
     "data": {
      "image/png": "[encoded data removed]",
      "text/plain": [
       "<Figure size 432x288 with 2 Axes>"
      ]
     },
     "metadata": {
      "needs_background": "light"
     },
     "output_type": "display_data"
    },
    {
     "data": {
      "image/png": "[encoded data removed]",
      "text/plain": [
       "<Figure size 432x288 with 2 Axes>"
      ]
     },
     "metadata": {
      "needs_background": "light"
     },
     "output_type": "display_data"
    }
   ],
   "source": [
    "names=data_trees.columns[list(pd.DataFrame(data_trees.columns).apply(lambda x: x[0] not in ['Mes_del_dataset','¿Abandona?'], axis=1))]                                   \n",
    "for i in names:\n",
    "    proporciones_final(i, '¿Abandona?', data)"
   ]
  },
  {
   "cell_type": "markdown",
   "metadata": {},
   "source": [
    "#### Candidatos a dejar la empresa:\n",
    "    1. Clientes con líneas en impago (variable: 'tiene_linea(s)_en_impago').\n",
    "    2. Clientes con incidencias/reclamaciones (variable: incidencia).\n",
    "    5. Clientes que no tienen ningún tipo de descuento (variable: descuentos).\n",
    "    6. Clientes que en su fila de variables tiene 4 NAs (Que es una combinación (suma) de las anteriores). (variables: 'con_4_NAs_en_fila' y 'number_of_NAs')"
   ]
  },
  {
   "cell_type": "code",
   "execution_count": null,
   "metadata": {},
   "outputs": [],
   "source": []
  },
  {
   "cell_type": "markdown",
   "metadata": {},
   "source": [
    "### Antes de lanzar modelos, voy a comprobar que no hay NAs\n",
    "##### Añado 'Mes del dataset' que luego usaré para hacer la partición Enero/Febrero al lanzar modelos"
   ]
  },
  {
   "cell_type": "code",
   "execution_count": 62,
   "metadata": {},
   "outputs": [
    {
     "data": {
      "text/plain": [
       "number of NAs               0\n",
       "con_4_NAs_en_fila           0\n",
       "incidencia                  0\n",
       "descuentos                  0\n",
       "tiene_linea(s)_en_impago    0\n",
       "Mes_del_dataset             0\n",
       "¿Abandona?                  0\n",
       "dtype: int64"
      ]
     },
     "execution_count": 62,
     "metadata": {},
     "output_type": "execute_result"
    }
   ],
   "source": [
    "data_trees.isnull().sum() "
   ]
  },
  {
   "cell_type": "code",
   "execution_count": null,
   "metadata": {},
   "outputs": [],
   "source": []
  },
  {
   "cell_type": "code",
   "execution_count": null,
   "metadata": {},
   "outputs": [],
   "source": []
  },
  {
   "cell_type": "markdown",
   "metadata": {},
   "source": [
    "#### Añado el Id del cliente como índice del data frame"
   ]
  },
  {
   "cell_type": "code",
   "execution_count": 63,
   "metadata": {},
   "outputs": [
    {
     "data": {
      "text/html": [
       "<div>\n",
       "<style scoped>\n",
       "    .dataframe tbody tr th:only-of-type {\n",
       "        vertical-align: middle;\n",
       "    }\n",
       "\n",
       "    .dataframe tbody tr th {\n",
       "        vertical-align: top;\n",
       "    }\n",
       "\n",
       "    .dataframe thead th {\n",
       "        text-align: right;\n",
       "    }\n",
       "</style>\n",
       "<table border=\"1\" class=\"dataframe\">\n",
       "  <thead>\n",
       "    <tr style=\"text-align: right;\">\n",
       "      <th></th>\n",
       "      <th>number of NAs</th>\n",
       "      <th>con_4_NAs_en_fila</th>\n",
       "      <th>incidencia</th>\n",
       "      <th>descuentos</th>\n",
       "      <th>tiene_linea(s)_en_impago</th>\n",
       "      <th>Mes_del_dataset</th>\n",
       "      <th>¿Abandona?</th>\n",
       "    </tr>\n",
       "    <tr>\n",
       "      <th>id</th>\n",
       "      <th></th>\n",
       "      <th></th>\n",
       "      <th></th>\n",
       "      <th></th>\n",
       "      <th></th>\n",
       "      <th></th>\n",
       "      <th></th>\n",
       "    </tr>\n",
       "  </thead>\n",
       "  <tbody>\n",
       "    <tr>\n",
       "      <th>1</th>\n",
       "      <td>5</td>\n",
       "      <td>0</td>\n",
       "      <td>0.0</td>\n",
       "      <td>0.0</td>\n",
       "      <td>0</td>\n",
       "      <td>Diciembre</td>\n",
       "      <td>0.0</td>\n",
       "    </tr>\n",
       "    <tr>\n",
       "      <th>2</th>\n",
       "      <td>4</td>\n",
       "      <td>1</td>\n",
       "      <td>0.0</td>\n",
       "      <td>1.0</td>\n",
       "      <td>0</td>\n",
       "      <td>Diciembre</td>\n",
       "      <td>0.0</td>\n",
       "    </tr>\n",
       "  </tbody>\n",
       "</table>\n",
       "</div>"
      ],
      "text/plain": [
       "    number of NAs  con_4_NAs_en_fila  incidencia  descuentos  \\\n",
       "id                                                             \n",
       "1               5                  0         0.0         0.0   \n",
       "2               4                  1         0.0         1.0   \n",
       "\n",
       "    tiene_linea(s)_en_impago Mes_del_dataset  ¿Abandona?  \n",
       "id                                                        \n",
       "1                          0       Diciembre         0.0  \n",
       "2                          0       Diciembre         0.0  "
      ]
     },
     "execution_count": 63,
     "metadata": {},
     "output_type": "execute_result"
    }
   ],
   "source": [
    "id_values=pd.read_csv('full.csv')['id'] \n",
    "data_trees.index=id_values\n",
    "data_trees.head(2) "
   ]
  },
  {
   "cell_type": "code",
   "execution_count": null,
   "metadata": {},
   "outputs": [],
   "source": []
  },
  {
   "cell_type": "markdown",
   "metadata": {},
   "source": [
    "# Tiro modelos\n",
    "###### Uso random forest porque es el modelo que me dio mejor resultado para data_trees"
   ]
  },
  {
   "cell_type": "code",
   "execution_count": 64,
   "metadata": {},
   "outputs": [],
   "source": [
    "from sklearn.ensemble import RandomForestClassifier\n",
    "from sklearn.model_selection import cross_val_score\n",
    "from sklearn.model_selection import GridSearchCV\n",
    "from sklearn.metrics import accuracy_score, auc, confusion_matrix, f1_score, precision_score, recall_score, roc_curve"
   ]
  },
  {
   "cell_type": "code",
   "execution_count": 65,
   "metadata": {},
   "outputs": [],
   "source": [
    "def evaluacion_modelo(dataset, model):\n",
    "    \n",
    "    dataset=dataset\n",
    "    data_diciembre=dataset.loc[dataset['Mes_del_dataset']=='Diciembre',list(pd.DataFrame(dataset.columns).apply(lambda x: x[0] not in ['Mes_del_dataset'], axis=1))] \n",
    "    restOfVars=data_diciembre.loc[:, list(pd.DataFrame(data_diciembre.columns).apply(lambda x: x[0] not in ['TV_tv-total', 'num_lineas_5','¿Abandona?'], axis=1))]  \n",
    "    target=data_diciembre['¿Abandona?']\n",
    "    data_diciembre=pd.concat([restOfVars, target.reindex(target.index)], axis=1) \n",
    "\n",
    "    X, y = data_diciembre.iloc[:,:-1], data_diciembre.iloc[:,-1] \n",
    "    scaler = MinMaxScaler()    \n",
    "    X=scaler.fit_transform(X) \n",
    "\n",
    "    X_train, X_test, y_train, y_test = train_test_split(X, y, random_state=0, stratify=y)\n",
    "    classifier = model.fit(X_train, y_train)\n",
    "    y_pred     = classifier.predict(X_test) \n",
    "\n",
    "    print(saca_metricas(y_test, y_pred)) \n",
    "    \n",
    "    print('\\nAhora con el dataset de Enero')\n",
    "    data_enero=dataset.loc[dataset['Mes_del_dataset']=='Enero',list(pd.DataFrame(dataset.columns).apply(lambda x: x[0] not in ['Mes_del_dataset'], axis=1))] \n",
    "    X_test_enero=data_enero.loc[:,list(pd.DataFrame(data_enero.columns).apply(lambda x: x[0] not in ['¿Abandona?'], axis=1))]\n",
    "    scaler = MinMaxScaler()    \n",
    "    X_test_enero=scaler.fit_transform(X_test_enero) \n",
    "\n",
    "    print('================================================================')\n",
    "    print('Predicción de los clientes que se van a marchar en Febrero: \\nsi es \"1\" cliente abadona, \"0\" si continúa')\n",
    "    print('================================================================') \n",
    "    print()\n",
    "    print('X_test_enero shape: {}'.format(X_test_enero.shape))\n",
    "    print() \n",
    "    y_pred_Enero=classifier.predict(X_test_enero)\n",
    "\n",
    "    print('number of ones: {}'.format(len(y_pred_Enero[y_pred_Enero==1]))) \n",
    "    print('number of zeros: {}'.format(len(y_pred_Enero[y_pred_Enero==0]))) \n",
    "    print('ratio of ones: {}%'.format(round((len(y_pred_Enero[y_pred_Enero==1])/len(y_pred_Enero))*100,3)))    \n",
    "    print()\n",
    "#     print(pd.DataFrame(y_pred_Enero, index=data_enero.index) )\n",
    "\n",
    "    y_pred_proba_Enero=classifier.predict_proba(X_test_enero)\n",
    "    print()\n",
    "    print('probabilities')\n",
    "    probs=pd.DataFrame(y_pred_proba_Enero, index=data_enero.index) \n",
    "    probs.columns=['prob de NO abandonar (\"¿Abandona?\"=0)', 'prob de abandonar (\"¿Abandona?\"=1)']\n",
    "    print(pd.DataFrame(probs)) "
   ]
  },
  {
   "cell_type": "code",
   "execution_count": 66,
   "metadata": {},
   "outputs": [
    {
     "name": "stdout",
     "output_type": "stream",
     "text": [
      "matriz de confusión\n",
      "[[21680   416]\n",
      " [   12  1759]]\n",
      "accuracy\n",
      "0.9820672895629949\n",
      "precision\n",
      "0.8087356321839081\n",
      "recall\n",
      "0.9932241671372106\n",
      "f1\n",
      "0.8915357323872276\n",
      "AUC\n",
      "0.9871986150675192\n",
      "None\n",
      "\n",
      "Ahora con el dataset de Enero\n",
      "================================================================\n",
      "Predicción de los clientes que se van a marchar en Febrero: \n",
      "si es \"1\" cliente abadona, \"0\" si continúa\n",
      "================================================================\n",
      "\n",
      "X_test_enero shape: (92711, 5)\n",
      "\n",
      "number of ones: 1972\n",
      "number of zeros: 90739\n",
      "ratio of ones: 2.127%\n",
      "\n",
      "\n",
      "probabilities\n",
      "        prob de NO abandonar (\"¿Abandona?\"=0)  \\\n",
      "id                                              \n",
      "1                                    0.999559   \n",
      "2                                    0.999837   \n",
      "3                                    0.999837   \n",
      "4                                    0.999559   \n",
      "6                                    0.713905   \n",
      "...                                       ...   \n",
      "99996                                0.999523   \n",
      "99997                                0.998519   \n",
      "99998                                0.999559   \n",
      "99999                                0.713905   \n",
      "100000                               0.625452   \n",
      "\n",
      "        prob de abandonar (\"¿Abandona?\"=1)  \n",
      "id                                          \n",
      "1                                 0.000441  \n",
      "2                                 0.000163  \n",
      "3                                 0.000163  \n",
      "4                                 0.000441  \n",
      "6                                 0.286095  \n",
      "...                                    ...  \n",
      "99996                             0.000477  \n",
      "99997                             0.001481  \n",
      "99998                             0.000441  \n",
      "99999                             0.286095  \n",
      "100000                            0.374548  \n",
      "\n",
      "[92711 rows x 2 columns]\n"
     ]
    },
    {
     "data": {
      "image/png": "[encoded data removed]",
      "text/plain": [
       "<Figure size 432x288 with 1 Axes>"
      ]
     },
     "metadata": {
      "needs_background": "light"
     },
     "output_type": "display_data"
    }
   ],
   "source": [
    "model=RandomForestClassifier(n_estimators=100, random_state=0, n_jobs=-1)\n",
    "evaluacion_modelo(data_trees, model)"
   ]
  },
  {
   "cell_type": "markdown",
   "metadata": {},
   "source": [
    "### Idenfico la mejor combinación de parámetros con GridSearchCV"
   ]
  },
  {
   "cell_type": "code",
   "execution_count": 71,
   "metadata": {},
   "outputs": [],
   "source": [
    "# Defino un modelo de random forest:\n",
    "rand_forest_model = RandomForestClassifier(random_state=0, n_jobs=-1, verbose=1)\n",
    "# n_jobs=-1 para hacer computación en paralelo\n",
    "\n",
    "grid_param = {\n",
    "    \"n_estimators\": [100, 300, 500],\n",
    "    'criterion': ['gini', 'entropy'],\n",
    "    \"max_depth\": [5,8,15],\n",
    "    'bootstrap': [True, False],\n",
    "    \"min_samples_leaf\" : [1, 2, 4]\n",
    "}\n",
    "\n",
    "# Aplicar el grid sobre el modelo:\n",
    "model_grid = GridSearchCV(estimator=rand_forest_model,\n",
    "                     param_grid=grid_param,\n",
    "                     scoring='accuracy',\n",
    "                     cv=5,\n",
    "                     n_jobs=-1)"
   ]
  },
  {
   "cell_type": "code",
   "execution_count": 72,
   "metadata": {},
   "outputs": [],
   "source": [
    "dataset=data_trees\n",
    "data_diciembre=dataset.loc[dataset['Mes_del_dataset']=='Diciembre',list(pd.DataFrame(dataset.columns).apply(lambda x: x[0] not in ['Mes_del_dataset'], axis=1))] \n",
    "restOfVars=data_diciembre.loc[:, list(pd.DataFrame(data_diciembre.columns).apply(lambda x: x[0] not in ['TV_tv-total', 'num_lineas_5','¿Abandona?'], axis=1))]  \n",
    "target=data_diciembre['¿Abandona?']\n",
    "data_diciembre=pd.concat([restOfVars, target.reindex(target.index)], axis=1) \n",
    "\n",
    "X, y = data_diciembre.iloc[:,:-1], data_diciembre.iloc[:,-1] \n",
    "scaler = MinMaxScaler()    \n",
    "X=scaler.fit_transform(X) \n",
    "\n",
    "X_train, X_test, y_train, y_test = train_test_split(X, y, random_state=0, stratify=y)\n",
    "classifier = model_grid.fit(X_train, y_train)"
   ]
  },
  {
   "cell_type": "markdown",
   "metadata": {},
   "source": [
    "###### Observo los resultados del mejor modelo (el accuracy se mide con el train set, por eso los resultados son un poco más altos que con el test set)"
   ]
  },
  {
   "cell_type": "code",
   "execution_count": 75,
   "metadata": {},
   "outputs": [
    {
     "name": "stdout",
     "output_type": "stream",
     "text": [
      "0.9843016759776537\n",
      "{'bootstrap': True, 'criterion': 'gini', 'max_depth': 5, 'min_samples_leaf': 1, 'n_estimators': 100}\n",
      "RandomForestClassifier(bootstrap=True, ccp_alpha=0.0, class_weight=None,\n",
      "                       criterion='gini', max_depth=5, max_features='auto',\n",
      "                       max_leaf_nodes=None, max_samples=None,\n",
      "                       min_impurity_decrease=0.0, min_impurity_split=None,\n",
      "                       min_samples_leaf=1, min_samples_split=2,\n",
      "                       min_weight_fraction_leaf=0.0, n_estimators=100,\n",
      "                       n_jobs=-1, oob_score=False, random_state=0, verbose=0,\n",
      "                       warm_start=False)\n"
     ]
    }
   ],
   "source": [
    "print(classifier.best_score_)\n",
    "print(classifier.best_params_)\n",
    "print(classifier.best_estimator_) "
   ]
  },
  {
   "cell_type": "code",
   "execution_count": 84,
   "metadata": {},
   "outputs": [
    {
     "name": "stdout",
     "output_type": "stream",
     "text": [
      "matriz de confusión\n",
      "[[21680   416]\n",
      " [   12  1759]]\n",
      "accuracy\n",
      "0.9820672895629949\n",
      "precision\n",
      "0.8087356321839081\n",
      "recall\n",
      "0.9932241671372106\n",
      "f1\n",
      "0.8915357323872276\n",
      "AUC\n",
      "0.9871986150675192\n",
      "None\n",
      "\n",
      "Ahora con el dataset de Enero\n",
      "================================================================\n",
      "Predicción de los clientes que se van a marchar en Febrero: \n",
      "si es \"1\" cliente abadona, \"0\" si continúa\n",
      "================================================================\n",
      "\n",
      "X_test_enero shape: (92711, 5)\n",
      "\n",
      "number of ones: 2192\n",
      "number of zeros: 90519\n",
      "ratio of ones: 2.364%\n",
      "\n",
      "\n",
      "probabilities\n",
      "        prob de NO abandonar (\"¿Abandona?\"=0)  \\\n",
      "id                                              \n",
      "1                                    0.999559   \n",
      "2                                    0.999837   \n",
      "3                                    0.999837   \n",
      "4                                    0.999559   \n",
      "6                                    0.755650   \n",
      "...                                       ...   \n",
      "99996                                0.999480   \n",
      "99997                                0.998519   \n",
      "99998                                0.999559   \n",
      "99999                                0.755650   \n",
      "100000                               0.658937   \n",
      "\n",
      "        prob de abandonar (\"¿Abandona?\"=1)  \n",
      "id                                          \n",
      "1                                 0.000441  \n",
      "2                                 0.000163  \n",
      "3                                 0.000163  \n",
      "4                                 0.000441  \n",
      "6                                 0.244350  \n",
      "...                                    ...  \n",
      "99996                             0.000520  \n",
      "99997                             0.001481  \n",
      "99998                             0.000441  \n",
      "99999                             0.244350  \n",
      "100000                            0.341063  \n",
      "\n",
      "[92711 rows x 2 columns]\n"
     ]
    },
    {
     "data": {
      "image/png": "[encoded data removed]",
      "text/plain": [
       "<Figure size 432x288 with 1 Axes>"
      ]
     },
     "metadata": {
      "needs_background": "light"
     },
     "output_type": "display_data"
    }
   ],
   "source": [
    "my_best_model=classifier.best_estimator_\n",
    "evaluacion_modelo(data_trees, my_best_model)"
   ]
  },
  {
   "cell_type": "code",
   "execution_count": null,
   "metadata": {},
   "outputs": [],
   "source": []
  },
  {
   "cell_type": "code",
   "execution_count": null,
   "metadata": {},
   "outputs": [],
   "source": []
  },
  {
   "cell_type": "code",
   "execution_count": null,
   "metadata": {},
   "outputs": [],
   "source": []
  },
  {
   "cell_type": "code",
   "execution_count": null,
   "metadata": {},
   "outputs": [],
   "source": []
  },
  {
   "cell_type": "code",
   "execution_count": null,
   "metadata": {},
   "outputs": [],
   "source": []
  },
  {
   "cell_type": "code",
   "execution_count": null,
   "metadata": {},
   "outputs": [],
   "source": []
  },
  {
   "cell_type": "code",
   "execution_count": null,
   "metadata": {},
   "outputs": [],
   "source": []
  },
  {
   "cell_type": "markdown",
   "metadata": {},
   "source": [
    "# Red Neuronal desde cero con python (opcional)"
   ]
  },
  {
   "cell_type": "markdown",
   "metadata": {},
   "source": [
    "Vectorizo y traspongo los datos para luego poder hacer la multiplicación vectorial de la activación_cero (mi fila de datos), con los pesos de la siguiente capa (la capa 1)."
   ]
  },
  {
   "cell_type": "code",
   "execution_count": 67,
   "metadata": {},
   "outputs": [],
   "source": [
    "dataset=data_trees\n",
    "data_diciembre=dataset.loc[dataset['Mes_del_dataset']=='Diciembre',list(pd.DataFrame(dataset.columns).apply(lambda x: x[0] not in ['Mes_del_dataset'], axis=1))] \n",
    "X, y = data_diciembre.iloc[:,data_diciembre.columns!='¿Abandona?'], data_diciembre.iloc[:,data_diciembre.columns=='¿Abandona?']\n",
    "\n",
    "scaler = MinMaxScaler()    \n",
    "X=scaler.fit_transform(X) \n",
    "\n",
    "X_train, X_test, y_train, y_test = train_test_split(X, y, random_state=0, stratify=y)\n",
    "X_train, X_test, y_train, y_test = (np.array(X_train).T, np.array(X_test).T, \n",
    "                                    np.array(y_train).reshape(1,-1), \n",
    "                                    np.array(y_test).reshape(1,-1)) "
   ]
  },
  {
   "cell_type": "markdown",
   "metadata": {},
   "source": [
    "1. Varias funciones:\n",
    "    1. La inicialización de los pesos depende del numero de capas que queramos crear. El argumento 'layer_dims' hay que pasarlo como lista y el primer elemento tiene que ser igual al número de 'input features' (las variables).\n",
    "    2. Hacemos la computación matricial de las distintas capas, guardando los resultados en diccionarios y calculamos el coste. Este coste es una función logarítmica de la probabilidad que nos da la sigmoide en la última capa (y_pred) y el valor real de la target en esa observación. Uso una función logarítmica en la función de costes porque ayuda a la propagación_hacia_atrás encontrar el mínimo.\n",
    "    3. Hacemos la propagación_hacia_atrás usando la regla de cadena. Es importante mencionar que hemos usado la sigmoide como función activación de la última capa y ReLU para el resto. Una gran ventaja de usar la ReLU es que simplifica mucho la derivación."
   ]
  },
  {
   "cell_type": "code",
   "execution_count": 68,
   "metadata": {},
   "outputs": [],
   "source": [
    "def initialization(layer_dims): #layer_dims has to be a list\n",
    "    np.random.seed(1)  # to reproduce values\n",
    "    parameters={}\n",
    "    for l in range(1,len(layer_dims)):\n",
    "        parameters['W'+str(l)]=np.random.randn(layer_dims[l],layer_dims[l-1])*0.01 \n",
    "        parameters['b'+str(l)]=np.zeros((layer_dims[l],1))\n",
    "    return parameters\n",
    "\n",
    "\n",
    "# sigmoid as activation function in last layer, ReLU for remaining ones\n",
    "def forward_propagation_AND_cost_computation(X, Y, parameters):\n",
    "    forward_param={}\n",
    "    A_prev=X\n",
    "    layers=int(len(parameters)/2) \n",
    "    for l in range(1,layers): \n",
    "        forward_param['Z'+str(l)]=np.dot(parameters['W'+str(l)], A_prev)+parameters['b'+str(l)] \n",
    "        forward_param['A'+str(l)]=np.maximum(0, forward_param['Z'+str(l)]) #ReLU activation function\n",
    "        A_prev=forward_param['A'+str(l)]\n",
    "\n",
    "    #Last layer\n",
    "    forward_param['Z'+str(layers)]=np.dot(parameters['W'+str(layers)], \n",
    "                                          A_prev)+parameters['b'+str(layers)]    \n",
    "    forward_param['A'+str(layers)]=1/(1+np.exp(-(forward_param['Z'+str(layers)])))  \n",
    "\n",
    "    Y=Y.reshape(1,-1) \n",
    "    \n",
    "    AL=forward_param['A'+str(int(len(parameters)/2))].reshape(1,-1)\n",
    "    #str(len(forward_param)/2)[0] returns '2.0'[0], which is only '2'\n",
    "    m=Y.shape[1] \n",
    "\n",
    "    cost=-(1/m)*np.sum(Y*np.log(AL)+(1-Y)*np.log(1-AL))   \n",
    "    \n",
    "    return cost, forward_param, parameters\n",
    "\n",
    "\n",
    "\n",
    "def backward_propagation(X, Y, parameters):\n",
    "    loss, forward_param, weights = forward_propagation_AND_cost_computation(X, Y, parameters) #'forward_param' -> 'As' and 'Zs'\n",
    "    grads={}\n",
    "    last_layer = int(len(forward_param)/2) \n",
    "    m=Y.shape[1] \n",
    "    forward_param['A0']=X\n",
    "    \n",
    "    grads['dZ'+str(last_layer)]=forward_param['A'+str(last_layer)] - Y #here activation: sigmoid.\n",
    "                                                                       #following layers: ReLU\n",
    "    previous_dZ=grads['dZ'+str(last_layer)]\n",
    "    for l in reversed(range(1,last_layer+1)):\n",
    "        grads['dW'+str(l)] = ((1/m) * np.dot(previous_dZ, \n",
    "                                               forward_param['A'+str(l-1)].T))   \n",
    "        grads['db'+str(l)] = (1/m) * np.sum(previous_dZ, axis=1, keepdims=True)\n",
    "        \n",
    "        if l>1:\n",
    "            grads['dZ'+str(l-1)] = (np.dot(weights['W'+str(l)].T, previous_dZ) * \n",
    "                                    np.array(forward_param['Z'+str(l-1)]>=0, dtype=float))    \n",
    "            \n",
    "            previous_dZ = grads['dZ'+str(l-1)]\n",
    "            \n",
    "    return grads"
   ]
  },
  {
   "cell_type": "markdown",
   "metadata": {},
   "source": [
    "Actualizamos los parámetros de la forma clásica."
   ]
  },
  {
   "cell_type": "code",
   "execution_count": 69,
   "metadata": {},
   "outputs": [],
   "source": [
    "# standard update of parameters\n",
    "def gradient_update(parameters, grads, learning_rate=1):\n",
    "    for l in range(1, int(len(parameters)/2+1)):    \n",
    "        parameters['W'+str(l)] = parameters['W'+str(l)] - learning_rate * grads['dW'+str(l)]\n",
    "        parameters['b'+str(l)] = parameters['b'+str(l)] - learning_rate * grads['db'+str(l)] \n",
    "    return parameters"
   ]
  },
  {
   "cell_type": "markdown",
   "metadata": {},
   "source": [
    "Problema de actualizar los parámetros de la forma clásica: \n",
    "\n",
    "1. Sería interesante que el 'learning_rate' estuviera influenciado por 'learning_rates' de previas iteraciones. De esta manera, se podría conseguir un efecto suavizador en el aprendizaje.\n",
    "\n",
    "\n",
    "2. Además, sería buena idea incluir unos parámetros que, a su vez penalizaran parámetros de la matriz de pesos (de las distintas capas), cuando estos tengan valores muy altos. De esta manera, también conseguir un efecto suavizador en el aprendizaje."
   ]
  },
  {
   "cell_type": "markdown",
   "metadata": {},
   "source": [
    "La actualización de parámetros tipo Adam resuleve este problema:\n",
    "\n",
    "Esta es la fórmula general, para $l = 1, ..., L$: \n",
    "\n",
    "$$\\begin{cases}\n",
    "v_{W^{[l]}} = \\beta_1 v_{W^{[l]}} + (1 - \\beta_1) \\frac{\\partial J }{ \\partial W^{[l]} } \\\\\n",
    "v^{corrected}_{W^{[l]}} = \\frac{v_{W^{[l]}}}{1 - (\\beta_1)^t} \\\\\n",
    "s_{W^{[l]}} = \\beta_2 s_{W^{[l]}} + (1 - \\beta_2) (\\frac{\\partial J }{\\partial W^{[l]} })^2 \\\\\n",
    "s^{corrected}_{W^{[l]}} = \\frac{s_{W^{[l]}}}{1 - (\\beta_2)^t} \\\\\n",
    "W^{[l]} = W^{[l]} - \\alpha \\frac{v^{corrected}_{W^{[l]}}}{\\sqrt{s^{corrected}_{W^{[l]}}}+\\varepsilon}\n",
    "\\end{cases}$$ "
   ]
  },
  {
   "cell_type": "code",
   "execution_count": 70,
   "metadata": {},
   "outputs": [],
   "source": [
    "def initialize_adam(parameters) :\n",
    "    L = len(parameters) // 2 # number of layers in the neural networks\n",
    "    v = {}\n",
    "    s = {}\n",
    "\n",
    "    for l in range(L):\n",
    "        v[\"dW\" + str(l+1)] = np.zeros(parameters['W'+str(l+1)].shape)\n",
    "        v[\"db\" + str(l+1)] = np.zeros(parameters['b'+str(l+1)].shape)\n",
    "        s[\"dW\" + str(l+1)] = np.zeros(parameters['W'+str(l+1)].shape)\n",
    "        s[\"db\" + str(l+1)] = np.zeros(parameters['b'+str(l+1)].shape)\n",
    "    return v, s\n",
    "\n",
    "\n",
    "\n",
    "\n",
    "def update_parameters_with_adam(parameters, grads, v, s, t, learning_rate = 0.01,\n",
    "                                beta1 = 0.9, beta2 = 0.999,  epsilon = 1e-8):\n",
    "    L = len(parameters) // 2                 # number of layers in the neural networks\n",
    "    v_corrected = {}                         # Initializing first moment estimate, python dictionary\n",
    "    s_corrected = {}                         # Initializing second moment estimate, python dictionary\n",
    "    \n",
    "    # Perform Adam update on all parameters\n",
    "    for l in range(L):\n",
    "        v[\"dW\" + str(l+1)] = beta1*v['dW'+str(l+1)] + (1-beta1)*grads['dW'+str(l+1)]\n",
    "        v[\"db\" + str(l+1)] = beta1*v['db'+str(l+1)] + (1-beta1)*grads['db'+str(l+1)]\n",
    "\n",
    "        v_corrected[\"dW\" + str(l+1)] = v[\"dW\" + str(l+1)]/(1-beta1**t)\n",
    "        v_corrected[\"db\" + str(l+1)] = v[\"db\" + str(l+1)]/(1-beta1**t)\n",
    "\n",
    "        s[\"dW\" + str(l+1)] = beta2*s['dW'+str(l+1)] + (1-beta2)*(grads['dW'+str(l+1)]**2)\n",
    "        s[\"db\" + str(l+1)] = beta2*s['db'+str(l+1)] + (1-beta2)*(grads['db'+str(l+1)]**2)\n",
    "\n",
    "        s_corrected[\"dW\" + str(l+1)] = s[\"dW\" + str(l+1)]/(1-beta2**t)\n",
    "        s_corrected[\"db\" + str(l+1)] = s[\"db\" + str(l+1)]/(1-beta2**t)\n",
    "\n",
    "        parameters[\"W\" + str(l+1)] = parameters['W'+str(l+1)] - (learning_rate*(v_corrected['dW'+str(l+1)]/(np.sqrt(s_corrected['dW'+str(l+1)])+epsilon)))  \n",
    "        parameters[\"b\" + str(l+1)] = parameters['b'+str(l+1)] - (learning_rate*(v_corrected['db'+str(l+1)]/(np.sqrt(s_corrected['db'+str(l+1)])+epsilon)))\n",
    "\n",
    "    return parameters"
   ]
  },
  {
   "cell_type": "markdown",
   "metadata": {},
   "source": [
    "Función para sacar la y_pred"
   ]
  },
  {
   "cell_type": "code",
   "execution_count": 71,
   "metadata": {},
   "outputs": [],
   "source": [
    "def predict(X, parameters):\n",
    "    forward_param={}\n",
    "    A_prev=X\n",
    "    layers=int(len(parameters)/2) \n",
    "    for l in range(1,layers): \n",
    "        forward_param['Z'+str(l)]=np.dot(parameters['W'+str(l)], A_prev)+parameters['b'+str(l)] \n",
    "        forward_param['A'+str(l)]=np.maximum(0, forward_param['Z'+str(l)]) #ReLU activation function\n",
    "        A_prev=forward_param['A'+str(l)]\n",
    "\n",
    "    #Last layer\n",
    "    forward_param['Z'+str(layers)]=np.dot(parameters['W'+str(layers)], \n",
    "                                          A_prev)+parameters['b'+str(layers)]    \n",
    "    forward_param['A'+str(layers)]=1/(1+np.exp(-(forward_param['Z'+str(layers)])))  \n",
    "    \n",
    "    AL=forward_param['A'+str(int(len(parameters)/2))].reshape(1,-1)\n",
    "\n",
    "    return np.array(AL>0.5, dtype=float) "
   ]
  },
  {
   "cell_type": "markdown",
   "metadata": {},
   "source": [
    "Finalmente montamos el modelo:\n",
    "    1. Hacemos la propagación hacia delante y sacamos los costes con 'forward_propagation_AND_cost_computation()'\n",
    "    2. Calculo las derivadas de cada uno de los pesos de las distintas capas con lo propagación hacia atrás.\n",
    "    3. Uso Adam para modificar los pesos que supuestamente tendrían que reducir la función de costes en la siguiente iteración.\n",
    "    4. Repito el proceso con los nuevos parámetros modificados."
   ]
  },
  {
   "cell_type": "code",
   "execution_count": 72,
   "metadata": {},
   "outputs": [],
   "source": [
    "def L_model(layer_dims, X, Y, number_of_iterations, learning_rate, update_method='adam'):\n",
    "    layer_dims=layer_dims\n",
    "    previous_parameters = initialization(layer_dims)\n",
    "    values=[]\n",
    "    t=0\n",
    "    np.random.seed(6666)\n",
    "    \n",
    "    for i in range(number_of_iterations):\n",
    "        loss, forward_param, previous_parameters = forward_propagation_AND_cost_computation(X, Y, previous_parameters)  \n",
    "        \n",
    "        values.append(loss)\n",
    "        \n",
    "        grads = backward_propagation(X, Y, previous_parameters)\n",
    "        if i%30==0:\n",
    "            print('iteration {}, cost: {}'.format(i,loss)) \n",
    "#             print(forward_param['A'+str(int(len(layer_dims)-1))]) \n",
    "\n",
    "#         previous_parameters = gradient_update(previous_parameters, grads)\n",
    "        if update_method=='adam':\n",
    "            v,s = initialize_adam(previous_parameters)\n",
    "            t = t + 1 # Adam counter\n",
    "            previous_parameters=update_parameters_with_adam(previous_parameters, grads, v, s, t, learning_rate) \n",
    "        else:\n",
    "            previous_parameters = gradient_update(previous_parameters, grads, learning_rate) \n",
    "         \n",
    "    y=Y\n",
    "    y_hat=forward_param['A'+str(int(len(previous_parameters)/2))] \n",
    "    \n",
    "    accuracy=np.array(y==np.array(y_hat>0.5, dtype=float), dtype=float)\n",
    "\n",
    "    print('\\n\\n accuracy train: {}'.format(round(np.sum(accuracy)/len(accuracy[0]),8)))   \n",
    "    \n",
    "    plt.plot(np.squeeze(values))  \n",
    "    plt.ylabel('cost')\n",
    "    plt.xlabel('iterations (per hundreds)')\n",
    "    plt.title(\"Learning Process\")\n",
    "    plt.show() \n",
    "    return previous_parameters"
   ]
  },
  {
   "cell_type": "code",
   "execution_count": null,
   "metadata": {},
   "outputs": [],
   "source": []
  },
  {
   "cell_type": "markdown",
   "metadata": {},
   "source": [
    "El modelo devuelve los pesos ajustados, los cuales usaremos para calcular la y_pred del test set."
   ]
  },
  {
   "cell_type": "code",
   "execution_count": 73,
   "metadata": {},
   "outputs": [
    {
     "name": "stdout",
     "output_type": "stream",
     "text": [
      "iteration 0, cost: 0.6931465532448886\n",
      "iteration 30, cost: 0.3943629315782933\n",
      "iteration 60, cost: 0.08879807600297147\n",
      "iteration 90, cost: 0.06318335802984329\n",
      "iteration 120, cost: 0.05625816070080276\n",
      "iteration 150, cost: 0.05103624626689724\n",
      "\n",
      "\n",
      " accuracy train: 0.98414804\n"
     ]
    },
    {
     "data": {
      "image/png": "[encoded data removed]",
      "text/plain": [
       "<Figure size 432x288 with 1 Axes>"
      ]
     },
     "metadata": {
      "needs_background": "light"
     },
     "output_type": "display_data"
    }
   ],
   "source": [
    "fitted_parameters_adam = L_model(layer_dims=[X_train.shape[0],20,7,1], X=X_train, Y=y_train, \n",
    "                            number_of_iterations=160, learning_rate = 0.01)  "
   ]
  },
  {
   "cell_type": "markdown",
   "metadata": {},
   "source": [
    "### Finalmente, se puede observar las métricas. \n",
    "##### Este modelo es competitivo también"
   ]
  },
  {
   "cell_type": "code",
   "execution_count": 74,
   "metadata": {},
   "outputs": [
    {
     "name": "stdout",
     "output_type": "stream",
     "text": [
      "matriz de confusión\n",
      "[[21677   419]\n",
      " [   12  1759]]\n",
      "accuracy\n",
      "0.9819415929945112\n",
      "precision\n",
      "0.8076216712580349\n",
      "recall\n",
      "0.9932241671372106\n",
      "f1\n",
      "0.8908584451759939\n",
      "AUC\n",
      "0.987130729477367\n"
     ]
    },
    {
     "data": {
      "image/png": "[encoded data removed]",
      "text/plain": [
       "<Figure size 432x288 with 1 Axes>"
      ]
     },
     "metadata": {
      "needs_background": "light"
     },
     "output_type": "display_data"
    }
   ],
   "source": [
    "y_pred=predict(X_test, fitted_parameters_adam) \n",
    "saca_metricas(y_test[0], y_pred[0]) "
   ]
  },
  {
   "cell_type": "code",
   "execution_count": 75,
   "metadata": {},
   "outputs": [],
   "source": [
    "def predict_proba(X, parameters):\n",
    "    forward_param={}\n",
    "    A_prev=X\n",
    "    layers=int(len(parameters)/2) \n",
    "    for l in range(1,layers): \n",
    "        forward_param['Z'+str(l)]=np.dot(parameters['W'+str(l)], A_prev)+parameters['b'+str(l)] \n",
    "        forward_param['A'+str(l)]=np.maximum(0, forward_param['Z'+str(l)]) #ReLU activation function\n",
    "        A_prev=forward_param['A'+str(l)]\n",
    "\n",
    "    #Last layer\n",
    "    forward_param['Z'+str(layers)]=np.dot(parameters['W'+str(layers)], \n",
    "                                          A_prev)+parameters['b'+str(layers)]    \n",
    "    forward_param['A'+str(layers)]=1/(1+np.exp(-(forward_param['Z'+str(layers)])))  \n",
    "    \n",
    "    AL=forward_param['A'+str(int(len(parameters)/2))].reshape(1,-1)\n",
    "\n",
    "    return np.array(AL)"
   ]
  },
  {
   "cell_type": "code",
   "execution_count": 76,
   "metadata": {},
   "outputs": [
    {
     "name": "stdout",
     "output_type": "stream",
     "text": [
      "================================================================\n",
      "Predicción de los clientes que se van a marchar en Febrero: \n",
      "si es \"1\" cliente abadona, \"0\" si continúa\n",
      "================================================================\n",
      "\n",
      "X_test_enero shape: (92711, 5)\n",
      "\n",
      "number of ones: 1960\n",
      "number of zeros: 90751\n",
      "ratio of ones: 2.114%\n",
      "\n",
      "          0\n",
      "id         \n",
      "1       0.0\n",
      "2       0.0\n",
      "3       0.0\n",
      "4       0.0\n",
      "6       0.0\n",
      "...     ...\n",
      "99996   0.0\n",
      "99997   0.0\n",
      "99998   0.0\n",
      "99999   0.0\n",
      "100000  0.0\n",
      "\n",
      "[92711 rows x 1 columns]\n",
      "\n",
      "\n",
      "\n",
      "================================================================\n",
      "probabilities\n",
      "================================================================\n"
     ]
    },
    {
     "data": {
      "text/html": [
       "<div>\n",
       "<style scoped>\n",
       "    .dataframe tbody tr th:only-of-type {\n",
       "        vertical-align: middle;\n",
       "    }\n",
       "\n",
       "    .dataframe tbody tr th {\n",
       "        vertical-align: top;\n",
       "    }\n",
       "\n",
       "    .dataframe thead th {\n",
       "        text-align: right;\n",
       "    }\n",
       "</style>\n",
       "<table border=\"1\" class=\"dataframe\">\n",
       "  <thead>\n",
       "    <tr style=\"text-align: right;\">\n",
       "      <th></th>\n",
       "      <th>probability</th>\n",
       "    </tr>\n",
       "    <tr>\n",
       "      <th>id</th>\n",
       "      <th></th>\n",
       "    </tr>\n",
       "  </thead>\n",
       "  <tbody>\n",
       "    <tr>\n",
       "      <th>1</th>\n",
       "      <td>0.000587</td>\n",
       "    </tr>\n",
       "    <tr>\n",
       "      <th>2</th>\n",
       "      <td>0.000384</td>\n",
       "    </tr>\n",
       "    <tr>\n",
       "      <th>3</th>\n",
       "      <td>0.000384</td>\n",
       "    </tr>\n",
       "    <tr>\n",
       "      <th>4</th>\n",
       "      <td>0.000587</td>\n",
       "    </tr>\n",
       "    <tr>\n",
       "      <th>6</th>\n",
       "      <td>0.023619</td>\n",
       "    </tr>\n",
       "    <tr>\n",
       "      <th>...</th>\n",
       "      <td>...</td>\n",
       "    </tr>\n",
       "    <tr>\n",
       "      <th>99996</th>\n",
       "      <td>0.000003</td>\n",
       "    </tr>\n",
       "    <tr>\n",
       "      <th>99997</th>\n",
       "      <td>0.003090</td>\n",
       "    </tr>\n",
       "    <tr>\n",
       "      <th>99998</th>\n",
       "      <td>0.000587</td>\n",
       "    </tr>\n",
       "    <tr>\n",
       "      <th>99999</th>\n",
       "      <td>0.023619</td>\n",
       "    </tr>\n",
       "    <tr>\n",
       "      <th>100000</th>\n",
       "      <td>0.093331</td>\n",
       "    </tr>\n",
       "  </tbody>\n",
       "</table>\n",
       "<p>92711 rows × 1 columns</p>\n",
       "</div>"
      ],
      "text/plain": [
       "        probability\n",
       "id                 \n",
       "1          0.000587\n",
       "2          0.000384\n",
       "3          0.000384\n",
       "4          0.000587\n",
       "6          0.023619\n",
       "...             ...\n",
       "99996      0.000003\n",
       "99997      0.003090\n",
       "99998      0.000587\n",
       "99999      0.023619\n",
       "100000     0.093331\n",
       "\n",
       "[92711 rows x 1 columns]"
      ]
     },
     "execution_count": 76,
     "metadata": {},
     "output_type": "execute_result"
    }
   ],
   "source": [
    "data_enero=dataset.loc[dataset['Mes_del_dataset']=='Enero',list(pd.DataFrame(dataset.columns).apply(lambda x: x[0] not in ['Mes_del_dataset'], axis=1))] \n",
    "X_test_enero=data_enero.loc[:,list(pd.DataFrame(data_enero.columns).apply(lambda x: x[0] not in ['¿Abandona?'], axis=1))]\n",
    "scaler = MinMaxScaler()    \n",
    "X_test_enero=scaler.fit_transform(X_test_enero) \n",
    "X=np.array(X_test_enero).T\n",
    "\n",
    "print('================================================================')\n",
    "print('Predicción de los clientes que se van a marchar en Febrero: \\nsi es \"1\" cliente abadona, \"0\" si continúa')\n",
    "print('================================================================') \n",
    "print()\n",
    "print('X_test_enero shape: {}'.format(X_test_enero.shape))\n",
    "print() \n",
    "y_pred_Enero=predict(X, fitted_parameters_adam)\n",
    "\n",
    "print('number of ones: {}'.format(len(y_pred_Enero[y_pred_Enero==1]))) \n",
    "print('number of zeros: {}'.format(len(y_pred_Enero[y_pred_Enero==0]))) \n",
    "print('ratio of ones: {}%'.format(round((len(y_pred_Enero[y_pred_Enero==1])/len(y_pred_Enero[0]))*100,3)))    \n",
    "print()\n",
    "print(pd.DataFrame(y_pred_Enero[0], index=data_enero.index) )\n",
    "\n",
    "y_pred_proba_Enero=predict_proba(X, fitted_parameters_adam)\n",
    "print()\n",
    "print()\n",
    "print() \n",
    "print('================================================================') \n",
    "print('probabilities')\n",
    "print('================================================================') \n",
    "probs=pd.DataFrame({'probability':y_pred_proba_Enero[0]}, index=data_enero.index) \n",
    "probs\n",
    "# probs.columns=['prob de NO abandonar (\"¿Abandona?\"=0)', 'prob de abandonar (\"¿Abandona?\"=1)']\n",
    "# pd.DataFrame(probs) "
   ]
  },
  {
   "cell_type": "code",
   "execution_count": null,
   "metadata": {},
   "outputs": [],
   "source": []
  },
  {
   "cell_type": "markdown",
   "metadata": {},
   "source": [
    "#### GridSearch manual para mejorar la red neuronal"
   ]
  },
  {
   "cell_type": "code",
   "execution_count": null,
   "metadata": {},
   "outputs": [],
   "source": []
  },
  {
   "cell_type": "code",
   "execution_count": 89,
   "metadata": {},
   "outputs": [
    {
     "data": {
      "text/html": [
       "<div>\n",
       "<style scoped>\n",
       "    .dataframe tbody tr th:only-of-type {\n",
       "        vertical-align: middle;\n",
       "    }\n",
       "\n",
       "    .dataframe tbody tr th {\n",
       "        vertical-align: top;\n",
       "    }\n",
       "\n",
       "    .dataframe thead th {\n",
       "        text-align: right;\n",
       "    }\n",
       "</style>\n",
       "<table border=\"1\" class=\"dataframe\">\n",
       "  <thead>\n",
       "    <tr style=\"text-align: right;\">\n",
       "      <th></th>\n",
       "      <th>learning_rate</th>\n",
       "      <th>layer_dims</th>\n",
       "    </tr>\n",
       "  </thead>\n",
       "  <tbody>\n",
       "    <tr>\n",
       "      <th>0</th>\n",
       "      <td>0.005</td>\n",
       "      <td>[5, 7, 1]</td>\n",
       "    </tr>\n",
       "    <tr>\n",
       "      <th>1</th>\n",
       "      <td>0.005</td>\n",
       "      <td>[5, 20, 7, 1]</td>\n",
       "    </tr>\n",
       "    <tr>\n",
       "      <th>2</th>\n",
       "      <td>0.005</td>\n",
       "      <td>[5, 50, 20, 7, 1]</td>\n",
       "    </tr>\n",
       "    <tr>\n",
       "      <th>3</th>\n",
       "      <td>0.010</td>\n",
       "      <td>[5, 7, 1]</td>\n",
       "    </tr>\n",
       "    <tr>\n",
       "      <th>4</th>\n",
       "      <td>0.010</td>\n",
       "      <td>[5, 20, 7, 1]</td>\n",
       "    </tr>\n",
       "    <tr>\n",
       "      <th>5</th>\n",
       "      <td>0.010</td>\n",
       "      <td>[5, 50, 20, 7, 1]</td>\n",
       "    </tr>\n",
       "    <tr>\n",
       "      <th>6</th>\n",
       "      <td>0.015</td>\n",
       "      <td>[5, 7, 1]</td>\n",
       "    </tr>\n",
       "    <tr>\n",
       "      <th>7</th>\n",
       "      <td>0.015</td>\n",
       "      <td>[5, 20, 7, 1]</td>\n",
       "    </tr>\n",
       "    <tr>\n",
       "      <th>8</th>\n",
       "      <td>0.015</td>\n",
       "      <td>[5, 50, 20, 7, 1]</td>\n",
       "    </tr>\n",
       "    <tr>\n",
       "      <th>9</th>\n",
       "      <td>0.020</td>\n",
       "      <td>[5, 7, 1]</td>\n",
       "    </tr>\n",
       "    <tr>\n",
       "      <th>10</th>\n",
       "      <td>0.020</td>\n",
       "      <td>[5, 20, 7, 1]</td>\n",
       "    </tr>\n",
       "    <tr>\n",
       "      <th>11</th>\n",
       "      <td>0.020</td>\n",
       "      <td>[5, 50, 20, 7, 1]</td>\n",
       "    </tr>\n",
       "  </tbody>\n",
       "</table>\n",
       "</div>"
      ],
      "text/plain": [
       "    learning_rate         layer_dims\n",
       "0           0.005          [5, 7, 1]\n",
       "1           0.005      [5, 20, 7, 1]\n",
       "2           0.005  [5, 50, 20, 7, 1]\n",
       "3           0.010          [5, 7, 1]\n",
       "4           0.010      [5, 20, 7, 1]\n",
       "5           0.010  [5, 50, 20, 7, 1]\n",
       "6           0.015          [5, 7, 1]\n",
       "7           0.015      [5, 20, 7, 1]\n",
       "8           0.015  [5, 50, 20, 7, 1]\n",
       "9           0.020          [5, 7, 1]\n",
       "10          0.020      [5, 20, 7, 1]\n",
       "11          0.020  [5, 50, 20, 7, 1]"
      ]
     },
     "execution_count": 89,
     "metadata": {},
     "output_type": "execute_result"
    }
   ],
   "source": [
    "import itertools\n",
    "def expandgrid(*itrs):\n",
    "   product = list(itertools.product(*itrs))\n",
    "   return {'Var{}'.format(i+1):[x[i] for x in product] for i in range(len(itrs))}\n",
    "\n",
    "# a = [1,2,3]\n",
    "# b = [5,7,9]\n",
    "# pd.DataFrame(expandgrid(a, b)) \n",
    "\n",
    "learning_rate = np.linspace(0.005,0.02,4) \n",
    "layer_dims    = [[X_train.shape[0],7,1], [X_train.shape[0],20,7,1], [X_train.shape[0],50,20,7,1]]\n",
    "\n",
    "grid=pd.DataFrame(expandgrid(learning_rate, layer_dims))\n",
    "grid.columns= ['learning_rate', 'layer_dims']\n",
    "grid"
   ]
  },
  {
   "cell_type": "code",
   "execution_count": null,
   "metadata": {},
   "outputs": [],
   "source": []
  },
  {
   "cell_type": "markdown",
   "metadata": {},
   "source": [
    "### Pongo en comentario la gráfica de aprendizaje y los costes por iteración"
   ]
  },
  {
   "cell_type": "code",
   "execution_count": 91,
   "metadata": {},
   "outputs": [],
   "source": [
    "def L_model(layer_dims, X, Y, number_of_iterations, learning_rate, update_method='adam'):\n",
    "    layer_dims=layer_dims\n",
    "    previous_parameters = initialization(layer_dims)\n",
    "    values=[]\n",
    "    t=0\n",
    "    np.random.seed(6666)\n",
    "    \n",
    "    for i in range(number_of_iterations):\n",
    "        loss, forward_param, previous_parameters = forward_propagation_AND_cost_computation(X, Y, previous_parameters)  \n",
    "        \n",
    "        values.append(loss)\n",
    "        \n",
    "        grads = backward_propagation(X, Y, previous_parameters)\n",
    "#         if i%30==0:\n",
    "#             print('iteration {}, cost: {}'.format(i,loss)) \n",
    "#             print(forward_param['A'+str(int(len(layer_dims)-1))]) \n",
    "\n",
    "#         previous_parameters = gradient_update(previous_parameters, grads)\n",
    "        if update_method=='adam':\n",
    "            v,s = initialize_adam(previous_parameters)\n",
    "            t = t + 1 # Adam counter\n",
    "            previous_parameters=update_parameters_with_adam(previous_parameters, grads, v, s, t, learning_rate) \n",
    "        else:\n",
    "            previous_parameters = gradient_update(previous_parameters, grads, learning_rate) \n",
    "         \n",
    "    y=Y\n",
    "    y_hat=forward_param['A'+str(int(len(previous_parameters)/2))] \n",
    "    \n",
    "    accuracy=np.array(y==np.array(y_hat>0.5, dtype=float), dtype=float)\n",
    "\n",
    "#     print('\\n\\n accuracy train: {}'.format(round(np.sum(accuracy)/len(accuracy[0]),8)))   \n",
    "    \n",
    "#     plt.plot(np.squeeze(values))  \n",
    "#     plt.ylabel('cost')\n",
    "#     plt.xlabel('iterations (per hundreds)')\n",
    "#     plt.title(\"Learning Process\")\n",
    "#     plt.show() \n",
    "    return previous_parameters"
   ]
  },
  {
   "cell_type": "code",
   "execution_count": 99,
   "metadata": {
    "scrolled": false
   },
   "outputs": [
    {
     "name": "stdout",
     "output_type": "stream",
     "text": [
      "(0.005, [5, 7, 1], 0.98189969413835)\n",
      "(0.005, [5, 20, 7, 1], 0.9819415929945112)\n",
      "(0.005, [5, 50, 20, 7, 1], 0.9819415929945112)\n",
      "(0.01, [5, 7, 1], 0.9819415929945112)\n",
      "(0.01, [5, 20, 7, 1], 0.9819415929945112)\n",
      "(0.01, [5, 50, 20, 7, 1], 0.9819415929945112)\n",
      "(0.015, [5, 7, 1], 0.9819415929945112)\n",
      "(0.015, [5, 20, 7, 1], 0.9819415929945112)\n",
      "(0.015, [5, 50, 20, 7, 1], 0.9819415929945112)\n",
      "(0.02, [5, 7, 1], 0.9819415929945112)\n",
      "(0.02, [5, 20, 7, 1], 0.9819415929945112)\n",
      "(0.02, [5, 50, 20, 7, 1], 0.9785477856454519)\n"
     ]
    }
   ],
   "source": [
    "dict_values={}\n",
    "for i in range(len(grid)):\n",
    "    learning_rate = grid.iloc[i,0]\n",
    "    layer_dims    = grid.iloc[i,1]\n",
    "\n",
    "    fitted_parameters_adam = L_model(layer_dims=layer_dims, X=X_train, Y=y_train, \n",
    "                                     number_of_iterations=160, learning_rate = learning_rate)  \n",
    "    \n",
    "    y_pred=predict(X_test, fitted_parameters_adam) \n",
    "    dict_values[i]=learning_rate, layer_dims, accuracy_score(y_test[0], y_pred[0])\n",
    "    print(dict_values[i]) "
   ]
  },
  {
   "cell_type": "code",
   "execution_count": 100,
   "metadata": {},
   "outputs": [
    {
     "data": {
      "text/html": [
       "<div>\n",
       "<style scoped>\n",
       "    .dataframe tbody tr th:only-of-type {\n",
       "        vertical-align: middle;\n",
       "    }\n",
       "\n",
       "    .dataframe tbody tr th {\n",
       "        vertical-align: top;\n",
       "    }\n",
       "\n",
       "    .dataframe thead th {\n",
       "        text-align: right;\n",
       "    }\n",
       "</style>\n",
       "<table border=\"1\" class=\"dataframe\">\n",
       "  <thead>\n",
       "    <tr style=\"text-align: right;\">\n",
       "      <th></th>\n",
       "      <th>learning_rate</th>\n",
       "      <th>layer_dims</th>\n",
       "      <th>accuracy_score(test)</th>\n",
       "    </tr>\n",
       "  </thead>\n",
       "  <tbody>\n",
       "    <tr>\n",
       "      <th>0</th>\n",
       "      <td>0.005</td>\n",
       "      <td>[5, 7, 1]</td>\n",
       "      <td>0.9819</td>\n",
       "    </tr>\n",
       "    <tr>\n",
       "      <th>1</th>\n",
       "      <td>0.005</td>\n",
       "      <td>[5, 20, 7, 1]</td>\n",
       "      <td>0.981942</td>\n",
       "    </tr>\n",
       "    <tr>\n",
       "      <th>2</th>\n",
       "      <td>0.005</td>\n",
       "      <td>[5, 50, 20, 7, 1]</td>\n",
       "      <td>0.981942</td>\n",
       "    </tr>\n",
       "    <tr>\n",
       "      <th>3</th>\n",
       "      <td>0.01</td>\n",
       "      <td>[5, 7, 1]</td>\n",
       "      <td>0.981942</td>\n",
       "    </tr>\n",
       "    <tr>\n",
       "      <th>4</th>\n",
       "      <td>0.01</td>\n",
       "      <td>[5, 20, 7, 1]</td>\n",
       "      <td>0.981942</td>\n",
       "    </tr>\n",
       "    <tr>\n",
       "      <th>5</th>\n",
       "      <td>0.01</td>\n",
       "      <td>[5, 50, 20, 7, 1]</td>\n",
       "      <td>0.981942</td>\n",
       "    </tr>\n",
       "    <tr>\n",
       "      <th>6</th>\n",
       "      <td>0.015</td>\n",
       "      <td>[5, 7, 1]</td>\n",
       "      <td>0.981942</td>\n",
       "    </tr>\n",
       "    <tr>\n",
       "      <th>7</th>\n",
       "      <td>0.015</td>\n",
       "      <td>[5, 20, 7, 1]</td>\n",
       "      <td>0.981942</td>\n",
       "    </tr>\n",
       "    <tr>\n",
       "      <th>8</th>\n",
       "      <td>0.015</td>\n",
       "      <td>[5, 50, 20, 7, 1]</td>\n",
       "      <td>0.981942</td>\n",
       "    </tr>\n",
       "    <tr>\n",
       "      <th>9</th>\n",
       "      <td>0.02</td>\n",
       "      <td>[5, 7, 1]</td>\n",
       "      <td>0.981942</td>\n",
       "    </tr>\n",
       "    <tr>\n",
       "      <th>10</th>\n",
       "      <td>0.02</td>\n",
       "      <td>[5, 20, 7, 1]</td>\n",
       "      <td>0.981942</td>\n",
       "    </tr>\n",
       "    <tr>\n",
       "      <th>11</th>\n",
       "      <td>0.02</td>\n",
       "      <td>[5, 50, 20, 7, 1]</td>\n",
       "      <td>0.978548</td>\n",
       "    </tr>\n",
       "  </tbody>\n",
       "</table>\n",
       "</div>"
      ],
      "text/plain": [
       "   learning_rate         layer_dims accuracy_score(test)\n",
       "0          0.005          [5, 7, 1]               0.9819\n",
       "1          0.005      [5, 20, 7, 1]             0.981942\n",
       "2          0.005  [5, 50, 20, 7, 1]             0.981942\n",
       "3           0.01          [5, 7, 1]             0.981942\n",
       "4           0.01      [5, 20, 7, 1]             0.981942\n",
       "5           0.01  [5, 50, 20, 7, 1]             0.981942\n",
       "6          0.015          [5, 7, 1]             0.981942\n",
       "7          0.015      [5, 20, 7, 1]             0.981942\n",
       "8          0.015  [5, 50, 20, 7, 1]             0.981942\n",
       "9           0.02          [5, 7, 1]             0.981942\n",
       "10          0.02      [5, 20, 7, 1]             0.981942\n",
       "11          0.02  [5, 50, 20, 7, 1]             0.978548"
      ]
     },
     "execution_count": 100,
     "metadata": {},
     "output_type": "execute_result"
    }
   ],
   "source": [
    "table=pd.DataFrame(dict_values).T \n",
    "table.columns=['learning_rate', 'layer_dims', 'accuracy_score(test)']\n",
    "table"
   ]
  },
  {
   "cell_type": "code",
   "execution_count": null,
   "metadata": {},
   "outputs": [],
   "source": []
  },
  {
   "cell_type": "markdown",
   "metadata": {},
   "source": [
    "###### En este caso, no he conseguido mejorar la accuracy, solo consiguo igualar el resultado."
   ]
  },
  {
   "cell_type": "markdown",
   "metadata": {},
   "source": [
    "A continuación, se muestran todas las combinaciones de hiperparámetros que igualan el accuracy del primer modelo de red neuronal"
   ]
  },
  {
   "cell_type": "code",
   "execution_count": 103,
   "metadata": {},
   "outputs": [
    {
     "data": {
      "text/html": [
       "<div>\n",
       "<style scoped>\n",
       "    .dataframe tbody tr th:only-of-type {\n",
       "        vertical-align: middle;\n",
       "    }\n",
       "\n",
       "    .dataframe tbody tr th {\n",
       "        vertical-align: top;\n",
       "    }\n",
       "\n",
       "    .dataframe thead th {\n",
       "        text-align: right;\n",
       "    }\n",
       "</style>\n",
       "<table border=\"1\" class=\"dataframe\">\n",
       "  <thead>\n",
       "    <tr style=\"text-align: right;\">\n",
       "      <th></th>\n",
       "      <th>learning_rate</th>\n",
       "      <th>layer_dims</th>\n",
       "      <th>accuracy_score(test)</th>\n",
       "    </tr>\n",
       "  </thead>\n",
       "  <tbody>\n",
       "    <tr>\n",
       "      <th>1</th>\n",
       "      <td>0.005</td>\n",
       "      <td>[5, 20, 7, 1]</td>\n",
       "      <td>0.981942</td>\n",
       "    </tr>\n",
       "    <tr>\n",
       "      <th>2</th>\n",
       "      <td>0.005</td>\n",
       "      <td>[5, 50, 20, 7, 1]</td>\n",
       "      <td>0.981942</td>\n",
       "    </tr>\n",
       "    <tr>\n",
       "      <th>3</th>\n",
       "      <td>0.01</td>\n",
       "      <td>[5, 7, 1]</td>\n",
       "      <td>0.981942</td>\n",
       "    </tr>\n",
       "    <tr>\n",
       "      <th>4</th>\n",
       "      <td>0.01</td>\n",
       "      <td>[5, 20, 7, 1]</td>\n",
       "      <td>0.981942</td>\n",
       "    </tr>\n",
       "    <tr>\n",
       "      <th>5</th>\n",
       "      <td>0.01</td>\n",
       "      <td>[5, 50, 20, 7, 1]</td>\n",
       "      <td>0.981942</td>\n",
       "    </tr>\n",
       "    <tr>\n",
       "      <th>6</th>\n",
       "      <td>0.015</td>\n",
       "      <td>[5, 7, 1]</td>\n",
       "      <td>0.981942</td>\n",
       "    </tr>\n",
       "    <tr>\n",
       "      <th>7</th>\n",
       "      <td>0.015</td>\n",
       "      <td>[5, 20, 7, 1]</td>\n",
       "      <td>0.981942</td>\n",
       "    </tr>\n",
       "    <tr>\n",
       "      <th>8</th>\n",
       "      <td>0.015</td>\n",
       "      <td>[5, 50, 20, 7, 1]</td>\n",
       "      <td>0.981942</td>\n",
       "    </tr>\n",
       "    <tr>\n",
       "      <th>9</th>\n",
       "      <td>0.02</td>\n",
       "      <td>[5, 7, 1]</td>\n",
       "      <td>0.981942</td>\n",
       "    </tr>\n",
       "    <tr>\n",
       "      <th>10</th>\n",
       "      <td>0.02</td>\n",
       "      <td>[5, 20, 7, 1]</td>\n",
       "      <td>0.981942</td>\n",
       "    </tr>\n",
       "  </tbody>\n",
       "</table>\n",
       "</div>"
      ],
      "text/plain": [
       "   learning_rate         layer_dims accuracy_score(test)\n",
       "1          0.005      [5, 20, 7, 1]             0.981942\n",
       "2          0.005  [5, 50, 20, 7, 1]             0.981942\n",
       "3           0.01          [5, 7, 1]             0.981942\n",
       "4           0.01      [5, 20, 7, 1]             0.981942\n",
       "5           0.01  [5, 50, 20, 7, 1]             0.981942\n",
       "6          0.015          [5, 7, 1]             0.981942\n",
       "7          0.015      [5, 20, 7, 1]             0.981942\n",
       "8          0.015  [5, 50, 20, 7, 1]             0.981942\n",
       "9           0.02          [5, 7, 1]             0.981942\n",
       "10          0.02      [5, 20, 7, 1]             0.981942"
      ]
     },
     "execution_count": 103,
     "metadata": {},
     "output_type": "execute_result"
    }
   ],
   "source": [
    "table.loc[table['accuracy_score(test)'] == 0.9819415929945112, :] "
   ]
  },
  {
   "cell_type": "markdown",
   "metadata": {},
   "source": [
    "Como se puede observar, la puntuación no ha sido mejorada"
   ]
  },
  {
   "cell_type": "code",
   "execution_count": 102,
   "metadata": {},
   "outputs": [
    {
     "data": {
      "text/html": [
       "<div>\n",
       "<style scoped>\n",
       "    .dataframe tbody tr th:only-of-type {\n",
       "        vertical-align: middle;\n",
       "    }\n",
       "\n",
       "    .dataframe tbody tr th {\n",
       "        vertical-align: top;\n",
       "    }\n",
       "\n",
       "    .dataframe thead th {\n",
       "        text-align: right;\n",
       "    }\n",
       "</style>\n",
       "<table border=\"1\" class=\"dataframe\">\n",
       "  <thead>\n",
       "    <tr style=\"text-align: right;\">\n",
       "      <th></th>\n",
       "      <th>learning_rate</th>\n",
       "      <th>layer_dims</th>\n",
       "      <th>accuracy_score(test)</th>\n",
       "    </tr>\n",
       "  </thead>\n",
       "  <tbody>\n",
       "  </tbody>\n",
       "</table>\n",
       "</div>"
      ],
      "text/plain": [
       "Empty DataFrame\n",
       "Columns: [learning_rate, layer_dims, accuracy_score(test)]\n",
       "Index: []"
      ]
     },
     "execution_count": 102,
     "metadata": {},
     "output_type": "execute_result"
    }
   ],
   "source": [
    "table.loc[table['accuracy_score(test)'] > 0.9819415929945112, :] "
   ]
  },
  {
   "cell_type": "code",
   "execution_count": null,
   "metadata": {},
   "outputs": [],
   "source": []
  },
  {
   "cell_type": "markdown",
   "metadata": {},
   "source": [
    "#### Este es el final.\n",
    "###### Muchas gracias!"
   ]
  }
 ],
 "metadata": {
  "kernelspec": {
   "display_name": "Python 3",
   "language": "python",
   "name": "python3"
  },
  "language_info": {
   "codemirror_mode": {
    "name": "ipython",
    "version": 3
   },
   "file_extension": ".py",
   "mimetype": "text/x-python",
   "name": "python",
   "nbconvert_exporter": "python",
   "pygments_lexer": "ipython3",
   "version": "3.7.5"
  }
 },
 "nbformat": 4,
 "nbformat_minor": 2
}
