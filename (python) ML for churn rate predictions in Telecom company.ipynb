{
 "cells": [
  {
   "cell_type": "markdown",
   "metadata": {},
   "source": [
    "# ML for churn rate predictions in Telecom company\n",
    "## Author: Pablo Benayas\n",
    "1. This is a ML assignment from my master: 'Master’s Degree in Big Data & Data Science. Applications for Commerce, Business and Finance'. Data has been modified to ensure company's anonymity.\n",
    "2. Objective: Company XYZ wants me to predict which clients will not continue demanding their services in next month. To do so, they have provided me with several datasets that I will merge. Then, the target variable has to be inferred with the given data\n",
    "3. Guidelines:\n",
    "    1. Merge datasets, set a target variable and pre-process data.\n",
    "    2. Run a quick model and check its performance\n",
    "    3. Feature selection & Feature engineering to improve performance\n",
    "    4. Run more models and select the best candidate\n",
    "2. Let's begin"
   ]
  },
  {
   "cell_type": "code",
   "execution_count": 1,
   "metadata": {},
   "outputs": [
    {
     "name": "stderr",
     "output_type": "stream",
     "text": [
      "C:\\Users\\pablo\\Anaconda3\\lib\\site-packages\\sklearn\\utils\\deprecation.py:144: FutureWarning: The sklearn.linear_model.logistic module is  deprecated in version 0.22 and will be removed in version 0.24. The corresponding classes / functions should instead be imported from sklearn.linear_model. Anything that cannot be imported from sklearn.linear_model is now part of the private API.\n",
      "  warnings.warn(message, FutureWarning)\n"
     ]
    }
   ],
   "source": [
    "import pandas as pd\n",
    "import numpy as np\n",
    "from sklearn.preprocessing import LabelEncoder, OneHotEncoder\n",
    "import seaborn as sns\n",
    "import matplotlib.pyplot  as plt\n",
    "from scipy import stats\n",
    "from sklearn.model_selection import train_test_split\n",
    "from xgboost import XGBClassifier\n",
    "from sklearn.preprocessing import MinMaxScaler\n",
    "\n",
    "from sklearn.datasets import make_classification\n",
    "from sklearn.model_selection import train_test_split\n",
    "from sklearn.linear_model.logistic import LogisticRegression\n",
    "from sklearn.tree import DecisionTreeClassifier\n",
    "from sklearn.ensemble import RandomForestClassifier\n",
    "from sklearn.svm import SVC\n",
    "from sklearn import naive_bayes\n",
    "from datetime import datetime\n",
    "\n",
    "\n",
    "from sklearn.metrics import accuracy_score, auc, confusion_matrix, f1_score, precision_score, recall_score, roc_curve\n",
    "import matplotlib.pyplot  as plt"
   ]
  },
  {
   "cell_type": "code",
   "execution_count": null,
   "metadata": {},
   "outputs": [],
   "source": []
  },
  {
   "cell_type": "markdown",
   "metadata": {},
   "source": [
    "### Explain datasets given:\n",
    "1. Same datasets' names and variables for both December and January (but different values!):\n",
    "    1. Clients (clientes). Variables:\n",
    "        1. Age (edad), \n",
    "        2. Monthly subscription fee (financiacion), \n",
    "        3. Date customer signed up for the service (antiguedad), \n",
    "        4. Province (provincia), \n",
    "        5. Hired mobile lines (num_lineas), \n",
    "        6. Defaulted mobile lines (num_dt), \n",
    "        7. Incidences (incidencia)\n",
    "    \n",
    "    2. Products (productos). Variables:\n",
    "        1. Type of internet connection (conexion), \n",
    "        2. Connection speed (vel_conexion), \n",
    "        3. Type of TV package hired (TV)\n",
    "    \n",
    "    3. Consumption (consumos). Variables: \n",
    "        1. Number of incoming calls (num_llamad_ent)\n",
    "        2. Number of outgoing calls (num_llamad_sal) \n",
    "        3. Data consumption in MB (mb_datos)\n",
    "        4. Seconds spent on incoming calls (seg_llamad_ent)\n",
    "        5. Seconds spent on outgoing calls (seg_llamad_sal).\n",
    "    \n",
    "    4. Funding (financiacion). Variables:\n",
    "        1. Funding (financiacion): binary variable\n",
    "        2. Monthly amount paid for funded terminals (imp_financ)\n",
    "        3. Discounts (Descuentos): binary variable\n",
    "    \n"
   ]
  },
  {
   "cell_type": "code",
   "execution_count": 2,
   "metadata": {},
   "outputs": [],
   "source": [
    "clientes_diciembre=pd.read_csv('clientes_diciembre.csv', sep='|')\n",
    "consumos_diciembre=pd.read_csv('consumos_diciembre.csv', sep='|')\n",
    "financiacion_diciembre=pd.read_csv('financiacion_diciembre.csv', sep='|')\n",
    "productos_diciembre=pd.read_csv('productos_diciembre.csv', sep='|') \n",
    "\n",
    "df=clientes_diciembre.merge(consumos_diciembre,on='id', how='left')\n",
    "df=df.merge(financiacion_diciembre,on='id', how='left')\n",
    "data_diciembre=df.merge(productos_diciembre,on='id', how='left') \n",
    "\n",
    "\n",
    "clientes_enero=pd.read_csv('clientes_enero.csv', sep='|')\n",
    "consumos_enero=pd.read_csv('consumos_enero.csv', sep='|')\n",
    "financiacion_enero=pd.read_csv('financiacion_enero.csv', sep='|')\n",
    "productos_enero=pd.read_csv('productos_enero.csv', sep='|')\n",
    "\n",
    "df=clientes_enero.merge(consumos_enero,on='id', how='left')\n",
    "df=df.merge(financiacion_enero,on='id', how='left')\n",
    "data_enero=df.merge(productos_enero,on='id', how='left') "
   ]
  },
  {
   "cell_type": "code",
   "execution_count": null,
   "metadata": {},
   "outputs": [],
   "source": []
  },
  {
   "cell_type": "markdown",
   "metadata": {},
   "source": [
    "# Let's define our target variable:\n",
    "This is the idea:\n",
    "If Customer Id is contained in both December and January datasets, then it is confirmed that that customer continues using company's services. \n",
    "\n",
    "\n",
    "The remaining customers Ids of December will, thus, represent the total number of clients that have stopped doing business with the entity. This is because they no longer appear in January."
   ]
  },
  {
   "cell_type": "code",
   "execution_count": 3,
   "metadata": {},
   "outputs": [
    {
     "data": {
      "text/plain": [
       "id                    0\n",
       "edad                  0\n",
       "facturacion           0\n",
       "antiguedad            0\n",
       "provincia             0\n",
       "num_lineas            0\n",
       "num_dt            88950\n",
       "incidencia        90235\n",
       "num_llamad_ent        0\n",
       "num_llamad_sal        0\n",
       "mb_datos              0\n",
       "seg_llamad_ent        0\n",
       "seg_llamad_sal        0\n",
       "financiacion      89095\n",
       "imp_financ        89095\n",
       "descuentos        76313\n",
       "conexion              0\n",
       "vel_conexion          0\n",
       "TV                    0\n",
       "¿Abandona?            0\n",
       "dtype: int64"
      ]
     },
     "execution_count": 3,
     "metadata": {},
     "output_type": "execute_result"
    }
   ],
   "source": [
    "data_diciembre['¿Abandona?']=data_diciembre.id.isin(data_enero.id).apply(lambda x: 0 if x else 1) \n",
    "data_diciembre.isnull().sum() "
   ]
  },
  {
   "cell_type": "code",
   "execution_count": 4,
   "metadata": {},
   "outputs": [],
   "source": [
    "data_diciembre.to_csv('full_diciembre.csv') "
   ]
  },
  {
   "cell_type": "code",
   "execution_count": null,
   "metadata": {},
   "outputs": [],
   "source": []
  },
  {
   "cell_type": "markdown",
   "metadata": {},
   "source": [
    "# There too many NAs in some variables. I will remove them from the dataset and create a new variable called 'number of NAs'"
   ]
  },
  {
   "cell_type": "code",
   "execution_count": 5,
   "metadata": {},
   "outputs": [],
   "source": [
    "data_diciembre['number of NAs']=data_diciembre.apply(lambda x: x.isnull().sum(), axis=1) "
   ]
  },
  {
   "cell_type": "code",
   "execution_count": 6,
   "metadata": {},
   "outputs": [
    {
     "data": {
      "text/plain": [
       "edad              0\n",
       "facturacion       0\n",
       "antiguedad        0\n",
       "provincia         0\n",
       "num_lineas        0\n",
       "num_llamad_ent    0\n",
       "num_llamad_sal    0\n",
       "mb_datos          0\n",
       "seg_llamad_ent    0\n",
       "seg_llamad_sal    0\n",
       "conexion          0\n",
       "vel_conexion      0\n",
       "TV                0\n",
       "¿Abandona?        0\n",
       "number of NAs     0\n",
       "dtype: int64"
      ]
     },
     "execution_count": 6,
     "metadata": {},
     "output_type": "execute_result"
    }
   ],
   "source": [
    "data_diciembre.drop(['num_dt','incidencia','financiacion','imp_financ',\n",
    "                     'descuentos','id'], axis=1, inplace=True)\n",
    "data_diciembre.isnull().sum() "
   ]
  },
  {
   "cell_type": "code",
   "execution_count": 7,
   "metadata": {},
   "outputs": [
    {
     "data": {
      "text/plain": [
       "edad                int64\n",
       "facturacion       float64\n",
       "antiguedad         object\n",
       "provincia          object\n",
       "num_lineas          int64\n",
       "num_llamad_ent      int64\n",
       "num_llamad_sal      int64\n",
       "mb_datos            int64\n",
       "seg_llamad_ent      int64\n",
       "seg_llamad_sal      int64\n",
       "conexion           object\n",
       "vel_conexion       object\n",
       "TV                 object\n",
       "¿Abandona?          int64\n",
       "number of NAs       int64\n",
       "dtype: object"
      ]
     },
     "execution_count": 7,
     "metadata": {},
     "output_type": "execute_result"
    }
   ],
   "source": [
    "data_diciembre.dtypes"
   ]
  },
  {
   "cell_type": "code",
   "execution_count": null,
   "metadata": {},
   "outputs": [],
   "source": []
  },
  {
   "cell_type": "markdown",
   "metadata": {},
   "source": [
    "# Dates"
   ]
  },
  {
   "cell_type": "code",
   "execution_count": 8,
   "metadata": {},
   "outputs": [],
   "source": [
    "data_diciembre['antiguedad'] = data_diciembre.antiguedad.apply(lambda x: datetime.timestamp(datetime.strptime(x, '%m/%d/%Y %I:%M %p'))) "
   ]
  },
  {
   "cell_type": "code",
   "execution_count": null,
   "metadata": {},
   "outputs": [],
   "source": []
  },
  {
   "cell_type": "markdown",
   "metadata": {},
   "source": [
    "# Dealing with categorical variables"
   ]
  },
  {
   "cell_type": "code",
   "execution_count": 9,
   "metadata": {},
   "outputs": [
    {
     "data": {
      "text/plain": [
       "edad                 68\n",
       "facturacion       95467\n",
       "antiguedad        95171\n",
       "provincia            50\n",
       "num_lineas            5\n",
       "num_llamad_ent      251\n",
       "num_llamad_sal      101\n",
       "mb_datos          24456\n",
       "seg_llamad_ent    19834\n",
       "seg_llamad_sal    19828\n",
       "conexion              2\n",
       "vel_conexion         11\n",
       "TV                    3\n",
       "¿Abandona?            2\n",
       "number of NAs         6\n",
       "dtype: int64"
      ]
     },
     "execution_count": 9,
     "metadata": {},
     "output_type": "execute_result"
    }
   ],
   "source": [
    "pd.DataFrame(data_diciembre.columns, index=data_diciembre.columns).apply(lambda x: len(data_diciembre[x[0]].unique()), axis=1)"
   ]
  },
  {
   "cell_type": "markdown",
   "metadata": {},
   "source": [
    "variables with few unique values are likely to be categorical"
   ]
  },
  {
   "cell_type": "code",
   "execution_count": null,
   "metadata": {},
   "outputs": [],
   "source": []
  },
  {
   "cell_type": "code",
   "execution_count": 10,
   "metadata": {},
   "outputs": [
    {
     "data": {
      "text/plain": [
       "edad                int64\n",
       "facturacion       float64\n",
       "antiguedad        float64\n",
       "provincia          object\n",
       "num_lineas          int64\n",
       "num_llamad_ent      int64\n",
       "num_llamad_sal      int64\n",
       "mb_datos            int64\n",
       "seg_llamad_ent      int64\n",
       "seg_llamad_sal      int64\n",
       "conexion           object\n",
       "vel_conexion       object\n",
       "TV                 object\n",
       "¿Abandona?          int64\n",
       "number of NAs       int64\n",
       "dtype: object"
      ]
     },
     "execution_count": 10,
     "metadata": {},
     "output_type": "execute_result"
    }
   ],
   "source": [
    "data_diciembre.dtypes"
   ]
  },
  {
   "cell_type": "code",
   "execution_count": 11,
   "metadata": {},
   "outputs": [],
   "source": [
    "# LabelEncoder() & dummies\n",
    "dictLabelEncoder={}\n",
    "dummies={}\n",
    "categVars=data_diciembre.loc[:,['num_lineas','TV']]\n",
    "\n",
    "transform1 = LabelEncoder()\n",
    "for col in categVars:\n",
    "    #labelEncoder\n",
    "    transform1.fit_transform(list(data_diciembre[col].unique()))\n",
    "        # I need to store LabelEncoder() in a variable, otherwise the fitting is not saved.\n",
    "        \n",
    "    dictLabelEncoder[col]=transform1.transform(data_diciembre[col])\n",
    "    \n",
    "    #dummies\n",
    "    value_names_for_dummies=list(categVars[str(col)].unique())\n",
    "    for i in  range(len(value_names_for_dummies)):\n",
    "        dummies[str(col)+'_'+str(value_names_for_dummies[i])]=pd.get_dummies(categVars[str(col)]).iloc[:,i]         \n",
    "\n",
    "data_diciembre.loc[:,['num_lineas','TV']]=pd.DataFrame(dictLabelEncoder)\n",
    "dummies=pd.DataFrame(dummies)\n",
    "\n",
    "data_diciembre=pd.concat([data_diciembre, dummies.reindex(data_diciembre.index)], axis=1) "
   ]
  },
  {
   "cell_type": "code",
   "execution_count": null,
   "metadata": {},
   "outputs": [],
   "source": []
  },
  {
   "cell_type": "code",
   "execution_count": 12,
   "metadata": {},
   "outputs": [],
   "source": [
    "# I am not going to create dummies from these two variables\n",
    "transform1.fit_transform(list(data_diciembre['provincia'].unique()))\n",
    "data_diciembre['provincia']=transform1.transform(data_diciembre['provincia']) "
   ]
  },
  {
   "cell_type": "code",
   "execution_count": 13,
   "metadata": {},
   "outputs": [],
   "source": [
    "transform1.fit_transform(list(data_diciembre['conexion'].unique()))\n",
    "data_diciembre['conexion']=transform1.transform(data_diciembre['conexion']) "
   ]
  },
  {
   "cell_type": "code",
   "execution_count": null,
   "metadata": {},
   "outputs": [],
   "source": []
  },
  {
   "cell_type": "markdown",
   "metadata": {},
   "source": [
    "# Removing 'MB' characters in 'vel_conexion' variable"
   ]
  },
  {
   "cell_type": "code",
   "execution_count": 14,
   "metadata": {},
   "outputs": [],
   "source": [
    "data_diciembre['vel_conexion']=data_diciembre.vel_conexion.apply(lambda x: float(x[:-2])) "
   ]
  },
  {
   "cell_type": "code",
   "execution_count": null,
   "metadata": {},
   "outputs": [],
   "source": []
  },
  {
   "cell_type": "markdown",
   "metadata": {},
   "source": [
    "# Last check"
   ]
  },
  {
   "cell_type": "code",
   "execution_count": 15,
   "metadata": {},
   "outputs": [
    {
     "data": {
      "text/plain": [
       "edad                int64\n",
       "facturacion       float64\n",
       "antiguedad        float64\n",
       "provincia           int32\n",
       "num_lineas          int64\n",
       "num_llamad_ent      int64\n",
       "num_llamad_sal      int64\n",
       "mb_datos            int64\n",
       "seg_llamad_ent      int64\n",
       "seg_llamad_sal      int64\n",
       "conexion            int32\n",
       "vel_conexion      float64\n",
       "TV                  int32\n",
       "¿Abandona?          int64\n",
       "number of NAs       int64\n",
       "num_lineas_5        uint8\n",
       "num_lineas_3        uint8\n",
       "num_lineas_4        uint8\n",
       "num_lineas_2        uint8\n",
       "num_lineas_1        uint8\n",
       "TV_tv-futbol        uint8\n",
       "TV_tv-familiar      uint8\n",
       "TV_tv-total         uint8\n",
       "dtype: object"
      ]
     },
     "execution_count": 15,
     "metadata": {},
     "output_type": "execute_result"
    }
   ],
   "source": [
    "data_diciembre.dtypes"
   ]
  },
  {
   "cell_type": "code",
   "execution_count": 16,
   "metadata": {},
   "outputs": [
    {
     "data": {
      "text/plain": [
       "edad              0\n",
       "facturacion       0\n",
       "antiguedad        0\n",
       "provincia         0\n",
       "num_lineas        0\n",
       "num_llamad_ent    0\n",
       "num_llamad_sal    0\n",
       "mb_datos          0\n",
       "seg_llamad_ent    0\n",
       "seg_llamad_sal    0\n",
       "conexion          0\n",
       "vel_conexion      0\n",
       "TV                0\n",
       "¿Abandona?        0\n",
       "number of NAs     0\n",
       "num_lineas_5      0\n",
       "num_lineas_3      0\n",
       "num_lineas_4      0\n",
       "num_lineas_2      0\n",
       "num_lineas_1      0\n",
       "TV_tv-futbol      0\n",
       "TV_tv-familiar    0\n",
       "TV_tv-total       0\n",
       "dtype: int64"
      ]
     },
     "execution_count": 16,
     "metadata": {},
     "output_type": "execute_result"
    }
   ],
   "source": [
    "data_diciembre.isnull().sum() "
   ]
  },
  {
   "cell_type": "code",
   "execution_count": 17,
   "metadata": {
    "scrolled": true
   },
   "outputs": [
    {
     "data": {
      "text/html": [
       "<div>\n",
       "<style scoped>\n",
       "    .dataframe tbody tr th:only-of-type {\n",
       "        vertical-align: middle;\n",
       "    }\n",
       "\n",
       "    .dataframe tbody tr th {\n",
       "        vertical-align: top;\n",
       "    }\n",
       "\n",
       "    .dataframe thead th {\n",
       "        text-align: right;\n",
       "    }\n",
       "</style>\n",
       "<table border=\"1\" class=\"dataframe\">\n",
       "  <thead>\n",
       "    <tr style=\"text-align: right;\">\n",
       "      <th></th>\n",
       "      <th>edad</th>\n",
       "      <th>facturacion</th>\n",
       "      <th>antiguedad</th>\n",
       "      <th>provincia</th>\n",
       "      <th>num_lineas</th>\n",
       "      <th>num_llamad_ent</th>\n",
       "      <th>num_llamad_sal</th>\n",
       "      <th>mb_datos</th>\n",
       "      <th>seg_llamad_ent</th>\n",
       "      <th>seg_llamad_sal</th>\n",
       "      <th>...</th>\n",
       "      <th>¿Abandona?</th>\n",
       "      <th>number of NAs</th>\n",
       "      <th>num_lineas_5</th>\n",
       "      <th>num_lineas_3</th>\n",
       "      <th>num_lineas_4</th>\n",
       "      <th>num_lineas_2</th>\n",
       "      <th>num_lineas_1</th>\n",
       "      <th>TV_tv-futbol</th>\n",
       "      <th>TV_tv-familiar</th>\n",
       "      <th>TV_tv-total</th>\n",
       "    </tr>\n",
       "  </thead>\n",
       "  <tbody>\n",
       "    <tr>\n",
       "      <th>count</th>\n",
       "      <td>95467.000000</td>\n",
       "      <td>95467.000000</td>\n",
       "      <td>9.546700e+04</td>\n",
       "      <td>95467.000000</td>\n",
       "      <td>95467.000000</td>\n",
       "      <td>95467.000000</td>\n",
       "      <td>95467.000000</td>\n",
       "      <td>95467.000000</td>\n",
       "      <td>95467.000000</td>\n",
       "      <td>95467.000000</td>\n",
       "      <td>...</td>\n",
       "      <td>95467.000000</td>\n",
       "      <td>95467.000000</td>\n",
       "      <td>95467.000000</td>\n",
       "      <td>95467.000000</td>\n",
       "      <td>95467.000000</td>\n",
       "      <td>95467.000000</td>\n",
       "      <td>95467.000000</td>\n",
       "      <td>95467.000000</td>\n",
       "      <td>95467.000000</td>\n",
       "      <td>95467.000000</td>\n",
       "    </tr>\n",
       "    <tr>\n",
       "      <th>mean</th>\n",
       "      <td>51.462086</td>\n",
       "      <td>207.392912</td>\n",
       "      <td>1.182640e+09</td>\n",
       "      <td>24.524328</td>\n",
       "      <td>2.558518</td>\n",
       "      <td>124.815633</td>\n",
       "      <td>50.022762</td>\n",
       "      <td>12489.795898</td>\n",
       "      <td>9984.406612</td>\n",
       "      <td>10029.761342</td>\n",
       "      <td>...</td>\n",
       "      <td>0.074214</td>\n",
       "      <td>4.542805</td>\n",
       "      <td>0.029874</td>\n",
       "      <td>0.138121</td>\n",
       "      <td>0.314381</td>\n",
       "      <td>0.278861</td>\n",
       "      <td>0.238763</td>\n",
       "      <td>0.353714</td>\n",
       "      <td>0.497921</td>\n",
       "      <td>0.148365</td>\n",
       "    </tr>\n",
       "    <tr>\n",
       "      <th>std</th>\n",
       "      <td>19.590846</td>\n",
       "      <td>111.343491</td>\n",
       "      <td>2.272685e+08</td>\n",
       "      <td>14.453017</td>\n",
       "      <td>1.086095</td>\n",
       "      <td>72.492338</td>\n",
       "      <td>29.119904</td>\n",
       "      <td>7239.421267</td>\n",
       "      <td>5763.182070</td>\n",
       "      <td>5763.518604</td>\n",
       "      <td>...</td>\n",
       "      <td>0.262120</td>\n",
       "      <td>0.724093</td>\n",
       "      <td>0.170241</td>\n",
       "      <td>0.345029</td>\n",
       "      <td>0.464271</td>\n",
       "      <td>0.448441</td>\n",
       "      <td>0.426330</td>\n",
       "      <td>0.478124</td>\n",
       "      <td>0.499998</td>\n",
       "      <td>0.355464</td>\n",
       "    </tr>\n",
       "    <tr>\n",
       "      <th>min</th>\n",
       "      <td>18.000000</td>\n",
       "      <td>15.000439</td>\n",
       "      <td>7.889702e+08</td>\n",
       "      <td>0.000000</td>\n",
       "      <td>0.000000</td>\n",
       "      <td>0.000000</td>\n",
       "      <td>0.000000</td>\n",
       "      <td>0.000000</td>\n",
       "      <td>0.000000</td>\n",
       "      <td>0.000000</td>\n",
       "      <td>...</td>\n",
       "      <td>0.000000</td>\n",
       "      <td>0.000000</td>\n",
       "      <td>0.000000</td>\n",
       "      <td>0.000000</td>\n",
       "      <td>0.000000</td>\n",
       "      <td>0.000000</td>\n",
       "      <td>0.000000</td>\n",
       "      <td>0.000000</td>\n",
       "      <td>0.000000</td>\n",
       "      <td>0.000000</td>\n",
       "    </tr>\n",
       "    <tr>\n",
       "      <th>25%</th>\n",
       "      <td>35.000000</td>\n",
       "      <td>111.383822</td>\n",
       "      <td>9.858640e+08</td>\n",
       "      <td>12.000000</td>\n",
       "      <td>2.000000</td>\n",
       "      <td>62.000000</td>\n",
       "      <td>25.000000</td>\n",
       "      <td>6177.500000</td>\n",
       "      <td>5006.000000</td>\n",
       "      <td>5055.000000</td>\n",
       "      <td>...</td>\n",
       "      <td>0.000000</td>\n",
       "      <td>4.000000</td>\n",
       "      <td>0.000000</td>\n",
       "      <td>0.000000</td>\n",
       "      <td>0.000000</td>\n",
       "      <td>0.000000</td>\n",
       "      <td>0.000000</td>\n",
       "      <td>0.000000</td>\n",
       "      <td>0.000000</td>\n",
       "      <td>0.000000</td>\n",
       "    </tr>\n",
       "    <tr>\n",
       "      <th>50%</th>\n",
       "      <td>51.000000</td>\n",
       "      <td>206.808431</td>\n",
       "      <td>1.181438e+09</td>\n",
       "      <td>25.000000</td>\n",
       "      <td>3.000000</td>\n",
       "      <td>124.000000</td>\n",
       "      <td>50.000000</td>\n",
       "      <td>12466.000000</td>\n",
       "      <td>9965.000000</td>\n",
       "      <td>10024.000000</td>\n",
       "      <td>...</td>\n",
       "      <td>0.000000</td>\n",
       "      <td>5.000000</td>\n",
       "      <td>0.000000</td>\n",
       "      <td>0.000000</td>\n",
       "      <td>0.000000</td>\n",
       "      <td>0.000000</td>\n",
       "      <td>0.000000</td>\n",
       "      <td>0.000000</td>\n",
       "      <td>0.000000</td>\n",
       "      <td>0.000000</td>\n",
       "    </tr>\n",
       "    <tr>\n",
       "      <th>75%</th>\n",
       "      <td>68.000000</td>\n",
       "      <td>304.436599</td>\n",
       "      <td>1.378266e+09</td>\n",
       "      <td>37.000000</td>\n",
       "      <td>3.000000</td>\n",
       "      <td>188.000000</td>\n",
       "      <td>75.000000</td>\n",
       "      <td>18785.500000</td>\n",
       "      <td>14969.000000</td>\n",
       "      <td>15007.000000</td>\n",
       "      <td>...</td>\n",
       "      <td>0.000000</td>\n",
       "      <td>5.000000</td>\n",
       "      <td>0.000000</td>\n",
       "      <td>0.000000</td>\n",
       "      <td>1.000000</td>\n",
       "      <td>1.000000</td>\n",
       "      <td>0.000000</td>\n",
       "      <td>1.000000</td>\n",
       "      <td>1.000000</td>\n",
       "      <td>0.000000</td>\n",
       "    </tr>\n",
       "    <tr>\n",
       "      <th>max</th>\n",
       "      <td>85.000000</td>\n",
       "      <td>399.998433</td>\n",
       "      <td>1.577759e+09</td>\n",
       "      <td>49.000000</td>\n",
       "      <td>4.000000</td>\n",
       "      <td>250.000000</td>\n",
       "      <td>100.000000</td>\n",
       "      <td>25000.000000</td>\n",
       "      <td>20000.000000</td>\n",
       "      <td>20000.000000</td>\n",
       "      <td>...</td>\n",
       "      <td>1.000000</td>\n",
       "      <td>5.000000</td>\n",
       "      <td>1.000000</td>\n",
       "      <td>1.000000</td>\n",
       "      <td>1.000000</td>\n",
       "      <td>1.000000</td>\n",
       "      <td>1.000000</td>\n",
       "      <td>1.000000</td>\n",
       "      <td>1.000000</td>\n",
       "      <td>1.000000</td>\n",
       "    </tr>\n",
       "  </tbody>\n",
       "</table>\n",
       "<p>8 rows × 23 columns</p>\n",
       "</div>"
      ],
      "text/plain": [
       "               edad   facturacion    antiguedad     provincia    num_lineas  \\\n",
       "count  95467.000000  95467.000000  9.546700e+04  95467.000000  95467.000000   \n",
       "mean      51.462086    207.392912  1.182640e+09     24.524328      2.558518   \n",
       "std       19.590846    111.343491  2.272685e+08     14.453017      1.086095   \n",
       "min       18.000000     15.000439  7.889702e+08      0.000000      0.000000   \n",
       "25%       35.000000    111.383822  9.858640e+08     12.000000      2.000000   \n",
       "50%       51.000000    206.808431  1.181438e+09     25.000000      3.000000   \n",
       "75%       68.000000    304.436599  1.378266e+09     37.000000      3.000000   \n",
       "max       85.000000    399.998433  1.577759e+09     49.000000      4.000000   \n",
       "\n",
       "       num_llamad_ent  num_llamad_sal      mb_datos  seg_llamad_ent  \\\n",
       "count    95467.000000    95467.000000  95467.000000    95467.000000   \n",
       "mean       124.815633       50.022762  12489.795898     9984.406612   \n",
       "std         72.492338       29.119904   7239.421267     5763.182070   \n",
       "min          0.000000        0.000000      0.000000        0.000000   \n",
       "25%         62.000000       25.000000   6177.500000     5006.000000   \n",
       "50%        124.000000       50.000000  12466.000000     9965.000000   \n",
       "75%        188.000000       75.000000  18785.500000    14969.000000   \n",
       "max        250.000000      100.000000  25000.000000    20000.000000   \n",
       "\n",
       "       seg_llamad_sal  ...    ¿Abandona?  number of NAs  num_lineas_5  \\\n",
       "count    95467.000000  ...  95467.000000   95467.000000  95467.000000   \n",
       "mean     10029.761342  ...      0.074214       4.542805      0.029874   \n",
       "std       5763.518604  ...      0.262120       0.724093      0.170241   \n",
       "min          0.000000  ...      0.000000       0.000000      0.000000   \n",
       "25%       5055.000000  ...      0.000000       4.000000      0.000000   \n",
       "50%      10024.000000  ...      0.000000       5.000000      0.000000   \n",
       "75%      15007.000000  ...      0.000000       5.000000      0.000000   \n",
       "max      20000.000000  ...      1.000000       5.000000      1.000000   \n",
       "\n",
       "       num_lineas_3  num_lineas_4  num_lineas_2  num_lineas_1  TV_tv-futbol  \\\n",
       "count  95467.000000  95467.000000  95467.000000  95467.000000  95467.000000   \n",
       "mean       0.138121      0.314381      0.278861      0.238763      0.353714   \n",
       "std        0.345029      0.464271      0.448441      0.426330      0.478124   \n",
       "min        0.000000      0.000000      0.000000      0.000000      0.000000   \n",
       "25%        0.000000      0.000000      0.000000      0.000000      0.000000   \n",
       "50%        0.000000      0.000000      0.000000      0.000000      0.000000   \n",
       "75%        0.000000      1.000000      1.000000      0.000000      1.000000   \n",
       "max        1.000000      1.000000      1.000000      1.000000      1.000000   \n",
       "\n",
       "       TV_tv-familiar   TV_tv-total  \n",
       "count    95467.000000  95467.000000  \n",
       "mean         0.497921      0.148365  \n",
       "std          0.499998      0.355464  \n",
       "min          0.000000      0.000000  \n",
       "25%          0.000000      0.000000  \n",
       "50%          0.000000      0.000000  \n",
       "75%          1.000000      0.000000  \n",
       "max          1.000000      1.000000  \n",
       "\n",
       "[8 rows x 23 columns]"
      ]
     },
     "execution_count": 17,
     "metadata": {},
     "output_type": "execute_result"
    }
   ],
   "source": [
    "data_diciembre.describe()"
   ]
  },
  {
   "cell_type": "code",
   "execution_count": null,
   "metadata": {},
   "outputs": [],
   "source": []
  },
  {
   "cell_type": "code",
   "execution_count": null,
   "metadata": {},
   "outputs": [],
   "source": []
  },
  {
   "cell_type": "code",
   "execution_count": 18,
   "metadata": {},
   "outputs": [],
   "source": [
    "# First model"
   ]
  },
  {
   "cell_type": "code",
   "execution_count": 19,
   "metadata": {},
   "outputs": [
    {
     "name": "stdout",
     "output_type": "stream",
     "text": [
      "Index(['edad', 'facturacion', 'antiguedad', 'provincia', 'num_lineas',\n",
      "       'num_llamad_ent', 'num_llamad_sal', 'mb_datos', 'seg_llamad_ent',\n",
      "       'seg_llamad_sal', 'conexion', 'vel_conexion', 'TV', 'number of NAs',\n",
      "       'num_lineas_3', 'num_lineas_4', 'num_lineas_2', 'num_lineas_1',\n",
      "       'TV_tv-futbol', 'TV_tv-familiar', '¿Abandona?'],\n",
      "      dtype='object')\n"
     ]
    }
   ],
   "source": [
    "restOfVars=data_diciembre.loc[:, list(pd.DataFrame(data_diciembre.columns).apply(lambda x: x[0] not in ['TV_tv-total', 'num_lineas_5','¿Abandona?'], axis=1))]  \n",
    "target=data_diciembre['¿Abandona?']\n",
    "data_diciembre=pd.concat([restOfVars, target.reindex(target.index)], axis=1) \n",
    "print(data_diciembre.columns)\n",
    "X, y = data_diciembre.iloc[:,:-1], data_diciembre.iloc[:,-1] \n",
    "\n",
    "scaler = MinMaxScaler()    \n",
    "X=scaler.fit_transform(X)\n",
    "\n",
    "X_train, X_test, y_train, y_test = train_test_split(X, y, random_state=0, stratify=y) "
   ]
  },
  {
   "cell_type": "code",
   "execution_count": null,
   "metadata": {},
   "outputs": [],
   "source": []
  },
  {
   "cell_type": "code",
   "execution_count": 20,
   "metadata": {},
   "outputs": [],
   "source": [
    "classifier = LogisticRegression().fit(X_train, y_train)\n",
    "y_pred     = classifier.predict(X_test) "
   ]
  },
  {
   "cell_type": "code",
   "execution_count": 21,
   "metadata": {},
   "outputs": [],
   "source": [
    "## métricas\n",
    "\n",
    "def get_metrics(y1, y2): #y_real (y_test) and y_pred\n",
    "    print('matriz de confusión')\n",
    "    print(confusion_matrix(y1, y2))\n",
    "    print('accuracy')\n",
    "    print(accuracy_score(y1, y2))\n",
    "    print('precision')\n",
    "    print(precision_score(y1, y2))\n",
    "    print('recall')\n",
    "    print(recall_score(y1, y2))\n",
    "    print('f1')\n",
    "    print(f1_score(y1, y2))\n",
    "    false_positive_rate, recall, thresholds = roc_curve(y1, y2)\n",
    "    roc_auc = auc(false_positive_rate, recall)\n",
    "    print('AUC')\n",
    "    print(roc_auc)\n",
    "    plt.plot(false_positive_rate, recall, 'b')\n",
    "    plt.plot([0, 1], [0, 1], 'r--')\n",
    "    plt.title('AUC = %0.2f' % roc_auc)\n",
    "    "
   ]
  },
  {
   "cell_type": "code",
   "execution_count": 22,
   "metadata": {},
   "outputs": [
    {
     "name": "stdout",
     "output_type": "stream",
     "text": [
      "matriz de confusión\n",
      "[[22056    40]\n",
      " [ 1771     0]]\n",
      "accuracy\n",
      "0.9241211714920182\n",
      "precision\n",
      "0.0\n",
      "recall\n",
      "0.0\n",
      "f1\n",
      "0.0\n",
      "AUC\n",
      "0.4990948587979725\n"
     ]
    },
    {
     "data": {
      "image/png": "[encoded data removed]",
      "text/plain": [
       "<Figure size 432x288 with 1 Axes>"
      ]
     },
     "metadata": {
      "needs_background": "light"
     },
     "output_type": "display_data"
    }
   ],
   "source": [
    "get_metrics(y_test, y_pred)  "
   ]
  },
  {
   "cell_type": "code",
   "execution_count": null,
   "metadata": {},
   "outputs": [],
   "source": []
  },
  {
   "cell_type": "markdown",
   "metadata": {},
   "source": [
    "# I have a obtained bad score in terms of precision and recall. Let's do some feature engineering and add more variables"
   ]
  },
  {
   "cell_type": "code",
   "execution_count": 23,
   "metadata": {},
   "outputs": [
    {
     "data": {
      "text/html": [
       "<style  type=\"text/css\" >\n",
       "    #T_c4b9a2e8_60a8_11ea_a219_ccb0dab6b4d6row0_col0 {\n",
       "            background-color:  #023858;\n",
       "            color:  #f1f1f1;\n",
       "        }    #T_c4b9a2e8_60a8_11ea_a219_ccb0dab6b4d6row1_col0 {\n",
       "            background-color:  #d6d6e9;\n",
       "            color:  #000000;\n",
       "        }    #T_c4b9a2e8_60a8_11ea_a219_ccb0dab6b4d6row2_col0 {\n",
       "            background-color:  #fef6fb;\n",
       "            color:  #000000;\n",
       "        }    #T_c4b9a2e8_60a8_11ea_a219_ccb0dab6b4d6row3_col0 {\n",
       "            background-color:  #fef6fb;\n",
       "            color:  #000000;\n",
       "        }    #T_c4b9a2e8_60a8_11ea_a219_ccb0dab6b4d6row4_col0 {\n",
       "            background-color:  #fff7fb;\n",
       "            color:  #000000;\n",
       "        }    #T_c4b9a2e8_60a8_11ea_a219_ccb0dab6b4d6row5_col0 {\n",
       "            background-color:  #fff7fb;\n",
       "            color:  #000000;\n",
       "        }    #T_c4b9a2e8_60a8_11ea_a219_ccb0dab6b4d6row6_col0 {\n",
       "            background-color:  #fff7fb;\n",
       "            color:  #000000;\n",
       "        }    #T_c4b9a2e8_60a8_11ea_a219_ccb0dab6b4d6row7_col0 {\n",
       "            background-color:  #fff7fb;\n",
       "            color:  #000000;\n",
       "        }    #T_c4b9a2e8_60a8_11ea_a219_ccb0dab6b4d6row8_col0 {\n",
       "            background-color:  #fff7fb;\n",
       "            color:  #000000;\n",
       "        }    #T_c4b9a2e8_60a8_11ea_a219_ccb0dab6b4d6row9_col0 {\n",
       "            background-color:  #fff7fb;\n",
       "            color:  #000000;\n",
       "        }    #T_c4b9a2e8_60a8_11ea_a219_ccb0dab6b4d6row10_col0 {\n",
       "            background-color:  #fff7fb;\n",
       "            color:  #000000;\n",
       "        }    #T_c4b9a2e8_60a8_11ea_a219_ccb0dab6b4d6row11_col0 {\n",
       "            background-color:  #fff7fb;\n",
       "            color:  #000000;\n",
       "        }    #T_c4b9a2e8_60a8_11ea_a219_ccb0dab6b4d6row12_col0 {\n",
       "            background-color:  #fff7fb;\n",
       "            color:  #000000;\n",
       "        }    #T_c4b9a2e8_60a8_11ea_a219_ccb0dab6b4d6row13_col0 {\n",
       "            background-color:  #fff7fb;\n",
       "            color:  #000000;\n",
       "        }    #T_c4b9a2e8_60a8_11ea_a219_ccb0dab6b4d6row14_col0 {\n",
       "            background-color:  #fff7fb;\n",
       "            color:  #000000;\n",
       "        }    #T_c4b9a2e8_60a8_11ea_a219_ccb0dab6b4d6row15_col0 {\n",
       "            background-color:  #fff7fb;\n",
       "            color:  #000000;\n",
       "        }    #T_c4b9a2e8_60a8_11ea_a219_ccb0dab6b4d6row16_col0 {\n",
       "            background-color:  #fff7fb;\n",
       "            color:  #000000;\n",
       "        }    #T_c4b9a2e8_60a8_11ea_a219_ccb0dab6b4d6row17_col0 {\n",
       "            background-color:  #fff7fb;\n",
       "            color:  #000000;\n",
       "        }    #T_c4b9a2e8_60a8_11ea_a219_ccb0dab6b4d6row18_col0 {\n",
       "            background-color:  #fff7fb;\n",
       "            color:  #000000;\n",
       "        }    #T_c4b9a2e8_60a8_11ea_a219_ccb0dab6b4d6row19_col0 {\n",
       "            background-color:  #fff7fb;\n",
       "            color:  #000000;\n",
       "        }    #T_c4b9a2e8_60a8_11ea_a219_ccb0dab6b4d6row20_col0 {\n",
       "            background-color:  #fff7fb;\n",
       "            color:  #000000;\n",
       "        }</style><table id=\"T_c4b9a2e8_60a8_11ea_a219_ccb0dab6b4d6\" ><thead>    <tr>        <th class=\"blank level0\" ></th>        <th class=\"col_heading level0 col0\" >¿Abandona?</th>    </tr></thead><tbody>\n",
       "                <tr>\n",
       "                        <th id=\"T_c4b9a2e8_60a8_11ea_a219_ccb0dab6b4d6level0_row0\" class=\"row_heading level0 row0\" >¿Abandona?</th>\n",
       "                        <td id=\"T_c4b9a2e8_60a8_11ea_a219_ccb0dab6b4d6row0_col0\" class=\"data row0 col0\" >1</td>\n",
       "            </tr>\n",
       "            <tr>\n",
       "                        <th id=\"T_c4b9a2e8_60a8_11ea_a219_ccb0dab6b4d6level0_row1\" class=\"row_heading level0 row1\" >number of NAs</th>\n",
       "                        <td id=\"T_c4b9a2e8_60a8_11ea_a219_ccb0dab6b4d6row1_col0\" class=\"data row1 col0\" >0.223008</td>\n",
       "            </tr>\n",
       "            <tr>\n",
       "                        <th id=\"T_c4b9a2e8_60a8_11ea_a219_ccb0dab6b4d6level0_row2\" class=\"row_heading level0 row2\" >provincia</th>\n",
       "                        <td id=\"T_c4b9a2e8_60a8_11ea_a219_ccb0dab6b4d6row2_col0\" class=\"data row2 col0\" >0.00630453</td>\n",
       "            </tr>\n",
       "            <tr>\n",
       "                        <th id=\"T_c4b9a2e8_60a8_11ea_a219_ccb0dab6b4d6level0_row3\" class=\"row_heading level0 row3\" >num_llamad_ent</th>\n",
       "                        <td id=\"T_c4b9a2e8_60a8_11ea_a219_ccb0dab6b4d6row3_col0\" class=\"data row3 col0\" >0.00612962</td>\n",
       "            </tr>\n",
       "            <tr>\n",
       "                        <th id=\"T_c4b9a2e8_60a8_11ea_a219_ccb0dab6b4d6level0_row4\" class=\"row_heading level0 row4\" >antiguedad</th>\n",
       "                        <td id=\"T_c4b9a2e8_60a8_11ea_a219_ccb0dab6b4d6row4_col0\" class=\"data row4 col0\" >0.00314576</td>\n",
       "            </tr>\n",
       "            <tr>\n",
       "                        <th id=\"T_c4b9a2e8_60a8_11ea_a219_ccb0dab6b4d6level0_row5\" class=\"row_heading level0 row5\" >num_llamad_sal</th>\n",
       "                        <td id=\"T_c4b9a2e8_60a8_11ea_a219_ccb0dab6b4d6row5_col0\" class=\"data row5 col0\" >0.00314091</td>\n",
       "            </tr>\n",
       "            <tr>\n",
       "                        <th id=\"T_c4b9a2e8_60a8_11ea_a219_ccb0dab6b4d6level0_row6\" class=\"row_heading level0 row6\" >TV_tv-familiar</th>\n",
       "                        <td id=\"T_c4b9a2e8_60a8_11ea_a219_ccb0dab6b4d6row6_col0\" class=\"data row6 col0\" >0.00293872</td>\n",
       "            </tr>\n",
       "            <tr>\n",
       "                        <th id=\"T_c4b9a2e8_60a8_11ea_a219_ccb0dab6b4d6level0_row7\" class=\"row_heading level0 row7\" >edad</th>\n",
       "                        <td id=\"T_c4b9a2e8_60a8_11ea_a219_ccb0dab6b4d6row7_col0\" class=\"data row7 col0\" >0.00286418</td>\n",
       "            </tr>\n",
       "            <tr>\n",
       "                        <th id=\"T_c4b9a2e8_60a8_11ea_a219_ccb0dab6b4d6level0_row8\" class=\"row_heading level0 row8\" >facturacion</th>\n",
       "                        <td id=\"T_c4b9a2e8_60a8_11ea_a219_ccb0dab6b4d6row8_col0\" class=\"data row8 col0\" >0.00284625</td>\n",
       "            </tr>\n",
       "            <tr>\n",
       "                        <th id=\"T_c4b9a2e8_60a8_11ea_a219_ccb0dab6b4d6level0_row9\" class=\"row_heading level0 row9\" >TV</th>\n",
       "                        <td id=\"T_c4b9a2e8_60a8_11ea_a219_ccb0dab6b4d6row9_col0\" class=\"data row9 col0\" >0.00264543</td>\n",
       "            </tr>\n",
       "            <tr>\n",
       "                        <th id=\"T_c4b9a2e8_60a8_11ea_a219_ccb0dab6b4d6level0_row10\" class=\"row_heading level0 row10\" >conexion</th>\n",
       "                        <td id=\"T_c4b9a2e8_60a8_11ea_a219_ccb0dab6b4d6row10_col0\" class=\"data row10 col0\" >0.00254613</td>\n",
       "            </tr>\n",
       "            <tr>\n",
       "                        <th id=\"T_c4b9a2e8_60a8_11ea_a219_ccb0dab6b4d6level0_row11\" class=\"row_heading level0 row11\" >vel_conexion</th>\n",
       "                        <td id=\"T_c4b9a2e8_60a8_11ea_a219_ccb0dab6b4d6row11_col0\" class=\"data row11 col0\" >0.00243859</td>\n",
       "            </tr>\n",
       "            <tr>\n",
       "                        <th id=\"T_c4b9a2e8_60a8_11ea_a219_ccb0dab6b4d6level0_row12\" class=\"row_heading level0 row12\" >num_lineas</th>\n",
       "                        <td id=\"T_c4b9a2e8_60a8_11ea_a219_ccb0dab6b4d6row12_col0\" class=\"data row12 col0\" >0.00173292</td>\n",
       "            </tr>\n",
       "            <tr>\n",
       "                        <th id=\"T_c4b9a2e8_60a8_11ea_a219_ccb0dab6b4d6level0_row13\" class=\"row_heading level0 row13\" >mb_datos</th>\n",
       "                        <td id=\"T_c4b9a2e8_60a8_11ea_a219_ccb0dab6b4d6row13_col0\" class=\"data row13 col0\" >0.00120115</td>\n",
       "            </tr>\n",
       "            <tr>\n",
       "                        <th id=\"T_c4b9a2e8_60a8_11ea_a219_ccb0dab6b4d6level0_row14\" class=\"row_heading level0 row14\" >num_lineas_1</th>\n",
       "                        <td id=\"T_c4b9a2e8_60a8_11ea_a219_ccb0dab6b4d6row14_col0\" class=\"data row14 col0\" >0.000997047</td>\n",
       "            </tr>\n",
       "            <tr>\n",
       "                        <th id=\"T_c4b9a2e8_60a8_11ea_a219_ccb0dab6b4d6level0_row15\" class=\"row_heading level0 row15\" >seg_llamad_ent</th>\n",
       "                        <td id=\"T_c4b9a2e8_60a8_11ea_a219_ccb0dab6b4d6row15_col0\" class=\"data row15 col0\" >0.000525948</td>\n",
       "            </tr>\n",
       "            <tr>\n",
       "                        <th id=\"T_c4b9a2e8_60a8_11ea_a219_ccb0dab6b4d6level0_row16\" class=\"row_heading level0 row16\" >TV_tv-futbol</th>\n",
       "                        <td id=\"T_c4b9a2e8_60a8_11ea_a219_ccb0dab6b4d6row16_col0\" class=\"data row16 col0\" >0.000339559</td>\n",
       "            </tr>\n",
       "            <tr>\n",
       "                        <th id=\"T_c4b9a2e8_60a8_11ea_a219_ccb0dab6b4d6level0_row17\" class=\"row_heading level0 row17\" >num_lineas_2</th>\n",
       "                        <td id=\"T_c4b9a2e8_60a8_11ea_a219_ccb0dab6b4d6row17_col0\" class=\"data row17 col0\" >0.000332258</td>\n",
       "            </tr>\n",
       "            <tr>\n",
       "                        <th id=\"T_c4b9a2e8_60a8_11ea_a219_ccb0dab6b4d6level0_row18\" class=\"row_heading level0 row18\" >num_lineas_4</th>\n",
       "                        <td id=\"T_c4b9a2e8_60a8_11ea_a219_ccb0dab6b4d6row18_col0\" class=\"data row18 col0\" >0.000310855</td>\n",
       "            </tr>\n",
       "            <tr>\n",
       "                        <th id=\"T_c4b9a2e8_60a8_11ea_a219_ccb0dab6b4d6level0_row19\" class=\"row_heading level0 row19\" >seg_llamad_sal</th>\n",
       "                        <td id=\"T_c4b9a2e8_60a8_11ea_a219_ccb0dab6b4d6row19_col0\" class=\"data row19 col0\" >8.94505e-05</td>\n",
       "            </tr>\n",
       "            <tr>\n",
       "                        <th id=\"T_c4b9a2e8_60a8_11ea_a219_ccb0dab6b4d6level0_row20\" class=\"row_heading level0 row20\" >num_lineas_3</th>\n",
       "                        <td id=\"T_c4b9a2e8_60a8_11ea_a219_ccb0dab6b4d6row20_col0\" class=\"data row20 col0\" >6.80426e-05</td>\n",
       "            </tr>\n",
       "    </tbody></table>"
      ],
      "text/plain": [
       "<pandas.io.formats.style.Styler at 0x1d126b1abc8>"
      ]
     },
     "execution_count": 23,
     "metadata": {},
     "output_type": "execute_result"
    }
   ],
   "source": [
    "corr = abs(data_diciembre.corr())\n",
    "corr[['¿Abandona?']].sort_values(by = '¿Abandona?',ascending = False).style.background_gradient() "
   ]
  },
  {
   "cell_type": "code",
   "execution_count": 24,
   "metadata": {},
   "outputs": [],
   "source": [
    "def proporciones_final (var,target,df):\n",
    "\n",
    "    proporcion = pd.DataFrame()\n",
    "\n",
    "    proporcion['%depositos'] = df[target].groupby(df[var]).mean()*100 \n",
    "    proporcion['Conteo'] = df[target].groupby(df[var]).count() \n",
    "    proporcion= proporcion.round(3)   \n",
    "    proporcion_filtered = proporcion[(proporcion['%depositos']>0) & (proporcion['Conteo']>10)]\n",
    "        \n",
    "    if len(proporcion_filtered)<100 and len(proporcion_filtered)>1:\n",
    "        fig = plt.figure()\n",
    "        ax = proporcion_filtered['Conteo'].plot(kind='bar',grid=True)\n",
    "                \n",
    "        ax2 = ax.twinx()\n",
    "        ax2.plot(proporcion_filtered['%depositos'].values, linestyle='-', linewidth=2.0,color='g')\n",
    "        plt.tight_layout()        \n",
    "    \n",
    "    else:        \n",
    "        proporcion_filtered.reset_index(inplace=True)\n",
    "        sns.lmplot(x = var,y ='%depositos',data=proporcion_filtered, fit_reg=True,ci=None) "
   ]
  },
  {
   "cell_type": "code",
   "execution_count": 25,
   "metadata": {},
   "outputs": [
    {
     "data": {
      "image/png": "[encoded data removed]",
      "text/plain": [
       "<Figure size 432x288 with 2 Axes>"
      ]
     },
     "metadata": {
      "needs_background": "light"
     },
     "output_type": "display_data"
    },
    {
     "data": {
      "image/png": "[encoded data removed]",
      "text/plain": [
       "<Figure size 432x288 with 2 Axes>"
      ]
     },
     "metadata": {
      "needs_background": "light"
     },
     "output_type": "display_data"
    },
    {
     "data": {
      "image/png": "[encoded data removed]",
      "text/plain": [
       "<Figure size 432x288 with 2 Axes>"
      ]
     },
     "metadata": {
      "needs_background": "light"
     },
     "output_type": "display_data"
    },
    {
     "data": {
      "image/png": "[encoded data removed]",
      "text/plain": [
       "<Figure size 432x288 with 2 Axes>"
      ]
     },
     "metadata": {
      "needs_background": "light"
     },
     "output_type": "display_data"
    },
    {
     "data": {
      "image/png": "[encoded data removed]",
      "text/plain": [
       "<Figure size 432x288 with 2 Axes>"
      ]
     },
     "metadata": {
      "needs_background": "light"
     },
     "output_type": "display_data"
    },
    {
     "data": {
      "image/png": "[encoded data removed]",
      "text/plain": [
       "<Figure size 432x288 with 2 Axes>"
      ]
     },
     "metadata": {
      "needs_background": "light"
     },
     "output_type": "display_data"
    }
   ],
   "source": [
    "varsToPlot=data_diciembre.loc[:,pd.DataFrame(data_diciembre.columns, index=data_diciembre.columns).apply(lambda x: len(data_diciembre[x[0]].unique())<70 and len(data_diciembre[x[0]].unique())>2, axis=1)]   \n",
    "varsToPlot=varsToPlot.loc[:,list(pd.DataFrame(varsToPlot.columns).apply(lambda x: x[0] not in '¿Abandona?', axis=1))] \n",
    "\n",
    "for i in varsToPlot.columns:\n",
    "    proporciones_final (i, '¿Abandona?', data_diciembre) "
   ]
  },
  {
   "cell_type": "code",
   "execution_count": null,
   "metadata": {},
   "outputs": [],
   "source": []
  },
  {
   "cell_type": "markdown",
   "metadata": {},
   "source": [
    "For continuous variables: var_name.describe() -> I select (min, 25%, median, 75%, max) as bins "
   ]
  },
  {
   "cell_type": "code",
   "execution_count": 26,
   "metadata": {},
   "outputs": [
    {
     "data": {
      "text/html": [
       "<style  type=\"text/css\" >\n",
       "    #T_c9b7bbf4_60a8_11ea_854a_ccb0dab6b4d6row0_col0 {\n",
       "            background-color:  #023858;\n",
       "            color:  #f1f1f1;\n",
       "        }    #T_c9b7bbf4_60a8_11ea_854a_ccb0dab6b4d6row1_col0 {\n",
       "            background-color:  #81aed2;\n",
       "            color:  #000000;\n",
       "        }    #T_c9b7bbf4_60a8_11ea_854a_ccb0dab6b4d6row2_col0 {\n",
       "            background-color:  #d6d6e9;\n",
       "            color:  #000000;\n",
       "        }    #T_c9b7bbf4_60a8_11ea_854a_ccb0dab6b4d6row3_col0 {\n",
       "            background-color:  #fef6fa;\n",
       "            color:  #000000;\n",
       "        }    #T_c9b7bbf4_60a8_11ea_854a_ccb0dab6b4d6row4_col0 {\n",
       "            background-color:  #fef6fa;\n",
       "            color:  #000000;\n",
       "        }    #T_c9b7bbf4_60a8_11ea_854a_ccb0dab6b4d6row5_col0 {\n",
       "            background-color:  #fef6fb;\n",
       "            color:  #000000;\n",
       "        }    #T_c9b7bbf4_60a8_11ea_854a_ccb0dab6b4d6row6_col0 {\n",
       "            background-color:  #fef6fb;\n",
       "            color:  #000000;\n",
       "        }    #T_c9b7bbf4_60a8_11ea_854a_ccb0dab6b4d6row7_col0 {\n",
       "            background-color:  #fef6fb;\n",
       "            color:  #000000;\n",
       "        }    #T_c9b7bbf4_60a8_11ea_854a_ccb0dab6b4d6row8_col0 {\n",
       "            background-color:  #fef6fb;\n",
       "            color:  #000000;\n",
       "        }    #T_c9b7bbf4_60a8_11ea_854a_ccb0dab6b4d6row9_col0 {\n",
       "            background-color:  #fff7fb;\n",
       "            color:  #000000;\n",
       "        }    #T_c9b7bbf4_60a8_11ea_854a_ccb0dab6b4d6row10_col0 {\n",
       "            background-color:  #fff7fb;\n",
       "            color:  #000000;\n",
       "        }    #T_c9b7bbf4_60a8_11ea_854a_ccb0dab6b4d6row11_col0 {\n",
       "            background-color:  #fff7fb;\n",
       "            color:  #000000;\n",
       "        }    #T_c9b7bbf4_60a8_11ea_854a_ccb0dab6b4d6row12_col0 {\n",
       "            background-color:  #fff7fb;\n",
       "            color:  #000000;\n",
       "        }    #T_c9b7bbf4_60a8_11ea_854a_ccb0dab6b4d6row13_col0 {\n",
       "            background-color:  #fff7fb;\n",
       "            color:  #000000;\n",
       "        }    #T_c9b7bbf4_60a8_11ea_854a_ccb0dab6b4d6row14_col0 {\n",
       "            background-color:  #fff7fb;\n",
       "            color:  #000000;\n",
       "        }    #T_c9b7bbf4_60a8_11ea_854a_ccb0dab6b4d6row15_col0 {\n",
       "            background-color:  #fff7fb;\n",
       "            color:  #000000;\n",
       "        }    #T_c9b7bbf4_60a8_11ea_854a_ccb0dab6b4d6row16_col0 {\n",
       "            background-color:  #fff7fb;\n",
       "            color:  #000000;\n",
       "        }    #T_c9b7bbf4_60a8_11ea_854a_ccb0dab6b4d6row17_col0 {\n",
       "            background-color:  #fff7fb;\n",
       "            color:  #000000;\n",
       "        }    #T_c9b7bbf4_60a8_11ea_854a_ccb0dab6b4d6row18_col0 {\n",
       "            background-color:  #fff7fb;\n",
       "            color:  #000000;\n",
       "        }    #T_c9b7bbf4_60a8_11ea_854a_ccb0dab6b4d6row19_col0 {\n",
       "            background-color:  #fff7fb;\n",
       "            color:  #000000;\n",
       "        }    #T_c9b7bbf4_60a8_11ea_854a_ccb0dab6b4d6row20_col0 {\n",
       "            background-color:  #fff7fb;\n",
       "            color:  #000000;\n",
       "        }    #T_c9b7bbf4_60a8_11ea_854a_ccb0dab6b4d6row21_col0 {\n",
       "            background-color:  #fff7fb;\n",
       "            color:  #000000;\n",
       "        }    #T_c9b7bbf4_60a8_11ea_854a_ccb0dab6b4d6row22_col0 {\n",
       "            background-color:  #fff7fb;\n",
       "            color:  #000000;\n",
       "        }    #T_c9b7bbf4_60a8_11ea_854a_ccb0dab6b4d6row23_col0 {\n",
       "            background-color:  #fff7fb;\n",
       "            color:  #000000;\n",
       "        }    #T_c9b7bbf4_60a8_11ea_854a_ccb0dab6b4d6row24_col0 {\n",
       "            background-color:  #fff7fb;\n",
       "            color:  #000000;\n",
       "        }    #T_c9b7bbf4_60a8_11ea_854a_ccb0dab6b4d6row25_col0 {\n",
       "            background-color:  #fff7fb;\n",
       "            color:  #000000;\n",
       "        }    #T_c9b7bbf4_60a8_11ea_854a_ccb0dab6b4d6row26_col0 {\n",
       "            background-color:  #fff7fb;\n",
       "            color:  #000000;\n",
       "        }    #T_c9b7bbf4_60a8_11ea_854a_ccb0dab6b4d6row27_col0 {\n",
       "            background-color:  #fff7fb;\n",
       "            color:  #000000;\n",
       "        }</style><table id=\"T_c9b7bbf4_60a8_11ea_854a_ccb0dab6b4d6\" ><thead>    <tr>        <th class=\"blank level0\" ></th>        <th class=\"col_heading level0 col0\" >¿Abandona?</th>    </tr></thead><tbody>\n",
       "                <tr>\n",
       "                        <th id=\"T_c9b7bbf4_60a8_11ea_854a_ccb0dab6b4d6level0_row0\" class=\"row_heading level0 row0\" >¿Abandona?</th>\n",
       "                        <td id=\"T_c9b7bbf4_60a8_11ea_854a_ccb0dab6b4d6row0_col0\" class=\"data row0 col0\" >1</td>\n",
       "            </tr>\n",
       "            <tr>\n",
       "                        <th id=\"T_c9b7bbf4_60a8_11ea_854a_ccb0dab6b4d6level0_row1\" class=\"row_heading level0 row1\" >new_NA</th>\n",
       "                        <td id=\"T_c9b7bbf4_60a8_11ea_854a_ccb0dab6b4d6row1_col0\" class=\"data row1 col0\" >0.465407</td>\n",
       "            </tr>\n",
       "            <tr>\n",
       "                        <th id=\"T_c9b7bbf4_60a8_11ea_854a_ccb0dab6b4d6level0_row2\" class=\"row_heading level0 row2\" >number of NAs</th>\n",
       "                        <td id=\"T_c9b7bbf4_60a8_11ea_854a_ccb0dab6b4d6row2_col0\" class=\"data row2 col0\" >0.223008</td>\n",
       "            </tr>\n",
       "            <tr>\n",
       "                        <th id=\"T_c9b7bbf4_60a8_11ea_854a_ccb0dab6b4d6level0_row3\" class=\"row_heading level0 row3\" >new_binarized_antiguedad</th>\n",
       "                        <td id=\"T_c9b7bbf4_60a8_11ea_854a_ccb0dab6b4d6row3_col0\" class=\"data row3 col0\" >0.0109927</td>\n",
       "            </tr>\n",
       "            <tr>\n",
       "                        <th id=\"T_c9b7bbf4_60a8_11ea_854a_ccb0dab6b4d6level0_row4\" class=\"row_heading level0 row4\" >new_vel_conexion</th>\n",
       "                        <td id=\"T_c9b7bbf4_60a8_11ea_854a_ccb0dab6b4d6row4_col0\" class=\"data row4 col0\" >0.0106265</td>\n",
       "            </tr>\n",
       "            <tr>\n",
       "                        <th id=\"T_c9b7bbf4_60a8_11ea_854a_ccb0dab6b4d6level0_row5\" class=\"row_heading level0 row5\" >provincia</th>\n",
       "                        <td id=\"T_c9b7bbf4_60a8_11ea_854a_ccb0dab6b4d6row5_col0\" class=\"data row5 col0\" >0.00630453</td>\n",
       "            </tr>\n",
       "            <tr>\n",
       "                        <th id=\"T_c9b7bbf4_60a8_11ea_854a_ccb0dab6b4d6level0_row6\" class=\"row_heading level0 row6\" >num_llamad_ent</th>\n",
       "                        <td id=\"T_c9b7bbf4_60a8_11ea_854a_ccb0dab6b4d6row6_col0\" class=\"data row6 col0\" >0.00612962</td>\n",
       "            </tr>\n",
       "            <tr>\n",
       "                        <th id=\"T_c9b7bbf4_60a8_11ea_854a_ccb0dab6b4d6level0_row7\" class=\"row_heading level0 row7\" >categorical_facturacion</th>\n",
       "                        <td id=\"T_c9b7bbf4_60a8_11ea_854a_ccb0dab6b4d6row7_col0\" class=\"data row7 col0\" >0.00588859</td>\n",
       "            </tr>\n",
       "            <tr>\n",
       "                        <th id=\"T_c9b7bbf4_60a8_11ea_854a_ccb0dab6b4d6level0_row8\" class=\"row_heading level0 row8\" >new_TV_var</th>\n",
       "                        <td id=\"T_c9b7bbf4_60a8_11ea_854a_ccb0dab6b4d6row8_col0\" class=\"data row8 col0\" >0.00459036</td>\n",
       "            </tr>\n",
       "            <tr>\n",
       "                        <th id=\"T_c9b7bbf4_60a8_11ea_854a_ccb0dab6b4d6level0_row9\" class=\"row_heading level0 row9\" >antiguedad</th>\n",
       "                        <td id=\"T_c9b7bbf4_60a8_11ea_854a_ccb0dab6b4d6row9_col0\" class=\"data row9 col0\" >0.00314576</td>\n",
       "            </tr>\n",
       "            <tr>\n",
       "                        <th id=\"T_c9b7bbf4_60a8_11ea_854a_ccb0dab6b4d6level0_row10\" class=\"row_heading level0 row10\" >num_llamad_sal</th>\n",
       "                        <td id=\"T_c9b7bbf4_60a8_11ea_854a_ccb0dab6b4d6row10_col0\" class=\"data row10 col0\" >0.00314091</td>\n",
       "            </tr>\n",
       "            <tr>\n",
       "                        <th id=\"T_c9b7bbf4_60a8_11ea_854a_ccb0dab6b4d6level0_row11\" class=\"row_heading level0 row11\" >TV_tv-familiar</th>\n",
       "                        <td id=\"T_c9b7bbf4_60a8_11ea_854a_ccb0dab6b4d6row11_col0\" class=\"data row11 col0\" >0.00293872</td>\n",
       "            </tr>\n",
       "            <tr>\n",
       "                        <th id=\"T_c9b7bbf4_60a8_11ea_854a_ccb0dab6b4d6level0_row12\" class=\"row_heading level0 row12\" >edad</th>\n",
       "                        <td id=\"T_c9b7bbf4_60a8_11ea_854a_ccb0dab6b4d6row12_col0\" class=\"data row12 col0\" >0.00286418</td>\n",
       "            </tr>\n",
       "            <tr>\n",
       "                        <th id=\"T_c9b7bbf4_60a8_11ea_854a_ccb0dab6b4d6level0_row13\" class=\"row_heading level0 row13\" >facturacion</th>\n",
       "                        <td id=\"T_c9b7bbf4_60a8_11ea_854a_ccb0dab6b4d6row13_col0\" class=\"data row13 col0\" >0.00284625</td>\n",
       "            </tr>\n",
       "            <tr>\n",
       "                        <th id=\"T_c9b7bbf4_60a8_11ea_854a_ccb0dab6b4d6level0_row14\" class=\"row_heading level0 row14\" >new_num_lineas</th>\n",
       "                        <td id=\"T_c9b7bbf4_60a8_11ea_854a_ccb0dab6b4d6row14_col0\" class=\"data row14 col0\" >0.00266225</td>\n",
       "            </tr>\n",
       "            <tr>\n",
       "                        <th id=\"T_c9b7bbf4_60a8_11ea_854a_ccb0dab6b4d6level0_row15\" class=\"row_heading level0 row15\" >TV</th>\n",
       "                        <td id=\"T_c9b7bbf4_60a8_11ea_854a_ccb0dab6b4d6row15_col0\" class=\"data row15 col0\" >0.00264543</td>\n",
       "            </tr>\n",
       "            <tr>\n",
       "                        <th id=\"T_c9b7bbf4_60a8_11ea_854a_ccb0dab6b4d6level0_row16\" class=\"row_heading level0 row16\" >conexion</th>\n",
       "                        <td id=\"T_c9b7bbf4_60a8_11ea_854a_ccb0dab6b4d6row16_col0\" class=\"data row16 col0\" >0.00254613</td>\n",
       "            </tr>\n",
       "            <tr>\n",
       "                        <th id=\"T_c9b7bbf4_60a8_11ea_854a_ccb0dab6b4d6level0_row17\" class=\"row_heading level0 row17\" >vel_conexion</th>\n",
       "                        <td id=\"T_c9b7bbf4_60a8_11ea_854a_ccb0dab6b4d6row17_col0\" class=\"data row17 col0\" >0.00243859</td>\n",
       "            </tr>\n",
       "            <tr>\n",
       "                        <th id=\"T_c9b7bbf4_60a8_11ea_854a_ccb0dab6b4d6level0_row18\" class=\"row_heading level0 row18\" >num_lineas</th>\n",
       "                        <td id=\"T_c9b7bbf4_60a8_11ea_854a_ccb0dab6b4d6row18_col0\" class=\"data row18 col0\" >0.00173292</td>\n",
       "            </tr>\n",
       "            <tr>\n",
       "                        <th id=\"T_c9b7bbf4_60a8_11ea_854a_ccb0dab6b4d6level0_row19\" class=\"row_heading level0 row19\" >mb_datos</th>\n",
       "                        <td id=\"T_c9b7bbf4_60a8_11ea_854a_ccb0dab6b4d6row19_col0\" class=\"data row19 col0\" >0.00120115</td>\n",
       "            </tr>\n",
       "            <tr>\n",
       "                        <th id=\"T_c9b7bbf4_60a8_11ea_854a_ccb0dab6b4d6level0_row20\" class=\"row_heading level0 row20\" >num_lineas_1</th>\n",
       "                        <td id=\"T_c9b7bbf4_60a8_11ea_854a_ccb0dab6b4d6row20_col0\" class=\"data row20 col0\" >0.000997047</td>\n",
       "            </tr>\n",
       "            <tr>\n",
       "                        <th id=\"T_c9b7bbf4_60a8_11ea_854a_ccb0dab6b4d6level0_row21\" class=\"row_heading level0 row21\" >NEW_mb_datos</th>\n",
       "                        <td id=\"T_c9b7bbf4_60a8_11ea_854a_ccb0dab6b4d6row21_col0\" class=\"data row21 col0\" >0.000787019</td>\n",
       "            </tr>\n",
       "            <tr>\n",
       "                        <th id=\"T_c9b7bbf4_60a8_11ea_854a_ccb0dab6b4d6level0_row22\" class=\"row_heading level0 row22\" >seg_llamad_ent</th>\n",
       "                        <td id=\"T_c9b7bbf4_60a8_11ea_854a_ccb0dab6b4d6row22_col0\" class=\"data row22 col0\" >0.000525948</td>\n",
       "            </tr>\n",
       "            <tr>\n",
       "                        <th id=\"T_c9b7bbf4_60a8_11ea_854a_ccb0dab6b4d6level0_row23\" class=\"row_heading level0 row23\" >TV_tv-futbol</th>\n",
       "                        <td id=\"T_c9b7bbf4_60a8_11ea_854a_ccb0dab6b4d6row23_col0\" class=\"data row23 col0\" >0.000339559</td>\n",
       "            </tr>\n",
       "            <tr>\n",
       "                        <th id=\"T_c9b7bbf4_60a8_11ea_854a_ccb0dab6b4d6level0_row24\" class=\"row_heading level0 row24\" >num_lineas_2</th>\n",
       "                        <td id=\"T_c9b7bbf4_60a8_11ea_854a_ccb0dab6b4d6row24_col0\" class=\"data row24 col0\" >0.000332258</td>\n",
       "            </tr>\n",
       "            <tr>\n",
       "                        <th id=\"T_c9b7bbf4_60a8_11ea_854a_ccb0dab6b4d6level0_row25\" class=\"row_heading level0 row25\" >num_lineas_4</th>\n",
       "                        <td id=\"T_c9b7bbf4_60a8_11ea_854a_ccb0dab6b4d6row25_col0\" class=\"data row25 col0\" >0.000310855</td>\n",
       "            </tr>\n",
       "            <tr>\n",
       "                        <th id=\"T_c9b7bbf4_60a8_11ea_854a_ccb0dab6b4d6level0_row26\" class=\"row_heading level0 row26\" >seg_llamad_sal</th>\n",
       "                        <td id=\"T_c9b7bbf4_60a8_11ea_854a_ccb0dab6b4d6row26_col0\" class=\"data row26 col0\" >8.94505e-05</td>\n",
       "            </tr>\n",
       "            <tr>\n",
       "                        <th id=\"T_c9b7bbf4_60a8_11ea_854a_ccb0dab6b4d6level0_row27\" class=\"row_heading level0 row27\" >num_lineas_3</th>\n",
       "                        <td id=\"T_c9b7bbf4_60a8_11ea_854a_ccb0dab6b4d6row27_col0\" class=\"data row27 col0\" >6.80426e-05</td>\n",
       "            </tr>\n",
       "    </tbody></table>"
      ],
      "text/plain": [
       "<pandas.io.formats.style.Styler at 0x1d12f9e6ac8>"
      ]
     },
     "execution_count": 26,
     "metadata": {},
     "output_type": "execute_result"
    }
   ],
   "source": [
    "data_diciembre['new_TV_var']=data_diciembre.TV.apply(lambda x: 1 if x==2 else 0)\n",
    "data_diciembre['new_vel_conexion']=data_diciembre.vel_conexion.apply(lambda x: 1 if x in [10,15,30,100] else 0)\n",
    "data_diciembre['new_num_lineas']=data_diciembre.num_lineas.apply(lambda x: 0 if x==0 else 1)\n",
    "data_diciembre['new_NA']=data_diciembre['number of NAs'].apply(lambda x: 1 if x==4 else 0) \n",
    "\n",
    "# data_diciembre.antiguedad.describe() -> I select (min, 25%, median, 75%, max) \n",
    "bins=[7.889702e+08, 9.858640e+08, 1.181438e+09, 1.378266e+09, 1.577759e+09]\n",
    "labels=[0,1,2,3]\n",
    "data_diciembre['NEW_antiguedad_bin']=pd.cut(data_diciembre['antiguedad'], bins=bins, labels=labels)\n",
    "\n",
    "data_diciembre['new_binarized_antiguedad']=data_diciembre['NEW_antiguedad_bin'].apply(lambda x: 0 if x in [1,2] else 1) \n",
    "\n",
    "# data_diciembre.facturacion.describe() \n",
    "bins=[15.000439, 111.383822, 206.808431, 304.436599, 399.998433]\n",
    "labels=[0,1,2,3]\n",
    "data_diciembre['NEW_facturacion']=pd.cut(data_diciembre['facturacion'], bins=bins, labels=labels)\n",
    "\n",
    "data_diciembre['categorical_facturacion']=data_diciembre.NEW_facturacion.apply(lambda x: 1 if x==1 else 0)  \n",
    "\n",
    "# data_diciembre.mb_datos.describe() \n",
    "bins=[0, 6177.500000, 12466.000000, 18785.500000, 25000.000000]\n",
    "labels=[0,1,2,3]\n",
    "data_diciembre['NEW_mb_datos']=pd.cut(data_diciembre['mb_datos'], bins=bins, labels=labels)\n",
    "\n",
    "data_diciembre['NEW_mb_datos']=data_diciembre.NEW_mb_datos.map({0:0, 1:1, 2:1, 3:2})  \n",
    "\n",
    "corr = abs(data_diciembre.corr()) #since we have included a new var\n",
    "corr[['¿Abandona?']].sort_values(by = '¿Abandona?',ascending = False).style.background_gradient() "
   ]
  },
  {
   "cell_type": "code",
   "execution_count": 27,
   "metadata": {},
   "outputs": [
    {
     "data": {
      "text/plain": [
       "edad                        0\n",
       "facturacion                 0\n",
       "antiguedad                  0\n",
       "provincia                   0\n",
       "num_lineas                  0\n",
       "num_llamad_ent              0\n",
       "num_llamad_sal              0\n",
       "mb_datos                    0\n",
       "seg_llamad_ent              0\n",
       "seg_llamad_sal              0\n",
       "conexion                    0\n",
       "vel_conexion                0\n",
       "TV                          0\n",
       "number of NAs               0\n",
       "num_lineas_3                0\n",
       "num_lineas_4                0\n",
       "num_lineas_2                0\n",
       "num_lineas_1                0\n",
       "TV_tv-futbol                0\n",
       "TV_tv-familiar              0\n",
       "¿Abandona?                  0\n",
       "new_TV_var                  0\n",
       "new_vel_conexion            0\n",
       "new_num_lineas              0\n",
       "new_NA                      0\n",
       "NEW_antiguedad_bin          2\n",
       "new_binarized_antiguedad    2\n",
       "NEW_facturacion             0\n",
       "categorical_facturacion     0\n",
       "NEW_mb_datos                1\n",
       "dtype: int64"
      ]
     },
     "execution_count": 27,
     "metadata": {},
     "output_type": "execute_result"
    }
   ],
   "source": [
    "data_diciembre.isnull().sum() "
   ]
  },
  {
   "cell_type": "code",
   "execution_count": 28,
   "metadata": {},
   "outputs": [
    {
     "data": {
      "text/html": [
       "<style  type=\"text/css\" >\n",
       "    #T_cb1e354c_60a8_11ea_b9c6_ccb0dab6b4d6row0_col0 {\n",
       "            background-color:  #023858;\n",
       "            color:  #f1f1f1;\n",
       "        }    #T_cb1e354c_60a8_11ea_b9c6_ccb0dab6b4d6row1_col0 {\n",
       "            background-color:  #71a8ce;\n",
       "            color:  #000000;\n",
       "        }    #T_cb1e354c_60a8_11ea_b9c6_ccb0dab6b4d6row2_col0 {\n",
       "            background-color:  #73a9cf;\n",
       "            color:  #000000;\n",
       "        }    #T_cb1e354c_60a8_11ea_b9c6_ccb0dab6b4d6row3_col0 {\n",
       "            background-color:  #81aed2;\n",
       "            color:  #000000;\n",
       "        }    #T_cb1e354c_60a8_11ea_b9c6_ccb0dab6b4d6row4_col0 {\n",
       "            background-color:  #d6d6e9;\n",
       "            color:  #000000;\n",
       "        }    #T_cb1e354c_60a8_11ea_b9c6_ccb0dab6b4d6row5_col0 {\n",
       "            background-color:  #e8e4f0;\n",
       "            color:  #000000;\n",
       "        }    #T_cb1e354c_60a8_11ea_b9c6_ccb0dab6b4d6row6_col0 {\n",
       "            background-color:  #f4edf6;\n",
       "            color:  #000000;\n",
       "        }    #T_cb1e354c_60a8_11ea_b9c6_ccb0dab6b4d6row7_col0 {\n",
       "            background-color:  #f5eef6;\n",
       "            color:  #000000;\n",
       "        }    #T_cb1e354c_60a8_11ea_b9c6_ccb0dab6b4d6row8_col0 {\n",
       "            background-color:  #fef6fa;\n",
       "            color:  #000000;\n",
       "        }    #T_cb1e354c_60a8_11ea_b9c6_ccb0dab6b4d6row9_col0 {\n",
       "            background-color:  #fef6fa;\n",
       "            color:  #000000;\n",
       "        }    #T_cb1e354c_60a8_11ea_b9c6_ccb0dab6b4d6row10_col0 {\n",
       "            background-color:  #fef6fb;\n",
       "            color:  #000000;\n",
       "        }    #T_cb1e354c_60a8_11ea_b9c6_ccb0dab6b4d6row11_col0 {\n",
       "            background-color:  #fef6fb;\n",
       "            color:  #000000;\n",
       "        }    #T_cb1e354c_60a8_11ea_b9c6_ccb0dab6b4d6row12_col0 {\n",
       "            background-color:  #fef6fb;\n",
       "            color:  #000000;\n",
       "        }    #T_cb1e354c_60a8_11ea_b9c6_ccb0dab6b4d6row13_col0 {\n",
       "            background-color:  #fef6fb;\n",
       "            color:  #000000;\n",
       "        }    #T_cb1e354c_60a8_11ea_b9c6_ccb0dab6b4d6row14_col0 {\n",
       "            background-color:  #fff7fb;\n",
       "            color:  #000000;\n",
       "        }    #T_cb1e354c_60a8_11ea_b9c6_ccb0dab6b4d6row15_col0 {\n",
       "            background-color:  #fff7fb;\n",
       "            color:  #000000;\n",
       "        }    #T_cb1e354c_60a8_11ea_b9c6_ccb0dab6b4d6row16_col0 {\n",
       "            background-color:  #fff7fb;\n",
       "            color:  #000000;\n",
       "        }    #T_cb1e354c_60a8_11ea_b9c6_ccb0dab6b4d6row17_col0 {\n",
       "            background-color:  #fff7fb;\n",
       "            color:  #000000;\n",
       "        }    #T_cb1e354c_60a8_11ea_b9c6_ccb0dab6b4d6row18_col0 {\n",
       "            background-color:  #fff7fb;\n",
       "            color:  #000000;\n",
       "        }    #T_cb1e354c_60a8_11ea_b9c6_ccb0dab6b4d6row19_col0 {\n",
       "            background-color:  #fff7fb;\n",
       "            color:  #000000;\n",
       "        }    #T_cb1e354c_60a8_11ea_b9c6_ccb0dab6b4d6row20_col0 {\n",
       "            background-color:  #fff7fb;\n",
       "            color:  #000000;\n",
       "        }    #T_cb1e354c_60a8_11ea_b9c6_ccb0dab6b4d6row21_col0 {\n",
       "            background-color:  #fff7fb;\n",
       "            color:  #000000;\n",
       "        }    #T_cb1e354c_60a8_11ea_b9c6_ccb0dab6b4d6row22_col0 {\n",
       "            background-color:  #fff7fb;\n",
       "            color:  #000000;\n",
       "        }    #T_cb1e354c_60a8_11ea_b9c6_ccb0dab6b4d6row23_col0 {\n",
       "            background-color:  #fff7fb;\n",
       "            color:  #000000;\n",
       "        }    #T_cb1e354c_60a8_11ea_b9c6_ccb0dab6b4d6row24_col0 {\n",
       "            background-color:  #fff7fb;\n",
       "            color:  #000000;\n",
       "        }    #T_cb1e354c_60a8_11ea_b9c6_ccb0dab6b4d6row25_col0 {\n",
       "            background-color:  #fff7fb;\n",
       "            color:  #000000;\n",
       "        }    #T_cb1e354c_60a8_11ea_b9c6_ccb0dab6b4d6row26_col0 {\n",
       "            background-color:  #fff7fb;\n",
       "            color:  #000000;\n",
       "        }    #T_cb1e354c_60a8_11ea_b9c6_ccb0dab6b4d6row27_col0 {\n",
       "            background-color:  #fff7fb;\n",
       "            color:  #000000;\n",
       "        }    #T_cb1e354c_60a8_11ea_b9c6_ccb0dab6b4d6row28_col0 {\n",
       "            background-color:  #fff7fb;\n",
       "            color:  #000000;\n",
       "        }    #T_cb1e354c_60a8_11ea_b9c6_ccb0dab6b4d6row29_col0 {\n",
       "            background-color:  #fff7fb;\n",
       "            color:  #000000;\n",
       "        }    #T_cb1e354c_60a8_11ea_b9c6_ccb0dab6b4d6row30_col0 {\n",
       "            background-color:  #fff7fb;\n",
       "            color:  #000000;\n",
       "        }    #T_cb1e354c_60a8_11ea_b9c6_ccb0dab6b4d6row31_col0 {\n",
       "            background-color:  #fff7fb;\n",
       "            color:  #000000;\n",
       "        }    #T_cb1e354c_60a8_11ea_b9c6_ccb0dab6b4d6row32_col0 {\n",
       "            background-color:  #fff7fb;\n",
       "            color:  #000000;\n",
       "        }</style><table id=\"T_cb1e354c_60a8_11ea_b9c6_ccb0dab6b4d6\" ><thead>    <tr>        <th class=\"blank level0\" ></th>        <th class=\"col_heading level0 col0\" >¿Abandona?</th>    </tr></thead><tbody>\n",
       "                <tr>\n",
       "                        <th id=\"T_cb1e354c_60a8_11ea_b9c6_ccb0dab6b4d6level0_row0\" class=\"row_heading level0 row0\" >¿Abandona?</th>\n",
       "                        <td id=\"T_cb1e354c_60a8_11ea_b9c6_ccb0dab6b4d6row0_col0\" class=\"data row0 col0\" >1</td>\n",
       "            </tr>\n",
       "            <tr>\n",
       "                        <th id=\"T_cb1e354c_60a8_11ea_b9c6_ccb0dab6b4d6level0_row1\" class=\"row_heading level0 row1\" >num_dt</th>\n",
       "                        <td id=\"T_cb1e354c_60a8_11ea_b9c6_ccb0dab6b4d6row1_col0\" class=\"data row1 col0\" >0.504867</td>\n",
       "            </tr>\n",
       "            <tr>\n",
       "                        <th id=\"T_cb1e354c_60a8_11ea_b9c6_ccb0dab6b4d6level0_row2\" class=\"row_heading level0 row2\" >incidencia</th>\n",
       "                        <td id=\"T_cb1e354c_60a8_11ea_b9c6_ccb0dab6b4d6row2_col0\" class=\"data row2 col0\" >0.500885</td>\n",
       "            </tr>\n",
       "            <tr>\n",
       "                        <th id=\"T_cb1e354c_60a8_11ea_b9c6_ccb0dab6b4d6level0_row3\" class=\"row_heading level0 row3\" >new_NA</th>\n",
       "                        <td id=\"T_cb1e354c_60a8_11ea_b9c6_ccb0dab6b4d6row3_col0\" class=\"data row3 col0\" >0.465407</td>\n",
       "            </tr>\n",
       "            <tr>\n",
       "                        <th id=\"T_cb1e354c_60a8_11ea_b9c6_ccb0dab6b4d6level0_row4\" class=\"row_heading level0 row4\" >number of NAs</th>\n",
       "                        <td id=\"T_cb1e354c_60a8_11ea_b9c6_ccb0dab6b4d6row4_col0\" class=\"data row4 col0\" >0.223008</td>\n",
       "            </tr>\n",
       "            <tr>\n",
       "                        <th id=\"T_cb1e354c_60a8_11ea_b9c6_ccb0dab6b4d6level0_row5\" class=\"row_heading level0 row5\" >descuentos</th>\n",
       "                        <td id=\"T_cb1e354c_60a8_11ea_b9c6_ccb0dab6b4d6row5_col0\" class=\"data row5 col0\" >0.141447</td>\n",
       "            </tr>\n",
       "            <tr>\n",
       "                        <th id=\"T_cb1e354c_60a8_11ea_b9c6_ccb0dab6b4d6level0_row6\" class=\"row_heading level0 row6\" >financiacion</th>\n",
       "                        <td id=\"T_cb1e354c_60a8_11ea_b9c6_ccb0dab6b4d6row6_col0\" class=\"data row6 col0\" >0.0745972</td>\n",
       "            </tr>\n",
       "            <tr>\n",
       "                        <th id=\"T_cb1e354c_60a8_11ea_b9c6_ccb0dab6b4d6level0_row7\" class=\"row_heading level0 row7\" >imp_financ</th>\n",
       "                        <td id=\"T_cb1e354c_60a8_11ea_b9c6_ccb0dab6b4d6row7_col0\" class=\"data row7 col0\" >0.0676261</td>\n",
       "            </tr>\n",
       "            <tr>\n",
       "                        <th id=\"T_cb1e354c_60a8_11ea_b9c6_ccb0dab6b4d6level0_row8\" class=\"row_heading level0 row8\" >new_binarized_antiguedad</th>\n",
       "                        <td id=\"T_cb1e354c_60a8_11ea_b9c6_ccb0dab6b4d6row8_col0\" class=\"data row8 col0\" >0.0109985</td>\n",
       "            </tr>\n",
       "            <tr>\n",
       "                        <th id=\"T_cb1e354c_60a8_11ea_b9c6_ccb0dab6b4d6level0_row9\" class=\"row_heading level0 row9\" >new_vel_conexion</th>\n",
       "                        <td id=\"T_cb1e354c_60a8_11ea_b9c6_ccb0dab6b4d6row9_col0\" class=\"data row9 col0\" >0.0106265</td>\n",
       "            </tr>\n",
       "            <tr>\n",
       "                        <th id=\"T_cb1e354c_60a8_11ea_b9c6_ccb0dab6b4d6level0_row10\" class=\"row_heading level0 row10\" >provincia</th>\n",
       "                        <td id=\"T_cb1e354c_60a8_11ea_b9c6_ccb0dab6b4d6row10_col0\" class=\"data row10 col0\" >0.00630453</td>\n",
       "            </tr>\n",
       "            <tr>\n",
       "                        <th id=\"T_cb1e354c_60a8_11ea_b9c6_ccb0dab6b4d6level0_row11\" class=\"row_heading level0 row11\" >num_llamad_ent</th>\n",
       "                        <td id=\"T_cb1e354c_60a8_11ea_b9c6_ccb0dab6b4d6row11_col0\" class=\"data row11 col0\" >0.00612962</td>\n",
       "            </tr>\n",
       "            <tr>\n",
       "                        <th id=\"T_cb1e354c_60a8_11ea_b9c6_ccb0dab6b4d6level0_row12\" class=\"row_heading level0 row12\" >categorical_facturacion</th>\n",
       "                        <td id=\"T_cb1e354c_60a8_11ea_b9c6_ccb0dab6b4d6row12_col0\" class=\"data row12 col0\" >0.00588859</td>\n",
       "            </tr>\n",
       "            <tr>\n",
       "                        <th id=\"T_cb1e354c_60a8_11ea_b9c6_ccb0dab6b4d6level0_row13\" class=\"row_heading level0 row13\" >new_TV_var</th>\n",
       "                        <td id=\"T_cb1e354c_60a8_11ea_b9c6_ccb0dab6b4d6row13_col0\" class=\"data row13 col0\" >0.00459036</td>\n",
       "            </tr>\n",
       "            <tr>\n",
       "                        <th id=\"T_cb1e354c_60a8_11ea_b9c6_ccb0dab6b4d6level0_row14\" class=\"row_heading level0 row14\" >antiguedad</th>\n",
       "                        <td id=\"T_cb1e354c_60a8_11ea_b9c6_ccb0dab6b4d6row14_col0\" class=\"data row14 col0\" >0.00314576</td>\n",
       "            </tr>\n",
       "            <tr>\n",
       "                        <th id=\"T_cb1e354c_60a8_11ea_b9c6_ccb0dab6b4d6level0_row15\" class=\"row_heading level0 row15\" >num_llamad_sal</th>\n",
       "                        <td id=\"T_cb1e354c_60a8_11ea_b9c6_ccb0dab6b4d6row15_col0\" class=\"data row15 col0\" >0.00314091</td>\n",
       "            </tr>\n",
       "            <tr>\n",
       "                        <th id=\"T_cb1e354c_60a8_11ea_b9c6_ccb0dab6b4d6level0_row16\" class=\"row_heading level0 row16\" >TV_tv-familiar</th>\n",
       "                        <td id=\"T_cb1e354c_60a8_11ea_b9c6_ccb0dab6b4d6row16_col0\" class=\"data row16 col0\" >0.00293872</td>\n",
       "            </tr>\n",
       "            <tr>\n",
       "                        <th id=\"T_cb1e354c_60a8_11ea_b9c6_ccb0dab6b4d6level0_row17\" class=\"row_heading level0 row17\" >edad</th>\n",
       "                        <td id=\"T_cb1e354c_60a8_11ea_b9c6_ccb0dab6b4d6row17_col0\" class=\"data row17 col0\" >0.00286418</td>\n",
       "            </tr>\n",
       "            <tr>\n",
       "                        <th id=\"T_cb1e354c_60a8_11ea_b9c6_ccb0dab6b4d6level0_row18\" class=\"row_heading level0 row18\" >facturacion</th>\n",
       "                        <td id=\"T_cb1e354c_60a8_11ea_b9c6_ccb0dab6b4d6row18_col0\" class=\"data row18 col0\" >0.00284625</td>\n",
       "            </tr>\n",
       "            <tr>\n",
       "                        <th id=\"T_cb1e354c_60a8_11ea_b9c6_ccb0dab6b4d6level0_row19\" class=\"row_heading level0 row19\" >new_num_lineas</th>\n",
       "                        <td id=\"T_cb1e354c_60a8_11ea_b9c6_ccb0dab6b4d6row19_col0\" class=\"data row19 col0\" >0.00266225</td>\n",
       "            </tr>\n",
       "            <tr>\n",
       "                        <th id=\"T_cb1e354c_60a8_11ea_b9c6_ccb0dab6b4d6level0_row20\" class=\"row_heading level0 row20\" >TV</th>\n",
       "                        <td id=\"T_cb1e354c_60a8_11ea_b9c6_ccb0dab6b4d6row20_col0\" class=\"data row20 col0\" >0.00264543</td>\n",
       "            </tr>\n",
       "            <tr>\n",
       "                        <th id=\"T_cb1e354c_60a8_11ea_b9c6_ccb0dab6b4d6level0_row21\" class=\"row_heading level0 row21\" >conexion</th>\n",
       "                        <td id=\"T_cb1e354c_60a8_11ea_b9c6_ccb0dab6b4d6row21_col0\" class=\"data row21 col0\" >0.00254613</td>\n",
       "            </tr>\n",
       "            <tr>\n",
       "                        <th id=\"T_cb1e354c_60a8_11ea_b9c6_ccb0dab6b4d6level0_row22\" class=\"row_heading level0 row22\" >vel_conexion</th>\n",
       "                        <td id=\"T_cb1e354c_60a8_11ea_b9c6_ccb0dab6b4d6row22_col0\" class=\"data row22 col0\" >0.00243859</td>\n",
       "            </tr>\n",
       "            <tr>\n",
       "                        <th id=\"T_cb1e354c_60a8_11ea_b9c6_ccb0dab6b4d6level0_row23\" class=\"row_heading level0 row23\" >num_lineas</th>\n",
       "                        <td id=\"T_cb1e354c_60a8_11ea_b9c6_ccb0dab6b4d6row23_col0\" class=\"data row23 col0\" >0.00173292</td>\n",
       "            </tr>\n",
       "            <tr>\n",
       "                        <th id=\"T_cb1e354c_60a8_11ea_b9c6_ccb0dab6b4d6level0_row24\" class=\"row_heading level0 row24\" >mb_datos</th>\n",
       "                        <td id=\"T_cb1e354c_60a8_11ea_b9c6_ccb0dab6b4d6row24_col0\" class=\"data row24 col0\" >0.00120115</td>\n",
       "            </tr>\n",
       "            <tr>\n",
       "                        <th id=\"T_cb1e354c_60a8_11ea_b9c6_ccb0dab6b4d6level0_row25\" class=\"row_heading level0 row25\" >num_lineas_1</th>\n",
       "                        <td id=\"T_cb1e354c_60a8_11ea_b9c6_ccb0dab6b4d6row25_col0\" class=\"data row25 col0\" >0.000997047</td>\n",
       "            </tr>\n",
       "            <tr>\n",
       "                        <th id=\"T_cb1e354c_60a8_11ea_b9c6_ccb0dab6b4d6level0_row26\" class=\"row_heading level0 row26\" >NEW_mb_datos</th>\n",
       "                        <td id=\"T_cb1e354c_60a8_11ea_b9c6_ccb0dab6b4d6row26_col0\" class=\"data row26 col0\" >0.000791205</td>\n",
       "            </tr>\n",
       "            <tr>\n",
       "                        <th id=\"T_cb1e354c_60a8_11ea_b9c6_ccb0dab6b4d6level0_row27\" class=\"row_heading level0 row27\" >seg_llamad_ent</th>\n",
       "                        <td id=\"T_cb1e354c_60a8_11ea_b9c6_ccb0dab6b4d6row27_col0\" class=\"data row27 col0\" >0.000525948</td>\n",
       "            </tr>\n",
       "            <tr>\n",
       "                        <th id=\"T_cb1e354c_60a8_11ea_b9c6_ccb0dab6b4d6level0_row28\" class=\"row_heading level0 row28\" >TV_tv-futbol</th>\n",
       "                        <td id=\"T_cb1e354c_60a8_11ea_b9c6_ccb0dab6b4d6row28_col0\" class=\"data row28 col0\" >0.000339559</td>\n",
       "            </tr>\n",
       "            <tr>\n",
       "                        <th id=\"T_cb1e354c_60a8_11ea_b9c6_ccb0dab6b4d6level0_row29\" class=\"row_heading level0 row29\" >num_lineas_2</th>\n",
       "                        <td id=\"T_cb1e354c_60a8_11ea_b9c6_ccb0dab6b4d6row29_col0\" class=\"data row29 col0\" >0.000332258</td>\n",
       "            </tr>\n",
       "            <tr>\n",
       "                        <th id=\"T_cb1e354c_60a8_11ea_b9c6_ccb0dab6b4d6level0_row30\" class=\"row_heading level0 row30\" >num_lineas_4</th>\n",
       "                        <td id=\"T_cb1e354c_60a8_11ea_b9c6_ccb0dab6b4d6row30_col0\" class=\"data row30 col0\" >0.000310855</td>\n",
       "            </tr>\n",
       "            <tr>\n",
       "                        <th id=\"T_cb1e354c_60a8_11ea_b9c6_ccb0dab6b4d6level0_row31\" class=\"row_heading level0 row31\" >seg_llamad_sal</th>\n",
       "                        <td id=\"T_cb1e354c_60a8_11ea_b9c6_ccb0dab6b4d6row31_col0\" class=\"data row31 col0\" >8.94505e-05</td>\n",
       "            </tr>\n",
       "            <tr>\n",
       "                        <th id=\"T_cb1e354c_60a8_11ea_b9c6_ccb0dab6b4d6level0_row32\" class=\"row_heading level0 row32\" >num_lineas_3</th>\n",
       "                        <td id=\"T_cb1e354c_60a8_11ea_b9c6_ccb0dab6b4d6row32_col0\" class=\"data row32 col0\" >6.80426e-05</td>\n",
       "            </tr>\n",
       "    </tbody></table>"
      ],
      "text/plain": [
       "<pandas.io.formats.style.Styler at 0x1d12e66d888>"
      ]
     },
     "execution_count": 28,
     "metadata": {},
     "output_type": "execute_result"
    }
   ],
   "source": [
    "full=pd.read_csv('full_diciembre.csv')\n",
    "others=full.loc[:,['num_dt','incidencia','financiacion','imp_financ','descuentos']] \n",
    "\n",
    "for col in ['incidencia','financiacion','descuentos']:\n",
    "    others[str(col)]=others[str(col)].map({'SI':1}) \n",
    " \n",
    "data_diciembre=data_diciembre.fillna(0) # for the last 5 NA values\n",
    "fill_others=others.fillna(0) \n",
    "all_vars=pd.concat([data_diciembre, fill_others.reindex(data_diciembre.index)], axis=1)\n",
    "\n",
    "corr = abs(all_vars.corr()) #since we have included a new var\n",
    "corr[['¿Abandona?']].sort_values(by = '¿Abandona?',ascending = False).style.background_gradient() "
   ]
  },
  {
   "cell_type": "code",
   "execution_count": null,
   "metadata": {},
   "outputs": [],
   "source": []
  },
  {
   "cell_type": "markdown",
   "metadata": {},
   "source": [
    "# Select variables with correlation greater than 0.01"
   ]
  },
  {
   "cell_type": "code",
   "execution_count": 29,
   "metadata": {},
   "outputs": [
    {
     "data": {
      "text/html": [
       "<div>\n",
       "<style scoped>\n",
       "    .dataframe tbody tr th:only-of-type {\n",
       "        vertical-align: middle;\n",
       "    }\n",
       "\n",
       "    .dataframe tbody tr th {\n",
       "        vertical-align: top;\n",
       "    }\n",
       "\n",
       "    .dataframe thead th {\n",
       "        text-align: right;\n",
       "    }\n",
       "</style>\n",
       "<table border=\"1\" class=\"dataframe\">\n",
       "  <thead>\n",
       "    <tr style=\"text-align: right;\">\n",
       "      <th></th>\n",
       "      <th>¿Abandona?</th>\n",
       "      <th>num_dt</th>\n",
       "      <th>incidencia</th>\n",
       "      <th>new_NA</th>\n",
       "      <th>number of NAs</th>\n",
       "      <th>descuentos</th>\n",
       "      <th>financiacion</th>\n",
       "      <th>imp_financ</th>\n",
       "      <th>new_binarized_antiguedad</th>\n",
       "      <th>new_vel_conexion</th>\n",
       "    </tr>\n",
       "  </thead>\n",
       "  <tbody>\n",
       "    <tr>\n",
       "      <th>0</th>\n",
       "      <td>0</td>\n",
       "      <td>0.0</td>\n",
       "      <td>0.0</td>\n",
       "      <td>0</td>\n",
       "      <td>5</td>\n",
       "      <td>0.0</td>\n",
       "      <td>0.0</td>\n",
       "      <td>0.0</td>\n",
       "      <td>1.0</td>\n",
       "      <td>0</td>\n",
       "    </tr>\n",
       "    <tr>\n",
       "      <th>1</th>\n",
       "      <td>0</td>\n",
       "      <td>0.0</td>\n",
       "      <td>0.0</td>\n",
       "      <td>1</td>\n",
       "      <td>4</td>\n",
       "      <td>1.0</td>\n",
       "      <td>0.0</td>\n",
       "      <td>0.0</td>\n",
       "      <td>1.0</td>\n",
       "      <td>0</td>\n",
       "    </tr>\n",
       "  </tbody>\n",
       "</table>\n",
       "</div>"
      ],
      "text/plain": [
       "   ¿Abandona?  num_dt  incidencia  new_NA  number of NAs  descuentos  \\\n",
       "0           0     0.0         0.0       0              5         0.0   \n",
       "1           0     0.0         0.0       1              4         1.0   \n",
       "\n",
       "   financiacion  imp_financ  new_binarized_antiguedad  new_vel_conexion  \n",
       "0           0.0         0.0                       1.0                 0  \n",
       "1           0.0         0.0                       1.0                 0  "
      ]
     },
     "execution_count": 29,
     "metadata": {},
     "output_type": "execute_result"
    }
   ],
   "source": [
    "mask=(corr.loc['¿Abandona?',:].sort_values(ascending=False)>0.01)\n",
    "all_vars=all_vars.loc[:,list(mask.index[mask])]  \n",
    "all_vars.head(2)"
   ]
  },
  {
   "cell_type": "code",
   "execution_count": 30,
   "metadata": {},
   "outputs": [
    {
     "name": "stdout",
     "output_type": "stream",
     "text": [
      "matriz de confusión\n",
      "[[21681   415]\n",
      " [   29  1742]]\n",
      "accuracy\n",
      "0.9813969078644152\n",
      "precision\n",
      "0.8076031525266574\n",
      "recall\n",
      "0.9836250705815923\n",
      "f1\n",
      "0.8869653767820773\n",
      "AUC\n",
      "0.9824216953197608\n"
     ]
    },
    {
     "data": {
      "image/png": "[encoded data removed]",
      "text/plain": [
       "<Figure size 432x288 with 1 Axes>"
      ]
     },
     "metadata": {
      "needs_background": "light"
     },
     "output_type": "display_data"
    }
   ],
   "source": [
    "restOfVars=all_vars.loc[:, list(pd.DataFrame(all_vars.columns).apply(lambda x: x[0] not in ['TV_tv-total', 'num_lineas_5','¿Abandona?'], axis=1))]  \n",
    "target=data_diciembre['¿Abandona?']\n",
    "data_diciembre=pd.concat([restOfVars, target.reindex(target.index)], axis=1) \n",
    "\n",
    "X, y = data_diciembre.iloc[:,:-1], data_diciembre.iloc[:,-1] \n",
    "scaler = MinMaxScaler()    \n",
    "X=scaler.fit_transform(X) \n",
    "\n",
    "X_train, X_test, y_train, y_test = train_test_split(X, y, random_state=0, stratify=y)\n",
    "\n",
    "classifier = LogisticRegression().fit(X_train, y_train)\n",
    "y_pred     = classifier.predict(X_test) \n",
    "\n",
    "get_metrics(y_test, y_pred) "
   ]
  },
  {
   "cell_type": "code",
   "execution_count": null,
   "metadata": {},
   "outputs": [],
   "source": []
  },
  {
   "cell_type": "markdown",
   "metadata": {},
   "source": [
    "# Random Forest with Grid Search"
   ]
  },
  {
   "cell_type": "code",
   "execution_count": 31,
   "metadata": {},
   "outputs": [],
   "source": [
    "from sklearn.ensemble import RandomForestClassifier\n",
    "from sklearn.model_selection import cross_val_score\n",
    "from sklearn.model_selection import GridSearchCV\n",
    "from sklearn.metrics import accuracy_score, auc, confusion_matrix, f1_score, precision_score, recall_score, roc_curve"
   ]
  },
  {
   "cell_type": "markdown",
   "metadata": {},
   "source": [
    "# scoring -> accuracy"
   ]
  },
  {
   "cell_type": "code",
   "execution_count": 32,
   "metadata": {},
   "outputs": [
    {
     "name": "stdout",
     "output_type": "stream",
     "text": [
      "matriz de confusión\n",
      "[[21679   417]\n",
      " [   16  1755]]\n",
      "accuracy\n",
      "0.9818577952821888\n",
      "precision\n",
      "0.8080110497237569\n",
      "recall\n",
      "0.9909655561829475\n",
      "f1\n",
      "0.8901851382196296\n",
      "AUC\n",
      "0.9860466810603368\n"
     ]
    },
    {
     "data": {
      "image/png": "[encoded data removed]",
      "text/plain": [
       "<Figure size 432x288 with 1 Axes>"
      ]
     },
     "metadata": {
      "needs_background": "light"
     },
     "output_type": "display_data"
    }
   ],
   "source": [
    "# Defino un modelo de random forest:\n",
    "rand_forest_model = RandomForestClassifier(n_estimators=100, random_state=0)\n",
    "\n",
    "grid_param = {\n",
    "    'n_estimators': [100, 200, 500],\n",
    "    'criterion': ['gini', 'entropy'],\n",
    "    'bootstrap': [True, False]\n",
    "}\n",
    "\n",
    "# Aplicar el grid sobre el modelo:\n",
    "model_grid = GridSearchCV(estimator=rand_forest_model,\n",
    "                     param_grid=grid_param,\n",
    "                     scoring='accuracy',\n",
    "                     cv=5,\n",
    "                     n_jobs=-1)\n",
    "\n",
    "classifier2 = model_grid.fit(X_train, y_train)\n",
    "y_pred2     = classifier2.predict(X_test) \n",
    "\n",
    "get_metrics(y_test, y_pred2) "
   ]
  },
  {
   "cell_type": "markdown",
   "metadata": {},
   "source": [
    "# scoring -> 'f1'"
   ]
  },
  {
   "cell_type": "code",
   "execution_count": 33,
   "metadata": {},
   "outputs": [
    {
     "name": "stdout",
     "output_type": "stream",
     "text": [
      "matriz de confusión\n",
      "[[21679   417]\n",
      " [   16  1755]]\n",
      "accuracy\n",
      "0.9818577952821888\n",
      "precision\n",
      "0.8080110497237569\n",
      "recall\n",
      "0.9909655561829475\n",
      "f1\n",
      "0.8901851382196296\n",
      "AUC\n",
      "0.9860466810603368\n"
     ]
    },
    {
     "data": {
      "image/png": "[encoded data removed]",
      "text/plain": [
       "<Figure size 432x288 with 1 Axes>"
      ]
     },
     "metadata": {
      "needs_background": "light"
     },
     "output_type": "display_data"
    }
   ],
   "source": [
    "# Defino un modelo de random forest:\n",
    "rand_forest_model = RandomForestClassifier(n_estimators=100, random_state=0)\n",
    "\n",
    "grid_param = {\n",
    "    'n_estimators': [100, 200, 500],\n",
    "    'criterion': ['gini', 'entropy'],\n",
    "    'bootstrap': [True, False]\n",
    "}\n",
    "\n",
    "# Aplicar el grid sobre el modelo:\n",
    "model_grid = GridSearchCV(estimator=rand_forest_model,\n",
    "                     param_grid=grid_param,\n",
    "                     scoring='f1',\n",
    "                     cv=5,\n",
    "                     n_jobs=-1)\n",
    "\n",
    "classifier2 = model_grid.fit(X_train, y_train)\n",
    "y_pred2     = classifier2.predict(X_test) \n",
    "\n",
    "get_metrics(y_test, y_pred2) "
   ]
  },
  {
   "cell_type": "code",
   "execution_count": null,
   "metadata": {},
   "outputs": [],
   "source": []
  },
  {
   "cell_type": "code",
   "execution_count": null,
   "metadata": {},
   "outputs": [],
   "source": []
  },
  {
   "cell_type": "code",
   "execution_count": null,
   "metadata": {},
   "outputs": [],
   "source": []
  },
  {
   "cell_type": "code",
   "execution_count": null,
   "metadata": {},
   "outputs": [],
   "source": []
  },
  {
   "cell_type": "code",
   "execution_count": null,
   "metadata": {},
   "outputs": [],
   "source": []
  },
  {
   "cell_type": "markdown",
   "metadata": {},
   "source": [
    "# NEURAL NETWORK (from scratch with python)"
   ]
  },
  {
   "cell_type": "code",
   "execution_count": 86,
   "metadata": {},
   "outputs": [],
   "source": [
    "X, y = data_diciembre.iloc[:,:-1], data_diciembre.iloc[:,-1]\n",
    "\n",
    "scaler = MinMaxScaler()    \n",
    "X=scaler.fit_transform(X) \n",
    "\n",
    "X_train, X_test, y_train, y_test = train_test_split(X, y, random_state=0, stratify=y)\n",
    "X_train, X_test, y_train, y_test = (np.array(X_train).T, np.array(X_test).T, \n",
    "                                    np.array(y_train).reshape(1,-1), \n",
    "                                    np.array(y_test).reshape(1,-1)) "
   ]
  },
  {
   "cell_type": "code",
   "execution_count": 87,
   "metadata": {},
   "outputs": [],
   "source": [
    "def initialization(layer_dims): #layer_dims has to be a list\n",
    "    np.random.seed(1)  # to reproduce values\n",
    "    parameters={}\n",
    "    for l in range(1,len(layer_dims)):\n",
    "        parameters['W'+str(l)]=np.random.randn(layer_dims[l],layer_dims[l-1])*0.01 \n",
    "        parameters['b'+str(l)]=np.zeros((layer_dims[l],1))\n",
    "    return parameters\n",
    "\n",
    "\n",
    "# sigmoid as activation function in last layer, ReLU for remaining ones\n",
    "def forward_propagation_AND_cost_computation(X, Y, parameters):\n",
    "    forward_param={}\n",
    "    A_prev=X\n",
    "    layers=int(len(parameters)/2) \n",
    "    for l in range(1,layers): \n",
    "        forward_param['Z'+str(l)]=np.dot(parameters['W'+str(l)], A_prev)+parameters['b'+str(l)] \n",
    "        forward_param['A'+str(l)]=np.maximum(0, forward_param['Z'+str(l)]) #ReLU activation function\n",
    "        A_prev=forward_param['A'+str(l)]\n",
    "\n",
    "    #Last layer\n",
    "    forward_param['Z'+str(layers)]=np.dot(parameters['W'+str(layers)], \n",
    "                                          A_prev)+parameters['b'+str(layers)]    \n",
    "    forward_param['A'+str(layers)]=1/(1+np.exp(-(forward_param['Z'+str(layers)])))  \n",
    "\n",
    "    Y=Y.reshape(1,-1) \n",
    "    \n",
    "    AL=forward_param['A'+str(int(len(parameters)/2))].reshape(1,-1)\n",
    "    #str(len(forward_param)/2)[0] returns '2.0'[0], which is only '2'\n",
    "    m=Y.shape[1] \n",
    "\n",
    "    cost=-(1/m)*np.sum(Y*np.log(AL)+(1-Y)*np.log(1-AL))   \n",
    "    \n",
    "    return cost, forward_param, parameters\n",
    "\n",
    "\n",
    "\n",
    "def backward_propagation(X, Y, parameters):\n",
    "    loss, forward_param, weights = forward_propagation_AND_cost_computation(X, Y, parameters) #'forward_param' -> 'As' and 'Zs'\n",
    "    grads={}\n",
    "    last_layer = int(len(forward_param)/2) \n",
    "    m=Y.shape[1] \n",
    "    forward_param['A0']=X\n",
    "    \n",
    "    grads['dZ'+str(last_layer)]=forward_param['A'+str(last_layer)] - Y #here activation: sigmoid.\n",
    "                                                                       #following layers: ReLU\n",
    "    previous_dZ=grads['dZ'+str(last_layer)]\n",
    "    for l in reversed(range(1,last_layer+1)):\n",
    "        grads['dW'+str(l)] = ((1/m) * np.dot(previous_dZ, \n",
    "                                               forward_param['A'+str(l-1)].T))   \n",
    "        grads['db'+str(l)] = (1/m) * np.sum(previous_dZ, axis=1, keepdims=True)\n",
    "        \n",
    "        if l>1:\n",
    "            grads['dZ'+str(l-1)] = (np.dot(weights['W'+str(l)].T, previous_dZ) * \n",
    "                                    np.array(forward_param['Z'+str(l-1)]>=0, dtype=float))    \n",
    "            \n",
    "            previous_dZ = grads['dZ'+str(l-1)]\n",
    "            \n",
    "    return grads"
   ]
  },
  {
   "cell_type": "code",
   "execution_count": 93,
   "metadata": {},
   "outputs": [],
   "source": [
    "# standard update of parameters\n",
    "def gradient_update(parameters, grads, learning_rate=1):\n",
    "    for l in range(1, int(len(parameters)/2+1)):    \n",
    "        parameters['W'+str(l)] = parameters['W'+str(l)] - learning_rate * grads['dW'+str(l)]\n",
    "        parameters['b'+str(l)] = parameters['b'+str(l)] - learning_rate * grads['db'+str(l)] \n",
    "    return parameters"
   ]
  },
  {
   "cell_type": "markdown",
   "metadata": {},
   "source": [
    "I am going to implement the parameters update with Adam. \n",
    "This is the general update rule is, for $l = 1, ..., L$: \n",
    "\n",
    "$$\\begin{cases}\n",
    "v_{W^{[l]}} = \\beta_1 v_{W^{[l]}} + (1 - \\beta_1) \\frac{\\partial J }{ \\partial W^{[l]} } \\\\\n",
    "v^{corrected}_{W^{[l]}} = \\frac{v_{W^{[l]}}}{1 - (\\beta_1)^t} \\\\\n",
    "s_{W^{[l]}} = \\beta_2 s_{W^{[l]}} + (1 - \\beta_2) (\\frac{\\partial J }{\\partial W^{[l]} })^2 \\\\\n",
    "s^{corrected}_{W^{[l]}} = \\frac{s_{W^{[l]}}}{1 - (\\beta_2)^t} \\\\\n",
    "W^{[l]} = W^{[l]} - \\alpha \\frac{v^{corrected}_{W^{[l]}}}{\\sqrt{s^{corrected}_{W^{[l]}}}+\\varepsilon}\n",
    "\\end{cases}$$ "
   ]
  },
  {
   "cell_type": "code",
   "execution_count": 89,
   "metadata": {},
   "outputs": [],
   "source": [
    "def initialize_adam(parameters) :\n",
    "    L = len(parameters) // 2 # number of layers in the neural networks\n",
    "    v = {}\n",
    "    s = {}\n",
    "\n",
    "    for l in range(L):\n",
    "        v[\"dW\" + str(l+1)] = np.zeros(parameters['W'+str(l+1)].shape)\n",
    "        v[\"db\" + str(l+1)] = np.zeros(parameters['b'+str(l+1)].shape)\n",
    "        s[\"dW\" + str(l+1)] = np.zeros(parameters['W'+str(l+1)].shape)\n",
    "        s[\"db\" + str(l+1)] = np.zeros(parameters['b'+str(l+1)].shape)\n",
    "    return v, s\n",
    "\n",
    "\n",
    "\n",
    "\n",
    "def update_parameters_with_adam(parameters, grads, v, s, t, learning_rate = 0.01,\n",
    "                                beta1 = 0.9, beta2 = 0.999,  epsilon = 1e-8):\n",
    "    L = len(parameters) // 2                 # number of layers in the neural networks\n",
    "    v_corrected = {}                         # Initializing first moment estimate, python dictionary\n",
    "    s_corrected = {}                         # Initializing second moment estimate, python dictionary\n",
    "    \n",
    "    # Perform Adam update on all parameters\n",
    "    for l in range(L):\n",
    "        v[\"dW\" + str(l+1)] = beta1*v['dW'+str(l+1)] + (1-beta1)*grads['dW'+str(l+1)]\n",
    "        v[\"db\" + str(l+1)] = beta1*v['db'+str(l+1)] + (1-beta1)*grads['db'+str(l+1)]\n",
    "\n",
    "        v_corrected[\"dW\" + str(l+1)] = v[\"dW\" + str(l+1)]/(1-beta1**t)\n",
    "        v_corrected[\"db\" + str(l+1)] = v[\"db\" + str(l+1)]/(1-beta1**t)\n",
    "\n",
    "        s[\"dW\" + str(l+1)] = beta2*s['dW'+str(l+1)] + (1-beta2)*(grads['dW'+str(l+1)]**2)\n",
    "        s[\"db\" + str(l+1)] = beta2*s['db'+str(l+1)] + (1-beta2)*(grads['db'+str(l+1)]**2)\n",
    "\n",
    "        s_corrected[\"dW\" + str(l+1)] = s[\"dW\" + str(l+1)]/(1-beta2**t)\n",
    "        s_corrected[\"db\" + str(l+1)] = s[\"db\" + str(l+1)]/(1-beta2**t)\n",
    "\n",
    "        parameters[\"W\" + str(l+1)] = parameters['W'+str(l+1)] - (learning_rate*(v_corrected['dW'+str(l+1)]/(np.sqrt(s_corrected['dW'+str(l+1)])+epsilon)))  \n",
    "        parameters[\"b\" + str(l+1)] = parameters['b'+str(l+1)] - (learning_rate*(v_corrected['db'+str(l+1)]/(np.sqrt(s_corrected['db'+str(l+1)])+epsilon)))\n",
    "\n",
    "    return parameters"
   ]
  },
  {
   "cell_type": "code",
   "execution_count": null,
   "metadata": {},
   "outputs": [],
   "source": []
  },
  {
   "cell_type": "code",
   "execution_count": 90,
   "metadata": {},
   "outputs": [],
   "source": [
    "def predict(X, Y, parameters):\n",
    "    forward_param={}\n",
    "    A_prev=X\n",
    "    layers=int(len(parameters)/2) \n",
    "    for l in range(1,layers): \n",
    "        forward_param['Z'+str(l)]=np.dot(parameters['W'+str(l)], A_prev)+parameters['b'+str(l)] \n",
    "        forward_param['A'+str(l)]=np.maximum(0, forward_param['Z'+str(l)]) #ReLU activation function\n",
    "        A_prev=forward_param['A'+str(l)]\n",
    "\n",
    "    #Last layer\n",
    "    forward_param['Z'+str(layers)]=np.dot(parameters['W'+str(layers)], \n",
    "                                          A_prev)+parameters['b'+str(layers)]    \n",
    "    forward_param['A'+str(layers)]=1/(1+np.exp(-(forward_param['Z'+str(layers)])))  \n",
    "\n",
    "    Y=Y.reshape(1,-1) \n",
    "    \n",
    "    AL=forward_param['A'+str(int(len(parameters)/2))].reshape(1,-1)\n",
    "\n",
    "    return np.array(AL>0.1, dtype=float) "
   ]
  },
  {
   "cell_type": "code",
   "execution_count": 97,
   "metadata": {},
   "outputs": [],
   "source": [
    "def L_model(layer_dims, X, Y, number_of_iterations, update_method='adam'):\n",
    "    layer_dims=layer_dims\n",
    "    previous_parameters = initialization(layer_dims)\n",
    "    values=[]\n",
    "    t=0\n",
    "    \n",
    "    for i in range(number_of_iterations):\n",
    "        loss, forward_param, previous_parameters = forward_propagation_AND_cost_computation(X, Y, previous_parameters)\n",
    "        \n",
    "        values.append(loss)\n",
    "        \n",
    "        grads = backward_propagation(X, Y, previous_parameters)\n",
    "        if i%20==0:\n",
    "            print('iteration {}, cost: {}'.format(i,loss)) \n",
    "#             print(forward_param['A'+str(int(len(layer_dims)-1))]) \n",
    "\n",
    "#         previous_parameters = gradient_update(previous_parameters, grads)\n",
    "        if update_method=='adam':\n",
    "            v,s = initialize_adam(previous_parameters)\n",
    "            t = t + 1 # Adam counter\n",
    "            previous_parameters=update_parameters_with_adam(previous_parameters, grads, v, s, t)\n",
    "        else:\n",
    "            previous_parameters = gradient_update(previous_parameters, grads) \n",
    "         \n",
    "    y=Y\n",
    "    y_hat=forward_param['A'+str(int(len(previous_parameters)/2))] \n",
    "    \n",
    "    accuracy=np.array(y==np.array(y_hat>0.1, dtype=float), dtype=float)\n",
    "\n",
    "    print('\\n\\n accuracy train: {}'.format(round(np.sum(accuracy)/len(accuracy[0]),8)))   \n",
    "    \n",
    "    plt.plot(np.squeeze(values))  \n",
    "    plt.ylabel('cost')\n",
    "    plt.xlabel('iterations (per hundreds)')\n",
    "    plt.title(\"Learning Process\")\n",
    "    plt.show() \n",
    "    return previous_parameters"
   ]
  },
  {
   "cell_type": "code",
   "execution_count": null,
   "metadata": {},
   "outputs": [],
   "source": []
  },
  {
   "cell_type": "markdown",
   "metadata": {},
   "source": [
    "-Update method: Adam \\\n",
    "-No hyperparameter gridsearch"
   ]
  },
  {
   "cell_type": "code",
   "execution_count": 98,
   "metadata": {},
   "outputs": [
    {
     "name": "stdout",
     "output_type": "stream",
     "text": [
      "iteration 0, cost: 0.6931462753487738\n",
      "iteration 20, cost: 0.550255746632483\n",
      "iteration 40, cost: 0.23980183147927422\n",
      "iteration 60, cost: 0.11901008498890535\n",
      "iteration 80, cost: 0.06523130372472942\n",
      "\n",
      "\n",
      " accuracy train: 0.98385475\n"
     ]
    },
    {
     "data": {
      "image/png": "[encoded data removed]",
      "text/plain": [
       "<Figure size 432x288 with 1 Axes>"
      ]
     },
     "metadata": {
      "needs_background": "light"
     },
     "output_type": "display_data"
    }
   ],
   "source": [
    "fitted_parameters_adam = L_model(layer_dims=[X_train.shape[0],20,7,1], X=X_train, Y=y_train, \n",
    "                            number_of_iterations=90)  "
   ]
  },
  {
   "cell_type": "code",
   "execution_count": 99,
   "metadata": {},
   "outputs": [
    {
     "name": "stdout",
     "output_type": "stream",
     "text": [
      "matriz de confusión\n",
      "[[21675   421]\n",
      " [   12  1759]]\n",
      "accuracy\n",
      "0.9818577952821888\n",
      "precision\n",
      "0.8068807339449541\n",
      "recall\n",
      "0.9932241671372106\n",
      "f1\n",
      "0.8904074917742344\n",
      "AUC\n",
      "0.9870854724172657\n"
     ]
    },
    {
     "data": {
      "image/png": "[encoded data removed]",
      "text/plain": [
       "<Figure size 432x288 with 1 Axes>"
      ]
     },
     "metadata": {
      "needs_background": "light"
     },
     "output_type": "display_data"
    }
   ],
   "source": [
    "y_pred=predict(X_test, y_test, fitted_parameters_adam)\n",
    "get_metrics(y_test[0], y_pred[0]) "
   ]
  },
  {
   "cell_type": "code",
   "execution_count": 1,
   "metadata": {},
   "outputs": [
    {
     "data": {
      "text/plain": [
       "23"
      ]
     },
     "execution_count": 1,
     "metadata": {},
     "output_type": "execute_result"
    }
   ],
   "source": [
    "32-9"
   ]
  }
 ],
 "metadata": {
  "kernelspec": {
   "display_name": "Python 3",
   "language": "python",
   "name": "python3"
  },
  "language_info": {
   "codemirror_mode": {
    "name": "ipython",
    "version": 3
   },
   "file_extension": ".py",
   "mimetype": "text/x-python",
   "name": "python",
   "nbconvert_exporter": "python",
   "pygments_lexer": "ipython3",
   "version": "3.7.5"
  }
 },
 "nbformat": 4,
 "nbformat_minor": 2
}
