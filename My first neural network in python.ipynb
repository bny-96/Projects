{
 "cells": [
  {
   "cell_type": "raw",
   "metadata": {},
   "source": [
    "Author: Pablo Benayas"
   ]
  },
  {
   "cell_type": "markdown",
   "metadata": {},
   "source": [
    "1. Understanding the dataset\n",
    "\n",
    "Title: Haberman’s Survival Data\n",
    "\n",
    "\n",
    "Description: The dataset contains cases from a study that was conducted between 1958 and 1970 \n",
    "at the University of Chicago’s Billings Hospital on the survival of patients who had undergone \n",
    "surgery for breast cancer.\n",
    "\n",
    "\n",
    "Attribute Information:\n",
    "Age of patient at the time of operation (numerical) \n",
    "\n",
    "Patient’s year of operation (year — 1900, numerical)\n",
    "\n",
    "Number of positive axillary nodes detected (numerical)\n",
    "\n",
    "Survival status (class attribute) :\n",
    "\n",
    "    1 = the patient survived 5 years or longer\n",
    "    \n",
    "    2 = the patient died within 5 years"
   ]
  },
  {
   "cell_type": "code",
   "execution_count": 3,
   "metadata": {},
   "outputs": [
    {
     "name": "stdout",
     "output_type": "stream",
     "text": [
      "The autoreload extension is already loaded. To reload it, use:\n",
      "  %reload_ext autoreload\n"
     ]
    }
   ],
   "source": [
    "import pandas as pd\n",
    "import numpy as np\n",
    "import matplotlib.pyplot as plt\n",
    "from sklearn.preprocessing import MinMaxScaler\n",
    "from sklearn.model_selection import train_test_split \n",
    "\n",
    "%matplotlib inline\n",
    "plt.rcParams['figure.figsize'] = (5.0, 4.0) # set default size of plots\n",
    "plt.rcParams['image.interpolation'] = 'nearest'\n",
    "plt.rcParams['image.cmap'] = 'gray'\n",
    "\n",
    "%load_ext autoreload\n",
    "%autoreload 2"
   ]
  },
  {
   "cell_type": "code",
   "execution_count": null,
   "metadata": {},
   "outputs": [],
   "source": []
  },
  {
   "cell_type": "code",
   "execution_count": 4,
   "metadata": {},
   "outputs": [
    {
     "name": "stdout",
     "output_type": "stream",
     "text": [
      "0.2647 is the rate of patients dying whithin 5 years\n"
     ]
    },
    {
     "data": {
      "text/html": [
       "<div>\n",
       "<style scoped>\n",
       "    .dataframe tbody tr th:only-of-type {\n",
       "        vertical-align: middle;\n",
       "    }\n",
       "\n",
       "    .dataframe tbody tr th {\n",
       "        vertical-align: top;\n",
       "    }\n",
       "\n",
       "    .dataframe thead th {\n",
       "        text-align: right;\n",
       "    }\n",
       "</style>\n",
       "<table border=\"1\" class=\"dataframe\">\n",
       "  <thead>\n",
       "    <tr style=\"text-align: right;\">\n",
       "      <th></th>\n",
       "      <th>Age of Patient</th>\n",
       "      <th>Patient's year of operation</th>\n",
       "      <th>positive axillary nodes</th>\n",
       "      <th>Survival Status</th>\n",
       "    </tr>\n",
       "  </thead>\n",
       "  <tbody>\n",
       "    <tr>\n",
       "      <th>0</th>\n",
       "      <td>30</td>\n",
       "      <td>64</td>\n",
       "      <td>1</td>\n",
       "      <td>0</td>\n",
       "    </tr>\n",
       "    <tr>\n",
       "      <th>1</th>\n",
       "      <td>30</td>\n",
       "      <td>62</td>\n",
       "      <td>3</td>\n",
       "      <td>0</td>\n",
       "    </tr>\n",
       "    <tr>\n",
       "      <th>2</th>\n",
       "      <td>30</td>\n",
       "      <td>65</td>\n",
       "      <td>0</td>\n",
       "      <td>0</td>\n",
       "    </tr>\n",
       "    <tr>\n",
       "      <th>3</th>\n",
       "      <td>31</td>\n",
       "      <td>59</td>\n",
       "      <td>2</td>\n",
       "      <td>0</td>\n",
       "    </tr>\n",
       "    <tr>\n",
       "      <th>4</th>\n",
       "      <td>31</td>\n",
       "      <td>65</td>\n",
       "      <td>4</td>\n",
       "      <td>0</td>\n",
       "    </tr>\n",
       "    <tr>\n",
       "      <th>5</th>\n",
       "      <td>33</td>\n",
       "      <td>58</td>\n",
       "      <td>10</td>\n",
       "      <td>0</td>\n",
       "    </tr>\n",
       "    <tr>\n",
       "      <th>6</th>\n",
       "      <td>33</td>\n",
       "      <td>60</td>\n",
       "      <td>0</td>\n",
       "      <td>0</td>\n",
       "    </tr>\n",
       "    <tr>\n",
       "      <th>7</th>\n",
       "      <td>34</td>\n",
       "      <td>59</td>\n",
       "      <td>0</td>\n",
       "      <td>1</td>\n",
       "    </tr>\n",
       "    <tr>\n",
       "      <th>8</th>\n",
       "      <td>34</td>\n",
       "      <td>66</td>\n",
       "      <td>9</td>\n",
       "      <td>1</td>\n",
       "    </tr>\n",
       "    <tr>\n",
       "      <th>9</th>\n",
       "      <td>34</td>\n",
       "      <td>58</td>\n",
       "      <td>30</td>\n",
       "      <td>0</td>\n",
       "    </tr>\n",
       "  </tbody>\n",
       "</table>\n",
       "</div>"
      ],
      "text/plain": [
       "   Age of Patient  Patient's year of operation  positive axillary nodes  \\\n",
       "0              30                           64                        1   \n",
       "1              30                           62                        3   \n",
       "2              30                           65                        0   \n",
       "3              31                           59                        2   \n",
       "4              31                           65                        4   \n",
       "5              33                           58                       10   \n",
       "6              33                           60                        0   \n",
       "7              34                           59                        0   \n",
       "8              34                           66                        9   \n",
       "9              34                           58                       30   \n",
       "\n",
       "   Survival Status  \n",
       "0                0  \n",
       "1                0  \n",
       "2                0  \n",
       "3                0  \n",
       "4                0  \n",
       "5                0  \n",
       "6                0  \n",
       "7                1  \n",
       "8                1  \n",
       "9                0  "
      ]
     },
     "execution_count": 4,
     "metadata": {},
     "output_type": "execute_result"
    }
   ],
   "source": [
    "df=pd.read_csv('haberman.csv', names=['Age of Patient','Patient\\'s year of operation',\n",
    "                                      'positive axillary nodes','Survival Status'])\n",
    "df['Survival Status']=df['Survival Status'].replace({1:0, 2:1})\n",
    "\n",
    "rate_of_patients_dying_whithin_5_years=round(len(df.loc[df['Survival Status']==1,:])/len(df), 4)\n",
    "print('{} is the rate of patients dying whithin 5 years'.format(rate_of_patients_dying_whithin_5_years))\n",
    "df.head(10) "
   ]
  },
  {
   "cell_type": "code",
   "execution_count": 5,
   "metadata": {},
   "outputs": [],
   "source": [
    "df=df.apply(lambda x: pd.to_numeric(x)) \n",
    "X,y=df.iloc[:,:-1], df.iloc[:,-1] \n",
    "\n",
    "scaler = MinMaxScaler()    \n",
    "X=scaler.fit_transform(X) \n",
    "\n",
    "X_train, X_test, y_train, y_test = train_test_split(X, y, random_state=0)\n",
    "X_train, X_test, y_train, y_test = (np.array(X_train).T, np.array(X_test).T, \n",
    "                                    np.array(y_train).reshape(1,-1), \n",
    "                                    np.array(y_test).reshape(1,-1)) "
   ]
  },
  {
   "cell_type": "code",
   "execution_count": null,
   "metadata": {},
   "outputs": [],
   "source": []
  },
  {
   "cell_type": "code",
   "execution_count": null,
   "metadata": {},
   "outputs": [],
   "source": []
  },
  {
   "cell_type": "markdown",
   "metadata": {},
   "source": [
    "NOW, OUR DATA IS READY TO BE PROCESSED. LET'S BUILD A NEURAL NETWORK!"
   ]
  },
  {
   "cell_type": "code",
   "execution_count": 6,
   "metadata": {},
   "outputs": [],
   "source": [
    "def initialization(layer_dims): #layer_dims has to be a list\n",
    "    np.random.seed(1)  # to reproduce values\n",
    "    parameters={}\n",
    "    for l in range(1,len(layer_dims)):\n",
    "        parameters['W'+str(l)]=np.random.randn(layer_dims[l],layer_dims[l-1])*0.01 \n",
    "        parameters['b'+str(l)]=np.zeros((layer_dims[l],1))\n",
    "    return parameters"
   ]
  },
  {
   "cell_type": "code",
   "execution_count": 7,
   "metadata": {},
   "outputs": [
    {
     "data": {
      "text/plain": [
       "3.0"
      ]
     },
     "execution_count": 7,
     "metadata": {},
     "output_type": "execute_result"
    }
   ],
   "source": [
    "# Let's run a example\n",
    "yey=initialization([X_train.shape[0], 10, 4, 1]) \n",
    "len(yey)/2#['b2'].shape\n",
    "# X_train[:,1].shape"
   ]
  },
  {
   "cell_type": "code",
   "execution_count": null,
   "metadata": {},
   "outputs": [],
   "source": []
  },
  {
   "cell_type": "code",
   "execution_count": 8,
   "metadata": {},
   "outputs": [],
   "source": [
    "# sigmoid as activation function in last layer, ReLU for remaining ones\n",
    "def forward_propagation_AND_cost_computation(X, Y, parameters):\n",
    "    forward_param={}\n",
    "    A_prev=X\n",
    "    layers=int(len(parameters)/2) \n",
    "    for l in range(1,layers): \n",
    "        forward_param['Z'+str(l)]=np.dot(parameters['W'+str(l)], A_prev)+parameters['b'+str(l)] \n",
    "        forward_param['A'+str(l)]=np.maximum(0, forward_param['Z'+str(l)]) #ReLU activation function\n",
    "        A_prev=forward_param['A'+str(l)]\n",
    "\n",
    "    #Last layer\n",
    "    forward_param['Z'+str(layers)]=np.dot(parameters['W'+str(layers)], \n",
    "                                          A_prev)+parameters['b'+str(layers)]    \n",
    "    forward_param['A'+str(layers)]=1/(1+np.exp(-(forward_param['Z'+str(layers)])))  \n",
    "\n",
    "    Y=Y.reshape(1,-1) \n",
    "    \n",
    "    AL=forward_param['A'+str(int(len(parameters)/2))].reshape(1,-1)\n",
    "    #str(len(forward_param)/2)[0] returns '2.0'[0], which is only '2'\n",
    "    m=Y.shape[1] \n",
    "\n",
    "    cost=-(1/m)*np.sum(Y*np.log(AL)+(1-Y)*np.log(1-AL))   \n",
    "    \n",
    "    return cost, forward_param, parameters"
   ]
  },
  {
   "cell_type": "code",
   "execution_count": 9,
   "metadata": {},
   "outputs": [
    {
     "data": {
      "text/plain": [
       "array([0.2, 0.6, 0.7])"
      ]
     },
     "execution_count": 9,
     "metadata": {},
     "output_type": "execute_result"
    }
   ],
   "source": [
    "1-np.array([0.8,.4,.3])"
   ]
  },
  {
   "cell_type": "code",
   "execution_count": 10,
   "metadata": {},
   "outputs": [
    {
     "data": {
      "text/plain": [
       "(0.6931462163190072, {'Z1': array([[ 0.01185292],\n",
       "         [-0.00986829],\n",
       "         [ 0.01341381],\n",
       "         [-0.00346676],\n",
       "         [-0.00156121],\n",
       "         [-0.00897634],\n",
       "         [-0.00052804],\n",
       "         [ 0.00902596],\n",
       "         [ 0.00670438],\n",
       "         [-0.00665445]]), 'A1': array([[0.01185292],\n",
       "         [0.        ],\n",
       "         [0.01341381],\n",
       "         [0.        ],\n",
       "         [0.        ],\n",
       "         [0.        ],\n",
       "         [0.        ],\n",
       "         [0.00902596],\n",
       "         [0.00670438],\n",
       "         [0.        ]]), 'Z2': array([[-4.17202944e-05],\n",
       "         [ 7.46635864e-05],\n",
       "         [-1.44884557e-05],\n",
       "         [ 2.63092545e-04]]), 'A2': array([[0.00000000e+00],\n",
       "         [7.46635864e-05],\n",
       "         [0.00000000e+00],\n",
       "         [2.63092545e-04]]), 'Z3': array([[1.92848281e-06]]), 'A3': array([[0.50000048]])}, {'W1': array([[ 0.01624345, -0.00611756, -0.00528172],\n",
       "         [-0.01072969,  0.00865408, -0.02301539],\n",
       "         [ 0.01744812, -0.00761207,  0.00319039],\n",
       "         [-0.0024937 ,  0.01462108, -0.02060141],\n",
       "         [-0.00322417, -0.00384054,  0.01133769],\n",
       "         [-0.01099891, -0.00172428, -0.00877858],\n",
       "         [ 0.00042214,  0.00582815, -0.01100619],\n",
       "         [ 0.01144724,  0.00901591,  0.00502494],\n",
       "         [ 0.00900856, -0.00683728, -0.0012289 ],\n",
       "         [-0.00935769, -0.00267888,  0.00530355]]),\n",
       "  'b1': array([[0.],\n",
       "         [0.],\n",
       "         [0.],\n",
       "         [0.],\n",
       "         [0.],\n",
       "         [0.],\n",
       "         [0.],\n",
       "         [0.],\n",
       "         [0.],\n",
       "         [0.]]),\n",
       "  'W2': array([[-0.00691661, -0.00396754, -0.00687173, -0.00845206, -0.00671246,\n",
       "          -0.00012665, -0.0111731 ,  0.00234416,  0.01659802,  0.00742044],\n",
       "         [-0.00191836, -0.00887629, -0.00747158,  0.01692455,  0.00050808,\n",
       "          -0.00636996,  0.00190915,  0.02100255,  0.00120159,  0.00617203],\n",
       "         [ 0.0030017 , -0.0035225 , -0.01142518, -0.00349343, -0.00208894,\n",
       "           0.00586623,  0.00838983,  0.00931102,  0.00285587,  0.00885141],\n",
       "         [-0.00754398,  0.01252868,  0.0051293 , -0.00298093,  0.00488518,\n",
       "          -0.00075572,  0.01131629,  0.01519817,  0.02185575, -0.01396496]]),\n",
       "  'b2': array([[0.],\n",
       "         [0.],\n",
       "         [0.],\n",
       "         [0.]]),\n",
       "  'W3': array([[-0.01444114, -0.00504466,  0.00160037,  0.00876169]]),\n",
       "  'b3': array([[0.]])})"
      ]
     },
     "execution_count": 10,
     "metadata": {},
     "output_type": "execute_result"
    }
   ],
   "source": [
    "forward_propagation_AND_cost_computation(X_train[:,1].reshape(-1,1), y_train[:,1].reshape(-1,1),\n",
    "                                         initialization([X_train.shape[0], 10, 4, 1]))  "
   ]
  },
  {
   "cell_type": "code",
   "execution_count": null,
   "metadata": {},
   "outputs": [],
   "source": []
  },
  {
   "cell_type": "code",
   "execution_count": null,
   "metadata": {},
   "outputs": [],
   "source": []
  },
  {
   "cell_type": "code",
   "execution_count": 11,
   "metadata": {},
   "outputs": [],
   "source": [
    "def backward_propagation(X, Y, parameters):\n",
    "    loss, forward_param, weights = forward_propagation_AND_cost_computation(X, Y, parameters) #'forward_param' -> 'As' and 'Zs'\n",
    "    grads={}\n",
    "    last_layer = int(len(forward_param)/2) \n",
    "    m=Y.shape[1] \n",
    "    forward_param['A0']=X\n",
    "    \n",
    "    grads['dZ'+str(last_layer)]=forward_param['A'+str(last_layer)] - Y #here activation: sigmoid.\n",
    "                                                                       #following layers: ReLU\n",
    "    previous_dZ=grads['dZ'+str(last_layer)]\n",
    "    for l in reversed(range(1,last_layer+1)):\n",
    "        grads['dW'+str(l)] = ((1/m) * np.dot(previous_dZ, \n",
    "                                               forward_param['A'+str(l-1)].T))   \n",
    "        grads['db'+str(l)] = (1/m) * np.sum(previous_dZ, axis=1, keepdims=True)\n",
    "        \n",
    "        if l>1:\n",
    "            grads['dZ'+str(l-1)] = (np.dot(weights['W'+str(l)].T, previous_dZ) * \n",
    "                                    np.array(forward_param['Z'+str(l-1)]>=0, dtype=float))    \n",
    "            \n",
    "            previous_dZ = grads['dZ'+str(l-1)]\n",
    "            \n",
    "    return grads"
   ]
  },
  {
   "cell_type": "code",
   "execution_count": null,
   "metadata": {},
   "outputs": [],
   "source": []
  },
  {
   "cell_type": "code",
   "execution_count": 12,
   "metadata": {},
   "outputs": [],
   "source": [
    "def gradient_update(parameters, grads, learning_rate=.1):\n",
    "    for l in range(1, int(len(parameters)/2+1)):    \n",
    "        parameters['W'+str(l)] = parameters['W'+str(l)] - learning_rate * grads['dW'+str(l)]\n",
    "        parameters['b'+str(l)] = parameters['b'+str(l)] - learning_rate * grads['db'+str(l)] \n",
    "    return parameters"
   ]
  },
  {
   "cell_type": "code",
   "execution_count": null,
   "metadata": {},
   "outputs": [],
   "source": []
  },
  {
   "cell_type": "code",
   "execution_count": null,
   "metadata": {},
   "outputs": [],
   "source": []
  },
  {
   "cell_type": "code",
   "execution_count": 13,
   "metadata": {},
   "outputs": [],
   "source": [
    "def L_model(layer_dims, X, Y, number_of_iterations):\n",
    "    layer_dims=layer_dims\n",
    "    previous_parameters = initialization(layer_dims)\n",
    "    values=[]\n",
    "    for i in range(number_of_iterations):\n",
    "        loss, forward_param, previous_parameters = forward_propagation_AND_cost_computation(X, Y, previous_parameters)\n",
    "        \n",
    "        values.append(loss)\n",
    "        \n",
    "        grads = backward_propagation(X, Y, previous_parameters)\n",
    "        if i%100==0:\n",
    "            print('iteration {}, cost: {}'.format(i,loss)) \n",
    "#             print(forward_param['A'+str(int(len(layer_dims)-1))]) \n",
    "\n",
    "        previous_parameters = gradient_update(previous_parameters, grads) \n",
    "    \n",
    "    y=Y\n",
    "    y_hat=forward_param['A'+str(int(len(previous_parameters)/2))] \n",
    "    \n",
    "    accuracy=np.array(y==np.array(y_hat>0.5, dtype=float), dtype=float)\n",
    "\n",
    "    print('\\n\\n accuracy: {}'.format(round(np.sum(accuracy)/len(accuracy[0]),3)))   \n",
    "    \n",
    "    plt.plot(np.squeeze(values))  \n",
    "    plt.ylabel('cost')\n",
    "    plt.xlabel('iterations (per hundreds)')\n",
    "    plt.title(\"Learning Process\")\n",
    "    plt.show() "
   ]
  },
  {
   "cell_type": "code",
   "execution_count": 17,
   "metadata": {},
   "outputs": [
    {
     "name": "stdout",
     "output_type": "stream",
     "text": [
      "iteration 0, cost: 0.6931466650394417\n",
      "iteration 100, cost: 0.527573004018059\n",
      "iteration 200, cost: 0.5248779540120293\n",
      "iteration 300, cost: 0.5248019765862207\n",
      "iteration 400, cost: 0.5247995637974026\n",
      "iteration 500, cost: 0.5247994310976457\n",
      "iteration 600, cost: 0.5247993748924463\n",
      "iteration 700, cost: 0.5247993175304493\n",
      "iteration 800, cost: 0.5247992581586526\n",
      "iteration 900, cost: 0.5247992021064067\n",
      "\n",
      "\n",
      " accuracy: 0.782\n"
     ]
    },
    {
     "data": {
      "image/png": "[encoded data removed]",
      "text/plain": [
       "<Figure size 360x288 with 1 Axes>"
      ]
     },
     "metadata": {
      "needs_background": "light"
     },
     "output_type": "display_data"
    }
   ],
   "source": [
    "L_model([X_train.shape[0],20,7,1], X_train, y_train, 1000)  "
   ]
  },
  {
   "cell_type": "code",
   "execution_count": null,
   "metadata": {},
   "outputs": [],
   "source": []
  }
 ],
 "metadata": {
  "kernelspec": {
   "display_name": "Python 3",
   "language": "python",
   "name": "python3"
  },
  "language_info": {
   "codemirror_mode": {
    "name": "ipython",
    "version": 3
   },
   "file_extension": ".py",
   "mimetype": "text/x-python",
   "name": "python",
   "nbconvert_exporter": "python",
   "pygments_lexer": "ipython3",
   "version": "3.7.5"
  }
 },
 "nbformat": 4,
 "nbformat_minor": 2
}
